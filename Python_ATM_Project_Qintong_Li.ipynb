{
 "cells": [
  {
   "cell_type": "markdown",
   "metadata": {
    "id": "mTRZILOf_VCr"
   },
   "source": [
    "# **Python Project: Design an ATM**\n",
    "29/06/2023",
    "Qintong Li"
   ]
  },
  {
   "cell_type": "markdown",
   "metadata": {
    "id": "G2EilX5wLseo"
   },
   "source": [
    "1. Print a main menu to ask the user different options for displaying the bank account balance, for depositing money, to withdraw money, and to exit from the ATM.\n",
    "* Re-use the ATM menu options across the program to ask the user if he/she would like to perform another operation on the bank account (using a loop)\n",
    "* Ask the user a PIN to access to the ATM menu once the PIN is correct otherwise ask the user to try again (using a loop).\n",
    "\n",
    "2. Prompt the user to enter an option:\n",
    "\n",
    "* If ‘1’ is entered, display the current balance and return to main menu.\n",
    "If ‘2’ is entered, print a sub-menu with withdrawal amounts Enter an option:\n",
    "* If ‘1 to 6’’ is selected check that the requested withdrawal is allowed, print a message to\n",
    "show that the money has been withdrawn, calculate the new balance and return to main menu.\n",
    "* If ‘7’ is selected, then prompt the user for an integer value. Check this number is a multiple of 10 and that the withdrawal is permitted, print a message to show that the money has been withdrawn, calculate the new balance and return to main menu (you would need to use the modulo operator).\n",
    "* If ‘3’ is entered, provide another menu that will allow the user to enter an amount to deposit , return to main menu or return card. If funds are deposited, provide appropriate feedback and update the balance and return to main menu.\n",
    "* If ‘9’ is entered, print a goodbye message and exit (break).\n",
    "* If another value is entered, print an error message and print the menu again.\n",
    "* To go further you could define a class that encapsulates the functionality and variables related to the ATM. Create a class named ATM and defines the class attributes (balance of the bank account, menu options). Create different class methods to operate the ATM based on the menu options.\n"
   ]
  },
  {
   "cell_type": "code",
   "execution_count": 35,
   "metadata": {
    "id": "527i04aeGqOQ"
   },
   "outputs": [],
   "source": [
    "import pandas as pd"
   ]
  },
  {
   "cell_type": "markdown",
   "metadata": {
    "id": "Unrc8wzS_1oq"
   },
   "source": [
    "## Create a database for user infomation:\n",
    ">**Please check the database carefully for corresponding user to access to the ATM service.**"
   ]
  },
  {
   "cell_type": "code",
   "execution_count": 36,
   "metadata": {
    "id": "8tz45waIHDLd"
   },
   "outputs": [],
   "source": [
    "# create a dictionary for all user info.\n",
    "d_user = {\n",
    "    'User': ['A','B','C','D'],\n",
    "    'Balance(£)': ['200','23938','3839','38888'],\n",
    "    'Password': ['2023','2553','1984','7879']\n",
    "}\n",
    "\n",
    "# use pandas to transfer it into dataframe\n",
    "df_user_info = pd.DataFrame(d_user)\n",
    "user_A_info = df_user_info[df_user_info['Password']=='B'][['Balance(£)','Password']]"
   ]
  },
  {
   "cell_type": "markdown",
   "metadata": {
    "id": "AiBOrHG1AHpZ"
   },
   "source": [
    "## Create a class for all Menus and built-in calculators for the ATM\n",
    "### Menus\n",
    "* Main Menu\n",
    "  1. Check Balance\n",
    "  2. Withdraw Cash\n",
    "  3. Deposit\n",
    "  9. Exit\n",
    "\n",
    "* Sub-menu: Withdraw\n",
    "  1. £10\n",
    "  2. £20\n",
    "  3. £40\n",
    "  4. £50\n",
    "  5. £70\n",
    "  6. £100\n",
    "  7. More options\n",
    "\n",
    "\n",
    "### Calculators\n",
    "* New deposit calculator\n",
    "* Customized withdraw calculator\n",
    "\n",
    "### Verifier\n",
    "* Check whether the inputs are numerical strings"
   ]
  },
  {
   "cell_type": "code",
   "execution_count": 37,
   "metadata": {
    "id": "qy4HfA8iM07H"
   },
   "outputs": [],
   "source": [
    "class MenusAndCalculatorsVerifier():\n",
    "# define two self.variables that will be used in the following functions\n",
    "  def __init__(self,balance,pin):\n",
    "    self.balance = balance\n",
    "    self.pin = pin\n",
    "\n",
    "#################\n",
    "######Menus######\n",
    "#################\n",
    "# Main menu will contain all the main functions of an ATM including: \n",
    "# 1. Check Balance 2. Withdraw Cash 3. Deposit 9. Exit\n",
    "  def access_to_main_menu(self,pin):\n",
    "    user_input = input('Choose one number from menu to continue: \\n1. Check Balance \\n2. Withdraw Cash \\n3. Deposit \\n9. Exit \\n')\n",
    "    options = ['1','2','3','9'] # only 4 options for main menu\n",
    "    while user_input not in options:\n",
    "        print('Please enter a valid option.')# check option availability\n",
    "        user_input = input('Choose one number from menu to continue: \\n1. Check Balance \\n2. Withdraw Cash \\n3. Deposit \\n9. Exit \\n')\n",
    "    else:\n",
    "        # 1. Check Balance\n",
    "        if user_input == options[0]:\n",
    "            print('Your current balance is: £{0:.2f}. \\nYou will be redireceted to Main Menu. \\n \\n '.format(self.balance))\n",
    "            self.access_to_main_menu(pin) # Back to main menu\n",
    "        # 2. Withdraw Cash\n",
    "        elif user_input == options[1]:\n",
    "            self.submenu_for_2(pin)\n",
    "        # 3. Deposit\n",
    "        elif user_input == options[2]:\n",
    "            print('Proceed to submenu for option 3! \\n ')\n",
    "            cash = input('Please enter the amount you want to deposit: ')\n",
    "            deposit_corrected = self.check_number(cash)# check option availability\n",
    "            self.balance = self.calculate_new_balance(deposit_corrected) # calculate new balance\n",
    "            print('You will deposit £{0:.0f} \\nYour Balance now: £{1:.2f} \\n '.format(deposit_corrected, self.balance))\n",
    "            print('You will be redireceted to Main Menu. \\n ')\n",
    "            self.access_to_main_menu(pin)# Back to main menu\n",
    "        # 9. Exit\n",
    "        else:\n",
    "            print('Thanks for Using!')\n",
    "\n",
    "# Submenu 2 will includes all the options for withdrawing: \n",
    "# 1. £10 2. £20 3. £40 4. £50 5. £70 6. £100 7. More options\n",
    "  def submenu_for_2(self,pin):\n",
    "    print('Proceed to submenu for option 2. \\nPlease Wait... \\n ')\n",
    "    user_input_submenu_2 = input('Choose amount of cash to withdraw: \\n1. £10 \\n2. £20 \\n3. £40 \\n4. £50 \\n5. £70 \\n6. £100 \\n7. More options \\n')\n",
    "    options_2 = ['1','2','3','4','5','6','7'] # 7 optins available for withdrawing\n",
    "    notes = [10,20,40,50,70,100]\n",
    "    while user_input_submenu_2 not in options_2: # check option availability\n",
    "        print('Please enter a valid number. \\n ')\n",
    "        user_input_submenu_2 = input('Choose amount of cash to withdraw: \\n1. £10 \\n2. £20 \\n3. £40 \\n4. £50 \\n5. £70 \\n6. £100 \\n7. More options \\n')\n",
    "    else:\n",
    "        # for option 1,2,3,4,5,6:\n",
    "        if user_input_submenu_2 != '7':\n",
    "            cash = -notes[int(user_input_submenu_2) - 1]\n",
    "        # for option 7: customize the withdrawing amount\n",
    "        else:\n",
    "            user_input_withdraw = input('Please enter an amount to withdraw \\n(smallest note available is £10. e.g: £10 £20 £30 ...): \\n ')\n",
    "            cash = -self.customized_withdraw(user_input_withdraw)\n",
    "    self.balance = self.calculate_new_balance(cash)# calculate new balance\n",
    "    print('You will withdraw £{0:.0f} \\nYour Balance now: £{1:.2f} \\n '.format(-cash, self.balance))\n",
    "    print('You will be redireceted to Main Menu. \\n ')\n",
    "    self.access_to_main_menu(pin)# Back to main menu\n",
    "\n",
    "\n",
    "\n",
    "###################\n",
    "####Calculators####\n",
    "###################\n",
    "# Calculator for calculating new balance\n",
    "  def calculate_new_balance(self, cash):\n",
    "    self.balance = self.balance + int(cash)\n",
    "    return self.balance\n",
    "\n",
    "# Calculator for withdrawing cash\n",
    "  def customized_withdraw(self,u_input):\n",
    "    if u_input.isnumeric() is True and int(u_input) % 10 == 0:\n",
    "        cash = int(u_input)\n",
    "        if self.balance - cash >= 0:\n",
    "            pass\n",
    "        else:\n",
    "            corrected_inp = input('Insufficient Balance, please check your balance and enter a new amount to withdraw again: \\n')\n",
    "            cash = self.customized_withdraw(corrected_inp)\n",
    "    else:\n",
    "        u_input_corrected = input('Please enter valid number: ')\n",
    "        cash = self.customized_withdraw(u_input_corrected)\n",
    "    return cash\n",
    "\n",
    "\n",
    "###################\n",
    "#### Verifier #####\n",
    "###################\n",
    "# A verifier that can check whether the inputs are numerical.\n",
    "  def check_number(self,str_to_check):\n",
    "    if str_to_check.isnumeric() is True:\n",
    "        new_str = int(str_to_check)\n",
    "    else:\n",
    "        corrected_input = input('Please enter a valid number: ')\n",
    "        new_str = self.check_number(corrected_input)\n",
    "    return new_str\n",
    "\n",
    "\n"
   ]
  },
  {
   "cell_type": "markdown",
   "metadata": {
    "id": "obBYhXU-Bt8p"
   },
   "source": [
    "## Create a class to check the pin for selected user"
   ]
  },
  {
   "cell_type": "code",
   "execution_count": 41,
   "metadata": {
    "id": "nfayDoT7QBgg"
   },
   "outputs": [],
   "source": [
    "class WelcomeToUseATMService(MenusAndCalculatorsVerifier):\n",
    "    def __init__(self):\n",
    "        self.user_name = input('Please input a user ID: \\n') # Enter a user name from the database\n",
    "\n",
    "\n",
    "    # define an identifier to check and access to the user information\n",
    "        def user_identifier(u):\n",
    "            if u in df_user_info['User'].values:\n",
    "                user_info = df_user_info[df_user_info['User']== u][['Balance(£)','Password']]\n",
    "                balance = user_info['Balance(£)'].values[0]\n",
    "                password = user_info['Password'].values[0]\n",
    "            else:\n",
    "                corrected_user_id = input('Please check the database again and enter a valid user ID: \\n')\n",
    "                balance, password = user_identifier(corrected_user_id)\n",
    "            return int(balance), password\n",
    "        self.balance,self.password = user_identifier(self.user_name)# import user information from the dataset\n",
    "        self.pin = input('Please enter your Pin: \\n') # enter the corresponding password\n",
    "\n",
    "    # defien a Verifier for password\n",
    "        super().__init__(self.balance,self.pin)\n",
    "        while self.pin != self.password:\n",
    "            self.pin = input('Pin incorrect. Please enter your Pin again: ')\n",
    "        else:\n",
    "            print('Welcome to use our ATM service.')\n",
    "            super().access_to_main_menu(self.pin)\n",
    "\n"
   ]
  },
  {
   "cell_type": "markdown",
   "metadata": {
    "id": "wRj91wekB5pM"
   },
   "source": [
    "Here the example we chose is for user A. Feel free to change the user name or add your own user in the database!"
   ]
  },
  {
   "cell_type": "code",
   "execution_count": 42,
   "metadata": {
    "colab": {
     "base_uri": "https://localhost:8080/"
    },
    "id": "sFV87TNIGvuA",
    "outputId": "ad9dfadf-72b4-4fa3-b636-50ba38cea946"
   },
   "outputs": [
    {
     "name": "stdout",
     "output_type": "stream",
     "text": [
      "Please input a user ID: \n",
      "A\n",
      "Please enter your Pin: \n",
      "2023\n",
      "Welcome to use our ATM service.\n",
      "Choose one number from menu to continue: \n",
      "1. Check Balance \n",
      "2. Withdraw Cash \n",
      "3. Deposit \n",
      "9. Exit \n",
      "1\n",
      "Your current balance is: £200.00. \n",
      "You will be redireceted to Main Menu. \n",
      " \n",
      " \n",
      "Choose one number from menu to continue: \n",
      "1. Check Balance \n",
      "2. Withdraw Cash \n",
      "3. Deposit \n",
      "9. Exit \n",
      "2\n",
      "Proceed to submenu for option 2. \n",
      "Please Wait... \n",
      " \n",
      "Choose amount of cash to withdraw: \n",
      "1. £10 \n",
      "2. £20 \n",
      "3. £40 \n",
      "4. £50 \n",
      "5. £70 \n",
      "6. £100 \n",
      "7. More options \n",
      "1\n",
      "You will withdraw £10 \n",
      "Your Balance now: £190.00 \n",
      " \n",
      "You will be redireceted to Main Menu. \n",
      " \n",
      "Choose one number from menu to continue: \n",
      "1. Check Balance \n",
      "2. Withdraw Cash \n",
      "3. Deposit \n",
      "9. Exit \n",
      "2\n",
      "Proceed to submenu for option 2. \n",
      "Please Wait... \n",
      " \n",
      "Choose amount of cash to withdraw: \n",
      "1. £10 \n",
      "2. £20 \n",
      "3. £40 \n",
      "4. £50 \n",
      "5. £70 \n",
      "6. £100 \n",
      "7. More options \n",
      "7\n",
      "Please enter an amount to withdraw \n",
      "(smallest note available is £10. e.g: £10 £20 £30 ...): \n",
      " 12\n",
      "Please enter valid number: 20\n",
      "You will withdraw £20 \n",
      "Your Balance now: £170.00 \n",
      " \n",
      "You will be redireceted to Main Menu. \n",
      " \n",
      "Choose one number from menu to continue: \n",
      "1. Check Balance \n",
      "2. Withdraw Cash \n",
      "3. Deposit \n",
      "9. Exit \n",
      "3\n",
      "Proceed to submenu for option 3! \n",
      " \n",
      "Please enter the amount you want to deposit: 23\n",
      "You will deposit £23 \n",
      "Your Balance now: £193.00 \n",
      " \n",
      "You will be redireceted to Main Menu. \n",
      " \n",
      "Choose one number from menu to continue: \n",
      "1. Check Balance \n",
      "2. Withdraw Cash \n",
      "3. Deposit \n",
      "9. Exit \n",
      "9\n",
      "Thanks for Using!\n"
     ]
    }
   ],
   "source": [
    "User_A = WelcomeToUseATMService()"
   ]
  },
  {
   "cell_type": "markdown",
   "metadata": {
    "id": "h8J19TvY9TkQ"
   },
   "source": [
    "* To add a graphic interface to your program, you could use Tkinter library or PyQt.:\n",
    "\n",
    "https://realpython.com/python-gui-tkinter/\n",
    "\n",
    "https://realpython.com/python-pyqt-gui-calculator/"
   ]
  }
 ],
 "metadata": {
  "colab": {
   "provenance": [],
   "toc_visible": true
  },
  "kernelspec": {
   "display_name": "Python 3 (ipykernel)",
   "language": "python",
   "name": "python3"
  },
  "language_info": {
   "codemirror_mode": {
    "name": "ipython",
    "version": 3
   },
   "file_extension": ".py",
   "mimetype": "text/x-python",
   "name": "python",
   "nbconvert_exporter": "python",
   "pygments_lexer": "ipython3",
   "version": "3.9.6"
  }
 },
 "nbformat": 4,
 "nbformat_minor": 1
}
