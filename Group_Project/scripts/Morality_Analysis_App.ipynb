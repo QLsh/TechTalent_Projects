{
 "cells": [
  {
   "cell_type": "markdown",
   "id": "0704b417",
   "metadata": {},
   "source": [
    "# World Morality Analysis: Building a Dashboard Using Plotly\n",
    "\n",
    "Qintong Li\n",
    "\n",
    "24/07/2023\n",
    "\n",
    "---\n",
    "\n",
    "In this projetc, Data set from WHO website: https://www.who.int/data/gho/data/themes/mortality-and-global-health-estimates. The analysis was focusing on Morality worldwide. The datasets were also selected for this purpose. \n",
    "\n",
    "- First section: all data cleaning steps are wrapped in a pipeline. \n",
    "\n",
    "- Second section: using `plotly` to plot all the relevant charts and having further analysis on the datasets.\n",
    "\n",
    "- Last section: an example of putting all useful plots on a dashboard using plotly objects.\n",
    "\n",
    "### ALL PLOTS ARE SAVED IN `Plots` FILE"
   ]
  },
  {
   "cell_type": "markdown",
   "id": "3acaf7cb",
   "metadata": {},
   "source": [
    "Import necessary libraries and data."
   ]
  },
  {
   "cell_type": "code",
   "execution_count": 1,
   "id": "f8daaa75",
   "metadata": {},
   "outputs": [],
   "source": [
    "import numpy as np\n",
    "import pandas as pd\n",
    "\n",
    "import sklearn as sk\n",
    "import scipy\n",
    "\n",
    "import seaborn as sns\n",
    "import matplotlib.pyplot as plt\n",
    "import plotly\n",
    "import plotly.express as px"
   ]
  },
  {
   "cell_type": "code",
   "execution_count": 2,
   "id": "d0e672aa",
   "metadata": {},
   "outputs": [],
   "source": [
    "df_adult_raw = pd.read_csv(\"/Users/qintongli/new_py/Final_Project/data/Adult_Morality.csv\")\n",
    "df_child_raw = pd.read_csv(\"/Users/qintongli/new_py/Final_Project/data/Child_Morality.csv\")\n",
    "df_maternal_raw = pd.read_csv(\"/Users/qintongli/new_py/Final_Project/data/Maternal_Morality.csv\")\n",
    "df_road_raw = pd.read_csv(\"/Users/qintongli/new_py/Final_Project/data/Road_Traffic.csv\")\n",
    "df_road_male_raw = pd.read_csv(\"/Users/qintongli/new_py/Final_Project/data/road_male.csv\")\n",
    "df_road_female_raw = pd.read_csv(\"/Users/qintongli/new_py/Final_Project/data/road_female.csv\")"
   ]
  },
  {
   "cell_type": "markdown",
   "id": "6e709f59",
   "metadata": {},
   "source": [
    "Create a class to clean the data set.\n",
    "- The Adult Morality Rate only ranges from 2000 to 2016. Analysing this dataset is the key aim of this project. Therefore, all the other datasets are capped with the same range."
   ]
  },
  {
   "cell_type": "code",
   "execution_count": 3,
   "id": "3db0f164",
   "metadata": {},
   "outputs": [],
   "source": [
    "class DataCleaningPipeline:\n",
    "    def __init__(self,df):\n",
    "        self.df_raw = df\n",
    "\n",
    "    def drop_na_columns(self):\n",
    "        df_adult_raw_c1 = self.df_raw.dropna(axis=1)\n",
    "        df_new =  df_adult_raw_c1.dropna(axis=0)\n",
    "        return df_new\n",
    "    \n",
    "    def select_range_by_years(self):\n",
    "        if ('Dim1' in self.drop_na_columns()) is True:\n",
    "            df_new_c1 = self.drop_na_columns().rename(columns={'Dim1':'Gender','Dim1ValueCode':'GenderCode','FactValueNumeric':'NumericValue'})\n",
    "            df_cleaned = df_new_c1[(df_new_c1['Period']<2017) & (df_new_c1['Period']>1999)][['Indicator','ParentLocationCode','ParentLocation',\n",
    "                                        'SpatialDimValueCode','Location','Period','GenderCode','Gender','NumericValue']]\n",
    "        else:\n",
    "            df_new_c1 = self.drop_na_columns().rename(columns={'FactValueNumeric':'NumericValue'})\n",
    "            df_cleaned = df_new_c1[(df_new_c1['Period']<2017) & (df_new_c1['Period']>1999)][['Indicator','ParentLocationCode','ParentLocation',\n",
    "                                        'SpatialDimValueCode','Location','Period','NumericValue']]\n",
    "        return df_cleaned"
   ]
  },
  {
   "cell_type": "markdown",
   "id": "ebe29679",
   "metadata": {},
   "source": [
    "Present all the cleaned datasets."
   ]
  },
  {
   "cell_type": "code",
   "execution_count": 4,
   "id": "5369ef8d",
   "metadata": {},
   "outputs": [
    {
     "data": {
      "text/html": [
       "<div>\n",
       "<style scoped>\n",
       "    .dataframe tbody tr th:only-of-type {\n",
       "        vertical-align: middle;\n",
       "    }\n",
       "\n",
       "    .dataframe tbody tr th {\n",
       "        vertical-align: top;\n",
       "    }\n",
       "\n",
       "    .dataframe thead th {\n",
       "        text-align: right;\n",
       "    }\n",
       "</style>\n",
       "<table border=\"1\" class=\"dataframe\">\n",
       "  <thead>\n",
       "    <tr style=\"text-align: right;\">\n",
       "      <th></th>\n",
       "      <th>Indicator</th>\n",
       "      <th>ParentLocationCode</th>\n",
       "      <th>ParentLocation</th>\n",
       "      <th>SpatialDimValueCode</th>\n",
       "      <th>Location</th>\n",
       "      <th>Period</th>\n",
       "      <th>GenderCode</th>\n",
       "      <th>Gender</th>\n",
       "      <th>NumericValue</th>\n",
       "    </tr>\n",
       "  </thead>\n",
       "  <tbody>\n",
       "    <tr>\n",
       "      <th>0</th>\n",
       "      <td>Adult mortality rate (probability of dying bet...</td>\n",
       "      <td>WPR</td>\n",
       "      <td>Western Pacific</td>\n",
       "      <td>TON</td>\n",
       "      <td>Tonga</td>\n",
       "      <td>2016</td>\n",
       "      <td>FMLE</td>\n",
       "      <td>Female</td>\n",
       "      <td>100.20</td>\n",
       "    </tr>\n",
       "    <tr>\n",
       "      <th>1</th>\n",
       "      <td>Adult mortality rate (probability of dying bet...</td>\n",
       "      <td>AMR</td>\n",
       "      <td>Americas</td>\n",
       "      <td>BRB</td>\n",
       "      <td>Barbados</td>\n",
       "      <td>2016</td>\n",
       "      <td>BTSX</td>\n",
       "      <td>Both sexes</td>\n",
       "      <td>100.40</td>\n",
       "    </tr>\n",
       "    <tr>\n",
       "      <th>2</th>\n",
       "      <td>Adult mortality rate (probability of dying bet...</td>\n",
       "      <td>EUR</td>\n",
       "      <td>Europe</td>\n",
       "      <td>KGZ</td>\n",
       "      <td>Kyrgyzstan</td>\n",
       "      <td>2016</td>\n",
       "      <td>FMLE</td>\n",
       "      <td>Female</td>\n",
       "      <td>100.50</td>\n",
       "    </tr>\n",
       "    <tr>\n",
       "      <th>3</th>\n",
       "      <td>Adult mortality rate (probability of dying bet...</td>\n",
       "      <td>AMR</td>\n",
       "      <td>Americas</td>\n",
       "      <td>SLV</td>\n",
       "      <td>El Salvador</td>\n",
       "      <td>2016</td>\n",
       "      <td>FMLE</td>\n",
       "      <td>Female</td>\n",
       "      <td>102.50</td>\n",
       "    </tr>\n",
       "    <tr>\n",
       "      <th>4</th>\n",
       "      <td>Adult mortality rate (probability of dying bet...</td>\n",
       "      <td>EUR</td>\n",
       "      <td>Europe</td>\n",
       "      <td>SRB</td>\n",
       "      <td>Serbia</td>\n",
       "      <td>2016</td>\n",
       "      <td>BTSX</td>\n",
       "      <td>Both sexes</td>\n",
       "      <td>102.50</td>\n",
       "    </tr>\n",
       "    <tr>\n",
       "      <th>...</th>\n",
       "      <td>...</td>\n",
       "      <td>...</td>\n",
       "      <td>...</td>\n",
       "      <td>...</td>\n",
       "      <td>...</td>\n",
       "      <td>...</td>\n",
       "      <td>...</td>\n",
       "      <td>...</td>\n",
       "      <td>...</td>\n",
       "    </tr>\n",
       "    <tr>\n",
       "      <th>9328</th>\n",
       "      <td>Adult mortality rate (probability of dying bet...</td>\n",
       "      <td>EUR</td>\n",
       "      <td>Europe</td>\n",
       "      <td>BEL</td>\n",
       "      <td>Belgium</td>\n",
       "      <td>2000</td>\n",
       "      <td>BTSX</td>\n",
       "      <td>Both sexes</td>\n",
       "      <td>99.35</td>\n",
       "    </tr>\n",
       "    <tr>\n",
       "      <th>9329</th>\n",
       "      <td>Adult mortality rate (probability of dying bet...</td>\n",
       "      <td>SEAR</td>\n",
       "      <td>South-East Asia</td>\n",
       "      <td>LKA</td>\n",
       "      <td>Sri Lanka</td>\n",
       "      <td>2000</td>\n",
       "      <td>FMLE</td>\n",
       "      <td>Female</td>\n",
       "      <td>99.39</td>\n",
       "    </tr>\n",
       "    <tr>\n",
       "      <th>9330</th>\n",
       "      <td>Adult mortality rate (probability of dying bet...</td>\n",
       "      <td>WPR</td>\n",
       "      <td>Western Pacific</td>\n",
       "      <td>MYS</td>\n",
       "      <td>Malaysia</td>\n",
       "      <td>2000</td>\n",
       "      <td>FMLE</td>\n",
       "      <td>Female</td>\n",
       "      <td>99.79</td>\n",
       "    </tr>\n",
       "    <tr>\n",
       "      <th>9331</th>\n",
       "      <td>Adult mortality rate (probability of dying bet...</td>\n",
       "      <td>EUR</td>\n",
       "      <td>Europe</td>\n",
       "      <td>DNK</td>\n",
       "      <td>Denmark</td>\n",
       "      <td>2000</td>\n",
       "      <td>BTSX</td>\n",
       "      <td>Both sexes</td>\n",
       "      <td>99.82</td>\n",
       "    </tr>\n",
       "    <tr>\n",
       "      <th>9332</th>\n",
       "      <td>Adult mortality rate (probability of dying bet...</td>\n",
       "      <td>AMR</td>\n",
       "      <td>Americas</td>\n",
       "      <td>CRI</td>\n",
       "      <td>Costa Rica</td>\n",
       "      <td>2000</td>\n",
       "      <td>BTSX</td>\n",
       "      <td>Both sexes</td>\n",
       "      <td>99.88</td>\n",
       "    </tr>\n",
       "  </tbody>\n",
       "</table>\n",
       "<p>9333 rows × 9 columns</p>\n",
       "</div>"
      ],
      "text/plain": [
       "                                              Indicator ParentLocationCode   \n",
       "0     Adult mortality rate (probability of dying bet...                WPR  \\\n",
       "1     Adult mortality rate (probability of dying bet...                AMR   \n",
       "2     Adult mortality rate (probability of dying bet...                EUR   \n",
       "3     Adult mortality rate (probability of dying bet...                AMR   \n",
       "4     Adult mortality rate (probability of dying bet...                EUR   \n",
       "...                                                 ...                ...   \n",
       "9328  Adult mortality rate (probability of dying bet...                EUR   \n",
       "9329  Adult mortality rate (probability of dying bet...               SEAR   \n",
       "9330  Adult mortality rate (probability of dying bet...                WPR   \n",
       "9331  Adult mortality rate (probability of dying bet...                EUR   \n",
       "9332  Adult mortality rate (probability of dying bet...                AMR   \n",
       "\n",
       "       ParentLocation SpatialDimValueCode     Location  Period GenderCode   \n",
       "0     Western Pacific                 TON        Tonga    2016       FMLE  \\\n",
       "1            Americas                 BRB     Barbados    2016       BTSX   \n",
       "2              Europe                 KGZ   Kyrgyzstan    2016       FMLE   \n",
       "3            Americas                 SLV  El Salvador    2016       FMLE   \n",
       "4              Europe                 SRB       Serbia    2016       BTSX   \n",
       "...               ...                 ...          ...     ...        ...   \n",
       "9328           Europe                 BEL      Belgium    2000       BTSX   \n",
       "9329  South-East Asia                 LKA    Sri Lanka    2000       FMLE   \n",
       "9330  Western Pacific                 MYS     Malaysia    2000       FMLE   \n",
       "9331           Europe                 DNK      Denmark    2000       BTSX   \n",
       "9332         Americas                 CRI   Costa Rica    2000       BTSX   \n",
       "\n",
       "          Gender  NumericValue  \n",
       "0         Female        100.20  \n",
       "1     Both sexes        100.40  \n",
       "2         Female        100.50  \n",
       "3         Female        102.50  \n",
       "4     Both sexes        102.50  \n",
       "...          ...           ...  \n",
       "9328  Both sexes         99.35  \n",
       "9329      Female         99.39  \n",
       "9330      Female         99.79  \n",
       "9331  Both sexes         99.82  \n",
       "9332  Both sexes         99.88  \n",
       "\n",
       "[9333 rows x 9 columns]"
      ]
     },
     "execution_count": 4,
     "metadata": {},
     "output_type": "execute_result"
    }
   ],
   "source": [
    "adult = DataCleaningPipeline(df_adult_raw)\n",
    "df_adult = adult.select_range_by_years()\n",
    "df_adult"
   ]
  },
  {
   "cell_type": "code",
   "execution_count": 5,
   "id": "8730fd8a",
   "metadata": {
    "scrolled": false
   },
   "outputs": [
    {
     "data": {
      "text/html": [
       "<div>\n",
       "<style scoped>\n",
       "    .dataframe tbody tr th:only-of-type {\n",
       "        vertical-align: middle;\n",
       "    }\n",
       "\n",
       "    .dataframe tbody tr th {\n",
       "        vertical-align: top;\n",
       "    }\n",
       "\n",
       "    .dataframe thead th {\n",
       "        text-align: right;\n",
       "    }\n",
       "</style>\n",
       "<table border=\"1\" class=\"dataframe\">\n",
       "  <thead>\n",
       "    <tr style=\"text-align: right;\">\n",
       "      <th></th>\n",
       "      <th>Indicator</th>\n",
       "      <th>ParentLocationCode</th>\n",
       "      <th>ParentLocation</th>\n",
       "      <th>SpatialDimValueCode</th>\n",
       "      <th>Location</th>\n",
       "      <th>Period</th>\n",
       "      <th>GenderCode</th>\n",
       "      <th>Gender</th>\n",
       "      <th>NumericValue</th>\n",
       "    </tr>\n",
       "  </thead>\n",
       "  <tbody>\n",
       "    <tr>\n",
       "      <th>2985</th>\n",
       "      <td>Under-five mortality rate (probability of dyin...</td>\n",
       "      <td>EUR</td>\n",
       "      <td>Europe</td>\n",
       "      <td>SMR</td>\n",
       "      <td>San Marino</td>\n",
       "      <td>2016</td>\n",
       "      <td>FMLE</td>\n",
       "      <td>Female</td>\n",
       "      <td>1.91</td>\n",
       "    </tr>\n",
       "    <tr>\n",
       "      <th>2986</th>\n",
       "      <td>Under-five mortality rate (probability of dyin...</td>\n",
       "      <td>EMR</td>\n",
       "      <td>Eastern Mediterranean</td>\n",
       "      <td>OMN</td>\n",
       "      <td>Oman</td>\n",
       "      <td>2016</td>\n",
       "      <td>FMLE</td>\n",
       "      <td>Female</td>\n",
       "      <td>10.01</td>\n",
       "    </tr>\n",
       "    <tr>\n",
       "      <th>2987</th>\n",
       "      <td>Under-five mortality rate (probability of dyin...</td>\n",
       "      <td>EUR</td>\n",
       "      <td>Europe</td>\n",
       "      <td>UKR</td>\n",
       "      <td>Ukraine</td>\n",
       "      <td>2016</td>\n",
       "      <td>MLE</td>\n",
       "      <td>Male</td>\n",
       "      <td>10.03</td>\n",
       "    </tr>\n",
       "    <tr>\n",
       "      <th>2988</th>\n",
       "      <td>Under-five mortality rate (probability of dyin...</td>\n",
       "      <td>EUR</td>\n",
       "      <td>Europe</td>\n",
       "      <td>MKD</td>\n",
       "      <td>The former Yugoslav Republic of Macedonia</td>\n",
       "      <td>2016</td>\n",
       "      <td>FMLE</td>\n",
       "      <td>Female</td>\n",
       "      <td>10.11</td>\n",
       "    </tr>\n",
       "    <tr>\n",
       "      <th>2989</th>\n",
       "      <td>Under-five mortality rate (probability of dyin...</td>\n",
       "      <td>EUR</td>\n",
       "      <td>Europe</td>\n",
       "      <td>ALB</td>\n",
       "      <td>Albania</td>\n",
       "      <td>2016</td>\n",
       "      <td>MLE</td>\n",
       "      <td>Male</td>\n",
       "      <td>10.11</td>\n",
       "    </tr>\n",
       "    <tr>\n",
       "      <th>...</th>\n",
       "      <td>...</td>\n",
       "      <td>...</td>\n",
       "      <td>...</td>\n",
       "      <td>...</td>\n",
       "      <td>...</td>\n",
       "      <td>...</td>\n",
       "      <td>...</td>\n",
       "      <td>...</td>\n",
       "      <td>...</td>\n",
       "    </tr>\n",
       "    <tr>\n",
       "      <th>13129</th>\n",
       "      <td>Under-five mortality rate (probability of dyin...</td>\n",
       "      <td>AFR</td>\n",
       "      <td>Africa</td>\n",
       "      <td>MRT</td>\n",
       "      <td>Mauritania</td>\n",
       "      <td>2000</td>\n",
       "      <td>BTSX</td>\n",
       "      <td>Both sexes</td>\n",
       "      <td>98.77</td>\n",
       "    </tr>\n",
       "    <tr>\n",
       "      <th>13130</th>\n",
       "      <td>Under-five mortality rate (probability of dyin...</td>\n",
       "      <td>AFR</td>\n",
       "      <td>Africa</td>\n",
       "      <td>KEN</td>\n",
       "      <td>Kenya</td>\n",
       "      <td>2000</td>\n",
       "      <td>BTSX</td>\n",
       "      <td>Both sexes</td>\n",
       "      <td>98.82</td>\n",
       "    </tr>\n",
       "    <tr>\n",
       "      <th>13131</th>\n",
       "      <td>Under-five mortality rate (probability of dyin...</td>\n",
       "      <td>WPR</td>\n",
       "      <td>Western Pacific</td>\n",
       "      <td>LAO</td>\n",
       "      <td>Lao People's Democratic Republic</td>\n",
       "      <td>2000</td>\n",
       "      <td>FMLE</td>\n",
       "      <td>Female</td>\n",
       "      <td>98.94</td>\n",
       "    </tr>\n",
       "    <tr>\n",
       "      <th>13132</th>\n",
       "      <td>Under-five mortality rate (probability of dyin...</td>\n",
       "      <td>AFR</td>\n",
       "      <td>Africa</td>\n",
       "      <td>LSO</td>\n",
       "      <td>Lesotho</td>\n",
       "      <td>2000</td>\n",
       "      <td>FMLE</td>\n",
       "      <td>Female</td>\n",
       "      <td>99.42</td>\n",
       "    </tr>\n",
       "    <tr>\n",
       "      <th>13133</th>\n",
       "      <td>Under-five mortality rate (probability of dyin...</td>\n",
       "      <td>EMR</td>\n",
       "      <td>Eastern Mediterranean</td>\n",
       "      <td>YEM</td>\n",
       "      <td>Yemen</td>\n",
       "      <td>2000</td>\n",
       "      <td>MLE</td>\n",
       "      <td>Male</td>\n",
       "      <td>99.42</td>\n",
       "    </tr>\n",
       "  </tbody>\n",
       "</table>\n",
       "<p>10149 rows × 9 columns</p>\n",
       "</div>"
      ],
      "text/plain": [
       "                                               Indicator ParentLocationCode   \n",
       "2985   Under-five mortality rate (probability of dyin...                EUR  \\\n",
       "2986   Under-five mortality rate (probability of dyin...                EMR   \n",
       "2987   Under-five mortality rate (probability of dyin...                EUR   \n",
       "2988   Under-five mortality rate (probability of dyin...                EUR   \n",
       "2989   Under-five mortality rate (probability of dyin...                EUR   \n",
       "...                                                  ...                ...   \n",
       "13129  Under-five mortality rate (probability of dyin...                AFR   \n",
       "13130  Under-five mortality rate (probability of dyin...                AFR   \n",
       "13131  Under-five mortality rate (probability of dyin...                WPR   \n",
       "13132  Under-five mortality rate (probability of dyin...                AFR   \n",
       "13133  Under-five mortality rate (probability of dyin...                EMR   \n",
       "\n",
       "              ParentLocation SpatialDimValueCode   \n",
       "2985                  Europe                 SMR  \\\n",
       "2986   Eastern Mediterranean                 OMN   \n",
       "2987                  Europe                 UKR   \n",
       "2988                  Europe                 MKD   \n",
       "2989                  Europe                 ALB   \n",
       "...                      ...                 ...   \n",
       "13129                 Africa                 MRT   \n",
       "13130                 Africa                 KEN   \n",
       "13131        Western Pacific                 LAO   \n",
       "13132                 Africa                 LSO   \n",
       "13133  Eastern Mediterranean                 YEM   \n",
       "\n",
       "                                        Location  Period GenderCode   \n",
       "2985                                  San Marino    2016       FMLE  \\\n",
       "2986                                        Oman    2016       FMLE   \n",
       "2987                                     Ukraine    2016        MLE   \n",
       "2988   The former Yugoslav Republic of Macedonia    2016       FMLE   \n",
       "2989                                     Albania    2016        MLE   \n",
       "...                                          ...     ...        ...   \n",
       "13129                                 Mauritania    2000       BTSX   \n",
       "13130                                      Kenya    2000       BTSX   \n",
       "13131           Lao People's Democratic Republic    2000       FMLE   \n",
       "13132                                    Lesotho    2000       FMLE   \n",
       "13133                                      Yemen    2000        MLE   \n",
       "\n",
       "           Gender  NumericValue  \n",
       "2985       Female          1.91  \n",
       "2986       Female         10.01  \n",
       "2987         Male         10.03  \n",
       "2988       Female         10.11  \n",
       "2989         Male         10.11  \n",
       "...           ...           ...  \n",
       "13129  Both sexes         98.77  \n",
       "13130  Both sexes         98.82  \n",
       "13131      Female         98.94  \n",
       "13132      Female         99.42  \n",
       "13133        Male         99.42  \n",
       "\n",
       "[10149 rows x 9 columns]"
      ]
     },
     "execution_count": 5,
     "metadata": {},
     "output_type": "execute_result"
    }
   ],
   "source": [
    "child = DataCleaningPipeline(df_child_raw)\n",
    "df_child = child.select_range_by_years()\n",
    "df_child"
   ]
  },
  {
   "cell_type": "code",
   "execution_count": 6,
   "id": "2a545502",
   "metadata": {},
   "outputs": [
    {
     "data": {
      "text/html": [
       "<div>\n",
       "<style scoped>\n",
       "    .dataframe tbody tr th:only-of-type {\n",
       "        vertical-align: middle;\n",
       "    }\n",
       "\n",
       "    .dataframe tbody tr th {\n",
       "        vertical-align: top;\n",
       "    }\n",
       "\n",
       "    .dataframe thead th {\n",
       "        text-align: right;\n",
       "    }\n",
       "</style>\n",
       "<table border=\"1\" class=\"dataframe\">\n",
       "  <thead>\n",
       "    <tr style=\"text-align: right;\">\n",
       "      <th></th>\n",
       "      <th>Indicator</th>\n",
       "      <th>ParentLocationCode</th>\n",
       "      <th>ParentLocation</th>\n",
       "      <th>SpatialDimValueCode</th>\n",
       "      <th>Location</th>\n",
       "      <th>Period</th>\n",
       "      <th>NumericValue</th>\n",
       "      <th>Gender</th>\n",
       "      <th>GenderCode</th>\n",
       "    </tr>\n",
       "  </thead>\n",
       "  <tbody>\n",
       "    <tr>\n",
       "      <th>1480</th>\n",
       "      <td>Maternal mortality ratio (per 100 000 live bir...</td>\n",
       "      <td>EUR</td>\n",
       "      <td>Europe</td>\n",
       "      <td>BLR</td>\n",
       "      <td>Belarus</td>\n",
       "      <td>2016</td>\n",
       "      <td>1.24</td>\n",
       "      <td>Female</td>\n",
       "      <td>FMLE</td>\n",
       "    </tr>\n",
       "    <tr>\n",
       "      <th>1481</th>\n",
       "      <td>Maternal mortality ratio (per 100 000 live bir...</td>\n",
       "      <td>EUR</td>\n",
       "      <td>Europe</td>\n",
       "      <td>UKR</td>\n",
       "      <td>Ukraine</td>\n",
       "      <td>2016</td>\n",
       "      <td>10.31</td>\n",
       "      <td>Female</td>\n",
       "      <td>FMLE</td>\n",
       "    </tr>\n",
       "    <tr>\n",
       "      <th>1482</th>\n",
       "      <td>Maternal mortality ratio (per 100 000 live bir...</td>\n",
       "      <td>AMR</td>\n",
       "      <td>Americas</td>\n",
       "      <td>DOM</td>\n",
       "      <td>Dominican Republic</td>\n",
       "      <td>2016</td>\n",
       "      <td>101.90</td>\n",
       "      <td>Female</td>\n",
       "      <td>FMLE</td>\n",
       "    </tr>\n",
       "    <tr>\n",
       "      <th>1483</th>\n",
       "      <td>Maternal mortality ratio (per 100 000 live bir...</td>\n",
       "      <td>AMR</td>\n",
       "      <td>Americas</td>\n",
       "      <td>GTM</td>\n",
       "      <td>Guatemala</td>\n",
       "      <td>2016</td>\n",
       "      <td>103.10</td>\n",
       "      <td>Female</td>\n",
       "      <td>FMLE</td>\n",
       "    </tr>\n",
       "    <tr>\n",
       "      <th>1484</th>\n",
       "      <td>Maternal mortality ratio (per 100 000 live bir...</td>\n",
       "      <td>AMR</td>\n",
       "      <td>Americas</td>\n",
       "      <td>SUR</td>\n",
       "      <td>Suriname</td>\n",
       "      <td>2016</td>\n",
       "      <td>105.20</td>\n",
       "      <td>Female</td>\n",
       "      <td>FMLE</td>\n",
       "    </tr>\n",
       "    <tr>\n",
       "      <th>...</th>\n",
       "      <td>...</td>\n",
       "      <td>...</td>\n",
       "      <td>...</td>\n",
       "      <td>...</td>\n",
       "      <td>...</td>\n",
       "      <td>...</td>\n",
       "      <td>...</td>\n",
       "      <td>...</td>\n",
       "      <td>...</td>\n",
       "    </tr>\n",
       "    <tr>\n",
       "      <th>7765</th>\n",
       "      <td>Number of maternal deaths</td>\n",
       "      <td>EUR</td>\n",
       "      <td>Europe</td>\n",
       "      <td>KGZ</td>\n",
       "      <td>Kyrgyzstan</td>\n",
       "      <td>2000</td>\n",
       "      <td>92.94</td>\n",
       "      <td>Female</td>\n",
       "      <td>FMLE</td>\n",
       "    </tr>\n",
       "    <tr>\n",
       "      <th>7766</th>\n",
       "      <td>Number of maternal deaths</td>\n",
       "      <td>AFR</td>\n",
       "      <td>Africa</td>\n",
       "      <td>TGO</td>\n",
       "      <td>Togo</td>\n",
       "      <td>2000</td>\n",
       "      <td>929.90</td>\n",
       "      <td>Female</td>\n",
       "      <td>FMLE</td>\n",
       "    </tr>\n",
       "    <tr>\n",
       "      <th>7767</th>\n",
       "      <td>Number of maternal deaths</td>\n",
       "      <td>AFR</td>\n",
       "      <td>Africa</td>\n",
       "      <td>DZA</td>\n",
       "      <td>Algeria</td>\n",
       "      <td>2000</td>\n",
       "      <td>958.20</td>\n",
       "      <td>Female</td>\n",
       "      <td>FMLE</td>\n",
       "    </tr>\n",
       "    <tr>\n",
       "      <th>7768</th>\n",
       "      <td>Number of maternal deaths</td>\n",
       "      <td>EMR</td>\n",
       "      <td>Eastern Mediterranean</td>\n",
       "      <td>JOR</td>\n",
       "      <td>Jordan</td>\n",
       "      <td>2000</td>\n",
       "      <td>96.51</td>\n",
       "      <td>Female</td>\n",
       "      <td>FMLE</td>\n",
       "    </tr>\n",
       "    <tr>\n",
       "      <th>7769</th>\n",
       "      <td>Number of maternal deaths</td>\n",
       "      <td>AFR</td>\n",
       "      <td>Africa</td>\n",
       "      <td>LBR</td>\n",
       "      <td>Liberia</td>\n",
       "      <td>2000</td>\n",
       "      <td>979.60</td>\n",
       "      <td>Female</td>\n",
       "      <td>FMLE</td>\n",
       "    </tr>\n",
       "  </tbody>\n",
       "</table>\n",
       "<p>6290 rows × 9 columns</p>\n",
       "</div>"
      ],
      "text/plain": [
       "                                              Indicator ParentLocationCode   \n",
       "1480  Maternal mortality ratio (per 100 000 live bir...                EUR  \\\n",
       "1481  Maternal mortality ratio (per 100 000 live bir...                EUR   \n",
       "1482  Maternal mortality ratio (per 100 000 live bir...                AMR   \n",
       "1483  Maternal mortality ratio (per 100 000 live bir...                AMR   \n",
       "1484  Maternal mortality ratio (per 100 000 live bir...                AMR   \n",
       "...                                                 ...                ...   \n",
       "7765                          Number of maternal deaths                EUR   \n",
       "7766                          Number of maternal deaths                AFR   \n",
       "7767                          Number of maternal deaths                AFR   \n",
       "7768                          Number of maternal deaths                EMR   \n",
       "7769                          Number of maternal deaths                AFR   \n",
       "\n",
       "             ParentLocation SpatialDimValueCode            Location  Period   \n",
       "1480                 Europe                 BLR             Belarus    2016  \\\n",
       "1481                 Europe                 UKR             Ukraine    2016   \n",
       "1482               Americas                 DOM  Dominican Republic    2016   \n",
       "1483               Americas                 GTM           Guatemala    2016   \n",
       "1484               Americas                 SUR            Suriname    2016   \n",
       "...                     ...                 ...                 ...     ...   \n",
       "7765                 Europe                 KGZ          Kyrgyzstan    2000   \n",
       "7766                 Africa                 TGO                Togo    2000   \n",
       "7767                 Africa                 DZA             Algeria    2000   \n",
       "7768  Eastern Mediterranean                 JOR              Jordan    2000   \n",
       "7769                 Africa                 LBR             Liberia    2000   \n",
       "\n",
       "      NumericValue  Gender GenderCode  \n",
       "1480          1.24  Female       FMLE  \n",
       "1481         10.31  Female       FMLE  \n",
       "1482        101.90  Female       FMLE  \n",
       "1483        103.10  Female       FMLE  \n",
       "1484        105.20  Female       FMLE  \n",
       "...            ...     ...        ...  \n",
       "7765         92.94  Female       FMLE  \n",
       "7766        929.90  Female       FMLE  \n",
       "7767        958.20  Female       FMLE  \n",
       "7768         96.51  Female       FMLE  \n",
       "7769        979.60  Female       FMLE  \n",
       "\n",
       "[6290 rows x 9 columns]"
      ]
     },
     "execution_count": 6,
     "metadata": {},
     "output_type": "execute_result"
    }
   ],
   "source": [
    "maternal = DataCleaningPipeline(df_maternal_raw)\n",
    "df_maternal = maternal.select_range_by_years()\n",
    "df_maternal[['Gender','GenderCode']] = ['Female','FMLE']\n",
    "df_maternal"
   ]
  },
  {
   "cell_type": "code",
   "execution_count": 7,
   "id": "a2c68453",
   "metadata": {
    "scrolled": false
   },
   "outputs": [
    {
     "data": {
      "text/html": [
       "<div>\n",
       "<style scoped>\n",
       "    .dataframe tbody tr th:only-of-type {\n",
       "        vertical-align: middle;\n",
       "    }\n",
       "\n",
       "    .dataframe tbody tr th {\n",
       "        vertical-align: top;\n",
       "    }\n",
       "\n",
       "    .dataframe thead th {\n",
       "        text-align: right;\n",
       "    }\n",
       "</style>\n",
       "<table border=\"1\" class=\"dataframe\">\n",
       "  <thead>\n",
       "    <tr style=\"text-align: right;\">\n",
       "      <th></th>\n",
       "      <th>Indicator</th>\n",
       "      <th>ParentLocationCode</th>\n",
       "      <th>ParentLocation</th>\n",
       "      <th>SpatialDimValueCode</th>\n",
       "      <th>Location</th>\n",
       "      <th>Period</th>\n",
       "      <th>GenderCode</th>\n",
       "      <th>Gender</th>\n",
       "      <th>NumericValue</th>\n",
       "    </tr>\n",
       "  </thead>\n",
       "  <tbody>\n",
       "    <tr>\n",
       "      <th>549</th>\n",
       "      <td>Estimated number of road traffic deaths</td>\n",
       "      <td>AMR</td>\n",
       "      <td>Americas</td>\n",
       "      <td>ATG</td>\n",
       "      <td>Antigua and Barbuda</td>\n",
       "      <td>2016</td>\n",
       "      <td>BTSX</td>\n",
       "      <td>Both sexes</td>\n",
       "      <td>0.00</td>\n",
       "    </tr>\n",
       "    <tr>\n",
       "      <th>550</th>\n",
       "      <td>Estimated number of road traffic deaths</td>\n",
       "      <td>AMR</td>\n",
       "      <td>Americas</td>\n",
       "      <td>GRD</td>\n",
       "      <td>Grenada</td>\n",
       "      <td>2016</td>\n",
       "      <td>BTSX</td>\n",
       "      <td>Both sexes</td>\n",
       "      <td>10.00</td>\n",
       "    </tr>\n",
       "    <tr>\n",
       "      <th>551</th>\n",
       "      <td>Estimated number of road traffic deaths</td>\n",
       "      <td>EMR</td>\n",
       "      <td>Eastern Mediterranean</td>\n",
       "      <td>SDN</td>\n",
       "      <td>Sudan</td>\n",
       "      <td>2016</td>\n",
       "      <td>BTSX</td>\n",
       "      <td>Both sexes</td>\n",
       "      <td>10178.00</td>\n",
       "    </tr>\n",
       "    <tr>\n",
       "      <th>552</th>\n",
       "      <td>Estimated number of road traffic deaths</td>\n",
       "      <td>SEAR</td>\n",
       "      <td>South-East Asia</td>\n",
       "      <td>MMR</td>\n",
       "      <td>Myanmar</td>\n",
       "      <td>2016</td>\n",
       "      <td>BTSX</td>\n",
       "      <td>Both sexes</td>\n",
       "      <td>10540.00</td>\n",
       "    </tr>\n",
       "    <tr>\n",
       "      <th>553</th>\n",
       "      <td>Estimated number of road traffic deaths</td>\n",
       "      <td>AMR</td>\n",
       "      <td>Americas</td>\n",
       "      <td>VEN</td>\n",
       "      <td>Venezuela (Bolivarian Republic of)</td>\n",
       "      <td>2016</td>\n",
       "      <td>BTSX</td>\n",
       "      <td>Both sexes</td>\n",
       "      <td>10640.00</td>\n",
       "    </tr>\n",
       "    <tr>\n",
       "      <th>...</th>\n",
       "      <td>...</td>\n",
       "      <td>...</td>\n",
       "      <td>...</td>\n",
       "      <td>...</td>\n",
       "      <td>...</td>\n",
       "      <td>...</td>\n",
       "      <td>...</td>\n",
       "      <td>...</td>\n",
       "      <td>...</td>\n",
       "    </tr>\n",
       "    <tr>\n",
       "      <th>3655</th>\n",
       "      <td>Estimated road traffic death rate (per 100 000...</td>\n",
       "      <td>SEAR</td>\n",
       "      <td>South-East Asia</td>\n",
       "      <td>NPL</td>\n",
       "      <td>Nepal</td>\n",
       "      <td>2000</td>\n",
       "      <td>FMLE</td>\n",
       "      <td>Female</td>\n",
       "      <td>9.43</td>\n",
       "    </tr>\n",
       "    <tr>\n",
       "      <th>3656</th>\n",
       "      <td>Estimated road traffic death rate (per 100 000...</td>\n",
       "      <td>WPR</td>\n",
       "      <td>Western Pacific</td>\n",
       "      <td>MYS</td>\n",
       "      <td>Malaysia</td>\n",
       "      <td>2000</td>\n",
       "      <td>FMLE</td>\n",
       "      <td>Female</td>\n",
       "      <td>9.57</td>\n",
       "    </tr>\n",
       "    <tr>\n",
       "      <th>3657</th>\n",
       "      <td>Estimated road traffic death rate (per 100 000...</td>\n",
       "      <td>WPR</td>\n",
       "      <td>Western Pacific</td>\n",
       "      <td>FSM</td>\n",
       "      <td>Micronesia (Federated States of)</td>\n",
       "      <td>2000</td>\n",
       "      <td>FMLE</td>\n",
       "      <td>Female</td>\n",
       "      <td>9.88</td>\n",
       "    </tr>\n",
       "    <tr>\n",
       "      <th>3658</th>\n",
       "      <td>Estimated road traffic death rate (per 100 000...</td>\n",
       "      <td>AMR</td>\n",
       "      <td>Americas</td>\n",
       "      <td>GUY</td>\n",
       "      <td>Guyana</td>\n",
       "      <td>2000</td>\n",
       "      <td>FMLE</td>\n",
       "      <td>Female</td>\n",
       "      <td>9.89</td>\n",
       "    </tr>\n",
       "    <tr>\n",
       "      <th>3659</th>\n",
       "      <td>Estimated road traffic death rate (per 100 000...</td>\n",
       "      <td>EMR</td>\n",
       "      <td>Eastern Mediterranean</td>\n",
       "      <td>OMN</td>\n",
       "      <td>Oman</td>\n",
       "      <td>2000</td>\n",
       "      <td>FMLE</td>\n",
       "      <td>Female</td>\n",
       "      <td>9.90</td>\n",
       "    </tr>\n",
       "  </tbody>\n",
       "</table>\n",
       "<p>9333 rows × 9 columns</p>\n",
       "</div>"
      ],
      "text/plain": [
       "                                              Indicator ParentLocationCode   \n",
       "549             Estimated number of road traffic deaths                AMR  \\\n",
       "550             Estimated number of road traffic deaths                AMR   \n",
       "551             Estimated number of road traffic deaths                EMR   \n",
       "552             Estimated number of road traffic deaths               SEAR   \n",
       "553             Estimated number of road traffic deaths                AMR   \n",
       "...                                                 ...                ...   \n",
       "3655  Estimated road traffic death rate (per 100 000...               SEAR   \n",
       "3656  Estimated road traffic death rate (per 100 000...                WPR   \n",
       "3657  Estimated road traffic death rate (per 100 000...                WPR   \n",
       "3658  Estimated road traffic death rate (per 100 000...                AMR   \n",
       "3659  Estimated road traffic death rate (per 100 000...                EMR   \n",
       "\n",
       "             ParentLocation SpatialDimValueCode   \n",
       "549                Americas                 ATG  \\\n",
       "550                Americas                 GRD   \n",
       "551   Eastern Mediterranean                 SDN   \n",
       "552         South-East Asia                 MMR   \n",
       "553                Americas                 VEN   \n",
       "...                     ...                 ...   \n",
       "3655        South-East Asia                 NPL   \n",
       "3656        Western Pacific                 MYS   \n",
       "3657        Western Pacific                 FSM   \n",
       "3658               Americas                 GUY   \n",
       "3659  Eastern Mediterranean                 OMN   \n",
       "\n",
       "                                Location  Period GenderCode      Gender   \n",
       "549                  Antigua and Barbuda    2016       BTSX  Both sexes  \\\n",
       "550                              Grenada    2016       BTSX  Both sexes   \n",
       "551                                Sudan    2016       BTSX  Both sexes   \n",
       "552                              Myanmar    2016       BTSX  Both sexes   \n",
       "553   Venezuela (Bolivarian Republic of)    2016       BTSX  Both sexes   \n",
       "...                                  ...     ...        ...         ...   \n",
       "3655                               Nepal    2000       FMLE      Female   \n",
       "3656                            Malaysia    2000       FMLE      Female   \n",
       "3657    Micronesia (Federated States of)    2000       FMLE      Female   \n",
       "3658                              Guyana    2000       FMLE      Female   \n",
       "3659                                Oman    2000       FMLE      Female   \n",
       "\n",
       "      NumericValue  \n",
       "549           0.00  \n",
       "550          10.00  \n",
       "551       10178.00  \n",
       "552       10540.00  \n",
       "553       10640.00  \n",
       "...            ...  \n",
       "3655          9.43  \n",
       "3656          9.57  \n",
       "3657          9.88  \n",
       "3658          9.89  \n",
       "3659          9.90  \n",
       "\n",
       "[9333 rows x 9 columns]"
      ]
     },
     "execution_count": 7,
     "metadata": {},
     "output_type": "execute_result"
    }
   ],
   "source": [
    "road_bs = DataCleaningPipeline(df_road_raw)\n",
    "df_road_bs = road_bs.select_range_by_years()\n",
    "\n",
    "road_male = DataCleaningPipeline(df_road_male_raw)\n",
    "df_road_male = road_male.select_range_by_years()\n",
    "\n",
    "road_female = DataCleaningPipeline(df_road_female_raw)\n",
    "df_road_female = road_female.select_range_by_years()\n",
    "\n",
    "df_road = pd.concat([df_road_bs,df_road_male,df_road_female])\n",
    "df_road"
   ]
  },
  {
   "cell_type": "markdown",
   "id": "b98a3d60",
   "metadata": {},
   "source": [
    "Bar charts comparing the Adult morality and all the possible causes over years."
   ]
  },
  {
   "cell_type": "code",
   "execution_count": 15,
   "id": "20b4b5d8",
   "metadata": {
    "scrolled": false
   },
   "outputs": [
    {
     "data": {
      "application/vnd.plotly.v1+json": {
       "config": {
        "plotlyServerURL": "https://plot.ly"
       },
       "data": [
        {
         "marker": {
          "color": "steelblue"
         },
         "name": "Female",
         "type": "bar",
         "x": [
          2000,
          2001,
          2002,
          2003,
          2004,
          2005,
          2006,
          2007,
          2008,
          2009,
          2010,
          2011,
          2012,
          2013,
          2014,
          2015,
          2016
         ],
         "xaxis": "x",
         "y": [
          33511.15,
          33307.96,
          33190.52,
          33106.29,
          32685.81,
          31994.65,
          31097.86,
          30105.87,
          29137.67,
          28108.12,
          27576.37,
          26516.82,
          25942.97,
          25312.17,
          25017.19,
          24433.36,
          23909.89
         ],
         "yaxis": "y"
        },
        {
         "marker": {
          "color": "firebrick"
         },
         "name": "Male",
         "type": "bar",
         "x": [
          2000,
          2001,
          2002,
          2003,
          2004,
          2005,
          2006,
          2007,
          2008,
          2009,
          2010,
          2011,
          2012,
          2013,
          2014,
          2015,
          2016
         ],
         "xaxis": "x",
         "y": [
          47015.42,
          46408.94,
          46198.65,
          45920.59,
          45387.24,
          44671.79,
          43799.2,
          42738.590000000004,
          41714.74,
          40498.68,
          39870.13,
          38548.85,
          38023.94,
          37538.48,
          37242.23,
          36505.08,
          35825.3
         ],
         "yaxis": "y"
        },
        {
         "marker": {
          "color": "steelblue"
         },
         "name": "Female",
         "type": "bar",
         "x": [
          2000,
          2001,
          2002,
          2003,
          2004,
          2005,
          2006,
          2007,
          2008,
          2009,
          2010,
          2011,
          2012,
          2013,
          2014,
          2015,
          2016
         ],
         "xaxis": "x2",
         "y": [
          10161.14,
          9758.36,
          9361.88,
          8970.27,
          8624.22,
          8248.58,
          7906.91,
          7584.97,
          7307.72,
          6990.65,
          6738.94,
          6432.94,
          6205.08,
          5992.93,
          5808.11,
          5624.92,
          5439.68
         ],
         "yaxis": "y2"
        },
        {
         "marker": {
          "color": "firebrick"
         },
         "name": "Male",
         "type": "bar",
         "x": [
          2000,
          2001,
          2002,
          2003,
          2004,
          2005,
          2006,
          2007,
          2008,
          2009,
          2010,
          2011,
          2012,
          2013,
          2014,
          2015,
          2016
         ],
         "xaxis": "x2",
         "y": [
          11586.54,
          11150.4,
          10716.46,
          10290.67,
          9912.75,
          9505.03,
          9130.31,
          8776.75,
          8469.99,
          8121.4800000000005,
          7839.55,
          7505.35,
          7251.77,
          7014.72,
          6806.2,
          6600.61,
          6394.94
         ],
         "yaxis": "y2"
        },
        {
         "marker": {
          "color": "steelblue"
         },
         "name": "Female",
         "type": "bar",
         "x": [
          2000,
          2001,
          2002,
          2003,
          2004,
          2005,
          2006,
          2007,
          2008,
          2009,
          2010,
          2011,
          2012,
          2013,
          2014,
          2015,
          2016
         ],
         "xaxis": "x3",
         "y": [
          1868.78,
          1849.2,
          1867.2,
          1859.26,
          1852.75,
          1839.95,
          1845.04,
          1821.66,
          1756.41,
          1716.12,
          1677.67,
          1660.06,
          1613.08,
          1608.06,
          1588.02,
          1599.2,
          1607.89
         ],
         "yaxis": "y3"
        },
        {
         "marker": {
          "color": "firebrick"
         },
         "name": "Male",
         "type": "bar",
         "x": [
          2000,
          2001,
          2002,
          2003,
          2004,
          2005,
          2006,
          2007,
          2008,
          2009,
          2010,
          2011,
          2012,
          2013,
          2014,
          2015,
          2016
         ],
         "xaxis": "x3",
         "y": [
          5157.45,
          5119.9800000000005,
          5159.73,
          5200.22,
          5187.21,
          5141.69,
          5175.6,
          5180.91,
          5057.94,
          4917.81,
          4738.92,
          4749.03,
          4630.88,
          4621.7,
          4572.79,
          4617.69,
          4667.47
         ],
         "yaxis": "y3"
        },
        {
         "name": "Both Gender",
         "type": "scatter",
         "x": [
          2000,
          2001,
          2002,
          2003,
          2004,
          2005,
          2006,
          2007,
          2008,
          2009,
          2010,
          2011,
          2012,
          2013,
          2014,
          2015,
          2016
         ],
         "xaxis": "x4",
         "y": [
          120860.94,
          119623.58,
          119133.64,
          118587.03,
          117156.13,
          115048.81,
          112392.16,
          109313.91,
          106318.09,
          102939.15,
          101199.97,
          97612.06,
          95966.35,
          94297.16,
          93418.53,
          91431.9,
          89626.16
         ],
         "yaxis": "y4"
        }
       ],
       "layout": {
        "annotations": [
         {
          "font": {
           "size": 16
          },
          "showarrow": false,
          "text": "Comparison for Adult Morality Between Gender",
          "x": 0.5,
          "xanchor": "center",
          "xref": "paper",
          "y": 1,
          "yanchor": "bottom",
          "yref": "paper"
         },
         {
          "font": {
           "size": 16
          },
          "showarrow": false,
          "text": "Comparison for Child Morality Between Gender",
          "x": 0.5,
          "xanchor": "center",
          "xref": "paper",
          "y": 0.71875,
          "yanchor": "bottom",
          "yref": "paper"
         },
         {
          "font": {
           "size": 16
          },
          "showarrow": false,
          "text": "Comparison for Road Traffic Morality Between Gender",
          "x": 0.5,
          "xanchor": "center",
          "xref": "paper",
          "y": 0.4375,
          "yanchor": "bottom",
          "yref": "paper"
         },
         {
          "font": {
           "size": 16
          },
          "showarrow": false,
          "text": "Trend of Adult Morality over Years",
          "x": 0.5,
          "xanchor": "center",
          "xref": "paper",
          "y": 0.15625,
          "yanchor": "bottom",
          "yref": "paper"
         }
        ],
        "height": 1000,
        "template": {
         "data": {
          "bar": [
           {
            "error_x": {
             "color": "#2a3f5f"
            },
            "error_y": {
             "color": "#2a3f5f"
            },
            "marker": {
             "line": {
              "color": "#E5ECF6",
              "width": 0.5
             },
             "pattern": {
              "fillmode": "overlay",
              "size": 10,
              "solidity": 0.2
             }
            },
            "type": "bar"
           }
          ],
          "barpolar": [
           {
            "marker": {
             "line": {
              "color": "#E5ECF6",
              "width": 0.5
             },
             "pattern": {
              "fillmode": "overlay",
              "size": 10,
              "solidity": 0.2
             }
            },
            "type": "barpolar"
           }
          ],
          "carpet": [
           {
            "aaxis": {
             "endlinecolor": "#2a3f5f",
             "gridcolor": "white",
             "linecolor": "white",
             "minorgridcolor": "white",
             "startlinecolor": "#2a3f5f"
            },
            "baxis": {
             "endlinecolor": "#2a3f5f",
             "gridcolor": "white",
             "linecolor": "white",
             "minorgridcolor": "white",
             "startlinecolor": "#2a3f5f"
            },
            "type": "carpet"
           }
          ],
          "choropleth": [
           {
            "colorbar": {
             "outlinewidth": 0,
             "ticks": ""
            },
            "type": "choropleth"
           }
          ],
          "contour": [
           {
            "colorbar": {
             "outlinewidth": 0,
             "ticks": ""
            },
            "colorscale": [
             [
              0,
              "#0d0887"
             ],
             [
              0.1111111111111111,
              "#46039f"
             ],
             [
              0.2222222222222222,
              "#7201a8"
             ],
             [
              0.3333333333333333,
              "#9c179e"
             ],
             [
              0.4444444444444444,
              "#bd3786"
             ],
             [
              0.5555555555555556,
              "#d8576b"
             ],
             [
              0.6666666666666666,
              "#ed7953"
             ],
             [
              0.7777777777777778,
              "#fb9f3a"
             ],
             [
              0.8888888888888888,
              "#fdca26"
             ],
             [
              1,
              "#f0f921"
             ]
            ],
            "type": "contour"
           }
          ],
          "contourcarpet": [
           {
            "colorbar": {
             "outlinewidth": 0,
             "ticks": ""
            },
            "type": "contourcarpet"
           }
          ],
          "heatmap": [
           {
            "colorbar": {
             "outlinewidth": 0,
             "ticks": ""
            },
            "colorscale": [
             [
              0,
              "#0d0887"
             ],
             [
              0.1111111111111111,
              "#46039f"
             ],
             [
              0.2222222222222222,
              "#7201a8"
             ],
             [
              0.3333333333333333,
              "#9c179e"
             ],
             [
              0.4444444444444444,
              "#bd3786"
             ],
             [
              0.5555555555555556,
              "#d8576b"
             ],
             [
              0.6666666666666666,
              "#ed7953"
             ],
             [
              0.7777777777777778,
              "#fb9f3a"
             ],
             [
              0.8888888888888888,
              "#fdca26"
             ],
             [
              1,
              "#f0f921"
             ]
            ],
            "type": "heatmap"
           }
          ],
          "heatmapgl": [
           {
            "colorbar": {
             "outlinewidth": 0,
             "ticks": ""
            },
            "colorscale": [
             [
              0,
              "#0d0887"
             ],
             [
              0.1111111111111111,
              "#46039f"
             ],
             [
              0.2222222222222222,
              "#7201a8"
             ],
             [
              0.3333333333333333,
              "#9c179e"
             ],
             [
              0.4444444444444444,
              "#bd3786"
             ],
             [
              0.5555555555555556,
              "#d8576b"
             ],
             [
              0.6666666666666666,
              "#ed7953"
             ],
             [
              0.7777777777777778,
              "#fb9f3a"
             ],
             [
              0.8888888888888888,
              "#fdca26"
             ],
             [
              1,
              "#f0f921"
             ]
            ],
            "type": "heatmapgl"
           }
          ],
          "histogram": [
           {
            "marker": {
             "pattern": {
              "fillmode": "overlay",
              "size": 10,
              "solidity": 0.2
             }
            },
            "type": "histogram"
           }
          ],
          "histogram2d": [
           {
            "colorbar": {
             "outlinewidth": 0,
             "ticks": ""
            },
            "colorscale": [
             [
              0,
              "#0d0887"
             ],
             [
              0.1111111111111111,
              "#46039f"
             ],
             [
              0.2222222222222222,
              "#7201a8"
             ],
             [
              0.3333333333333333,
              "#9c179e"
             ],
             [
              0.4444444444444444,
              "#bd3786"
             ],
             [
              0.5555555555555556,
              "#d8576b"
             ],
             [
              0.6666666666666666,
              "#ed7953"
             ],
             [
              0.7777777777777778,
              "#fb9f3a"
             ],
             [
              0.8888888888888888,
              "#fdca26"
             ],
             [
              1,
              "#f0f921"
             ]
            ],
            "type": "histogram2d"
           }
          ],
          "histogram2dcontour": [
           {
            "colorbar": {
             "outlinewidth": 0,
             "ticks": ""
            },
            "colorscale": [
             [
              0,
              "#0d0887"
             ],
             [
              0.1111111111111111,
              "#46039f"
             ],
             [
              0.2222222222222222,
              "#7201a8"
             ],
             [
              0.3333333333333333,
              "#9c179e"
             ],
             [
              0.4444444444444444,
              "#bd3786"
             ],
             [
              0.5555555555555556,
              "#d8576b"
             ],
             [
              0.6666666666666666,
              "#ed7953"
             ],
             [
              0.7777777777777778,
              "#fb9f3a"
             ],
             [
              0.8888888888888888,
              "#fdca26"
             ],
             [
              1,
              "#f0f921"
             ]
            ],
            "type": "histogram2dcontour"
           }
          ],
          "mesh3d": [
           {
            "colorbar": {
             "outlinewidth": 0,
             "ticks": ""
            },
            "type": "mesh3d"
           }
          ],
          "parcoords": [
           {
            "line": {
             "colorbar": {
              "outlinewidth": 0,
              "ticks": ""
             }
            },
            "type": "parcoords"
           }
          ],
          "pie": [
           {
            "automargin": true,
            "type": "pie"
           }
          ],
          "scatter": [
           {
            "fillpattern": {
             "fillmode": "overlay",
             "size": 10,
             "solidity": 0.2
            },
            "type": "scatter"
           }
          ],
          "scatter3d": [
           {
            "line": {
             "colorbar": {
              "outlinewidth": 0,
              "ticks": ""
             }
            },
            "marker": {
             "colorbar": {
              "outlinewidth": 0,
              "ticks": ""
             }
            },
            "type": "scatter3d"
           }
          ],
          "scattercarpet": [
           {
            "marker": {
             "colorbar": {
              "outlinewidth": 0,
              "ticks": ""
             }
            },
            "type": "scattercarpet"
           }
          ],
          "scattergeo": [
           {
            "marker": {
             "colorbar": {
              "outlinewidth": 0,
              "ticks": ""
             }
            },
            "type": "scattergeo"
           }
          ],
          "scattergl": [
           {
            "marker": {
             "colorbar": {
              "outlinewidth": 0,
              "ticks": ""
             }
            },
            "type": "scattergl"
           }
          ],
          "scattermapbox": [
           {
            "marker": {
             "colorbar": {
              "outlinewidth": 0,
              "ticks": ""
             }
            },
            "type": "scattermapbox"
           }
          ],
          "scatterpolar": [
           {
            "marker": {
             "colorbar": {
              "outlinewidth": 0,
              "ticks": ""
             }
            },
            "type": "scatterpolar"
           }
          ],
          "scatterpolargl": [
           {
            "marker": {
             "colorbar": {
              "outlinewidth": 0,
              "ticks": ""
             }
            },
            "type": "scatterpolargl"
           }
          ],
          "scatterternary": [
           {
            "marker": {
             "colorbar": {
              "outlinewidth": 0,
              "ticks": ""
             }
            },
            "type": "scatterternary"
           }
          ],
          "surface": [
           {
            "colorbar": {
             "outlinewidth": 0,
             "ticks": ""
            },
            "colorscale": [
             [
              0,
              "#0d0887"
             ],
             [
              0.1111111111111111,
              "#46039f"
             ],
             [
              0.2222222222222222,
              "#7201a8"
             ],
             [
              0.3333333333333333,
              "#9c179e"
             ],
             [
              0.4444444444444444,
              "#bd3786"
             ],
             [
              0.5555555555555556,
              "#d8576b"
             ],
             [
              0.6666666666666666,
              "#ed7953"
             ],
             [
              0.7777777777777778,
              "#fb9f3a"
             ],
             [
              0.8888888888888888,
              "#fdca26"
             ],
             [
              1,
              "#f0f921"
             ]
            ],
            "type": "surface"
           }
          ],
          "table": [
           {
            "cells": {
             "fill": {
              "color": "#EBF0F8"
             },
             "line": {
              "color": "white"
             }
            },
            "header": {
             "fill": {
              "color": "#C8D4E3"
             },
             "line": {
              "color": "white"
             }
            },
            "type": "table"
           }
          ]
         },
         "layout": {
          "annotationdefaults": {
           "arrowcolor": "#2a3f5f",
           "arrowhead": 0,
           "arrowwidth": 1
          },
          "autotypenumbers": "strict",
          "coloraxis": {
           "colorbar": {
            "outlinewidth": 0,
            "ticks": ""
           }
          },
          "colorscale": {
           "diverging": [
            [
             0,
             "#8e0152"
            ],
            [
             0.1,
             "#c51b7d"
            ],
            [
             0.2,
             "#de77ae"
            ],
            [
             0.3,
             "#f1b6da"
            ],
            [
             0.4,
             "#fde0ef"
            ],
            [
             0.5,
             "#f7f7f7"
            ],
            [
             0.6,
             "#e6f5d0"
            ],
            [
             0.7,
             "#b8e186"
            ],
            [
             0.8,
             "#7fbc41"
            ],
            [
             0.9,
             "#4d9221"
            ],
            [
             1,
             "#276419"
            ]
           ],
           "sequential": [
            [
             0,
             "#0d0887"
            ],
            [
             0.1111111111111111,
             "#46039f"
            ],
            [
             0.2222222222222222,
             "#7201a8"
            ],
            [
             0.3333333333333333,
             "#9c179e"
            ],
            [
             0.4444444444444444,
             "#bd3786"
            ],
            [
             0.5555555555555556,
             "#d8576b"
            ],
            [
             0.6666666666666666,
             "#ed7953"
            ],
            [
             0.7777777777777778,
             "#fb9f3a"
            ],
            [
             0.8888888888888888,
             "#fdca26"
            ],
            [
             1,
             "#f0f921"
            ]
           ],
           "sequentialminus": [
            [
             0,
             "#0d0887"
            ],
            [
             0.1111111111111111,
             "#46039f"
            ],
            [
             0.2222222222222222,
             "#7201a8"
            ],
            [
             0.3333333333333333,
             "#9c179e"
            ],
            [
             0.4444444444444444,
             "#bd3786"
            ],
            [
             0.5555555555555556,
             "#d8576b"
            ],
            [
             0.6666666666666666,
             "#ed7953"
            ],
            [
             0.7777777777777778,
             "#fb9f3a"
            ],
            [
             0.8888888888888888,
             "#fdca26"
            ],
            [
             1,
             "#f0f921"
            ]
           ]
          },
          "colorway": [
           "#636efa",
           "#EF553B",
           "#00cc96",
           "#ab63fa",
           "#FFA15A",
           "#19d3f3",
           "#FF6692",
           "#B6E880",
           "#FF97FF",
           "#FECB52"
          ],
          "font": {
           "color": "#2a3f5f"
          },
          "geo": {
           "bgcolor": "white",
           "lakecolor": "white",
           "landcolor": "#E5ECF6",
           "showlakes": true,
           "showland": true,
           "subunitcolor": "white"
          },
          "hoverlabel": {
           "align": "left"
          },
          "hovermode": "closest",
          "mapbox": {
           "style": "light"
          },
          "paper_bgcolor": "white",
          "plot_bgcolor": "#E5ECF6",
          "polar": {
           "angularaxis": {
            "gridcolor": "white",
            "linecolor": "white",
            "ticks": ""
           },
           "bgcolor": "#E5ECF6",
           "radialaxis": {
            "gridcolor": "white",
            "linecolor": "white",
            "ticks": ""
           }
          },
          "scene": {
           "xaxis": {
            "backgroundcolor": "#E5ECF6",
            "gridcolor": "white",
            "gridwidth": 2,
            "linecolor": "white",
            "showbackground": true,
            "ticks": "",
            "zerolinecolor": "white"
           },
           "yaxis": {
            "backgroundcolor": "#E5ECF6",
            "gridcolor": "white",
            "gridwidth": 2,
            "linecolor": "white",
            "showbackground": true,
            "ticks": "",
            "zerolinecolor": "white"
           },
           "zaxis": {
            "backgroundcolor": "#E5ECF6",
            "gridcolor": "white",
            "gridwidth": 2,
            "linecolor": "white",
            "showbackground": true,
            "ticks": "",
            "zerolinecolor": "white"
           }
          },
          "shapedefaults": {
           "line": {
            "color": "#2a3f5f"
           }
          },
          "ternary": {
           "aaxis": {
            "gridcolor": "white",
            "linecolor": "white",
            "ticks": ""
           },
           "baxis": {
            "gridcolor": "white",
            "linecolor": "white",
            "ticks": ""
           },
           "bgcolor": "#E5ECF6",
           "caxis": {
            "gridcolor": "white",
            "linecolor": "white",
            "ticks": ""
           }
          },
          "title": {
           "x": 0.05
          },
          "xaxis": {
           "automargin": true,
           "gridcolor": "white",
           "linecolor": "white",
           "ticks": "",
           "title": {
            "standoff": 15
           },
           "zerolinecolor": "white",
           "zerolinewidth": 2
          },
          "yaxis": {
           "automargin": true,
           "gridcolor": "white",
           "linecolor": "white",
           "ticks": "",
           "title": {
            "standoff": 15
           },
           "zerolinecolor": "white",
           "zerolinewidth": 2
          }
         }
        },
        "title": {
         "text": "Morality Comparison between Genders by Bar Charts and Adult Morality Rate using Line Chart"
        },
        "width": 1000,
        "xaxis": {
         "anchor": "y",
         "domain": [
          0,
          1
         ]
        },
        "xaxis2": {
         "anchor": "y2",
         "domain": [
          0,
          1
         ]
        },
        "xaxis3": {
         "anchor": "y3",
         "domain": [
          0,
          1
         ]
        },
        "xaxis4": {
         "anchor": "y4",
         "domain": [
          0,
          1
         ],
         "title": {
          "text": "Year"
         }
        },
        "yaxis": {
         "anchor": "x",
         "domain": [
          0.84375,
          1
         ],
         "title": {
          "text": "Adult Morality"
         }
        },
        "yaxis2": {
         "anchor": "x2",
         "domain": [
          0.5625,
          0.71875
         ],
         "title": {
          "text": "Child Morality"
         }
        },
        "yaxis3": {
         "anchor": "x3",
         "domain": [
          0.28125,
          0.4375
         ],
         "title": {
          "text": "Road Traffic Morality"
         }
        },
        "yaxis4": {
         "anchor": "x4",
         "domain": [
          0,
          0.15625
         ],
         "title": {
          "text": "Adult Morality"
         }
        }
       }
      },
      "text/html": [
       "<div>                            <div id=\"91fa4932-c974-44d9-b429-c4cc81d9fb48\" class=\"plotly-graph-div\" style=\"height:1000px; width:1000px;\"></div>            <script type=\"text/javascript\">                require([\"plotly\"], function(Plotly) {                    window.PLOTLYENV=window.PLOTLYENV || {};                                    if (document.getElementById(\"91fa4932-c974-44d9-b429-c4cc81d9fb48\")) {                    Plotly.newPlot(                        \"91fa4932-c974-44d9-b429-c4cc81d9fb48\",                        [{\"marker\":{\"color\":\"steelblue\"},\"name\":\"Female\",\"x\":[2000,2001,2002,2003,2004,2005,2006,2007,2008,2009,2010,2011,2012,2013,2014,2015,2016],\"y\":[33511.15,33307.96,33190.52,33106.29,32685.81,31994.65,31097.86,30105.87,29137.67,28108.12,27576.37,26516.82,25942.97,25312.17,25017.19,24433.36,23909.89],\"type\":\"bar\",\"xaxis\":\"x\",\"yaxis\":\"y\"},{\"marker\":{\"color\":\"firebrick\"},\"name\":\"Male\",\"x\":[2000,2001,2002,2003,2004,2005,2006,2007,2008,2009,2010,2011,2012,2013,2014,2015,2016],\"y\":[47015.42,46408.94,46198.65,45920.59,45387.24,44671.79,43799.2,42738.590000000004,41714.74,40498.68,39870.13,38548.85,38023.94,37538.48,37242.23,36505.08,35825.3],\"type\":\"bar\",\"xaxis\":\"x\",\"yaxis\":\"y\"},{\"marker\":{\"color\":\"steelblue\"},\"name\":\"Female\",\"x\":[2000,2001,2002,2003,2004,2005,2006,2007,2008,2009,2010,2011,2012,2013,2014,2015,2016],\"y\":[10161.14,9758.36,9361.88,8970.27,8624.22,8248.58,7906.91,7584.97,7307.72,6990.65,6738.94,6432.94,6205.08,5992.93,5808.11,5624.92,5439.68],\"type\":\"bar\",\"xaxis\":\"x2\",\"yaxis\":\"y2\"},{\"marker\":{\"color\":\"firebrick\"},\"name\":\"Male\",\"x\":[2000,2001,2002,2003,2004,2005,2006,2007,2008,2009,2010,2011,2012,2013,2014,2015,2016],\"y\":[11586.54,11150.4,10716.46,10290.67,9912.75,9505.03,9130.31,8776.75,8469.99,8121.4800000000005,7839.55,7505.35,7251.77,7014.72,6806.2,6600.61,6394.94],\"type\":\"bar\",\"xaxis\":\"x2\",\"yaxis\":\"y2\"},{\"marker\":{\"color\":\"steelblue\"},\"name\":\"Female\",\"x\":[2000,2001,2002,2003,2004,2005,2006,2007,2008,2009,2010,2011,2012,2013,2014,2015,2016],\"y\":[1868.78,1849.2,1867.2,1859.26,1852.75,1839.95,1845.04,1821.66,1756.41,1716.12,1677.67,1660.06,1613.08,1608.06,1588.02,1599.2,1607.89],\"type\":\"bar\",\"xaxis\":\"x3\",\"yaxis\":\"y3\"},{\"marker\":{\"color\":\"firebrick\"},\"name\":\"Male\",\"x\":[2000,2001,2002,2003,2004,2005,2006,2007,2008,2009,2010,2011,2012,2013,2014,2015,2016],\"y\":[5157.45,5119.9800000000005,5159.73,5200.22,5187.21,5141.69,5175.6,5180.91,5057.94,4917.81,4738.92,4749.03,4630.88,4621.7,4572.79,4617.69,4667.47],\"type\":\"bar\",\"xaxis\":\"x3\",\"yaxis\":\"y3\"},{\"name\":\"Both Gender\",\"x\":[2000,2001,2002,2003,2004,2005,2006,2007,2008,2009,2010,2011,2012,2013,2014,2015,2016],\"y\":[120860.94,119623.58,119133.64,118587.03,117156.13,115048.81,112392.16,109313.91,106318.09,102939.15,101199.97,97612.06,95966.35,94297.16,93418.53,91431.9,89626.16],\"type\":\"scatter\",\"xaxis\":\"x4\",\"yaxis\":\"y4\"}],                        {\"template\":{\"data\":{\"histogram2dcontour\":[{\"type\":\"histogram2dcontour\",\"colorbar\":{\"outlinewidth\":0,\"ticks\":\"\"},\"colorscale\":[[0.0,\"#0d0887\"],[0.1111111111111111,\"#46039f\"],[0.2222222222222222,\"#7201a8\"],[0.3333333333333333,\"#9c179e\"],[0.4444444444444444,\"#bd3786\"],[0.5555555555555556,\"#d8576b\"],[0.6666666666666666,\"#ed7953\"],[0.7777777777777778,\"#fb9f3a\"],[0.8888888888888888,\"#fdca26\"],[1.0,\"#f0f921\"]]}],\"choropleth\":[{\"type\":\"choropleth\",\"colorbar\":{\"outlinewidth\":0,\"ticks\":\"\"}}],\"histogram2d\":[{\"type\":\"histogram2d\",\"colorbar\":{\"outlinewidth\":0,\"ticks\":\"\"},\"colorscale\":[[0.0,\"#0d0887\"],[0.1111111111111111,\"#46039f\"],[0.2222222222222222,\"#7201a8\"],[0.3333333333333333,\"#9c179e\"],[0.4444444444444444,\"#bd3786\"],[0.5555555555555556,\"#d8576b\"],[0.6666666666666666,\"#ed7953\"],[0.7777777777777778,\"#fb9f3a\"],[0.8888888888888888,\"#fdca26\"],[1.0,\"#f0f921\"]]}],\"heatmap\":[{\"type\":\"heatmap\",\"colorbar\":{\"outlinewidth\":0,\"ticks\":\"\"},\"colorscale\":[[0.0,\"#0d0887\"],[0.1111111111111111,\"#46039f\"],[0.2222222222222222,\"#7201a8\"],[0.3333333333333333,\"#9c179e\"],[0.4444444444444444,\"#bd3786\"],[0.5555555555555556,\"#d8576b\"],[0.6666666666666666,\"#ed7953\"],[0.7777777777777778,\"#fb9f3a\"],[0.8888888888888888,\"#fdca26\"],[1.0,\"#f0f921\"]]}],\"heatmapgl\":[{\"type\":\"heatmapgl\",\"colorbar\":{\"outlinewidth\":0,\"ticks\":\"\"},\"colorscale\":[[0.0,\"#0d0887\"],[0.1111111111111111,\"#46039f\"],[0.2222222222222222,\"#7201a8\"],[0.3333333333333333,\"#9c179e\"],[0.4444444444444444,\"#bd3786\"],[0.5555555555555556,\"#d8576b\"],[0.6666666666666666,\"#ed7953\"],[0.7777777777777778,\"#fb9f3a\"],[0.8888888888888888,\"#fdca26\"],[1.0,\"#f0f921\"]]}],\"contourcarpet\":[{\"type\":\"contourcarpet\",\"colorbar\":{\"outlinewidth\":0,\"ticks\":\"\"}}],\"contour\":[{\"type\":\"contour\",\"colorbar\":{\"outlinewidth\":0,\"ticks\":\"\"},\"colorscale\":[[0.0,\"#0d0887\"],[0.1111111111111111,\"#46039f\"],[0.2222222222222222,\"#7201a8\"],[0.3333333333333333,\"#9c179e\"],[0.4444444444444444,\"#bd3786\"],[0.5555555555555556,\"#d8576b\"],[0.6666666666666666,\"#ed7953\"],[0.7777777777777778,\"#fb9f3a\"],[0.8888888888888888,\"#fdca26\"],[1.0,\"#f0f921\"]]}],\"surface\":[{\"type\":\"surface\",\"colorbar\":{\"outlinewidth\":0,\"ticks\":\"\"},\"colorscale\":[[0.0,\"#0d0887\"],[0.1111111111111111,\"#46039f\"],[0.2222222222222222,\"#7201a8\"],[0.3333333333333333,\"#9c179e\"],[0.4444444444444444,\"#bd3786\"],[0.5555555555555556,\"#d8576b\"],[0.6666666666666666,\"#ed7953\"],[0.7777777777777778,\"#fb9f3a\"],[0.8888888888888888,\"#fdca26\"],[1.0,\"#f0f921\"]]}],\"mesh3d\":[{\"type\":\"mesh3d\",\"colorbar\":{\"outlinewidth\":0,\"ticks\":\"\"}}],\"scatter\":[{\"fillpattern\":{\"fillmode\":\"overlay\",\"size\":10,\"solidity\":0.2},\"type\":\"scatter\"}],\"parcoords\":[{\"type\":\"parcoords\",\"line\":{\"colorbar\":{\"outlinewidth\":0,\"ticks\":\"\"}}}],\"scatterpolargl\":[{\"type\":\"scatterpolargl\",\"marker\":{\"colorbar\":{\"outlinewidth\":0,\"ticks\":\"\"}}}],\"bar\":[{\"error_x\":{\"color\":\"#2a3f5f\"},\"error_y\":{\"color\":\"#2a3f5f\"},\"marker\":{\"line\":{\"color\":\"#E5ECF6\",\"width\":0.5},\"pattern\":{\"fillmode\":\"overlay\",\"size\":10,\"solidity\":0.2}},\"type\":\"bar\"}],\"scattergeo\":[{\"type\":\"scattergeo\",\"marker\":{\"colorbar\":{\"outlinewidth\":0,\"ticks\":\"\"}}}],\"scatterpolar\":[{\"type\":\"scatterpolar\",\"marker\":{\"colorbar\":{\"outlinewidth\":0,\"ticks\":\"\"}}}],\"histogram\":[{\"marker\":{\"pattern\":{\"fillmode\":\"overlay\",\"size\":10,\"solidity\":0.2}},\"type\":\"histogram\"}],\"scattergl\":[{\"type\":\"scattergl\",\"marker\":{\"colorbar\":{\"outlinewidth\":0,\"ticks\":\"\"}}}],\"scatter3d\":[{\"type\":\"scatter3d\",\"line\":{\"colorbar\":{\"outlinewidth\":0,\"ticks\":\"\"}},\"marker\":{\"colorbar\":{\"outlinewidth\":0,\"ticks\":\"\"}}}],\"scattermapbox\":[{\"type\":\"scattermapbox\",\"marker\":{\"colorbar\":{\"outlinewidth\":0,\"ticks\":\"\"}}}],\"scatterternary\":[{\"type\":\"scatterternary\",\"marker\":{\"colorbar\":{\"outlinewidth\":0,\"ticks\":\"\"}}}],\"scattercarpet\":[{\"type\":\"scattercarpet\",\"marker\":{\"colorbar\":{\"outlinewidth\":0,\"ticks\":\"\"}}}],\"carpet\":[{\"aaxis\":{\"endlinecolor\":\"#2a3f5f\",\"gridcolor\":\"white\",\"linecolor\":\"white\",\"minorgridcolor\":\"white\",\"startlinecolor\":\"#2a3f5f\"},\"baxis\":{\"endlinecolor\":\"#2a3f5f\",\"gridcolor\":\"white\",\"linecolor\":\"white\",\"minorgridcolor\":\"white\",\"startlinecolor\":\"#2a3f5f\"},\"type\":\"carpet\"}],\"table\":[{\"cells\":{\"fill\":{\"color\":\"#EBF0F8\"},\"line\":{\"color\":\"white\"}},\"header\":{\"fill\":{\"color\":\"#C8D4E3\"},\"line\":{\"color\":\"white\"}},\"type\":\"table\"}],\"barpolar\":[{\"marker\":{\"line\":{\"color\":\"#E5ECF6\",\"width\":0.5},\"pattern\":{\"fillmode\":\"overlay\",\"size\":10,\"solidity\":0.2}},\"type\":\"barpolar\"}],\"pie\":[{\"automargin\":true,\"type\":\"pie\"}]},\"layout\":{\"autotypenumbers\":\"strict\",\"colorway\":[\"#636efa\",\"#EF553B\",\"#00cc96\",\"#ab63fa\",\"#FFA15A\",\"#19d3f3\",\"#FF6692\",\"#B6E880\",\"#FF97FF\",\"#FECB52\"],\"font\":{\"color\":\"#2a3f5f\"},\"hovermode\":\"closest\",\"hoverlabel\":{\"align\":\"left\"},\"paper_bgcolor\":\"white\",\"plot_bgcolor\":\"#E5ECF6\",\"polar\":{\"bgcolor\":\"#E5ECF6\",\"angularaxis\":{\"gridcolor\":\"white\",\"linecolor\":\"white\",\"ticks\":\"\"},\"radialaxis\":{\"gridcolor\":\"white\",\"linecolor\":\"white\",\"ticks\":\"\"}},\"ternary\":{\"bgcolor\":\"#E5ECF6\",\"aaxis\":{\"gridcolor\":\"white\",\"linecolor\":\"white\",\"ticks\":\"\"},\"baxis\":{\"gridcolor\":\"white\",\"linecolor\":\"white\",\"ticks\":\"\"},\"caxis\":{\"gridcolor\":\"white\",\"linecolor\":\"white\",\"ticks\":\"\"}},\"coloraxis\":{\"colorbar\":{\"outlinewidth\":0,\"ticks\":\"\"}},\"colorscale\":{\"sequential\":[[0.0,\"#0d0887\"],[0.1111111111111111,\"#46039f\"],[0.2222222222222222,\"#7201a8\"],[0.3333333333333333,\"#9c179e\"],[0.4444444444444444,\"#bd3786\"],[0.5555555555555556,\"#d8576b\"],[0.6666666666666666,\"#ed7953\"],[0.7777777777777778,\"#fb9f3a\"],[0.8888888888888888,\"#fdca26\"],[1.0,\"#f0f921\"]],\"sequentialminus\":[[0.0,\"#0d0887\"],[0.1111111111111111,\"#46039f\"],[0.2222222222222222,\"#7201a8\"],[0.3333333333333333,\"#9c179e\"],[0.4444444444444444,\"#bd3786\"],[0.5555555555555556,\"#d8576b\"],[0.6666666666666666,\"#ed7953\"],[0.7777777777777778,\"#fb9f3a\"],[0.8888888888888888,\"#fdca26\"],[1.0,\"#f0f921\"]],\"diverging\":[[0,\"#8e0152\"],[0.1,\"#c51b7d\"],[0.2,\"#de77ae\"],[0.3,\"#f1b6da\"],[0.4,\"#fde0ef\"],[0.5,\"#f7f7f7\"],[0.6,\"#e6f5d0\"],[0.7,\"#b8e186\"],[0.8,\"#7fbc41\"],[0.9,\"#4d9221\"],[1,\"#276419\"]]},\"xaxis\":{\"gridcolor\":\"white\",\"linecolor\":\"white\",\"ticks\":\"\",\"title\":{\"standoff\":15},\"zerolinecolor\":\"white\",\"automargin\":true,\"zerolinewidth\":2},\"yaxis\":{\"gridcolor\":\"white\",\"linecolor\":\"white\",\"ticks\":\"\",\"title\":{\"standoff\":15},\"zerolinecolor\":\"white\",\"automargin\":true,\"zerolinewidth\":2},\"scene\":{\"xaxis\":{\"backgroundcolor\":\"#E5ECF6\",\"gridcolor\":\"white\",\"linecolor\":\"white\",\"showbackground\":true,\"ticks\":\"\",\"zerolinecolor\":\"white\",\"gridwidth\":2},\"yaxis\":{\"backgroundcolor\":\"#E5ECF6\",\"gridcolor\":\"white\",\"linecolor\":\"white\",\"showbackground\":true,\"ticks\":\"\",\"zerolinecolor\":\"white\",\"gridwidth\":2},\"zaxis\":{\"backgroundcolor\":\"#E5ECF6\",\"gridcolor\":\"white\",\"linecolor\":\"white\",\"showbackground\":true,\"ticks\":\"\",\"zerolinecolor\":\"white\",\"gridwidth\":2}},\"shapedefaults\":{\"line\":{\"color\":\"#2a3f5f\"}},\"annotationdefaults\":{\"arrowcolor\":\"#2a3f5f\",\"arrowhead\":0,\"arrowwidth\":1},\"geo\":{\"bgcolor\":\"white\",\"landcolor\":\"#E5ECF6\",\"subunitcolor\":\"white\",\"showland\":true,\"showlakes\":true,\"lakecolor\":\"white\"},\"title\":{\"x\":0.05},\"mapbox\":{\"style\":\"light\"}}},\"xaxis\":{\"anchor\":\"y\",\"domain\":[0.0,1.0]},\"yaxis\":{\"anchor\":\"x\",\"domain\":[0.84375,1.0],\"title\":{\"text\":\"Adult Morality\"}},\"xaxis2\":{\"anchor\":\"y2\",\"domain\":[0.0,1.0]},\"yaxis2\":{\"anchor\":\"x2\",\"domain\":[0.5625,0.71875],\"title\":{\"text\":\"Child Morality\"}},\"xaxis3\":{\"anchor\":\"y3\",\"domain\":[0.0,1.0]},\"yaxis3\":{\"anchor\":\"x3\",\"domain\":[0.28125,0.4375],\"title\":{\"text\":\"Road Traffic Morality\"}},\"xaxis4\":{\"anchor\":\"y4\",\"domain\":[0.0,1.0],\"title\":{\"text\":\"Year\"}},\"yaxis4\":{\"anchor\":\"x4\",\"domain\":[0.0,0.15625],\"title\":{\"text\":\"Adult Morality\"}},\"annotations\":[{\"font\":{\"size\":16},\"showarrow\":false,\"text\":\"Comparison for Adult Morality Between Gender\",\"x\":0.5,\"xanchor\":\"center\",\"xref\":\"paper\",\"y\":1.0,\"yanchor\":\"bottom\",\"yref\":\"paper\"},{\"font\":{\"size\":16},\"showarrow\":false,\"text\":\"Comparison for Child Morality Between Gender\",\"x\":0.5,\"xanchor\":\"center\",\"xref\":\"paper\",\"y\":0.71875,\"yanchor\":\"bottom\",\"yref\":\"paper\"},{\"font\":{\"size\":16},\"showarrow\":false,\"text\":\"Comparison for Road Traffic Morality Between Gender\",\"x\":0.5,\"xanchor\":\"center\",\"xref\":\"paper\",\"y\":0.4375,\"yanchor\":\"bottom\",\"yref\":\"paper\"},{\"font\":{\"size\":16},\"showarrow\":false,\"text\":\"Trend of Adult Morality over Years\",\"x\":0.5,\"xanchor\":\"center\",\"xref\":\"paper\",\"y\":0.15625,\"yanchor\":\"bottom\",\"yref\":\"paper\"}],\"title\":{\"text\":\"Morality Comparison between Genders by Bar Charts and Adult Morality Rate using Line Chart\"},\"height\":1000,\"width\":1000},                        {\"responsive\": true}                    ).then(function(){\n",
       "                            \n",
       "var gd = document.getElementById('91fa4932-c974-44d9-b429-c4cc81d9fb48');\n",
       "var x = new MutationObserver(function (mutations, observer) {{\n",
       "        var display = window.getComputedStyle(gd).display;\n",
       "        if (!display || display === 'none') {{\n",
       "            console.log([gd, 'removed!']);\n",
       "            Plotly.purge(gd);\n",
       "            observer.disconnect();\n",
       "        }}\n",
       "}});\n",
       "\n",
       "// Listen for the removal of the full notebook cells\n",
       "var notebookContainer = gd.closest('#notebook-container');\n",
       "if (notebookContainer) {{\n",
       "    x.observe(notebookContainer, {childList: true});\n",
       "}}\n",
       "\n",
       "// Listen for the clearing of the current output cell\n",
       "var outputEl = gd.closest('.output');\n",
       "if (outputEl) {{\n",
       "    x.observe(outputEl, {childList: true});\n",
       "}}\n",
       "\n",
       "                        })                };                });            </script>        </div>"
      ]
     },
     "metadata": {},
     "output_type": "display_data"
    }
   ],
   "source": [
    "import plotly.graph_objs as go\n",
    "from plotly.subplots import make_subplots\n",
    "\n",
    "\n",
    "df_adult_male = df_adult[df_adult['Gender'] == 'Male'].groupby('Period')['NumericValue'].sum()\n",
    "df_adult_female = df_adult[df_adult['Gender'] == 'Female'].groupby('Period')['NumericValue'].sum()\n",
    "df_child_male = df_child[df_child['Gender'] == 'Male'].groupby('Period')['NumericValue'].sum()\n",
    "df_child_female = df_child[df_child['Gender'] == 'Female'].groupby('Period')['NumericValue'].sum()\n",
    "df_road_male = df_road[df_road['Gender'] == 'Male'].groupby('Period')['NumericValue'].sum()\n",
    "df_road_female = df_road[df_road['Gender'] == 'Female'].groupby('Period')['NumericValue'].sum()\n",
    "df_line = df_adult.groupby('Period')['NumericValue'].sum()\n",
    "\n",
    "colors = ['steelblue','firebrick']\n",
    "\n",
    "\n",
    "trace1 = go.Bar(\n",
    "    x=df_adult_female.index,\n",
    "    y=df_adult_female.values,\n",
    "    name='Female',\n",
    "    marker_color=colors[0]\n",
    ")\n",
    "\n",
    "trace2 = go.Bar(\n",
    "    x=df_adult_male.index,\n",
    "    y=df_adult_male.values,\n",
    "    name='Male',\n",
    "    marker_color=colors[1]\n",
    ")\n",
    "\n",
    "trace3 = go.Bar(\n",
    "    x=df_child_female.index,\n",
    "    y=df_child_female.values,\n",
    "    name='Female',\n",
    "    marker_color=colors[0]\n",
    ")\n",
    "\n",
    "trace4 = go.Bar(\n",
    "    x=df_child_male.index,\n",
    "    y=df_child_male.values,\n",
    "    name='Male',\n",
    "    marker_color=colors[1]\n",
    ")\n",
    "\n",
    "trace5 = go.Bar(\n",
    "    x=df_road_female.index,\n",
    "    y=df_road_female.values,\n",
    "    name='Female',\n",
    "    marker_color=colors[0]\n",
    ")\n",
    "\n",
    "trace6 = go.Bar(\n",
    "    x=df_road_male.index,\n",
    "    y=df_road_male.values,\n",
    "    name='Male',\n",
    "    marker_color=colors[1]\n",
    ")\n",
    "\n",
    "trace7 = go.Scatter(\n",
    "    x=df_line.index,\n",
    "    y=df_line.values,\n",
    "    name='Both Gender')\n",
    "\n",
    "\n",
    "fig_1 = make_subplots(rows=4, cols=1,\n",
    "                          subplot_titles=('Comparison for Adult Morality Between Gender', \n",
    "                                          'Comparison for Child Morality Between Gender',\n",
    "                                          'Comparison for Road Traffic Morality Between Gender',\n",
    "                                         'Trend of Adult Morality over Years'))\n",
    "\n",
    "\n",
    "fig_1.append_trace(trace1, 1,1)\n",
    "fig_1.append_trace(trace2, 1,1)\n",
    "fig_1.append_trace(trace3, 2, 1)\n",
    "fig_1.append_trace(trace4,2,1)\n",
    "fig_1.append_trace(trace5,3,1)\n",
    "fig_1.append_trace(trace6,3,1)\n",
    "fig_1.append_trace(trace7,4,1)\n",
    "\n",
    "\n",
    "# fig.update_xaxes(title_text=\"Year\", row=1, col=1)\n",
    "# fig.update_xaxes(title_text=\"Year\", row=2, col=1)\n",
    "# fig.update_xaxes(title_text=\"Year\", row=3, col=1)\n",
    "fig_1.update_xaxes(title_text=\"Year\", row=4, col=1)\n",
    "\n",
    "fig_1.update_yaxes(title_text=\"Adult Morality\", row=1, col=1)\n",
    "fig_1.update_yaxes(title_text=\"Child Morality\", row=2, col=1)\n",
    "fig_1.update_yaxes(title_text=\"Road Traffic Morality\", row=3, col=1)\n",
    "fig_1.update_yaxes(title_text=\"Adult Morality\", row=4, col=1)\n",
    "\n",
    "fig_1.update_layout(title = 'Morality Comparison between Genders by Bar Charts and Adult Morality Rate using Line Chart',\n",
    "                    height = 1000,width=1000)\n",
    "\n",
    "\n",
    "fig_1.show()"
   ]
  },
  {
   "cell_type": "markdown",
   "id": "e11a3c64",
   "metadata": {},
   "source": [
    "World maps for geo-analysis on Adult Morality rates over years. First graph is a comparison between 2000 and 2016. Second one is for all the maps over 2000 to 2016."
   ]
  },
  {
   "cell_type": "code",
   "execution_count": 9,
   "id": "8acd35fa",
   "metadata": {},
   "outputs": [
    {
     "data": {
      "application/vnd.plotly.v1+json": {
       "config": {
        "plotlyServerURL": "https://plot.ly"
       },
       "data": [
        {
         "colorbar": {
          "title": {
           "text": "Adult Morality"
          }
         },
         "colorscale": [
          [
           0,
           "rgb(0,0,255)"
          ],
          [
           1,
           "rgb(255,0,0)"
          ]
         ],
         "geo": "geo",
         "hoverinfo": "location+z",
         "locationmode": "country names",
         "locations": [
          "Bahrain",
          "Chile",
          "Finland",
          "Brunei Darussalam",
          "Albania",
          "United Arab Emirates",
          "Portugal",
          "China",
          "Saudi Arabia",
          "Tunisia",
          "Republic of Korea",
          "Lebanon",
          "United States of America",
          "Panama",
          "Cuba",
          "Slovenia",
          "The former Yugoslav Republic of Macedonia",
          "Syrian Arab Republic",
          "Czechia",
          "Bosnia and Herzegovina",
          "Barbados",
          "Georgia",
          "Croatia",
          "Jordan",
          "Uruguay",
          "Argentina",
          "Mexico",
          "Oman",
          "Viet Nam",
          "Montenegro",
          "Serbia",
          "Algeria",
          "Maldives",
          "Armenia",
          "Türkiye",
          "Malaysia",
          "Slovakia",
          "Libya",
          "Iraq",
          "Poland",
          "Iran (Islamic Republic of)",
          "Peru",
          "Antigua and Barbuda",
          "Tonga",
          "Morocco",
          "Ecuador",
          "Azerbaijan",
          "Bulgaria",
          "Egypt",
          "Cabo Verde",
          "Tajikistan",
          "Sri Lanka",
          "Colombia",
          "Paraguay",
          "Mauritius",
          "Bangladesh",
          "Venezuela (Bolivarian Republic of)",
          "Jamaica",
          "Romania",
          "Honduras",
          "Samoa",
          "Grenada",
          "Uzbekistan",
          "Brazil",
          "Vanuatu",
          "Micronesia (Federated States of)",
          "Saint Lucia",
          "Indonesia",
          "Seychelles",
          "Pakistan",
          "Democratic People's Republic of Korea",
          "Hungary",
          "Saint Vincent and the Grenadines",
          "Nicaragua",
          "Belize",
          "Lithuania",
          "Trinidad and Tobago",
          "Bahamas",
          "Thailand",
          "Dominican Republic",
          "Philippines",
          "Turkmenistan",
          "Estonia",
          "Latvia",
          "El Salvador",
          "Guatemala",
          "Suriname",
          "Fiji",
          "Kiribati",
          "India",
          "Republic of Moldova",
          "Sao Tome and Principe",
          "Kyrgyzstan",
          "Mauritania",
          "Solomon Islands",
          "Nepal",
          "Bolivia (Plurinational State of)",
          "Myanmar",
          "Belarus",
          "Senegal",
          "Yemen",
          "Ukraine",
          "Comoros",
          "Mongolia",
          "Papua New Guinea",
          "Timor-Leste",
          "Lao People's Democratic Republic",
          "Cambodia",
          "Benin",
          "Guyana",
          "Madagascar",
          "Sudan",
          "Kazakhstan",
          "Guinea-Bissau",
          "Niger",
          "Gambia",
          "Haiti",
          "Bhutan",
          "Ghana",
          "Russian Federation",
          "Liberia",
          "Afghanistan",
          "Gabon",
          "Togo",
          "Djibouti",
          "Guinea",
          "Mali",
          "Democratic Republic of the Congo",
          "Burkina Faso",
          "Somalia",
          "Equatorial Guinea",
          "South Africa",
          "Burundi",
          "South Sudan",
          "Angola",
          "Ethiopia",
          "Nigeria",
          "Cameroon",
          "Chad",
          "Congo",
          "Namibia",
          "Mozambique",
          "Rwanda",
          "Kenya",
          "United Republic of Tanzania",
          "Côte d’Ivoire",
          "Lesotho",
          "Central African Republic",
          "Sierra Leone",
          "Malawi",
          "Uganda",
          "Eswatini",
          "Zambia",
          "Eritrea",
          "Botswana",
          "Zimbabwe",
          "Malta",
          "Sweden",
          "Japan",
          "Qatar",
          "Italy",
          "Iceland",
          "Australia",
          "Switzerland",
          "Singapore",
          "Cyprus",
          "Israel",
          "Canada",
          "Greece",
          "Netherlands",
          "Norway",
          "Spain",
          "New Zealand",
          "United Kingdom of Great Britain and Northern Ireland",
          "Luxembourg",
          "Ireland",
          "Kuwait",
          "Austria",
          "Germany",
          "France",
          "Belgium",
          "Denmark",
          "Costa Rica"
         ],
         "text": [
          "Bahrain",
          "Chile",
          "Finland",
          "Brunei Darussalam",
          "Albania",
          "United Arab Emirates",
          "Portugal",
          "China",
          "Saudi Arabia",
          "Tunisia",
          "Republic of Korea",
          "Lebanon",
          "United States of America",
          "Panama",
          "Cuba",
          "Slovenia",
          "The former Yugoslav Republic of Macedonia",
          "Syrian Arab Republic",
          "Czechia",
          "Bosnia and Herzegovina",
          "Barbados",
          "Georgia",
          "Croatia",
          "Jordan",
          "Uruguay",
          "Argentina",
          "Mexico",
          "Oman",
          "Viet Nam",
          "Montenegro",
          "Serbia",
          "Algeria",
          "Maldives",
          "Armenia",
          "Türkiye",
          "Malaysia",
          "Slovakia",
          "Libya",
          "Iraq",
          "Poland",
          "Iran (Islamic Republic of)",
          "Peru",
          "Antigua and Barbuda",
          "Tonga",
          "Morocco",
          "Ecuador",
          "Azerbaijan",
          "Bulgaria",
          "Egypt",
          "Cabo Verde",
          "Tajikistan",
          "Sri Lanka",
          "Colombia",
          "Paraguay",
          "Mauritius",
          "Bangladesh",
          "Venezuela (Bolivarian Republic of)",
          "Jamaica",
          "Romania",
          "Honduras",
          "Samoa",
          "Grenada",
          "Uzbekistan",
          "Brazil",
          "Vanuatu",
          "Micronesia (Federated States of)",
          "Saint Lucia",
          "Indonesia",
          "Seychelles",
          "Pakistan",
          "Democratic People's Republic of Korea",
          "Hungary",
          "Saint Vincent and the Grenadines",
          "Nicaragua",
          "Belize",
          "Lithuania",
          "Trinidad and Tobago",
          "Bahamas",
          "Thailand",
          "Dominican Republic",
          "Philippines",
          "Turkmenistan",
          "Estonia",
          "Latvia",
          "El Salvador",
          "Guatemala",
          "Suriname",
          "Fiji",
          "Kiribati",
          "India",
          "Republic of Moldova",
          "Sao Tome and Principe",
          "Kyrgyzstan",
          "Mauritania",
          "Solomon Islands",
          "Nepal",
          "Bolivia (Plurinational State of)",
          "Myanmar",
          "Belarus",
          "Senegal",
          "Yemen",
          "Ukraine",
          "Comoros",
          "Mongolia",
          "Papua New Guinea",
          "Timor-Leste",
          "Lao People's Democratic Republic",
          "Cambodia",
          "Benin",
          "Guyana",
          "Madagascar",
          "Sudan",
          "Kazakhstan",
          "Guinea-Bissau",
          "Niger",
          "Gambia",
          "Haiti",
          "Bhutan",
          "Ghana",
          "Russian Federation",
          "Liberia",
          "Afghanistan",
          "Gabon",
          "Togo",
          "Djibouti",
          "Guinea",
          "Mali",
          "Democratic Republic of the Congo",
          "Burkina Faso",
          "Somalia",
          "Equatorial Guinea",
          "South Africa",
          "Burundi",
          "South Sudan",
          "Angola",
          "Ethiopia",
          "Nigeria",
          "Cameroon",
          "Chad",
          "Congo",
          "Namibia",
          "Mozambique",
          "Rwanda",
          "Kenya",
          "United Republic of Tanzania",
          "Côte d’Ivoire",
          "Lesotho",
          "Central African Republic",
          "Sierra Leone",
          "Malawi",
          "Uganda",
          "Eswatini",
          "Zambia",
          "Eritrea",
          "Botswana",
          "Zimbabwe",
          "Malta",
          "Sweden",
          "Japan",
          "Qatar",
          "Italy",
          "Iceland",
          "Australia",
          "Switzerland",
          "Singapore",
          "Cyprus",
          "Israel",
          "Canada",
          "Greece",
          "Netherlands",
          "Norway",
          "Spain",
          "New Zealand",
          "United Kingdom of Great Britain and Northern Ireland",
          "Luxembourg",
          "Ireland",
          "Kuwait",
          "Austria",
          "Germany",
          "France",
          "Belgium",
          "Denmark",
          "Costa Rica"
         ],
         "type": "choropleth",
         "z": [
          100.8,
          102.8,
          104.2,
          105.1,
          106.1,
          106.9,
          109.6,
          110.3,
          111.5,
          111.5,
          113.6,
          113.8,
          114.2,
          119.6,
          121.1,
          121.9,
          123.7,
          123.7,
          124.3,
          128.3,
          128.4,
          128.5,
          133,
          133.2,
          134.2,
          138.5,
          138.5,
          138.6,
          138.6,
          139.8,
          140.6,
          141.9,
          142.2,
          143.4,
          144.1,
          145.1,
          146.8,
          147.5,
          148.4,
          152.2,
          153.3,
          154.8,
          156.7,
          158.3,
          158.6,
          159.6,
          161,
          162.7,
          166.2,
          166.8,
          170.1,
          170.7,
          171.4,
          171.5,
          171.8,
          172.8,
          172.8,
          173.4,
          175,
          176.1,
          180.3,
          182.1,
          182.8,
          183.8,
          184.3,
          184.6,
          185.9,
          187.3,
          188.5,
          189.8,
          191.4,
          192.6,
          195.7,
          196.9,
          198.4,
          200,
          202,
          202.4,
          203.6,
          212.4,
          212.9,
          214.8,
          215.7,
          217.2,
          218,
          219.6,
          221.5,
          221.6,
          222,
          223.8,
          226.2,
          226.6,
          227.5,
          229,
          231.7,
          240.8,
          242.6,
          245.5,
          247.1,
          250.4,
          251.5,
          257.5,
          272.1,
          273.1,
          275.6,
          275.7,
          277.6,
          279.7,
          281.8,
          282.4,
          282.8,
          283.9,
          287.4,
          291.2,
          292.7,
          303.7,
          305.8,
          308.7,
          309.9,
          310.7,
          314.8,
          316,
          316.9,
          321.6,
          322.2,
          328.8,
          335,
          341.7,
          341.8,
          357.7,
          359.4,
          361.8,
          370,
          379.5,
          383.6,
          406.3,
          407.5,
          412.3,
          412.9,
          416.9,
          428,
          428.3,
          450.9,
          458.1,
          458.4,
          460.7,
          507,
          531.5,
          533.5,
          535.2,
          536.2,
          539.9,
          594.2,
          600.5,
          601.5,
          675.3,
          69.51,
          71.99,
          72.14,
          73.9,
          75.39,
          76.07,
          76.93,
          77.55,
          79.08,
          79.54,
          80.02,
          80.77,
          82.35,
          83.48,
          84.35,
          84.5,
          86.12,
          87.98,
          89.95,
          92.96,
          93.57,
          93.72,
          95.18,
          99.17,
          99.35,
          99.82,
          99.88
         ],
         "zmax": 483.5,
         "zmin": 69.51
        },
        {
         "colorbar": {
          "title": {
           "text": "Adult Morality"
          }
         },
         "colorscale": [
          [
           0,
           "rgb(0,0,255)"
          ],
          [
           1,
           "rgb(255,0,0)"
          ]
         ],
         "geo": "geo2",
         "hoverinfo": "location+z",
         "locationmode": "country names",
         "locations": [
          "Barbados",
          "Serbia",
          "Türkiye",
          "Slovakia",
          "Samoa",
          "Jordan",
          "Poland",
          "Panama",
          "Argentina",
          "Uruguay",
          "United States of America",
          "Ecuador",
          "Armenia",
          "Azerbaijan",
          "Estonia",
          "Antigua and Barbuda",
          "Cabo Verde",
          "Malaysia",
          "Tajikistan",
          "Peru",
          "Viet Nam",
          "Hungary",
          "Mexico",
          "Vanuatu",
          "Bangladesh",
          "Uzbekistan",
          "Jamaica",
          "Sri Lanka",
          "Democratic People's Republic of Korea",
          "Tonga",
          "Romania",
          "Bulgaria",
          "Colombia",
          "Grenada",
          "Brazil",
          "Honduras",
          "Mauritius",
          "Paraguay",
          "Solomon Islands",
          "Nicaragua",
          "Saint Lucia",
          "Thailand",
          "Timor-Leste",
          "Libya",
          "Nepal",
          "Latvia",
          "Lithuania",
          "Venezuela (Bolivarian Republic of)",
          "Pakistan",
          "Bahamas",
          "Georgia",
          "Dominican Republic",
          "Belarus",
          "Guatemala",
          "Kyrgyzstan",
          "Seychelles",
          "Micronesia (Federated States of)",
          "Egypt",
          "Republic of Moldova",
          "Saint Vincent and the Grenadines",
          "Cambodia",
          "Trinidad and Tobago",
          "Iraq",
          "Indonesia",
          "El Salvador",
          "India",
          "Belize",
          "Ukraine",
          "Suriname",
          "Kazakhstan",
          "Bolivia (Plurinational State of)",
          "Senegal",
          "Fiji",
          "Sao Tome and Principe",
          "Turkmenistan",
          "Lao People's Democratic Republic",
          "Philippines",
          "Myanmar",
          "Kiribati",
          "Rwanda",
          "Mauritania",
          "Russian Federation",
          "Bhutan",
          "Mongolia",
          "Madagascar",
          "Kenya",
          "Ethiopia",
          "Gabon",
          "Yemen",
          "Sudan",
          "Papua New Guinea",
          "Comoros",
          "Liberia",
          "Angola",
          "Ghana",
          "Benin",
          "Haiti",
          "Djibouti",
          "Afghanistan",
          "Botswana",
          "Niger",
          "Eritrea",
          "Burkina Faso",
          "Malawi",
          "Democratic Republic of the Congo",
          "Congo",
          "United Republic of Tanzania",
          "Guinea",
          "Gambia",
          "Guyana",
          "Togo",
          "Guinea-Bissau",
          "Mali",
          "Zambia",
          "Uganda",
          "Burundi",
          "Namibia",
          "Syrian Arab Republic",
          "South Africa",
          "Equatorial Guinea",
          "Somalia",
          "South Sudan",
          "Zimbabwe",
          "Mozambique",
          "Cameroon",
          "Nigeria",
          "Chad",
          "Sierra Leone",
          "Eswatini",
          "Côte d’Ivoire",
          "Central African Republic",
          "Lesotho",
          "Switzerland",
          "Japan",
          "Singapore",
          "Sweden",
          "Maldives",
          "Italy",
          "Norway",
          "Iceland",
          "Malta",
          "Cyprus",
          "Luxembourg",
          "Spain",
          "Bahrain",
          "Israel",
          "Netherlands",
          "Australia",
          "Republic of Korea",
          "Qatar",
          "Austria",
          "Ireland",
          "Canada",
          "Denmark",
          "New Zealand",
          "Greece",
          "United Kingdom of Great Britain and Northern Ireland",
          "Germany",
          "Morocco",
          "Finland",
          "France",
          "Belgium",
          "Slovenia",
          "United Arab Emirates",
          "Portugal",
          "Kuwait",
          "Iran (Islamic Republic of)",
          "China",
          "Czechia",
          "Chile",
          "Croatia",
          "Saudi Arabia",
          "Tunisia",
          "Bosnia and Herzegovina",
          "Cuba",
          "Algeria",
          "Lebanon",
          "The former Yugoslav Republic of Macedonia",
          "Oman",
          "Albania",
          "Costa Rica",
          "Brunei Darussalam",
          "Montenegro"
         ],
         "text": [
          "Barbados",
          "Serbia",
          "Türkiye",
          "Slovakia",
          "Samoa",
          "Jordan",
          "Poland",
          "Panama",
          "Argentina",
          "Uruguay",
          "United States of America",
          "Ecuador",
          "Armenia",
          "Azerbaijan",
          "Estonia",
          "Antigua and Barbuda",
          "Cabo Verde",
          "Malaysia",
          "Tajikistan",
          "Peru",
          "Viet Nam",
          "Hungary",
          "Mexico",
          "Vanuatu",
          "Bangladesh",
          "Uzbekistan",
          "Jamaica",
          "Sri Lanka",
          "Democratic People's Republic of Korea",
          "Tonga",
          "Romania",
          "Bulgaria",
          "Colombia",
          "Grenada",
          "Brazil",
          "Honduras",
          "Mauritius",
          "Paraguay",
          "Solomon Islands",
          "Nicaragua",
          "Saint Lucia",
          "Thailand",
          "Timor-Leste",
          "Libya",
          "Nepal",
          "Latvia",
          "Lithuania",
          "Venezuela (Bolivarian Republic of)",
          "Pakistan",
          "Bahamas",
          "Georgia",
          "Dominican Republic",
          "Belarus",
          "Guatemala",
          "Kyrgyzstan",
          "Seychelles",
          "Micronesia (Federated States of)",
          "Egypt",
          "Republic of Moldova",
          "Saint Vincent and the Grenadines",
          "Cambodia",
          "Trinidad and Tobago",
          "Iraq",
          "Indonesia",
          "El Salvador",
          "India",
          "Belize",
          "Ukraine",
          "Suriname",
          "Kazakhstan",
          "Bolivia (Plurinational State of)",
          "Senegal",
          "Fiji",
          "Sao Tome and Principe",
          "Turkmenistan",
          "Lao People's Democratic Republic",
          "Philippines",
          "Myanmar",
          "Kiribati",
          "Rwanda",
          "Mauritania",
          "Russian Federation",
          "Bhutan",
          "Mongolia",
          "Madagascar",
          "Kenya",
          "Ethiopia",
          "Gabon",
          "Yemen",
          "Sudan",
          "Papua New Guinea",
          "Comoros",
          "Liberia",
          "Angola",
          "Ghana",
          "Benin",
          "Haiti",
          "Djibouti",
          "Afghanistan",
          "Botswana",
          "Niger",
          "Eritrea",
          "Burkina Faso",
          "Malawi",
          "Democratic Republic of the Congo",
          "Congo",
          "United Republic of Tanzania",
          "Guinea",
          "Gambia",
          "Guyana",
          "Togo",
          "Guinea-Bissau",
          "Mali",
          "Zambia",
          "Uganda",
          "Burundi",
          "Namibia",
          "Syrian Arab Republic",
          "South Africa",
          "Equatorial Guinea",
          "Somalia",
          "South Sudan",
          "Zimbabwe",
          "Mozambique",
          "Cameroon",
          "Nigeria",
          "Chad",
          "Sierra Leone",
          "Eswatini",
          "Côte d’Ivoire",
          "Central African Republic",
          "Lesotho",
          "Switzerland",
          "Japan",
          "Singapore",
          "Sweden",
          "Maldives",
          "Italy",
          "Norway",
          "Iceland",
          "Malta",
          "Cyprus",
          "Luxembourg",
          "Spain",
          "Bahrain",
          "Israel",
          "Netherlands",
          "Australia",
          "Republic of Korea",
          "Qatar",
          "Austria",
          "Ireland",
          "Canada",
          "Denmark",
          "New Zealand",
          "Greece",
          "United Kingdom of Great Britain and Northern Ireland",
          "Germany",
          "Morocco",
          "Finland",
          "France",
          "Belgium",
          "Slovenia",
          "United Arab Emirates",
          "Portugal",
          "Kuwait",
          "Iran (Islamic Republic of)",
          "China",
          "Czechia",
          "Chile",
          "Croatia",
          "Saudi Arabia",
          "Tunisia",
          "Bosnia and Herzegovina",
          "Cuba",
          "Algeria",
          "Lebanon",
          "The former Yugoslav Republic of Macedonia",
          "Oman",
          "Albania",
          "Costa Rica",
          "Brunei Darussalam",
          "Montenegro"
         ],
         "type": "choropleth",
         "z": [
          100.4,
          102.5,
          104,
          104.1,
          110.4,
          110.5,
          110.6,
          111,
          111.4,
          113.9,
          114.1,
          114.2,
          116.4,
          117.6,
          118.6,
          119.9,
          121.8,
          122.9,
          123.3,
          124.1,
          124.8,
          125.8,
          126.6,
          129.4,
          130.2,
          130.7,
          131.4,
          131.4,
          132.2,
          133,
          134.8,
          135.3,
          137.1,
          140.2,
          142.8,
          145.1,
          145.4,
          145.5,
          145.6,
          145.9,
          147.2,
          147.4,
          149.8,
          150.3,
          150.6,
          153.8,
          154.5,
          156.7,
          159.1,
          159.2,
          159.9,
          160.1,
          160.6,
          161.7,
          162.3,
          163.1,
          163.8,
          164.6,
          166.8,
          168.7,
          170.5,
          171.8,
          173.5,
          175.6,
          176.8,
          178,
          179.3,
          180.1,
          180.5,
          181.5,
          182.2,
          185.2,
          186.2,
          190.6,
          191,
          192.8,
          193.9,
          195,
          197,
          198.3,
          202.4,
          202.7,
          207,
          210.7,
          215.5,
          219.3,
          219.5,
          220.7,
          221.3,
          223.9,
          224.3,
          225,
          230.3,
          238,
          241.3,
          242.4,
          243.5,
          244.5,
          245.2,
          249.2,
          250.2,
          252.1,
          254.6,
          254.7,
          256.1,
          260.5,
          260.7,
          262.1,
          262.2,
          263.7,
          265.3,
          268.9,
          269.6,
          286.3,
          287.9,
          290.2,
          295.9,
          301.1,
          301.3,
          304.8,
          316.1,
          321.4,
          334,
          336.4,
          341.4,
          352.5,
          359.7,
          388.8,
          393.3,
          397.8,
          411.9,
          483.5,
          49.2,
          50.83,
          51.36,
          52.43,
          52.53,
          53.53,
          54.66,
          55.01,
          55.03,
          55.41,
          55.5,
          55.79,
          56.81,
          57.98,
          58.63,
          60.73,
          60.81,
          61.76,
          61.89,
          62.39,
          62.83,
          65.04,
          66.06,
          66.42,
          66.68,
          68.69,
          69.06,
          70.18,
          70.98,
          71.56,
          72.04,
          73.95,
          75.56,
          79.22,
          80.13,
          80.36,
          81.13,
          87.43,
          87.51,
          89.13,
          91,
          92.03,
          92.46,
          95.03,
          95.62,
          95.83,
          96.25,
          96.41,
          96.74,
          97.7,
          99.06
         ],
         "zmax": 483.5,
         "zmin": 69.51
        }
       ],
       "layout": {
        "geo": {
         "domain": {
          "x": [
           0,
           0.45
          ],
          "y": [
           0,
           1
          ]
         },
         "fitbounds": "locations",
         "visible": false
        },
        "geo2": {
         "domain": {
          "x": [
           0.55,
           1
          ],
          "y": [
           0,
           1
          ]
         },
         "fitbounds": "locations",
         "visible": false
        },
        "template": {
         "data": {
          "bar": [
           {
            "error_x": {
             "color": "#2a3f5f"
            },
            "error_y": {
             "color": "#2a3f5f"
            },
            "marker": {
             "line": {
              "color": "#E5ECF6",
              "width": 0.5
             },
             "pattern": {
              "fillmode": "overlay",
              "size": 10,
              "solidity": 0.2
             }
            },
            "type": "bar"
           }
          ],
          "barpolar": [
           {
            "marker": {
             "line": {
              "color": "#E5ECF6",
              "width": 0.5
             },
             "pattern": {
              "fillmode": "overlay",
              "size": 10,
              "solidity": 0.2
             }
            },
            "type": "barpolar"
           }
          ],
          "carpet": [
           {
            "aaxis": {
             "endlinecolor": "#2a3f5f",
             "gridcolor": "white",
             "linecolor": "white",
             "minorgridcolor": "white",
             "startlinecolor": "#2a3f5f"
            },
            "baxis": {
             "endlinecolor": "#2a3f5f",
             "gridcolor": "white",
             "linecolor": "white",
             "minorgridcolor": "white",
             "startlinecolor": "#2a3f5f"
            },
            "type": "carpet"
           }
          ],
          "choropleth": [
           {
            "colorbar": {
             "outlinewidth": 0,
             "ticks": ""
            },
            "type": "choropleth"
           }
          ],
          "contour": [
           {
            "colorbar": {
             "outlinewidth": 0,
             "ticks": ""
            },
            "colorscale": [
             [
              0,
              "#0d0887"
             ],
             [
              0.1111111111111111,
              "#46039f"
             ],
             [
              0.2222222222222222,
              "#7201a8"
             ],
             [
              0.3333333333333333,
              "#9c179e"
             ],
             [
              0.4444444444444444,
              "#bd3786"
             ],
             [
              0.5555555555555556,
              "#d8576b"
             ],
             [
              0.6666666666666666,
              "#ed7953"
             ],
             [
              0.7777777777777778,
              "#fb9f3a"
             ],
             [
              0.8888888888888888,
              "#fdca26"
             ],
             [
              1,
              "#f0f921"
             ]
            ],
            "type": "contour"
           }
          ],
          "contourcarpet": [
           {
            "colorbar": {
             "outlinewidth": 0,
             "ticks": ""
            },
            "type": "contourcarpet"
           }
          ],
          "heatmap": [
           {
            "colorbar": {
             "outlinewidth": 0,
             "ticks": ""
            },
            "colorscale": [
             [
              0,
              "#0d0887"
             ],
             [
              0.1111111111111111,
              "#46039f"
             ],
             [
              0.2222222222222222,
              "#7201a8"
             ],
             [
              0.3333333333333333,
              "#9c179e"
             ],
             [
              0.4444444444444444,
              "#bd3786"
             ],
             [
              0.5555555555555556,
              "#d8576b"
             ],
             [
              0.6666666666666666,
              "#ed7953"
             ],
             [
              0.7777777777777778,
              "#fb9f3a"
             ],
             [
              0.8888888888888888,
              "#fdca26"
             ],
             [
              1,
              "#f0f921"
             ]
            ],
            "type": "heatmap"
           }
          ],
          "heatmapgl": [
           {
            "colorbar": {
             "outlinewidth": 0,
             "ticks": ""
            },
            "colorscale": [
             [
              0,
              "#0d0887"
             ],
             [
              0.1111111111111111,
              "#46039f"
             ],
             [
              0.2222222222222222,
              "#7201a8"
             ],
             [
              0.3333333333333333,
              "#9c179e"
             ],
             [
              0.4444444444444444,
              "#bd3786"
             ],
             [
              0.5555555555555556,
              "#d8576b"
             ],
             [
              0.6666666666666666,
              "#ed7953"
             ],
             [
              0.7777777777777778,
              "#fb9f3a"
             ],
             [
              0.8888888888888888,
              "#fdca26"
             ],
             [
              1,
              "#f0f921"
             ]
            ],
            "type": "heatmapgl"
           }
          ],
          "histogram": [
           {
            "marker": {
             "pattern": {
              "fillmode": "overlay",
              "size": 10,
              "solidity": 0.2
             }
            },
            "type": "histogram"
           }
          ],
          "histogram2d": [
           {
            "colorbar": {
             "outlinewidth": 0,
             "ticks": ""
            },
            "colorscale": [
             [
              0,
              "#0d0887"
             ],
             [
              0.1111111111111111,
              "#46039f"
             ],
             [
              0.2222222222222222,
              "#7201a8"
             ],
             [
              0.3333333333333333,
              "#9c179e"
             ],
             [
              0.4444444444444444,
              "#bd3786"
             ],
             [
              0.5555555555555556,
              "#d8576b"
             ],
             [
              0.6666666666666666,
              "#ed7953"
             ],
             [
              0.7777777777777778,
              "#fb9f3a"
             ],
             [
              0.8888888888888888,
              "#fdca26"
             ],
             [
              1,
              "#f0f921"
             ]
            ],
            "type": "histogram2d"
           }
          ],
          "histogram2dcontour": [
           {
            "colorbar": {
             "outlinewidth": 0,
             "ticks": ""
            },
            "colorscale": [
             [
              0,
              "#0d0887"
             ],
             [
              0.1111111111111111,
              "#46039f"
             ],
             [
              0.2222222222222222,
              "#7201a8"
             ],
             [
              0.3333333333333333,
              "#9c179e"
             ],
             [
              0.4444444444444444,
              "#bd3786"
             ],
             [
              0.5555555555555556,
              "#d8576b"
             ],
             [
              0.6666666666666666,
              "#ed7953"
             ],
             [
              0.7777777777777778,
              "#fb9f3a"
             ],
             [
              0.8888888888888888,
              "#fdca26"
             ],
             [
              1,
              "#f0f921"
             ]
            ],
            "type": "histogram2dcontour"
           }
          ],
          "mesh3d": [
           {
            "colorbar": {
             "outlinewidth": 0,
             "ticks": ""
            },
            "type": "mesh3d"
           }
          ],
          "parcoords": [
           {
            "line": {
             "colorbar": {
              "outlinewidth": 0,
              "ticks": ""
             }
            },
            "type": "parcoords"
           }
          ],
          "pie": [
           {
            "automargin": true,
            "type": "pie"
           }
          ],
          "scatter": [
           {
            "fillpattern": {
             "fillmode": "overlay",
             "size": 10,
             "solidity": 0.2
            },
            "type": "scatter"
           }
          ],
          "scatter3d": [
           {
            "line": {
             "colorbar": {
              "outlinewidth": 0,
              "ticks": ""
             }
            },
            "marker": {
             "colorbar": {
              "outlinewidth": 0,
              "ticks": ""
             }
            },
            "type": "scatter3d"
           }
          ],
          "scattercarpet": [
           {
            "marker": {
             "colorbar": {
              "outlinewidth": 0,
              "ticks": ""
             }
            },
            "type": "scattercarpet"
           }
          ],
          "scattergeo": [
           {
            "marker": {
             "colorbar": {
              "outlinewidth": 0,
              "ticks": ""
             }
            },
            "type": "scattergeo"
           }
          ],
          "scattergl": [
           {
            "marker": {
             "colorbar": {
              "outlinewidth": 0,
              "ticks": ""
             }
            },
            "type": "scattergl"
           }
          ],
          "scattermapbox": [
           {
            "marker": {
             "colorbar": {
              "outlinewidth": 0,
              "ticks": ""
             }
            },
            "type": "scattermapbox"
           }
          ],
          "scatterpolar": [
           {
            "marker": {
             "colorbar": {
              "outlinewidth": 0,
              "ticks": ""
             }
            },
            "type": "scatterpolar"
           }
          ],
          "scatterpolargl": [
           {
            "marker": {
             "colorbar": {
              "outlinewidth": 0,
              "ticks": ""
             }
            },
            "type": "scatterpolargl"
           }
          ],
          "scatterternary": [
           {
            "marker": {
             "colorbar": {
              "outlinewidth": 0,
              "ticks": ""
             }
            },
            "type": "scatterternary"
           }
          ],
          "surface": [
           {
            "colorbar": {
             "outlinewidth": 0,
             "ticks": ""
            },
            "colorscale": [
             [
              0,
              "#0d0887"
             ],
             [
              0.1111111111111111,
              "#46039f"
             ],
             [
              0.2222222222222222,
              "#7201a8"
             ],
             [
              0.3333333333333333,
              "#9c179e"
             ],
             [
              0.4444444444444444,
              "#bd3786"
             ],
             [
              0.5555555555555556,
              "#d8576b"
             ],
             [
              0.6666666666666666,
              "#ed7953"
             ],
             [
              0.7777777777777778,
              "#fb9f3a"
             ],
             [
              0.8888888888888888,
              "#fdca26"
             ],
             [
              1,
              "#f0f921"
             ]
            ],
            "type": "surface"
           }
          ],
          "table": [
           {
            "cells": {
             "fill": {
              "color": "#EBF0F8"
             },
             "line": {
              "color": "white"
             }
            },
            "header": {
             "fill": {
              "color": "#C8D4E3"
             },
             "line": {
              "color": "white"
             }
            },
            "type": "table"
           }
          ]
         },
         "layout": {
          "annotationdefaults": {
           "arrowcolor": "#2a3f5f",
           "arrowhead": 0,
           "arrowwidth": 1
          },
          "autotypenumbers": "strict",
          "coloraxis": {
           "colorbar": {
            "outlinewidth": 0,
            "ticks": ""
           }
          },
          "colorscale": {
           "diverging": [
            [
             0,
             "#8e0152"
            ],
            [
             0.1,
             "#c51b7d"
            ],
            [
             0.2,
             "#de77ae"
            ],
            [
             0.3,
             "#f1b6da"
            ],
            [
             0.4,
             "#fde0ef"
            ],
            [
             0.5,
             "#f7f7f7"
            ],
            [
             0.6,
             "#e6f5d0"
            ],
            [
             0.7,
             "#b8e186"
            ],
            [
             0.8,
             "#7fbc41"
            ],
            [
             0.9,
             "#4d9221"
            ],
            [
             1,
             "#276419"
            ]
           ],
           "sequential": [
            [
             0,
             "#0d0887"
            ],
            [
             0.1111111111111111,
             "#46039f"
            ],
            [
             0.2222222222222222,
             "#7201a8"
            ],
            [
             0.3333333333333333,
             "#9c179e"
            ],
            [
             0.4444444444444444,
             "#bd3786"
            ],
            [
             0.5555555555555556,
             "#d8576b"
            ],
            [
             0.6666666666666666,
             "#ed7953"
            ],
            [
             0.7777777777777778,
             "#fb9f3a"
            ],
            [
             0.8888888888888888,
             "#fdca26"
            ],
            [
             1,
             "#f0f921"
            ]
           ],
           "sequentialminus": [
            [
             0,
             "#0d0887"
            ],
            [
             0.1111111111111111,
             "#46039f"
            ],
            [
             0.2222222222222222,
             "#7201a8"
            ],
            [
             0.3333333333333333,
             "#9c179e"
            ],
            [
             0.4444444444444444,
             "#bd3786"
            ],
            [
             0.5555555555555556,
             "#d8576b"
            ],
            [
             0.6666666666666666,
             "#ed7953"
            ],
            [
             0.7777777777777778,
             "#fb9f3a"
            ],
            [
             0.8888888888888888,
             "#fdca26"
            ],
            [
             1,
             "#f0f921"
            ]
           ]
          },
          "colorway": [
           "#636efa",
           "#EF553B",
           "#00cc96",
           "#ab63fa",
           "#FFA15A",
           "#19d3f3",
           "#FF6692",
           "#B6E880",
           "#FF97FF",
           "#FECB52"
          ],
          "font": {
           "color": "#2a3f5f"
          },
          "geo": {
           "bgcolor": "white",
           "lakecolor": "white",
           "landcolor": "#E5ECF6",
           "showlakes": true,
           "showland": true,
           "subunitcolor": "white"
          },
          "hoverlabel": {
           "align": "left"
          },
          "hovermode": "closest",
          "mapbox": {
           "style": "light"
          },
          "paper_bgcolor": "white",
          "plot_bgcolor": "#E5ECF6",
          "polar": {
           "angularaxis": {
            "gridcolor": "white",
            "linecolor": "white",
            "ticks": ""
           },
           "bgcolor": "#E5ECF6",
           "radialaxis": {
            "gridcolor": "white",
            "linecolor": "white",
            "ticks": ""
           }
          },
          "scene": {
           "xaxis": {
            "backgroundcolor": "#E5ECF6",
            "gridcolor": "white",
            "gridwidth": 2,
            "linecolor": "white",
            "showbackground": true,
            "ticks": "",
            "zerolinecolor": "white"
           },
           "yaxis": {
            "backgroundcolor": "#E5ECF6",
            "gridcolor": "white",
            "gridwidth": 2,
            "linecolor": "white",
            "showbackground": true,
            "ticks": "",
            "zerolinecolor": "white"
           },
           "zaxis": {
            "backgroundcolor": "#E5ECF6",
            "gridcolor": "white",
            "gridwidth": 2,
            "linecolor": "white",
            "showbackground": true,
            "ticks": "",
            "zerolinecolor": "white"
           }
          },
          "shapedefaults": {
           "line": {
            "color": "#2a3f5f"
           }
          },
          "ternary": {
           "aaxis": {
            "gridcolor": "white",
            "linecolor": "white",
            "ticks": ""
           },
           "baxis": {
            "gridcolor": "white",
            "linecolor": "white",
            "ticks": ""
           },
           "bgcolor": "#E5ECF6",
           "caxis": {
            "gridcolor": "white",
            "linecolor": "white",
            "ticks": ""
           }
          },
          "title": {
           "x": 0.05
          },
          "xaxis": {
           "automargin": true,
           "gridcolor": "white",
           "linecolor": "white",
           "ticks": "",
           "title": {
            "standoff": 15
           },
           "zerolinecolor": "white",
           "zerolinewidth": 2
          },
          "yaxis": {
           "automargin": true,
           "gridcolor": "white",
           "linecolor": "white",
           "ticks": "",
           "title": {
            "standoff": 15
           },
           "zerolinecolor": "white",
           "zerolinewidth": 2
          }
         }
        },
        "title": {
         "text": "Fig.2. Geographic Analysis on World Adult Morality 2000 vs 2016",
         "x": 0.5
        }
       }
      },
      "text/html": [
       "<div>                            <div id=\"b3a5221b-f9af-4d7e-af77-1cf71ea70d03\" class=\"plotly-graph-div\" style=\"height:525px; width:100%;\"></div>            <script type=\"text/javascript\">                require([\"plotly\"], function(Plotly) {                    window.PLOTLYENV=window.PLOTLYENV || {};                                    if (document.getElementById(\"b3a5221b-f9af-4d7e-af77-1cf71ea70d03\")) {                    Plotly.newPlot(                        \"b3a5221b-f9af-4d7e-af77-1cf71ea70d03\",                        [{\"colorbar\":{\"title\":{\"text\":\"Adult Morality\"}},\"colorscale\":[[0.0,\"rgb(0,0,255)\"],[1.0,\"rgb(255,0,0)\"]],\"hoverinfo\":\"location+z\",\"locationmode\":\"country names\",\"locations\":[\"Bahrain\",\"Chile\",\"Finland\",\"Brunei Darussalam\",\"Albania\",\"United Arab Emirates\",\"Portugal\",\"China\",\"Saudi Arabia\",\"Tunisia\",\"Republic of Korea\",\"Lebanon\",\"United States of America\",\"Panama\",\"Cuba\",\"Slovenia\",\"The former Yugoslav Republic of Macedonia\",\"Syrian Arab Republic\",\"Czechia\",\"Bosnia and Herzegovina\",\"Barbados\",\"Georgia\",\"Croatia\",\"Jordan\",\"Uruguay\",\"Argentina\",\"Mexico\",\"Oman\",\"Viet Nam\",\"Montenegro\",\"Serbia\",\"Algeria\",\"Maldives\",\"Armenia\",\"T\\u00fcrkiye\",\"Malaysia\",\"Slovakia\",\"Libya\",\"Iraq\",\"Poland\",\"Iran (Islamic Republic of)\",\"Peru\",\"Antigua and Barbuda\",\"Tonga\",\"Morocco\",\"Ecuador\",\"Azerbaijan\",\"Bulgaria\",\"Egypt\",\"Cabo Verde\",\"Tajikistan\",\"Sri Lanka\",\"Colombia\",\"Paraguay\",\"Mauritius\",\"Bangladesh\",\"Venezuela (Bolivarian Republic of)\",\"Jamaica\",\"Romania\",\"Honduras\",\"Samoa\",\"Grenada\",\"Uzbekistan\",\"Brazil\",\"Vanuatu\",\"Micronesia (Federated States of)\",\"Saint Lucia\",\"Indonesia\",\"Seychelles\",\"Pakistan\",\"Democratic People's Republic of Korea\",\"Hungary\",\"Saint Vincent and the Grenadines\",\"Nicaragua\",\"Belize\",\"Lithuania\",\"Trinidad and Tobago\",\"Bahamas\",\"Thailand\",\"Dominican Republic\",\"Philippines\",\"Turkmenistan\",\"Estonia\",\"Latvia\",\"El Salvador\",\"Guatemala\",\"Suriname\",\"Fiji\",\"Kiribati\",\"India\",\"Republic of Moldova\",\"Sao Tome and Principe\",\"Kyrgyzstan\",\"Mauritania\",\"Solomon Islands\",\"Nepal\",\"Bolivia (Plurinational State of)\",\"Myanmar\",\"Belarus\",\"Senegal\",\"Yemen\",\"Ukraine\",\"Comoros\",\"Mongolia\",\"Papua New Guinea\",\"Timor-Leste\",\"Lao People's Democratic Republic\",\"Cambodia\",\"Benin\",\"Guyana\",\"Madagascar\",\"Sudan\",\"Kazakhstan\",\"Guinea-Bissau\",\"Niger\",\"Gambia\",\"Haiti\",\"Bhutan\",\"Ghana\",\"Russian Federation\",\"Liberia\",\"Afghanistan\",\"Gabon\",\"Togo\",\"Djibouti\",\"Guinea\",\"Mali\",\"Democratic Republic of the Congo\",\"Burkina Faso\",\"Somalia\",\"Equatorial Guinea\",\"South Africa\",\"Burundi\",\"South Sudan\",\"Angola\",\"Ethiopia\",\"Nigeria\",\"Cameroon\",\"Chad\",\"Congo\",\"Namibia\",\"Mozambique\",\"Rwanda\",\"Kenya\",\"United Republic of Tanzania\",\"C\\u00f4te d\\u2019Ivoire\",\"Lesotho\",\"Central African Republic\",\"Sierra Leone\",\"Malawi\",\"Uganda\",\"Eswatini\",\"Zambia\",\"Eritrea\",\"Botswana\",\"Zimbabwe\",\"Malta\",\"Sweden\",\"Japan\",\"Qatar\",\"Italy\",\"Iceland\",\"Australia\",\"Switzerland\",\"Singapore\",\"Cyprus\",\"Israel\",\"Canada\",\"Greece\",\"Netherlands\",\"Norway\",\"Spain\",\"New Zealand\",\"United Kingdom of Great Britain and Northern Ireland\",\"Luxembourg\",\"Ireland\",\"Kuwait\",\"Austria\",\"Germany\",\"France\",\"Belgium\",\"Denmark\",\"Costa Rica\"],\"text\":[\"Bahrain\",\"Chile\",\"Finland\",\"Brunei Darussalam\",\"Albania\",\"United Arab Emirates\",\"Portugal\",\"China\",\"Saudi Arabia\",\"Tunisia\",\"Republic of Korea\",\"Lebanon\",\"United States of America\",\"Panama\",\"Cuba\",\"Slovenia\",\"The former Yugoslav Republic of Macedonia\",\"Syrian Arab Republic\",\"Czechia\",\"Bosnia and Herzegovina\",\"Barbados\",\"Georgia\",\"Croatia\",\"Jordan\",\"Uruguay\",\"Argentina\",\"Mexico\",\"Oman\",\"Viet Nam\",\"Montenegro\",\"Serbia\",\"Algeria\",\"Maldives\",\"Armenia\",\"T\\u00fcrkiye\",\"Malaysia\",\"Slovakia\",\"Libya\",\"Iraq\",\"Poland\",\"Iran (Islamic Republic of)\",\"Peru\",\"Antigua and Barbuda\",\"Tonga\",\"Morocco\",\"Ecuador\",\"Azerbaijan\",\"Bulgaria\",\"Egypt\",\"Cabo Verde\",\"Tajikistan\",\"Sri Lanka\",\"Colombia\",\"Paraguay\",\"Mauritius\",\"Bangladesh\",\"Venezuela (Bolivarian Republic of)\",\"Jamaica\",\"Romania\",\"Honduras\",\"Samoa\",\"Grenada\",\"Uzbekistan\",\"Brazil\",\"Vanuatu\",\"Micronesia (Federated States of)\",\"Saint Lucia\",\"Indonesia\",\"Seychelles\",\"Pakistan\",\"Democratic People's Republic of Korea\",\"Hungary\",\"Saint Vincent and the Grenadines\",\"Nicaragua\",\"Belize\",\"Lithuania\",\"Trinidad and Tobago\",\"Bahamas\",\"Thailand\",\"Dominican Republic\",\"Philippines\",\"Turkmenistan\",\"Estonia\",\"Latvia\",\"El Salvador\",\"Guatemala\",\"Suriname\",\"Fiji\",\"Kiribati\",\"India\",\"Republic of Moldova\",\"Sao Tome and Principe\",\"Kyrgyzstan\",\"Mauritania\",\"Solomon Islands\",\"Nepal\",\"Bolivia (Plurinational State of)\",\"Myanmar\",\"Belarus\",\"Senegal\",\"Yemen\",\"Ukraine\",\"Comoros\",\"Mongolia\",\"Papua New Guinea\",\"Timor-Leste\",\"Lao People's Democratic Republic\",\"Cambodia\",\"Benin\",\"Guyana\",\"Madagascar\",\"Sudan\",\"Kazakhstan\",\"Guinea-Bissau\",\"Niger\",\"Gambia\",\"Haiti\",\"Bhutan\",\"Ghana\",\"Russian Federation\",\"Liberia\",\"Afghanistan\",\"Gabon\",\"Togo\",\"Djibouti\",\"Guinea\",\"Mali\",\"Democratic Republic of the Congo\",\"Burkina Faso\",\"Somalia\",\"Equatorial Guinea\",\"South Africa\",\"Burundi\",\"South Sudan\",\"Angola\",\"Ethiopia\",\"Nigeria\",\"Cameroon\",\"Chad\",\"Congo\",\"Namibia\",\"Mozambique\",\"Rwanda\",\"Kenya\",\"United Republic of Tanzania\",\"C\\u00f4te d\\u2019Ivoire\",\"Lesotho\",\"Central African Republic\",\"Sierra Leone\",\"Malawi\",\"Uganda\",\"Eswatini\",\"Zambia\",\"Eritrea\",\"Botswana\",\"Zimbabwe\",\"Malta\",\"Sweden\",\"Japan\",\"Qatar\",\"Italy\",\"Iceland\",\"Australia\",\"Switzerland\",\"Singapore\",\"Cyprus\",\"Israel\",\"Canada\",\"Greece\",\"Netherlands\",\"Norway\",\"Spain\",\"New Zealand\",\"United Kingdom of Great Britain and Northern Ireland\",\"Luxembourg\",\"Ireland\",\"Kuwait\",\"Austria\",\"Germany\",\"France\",\"Belgium\",\"Denmark\",\"Costa Rica\"],\"z\":[100.8,102.8,104.2,105.1,106.1,106.9,109.6,110.3,111.5,111.5,113.6,113.8,114.2,119.6,121.1,121.9,123.7,123.7,124.3,128.3,128.4,128.5,133.0,133.2,134.2,138.5,138.5,138.6,138.6,139.8,140.6,141.9,142.2,143.4,144.1,145.1,146.8,147.5,148.4,152.2,153.3,154.8,156.7,158.3,158.6,159.6,161.0,162.7,166.2,166.8,170.1,170.7,171.4,171.5,171.8,172.8,172.8,173.4,175.0,176.1,180.3,182.1,182.8,183.8,184.3,184.6,185.9,187.3,188.5,189.8,191.4,192.6,195.7,196.9,198.4,200.0,202.0,202.4,203.6,212.4,212.9,214.8,215.7,217.2,218.0,219.6,221.5,221.6,222.0,223.8,226.2,226.6,227.5,229.0,231.7,240.8,242.6,245.5,247.1,250.4,251.5,257.5,272.1,273.1,275.6,275.7,277.6,279.7,281.8,282.4,282.8,283.9,287.4,291.2,292.7,303.7,305.8,308.7,309.9,310.7,314.8,316.0,316.9,321.6,322.2,328.8,335.0,341.7,341.8,357.7,359.4,361.8,370.0,379.5,383.6,406.3,407.5,412.3,412.9,416.9,428.0,428.3,450.9,458.1,458.4,460.7,507.0,531.5,533.5,535.2,536.2,539.9,594.2,600.5,601.5,675.3,69.51,71.99,72.14,73.9,75.39,76.07,76.93,77.55,79.08,79.54,80.02,80.77,82.35,83.48,84.35,84.5,86.12,87.98,89.95,92.96,93.57,93.72,95.18,99.17,99.35,99.82,99.88],\"zmax\":483.5,\"zmin\":69.51,\"type\":\"choropleth\",\"geo\":\"geo\"},{\"colorbar\":{\"title\":{\"text\":\"Adult Morality\"}},\"colorscale\":[[0.0,\"rgb(0,0,255)\"],[1.0,\"rgb(255,0,0)\"]],\"hoverinfo\":\"location+z\",\"locationmode\":\"country names\",\"locations\":[\"Barbados\",\"Serbia\",\"T\\u00fcrkiye\",\"Slovakia\",\"Samoa\",\"Jordan\",\"Poland\",\"Panama\",\"Argentina\",\"Uruguay\",\"United States of America\",\"Ecuador\",\"Armenia\",\"Azerbaijan\",\"Estonia\",\"Antigua and Barbuda\",\"Cabo Verde\",\"Malaysia\",\"Tajikistan\",\"Peru\",\"Viet Nam\",\"Hungary\",\"Mexico\",\"Vanuatu\",\"Bangladesh\",\"Uzbekistan\",\"Jamaica\",\"Sri Lanka\",\"Democratic People's Republic of Korea\",\"Tonga\",\"Romania\",\"Bulgaria\",\"Colombia\",\"Grenada\",\"Brazil\",\"Honduras\",\"Mauritius\",\"Paraguay\",\"Solomon Islands\",\"Nicaragua\",\"Saint Lucia\",\"Thailand\",\"Timor-Leste\",\"Libya\",\"Nepal\",\"Latvia\",\"Lithuania\",\"Venezuela (Bolivarian Republic of)\",\"Pakistan\",\"Bahamas\",\"Georgia\",\"Dominican Republic\",\"Belarus\",\"Guatemala\",\"Kyrgyzstan\",\"Seychelles\",\"Micronesia (Federated States of)\",\"Egypt\",\"Republic of Moldova\",\"Saint Vincent and the Grenadines\",\"Cambodia\",\"Trinidad and Tobago\",\"Iraq\",\"Indonesia\",\"El Salvador\",\"India\",\"Belize\",\"Ukraine\",\"Suriname\",\"Kazakhstan\",\"Bolivia (Plurinational State of)\",\"Senegal\",\"Fiji\",\"Sao Tome and Principe\",\"Turkmenistan\",\"Lao People's Democratic Republic\",\"Philippines\",\"Myanmar\",\"Kiribati\",\"Rwanda\",\"Mauritania\",\"Russian Federation\",\"Bhutan\",\"Mongolia\",\"Madagascar\",\"Kenya\",\"Ethiopia\",\"Gabon\",\"Yemen\",\"Sudan\",\"Papua New Guinea\",\"Comoros\",\"Liberia\",\"Angola\",\"Ghana\",\"Benin\",\"Haiti\",\"Djibouti\",\"Afghanistan\",\"Botswana\",\"Niger\",\"Eritrea\",\"Burkina Faso\",\"Malawi\",\"Democratic Republic of the Congo\",\"Congo\",\"United Republic of Tanzania\",\"Guinea\",\"Gambia\",\"Guyana\",\"Togo\",\"Guinea-Bissau\",\"Mali\",\"Zambia\",\"Uganda\",\"Burundi\",\"Namibia\",\"Syrian Arab Republic\",\"South Africa\",\"Equatorial Guinea\",\"Somalia\",\"South Sudan\",\"Zimbabwe\",\"Mozambique\",\"Cameroon\",\"Nigeria\",\"Chad\",\"Sierra Leone\",\"Eswatini\",\"C\\u00f4te d\\u2019Ivoire\",\"Central African Republic\",\"Lesotho\",\"Switzerland\",\"Japan\",\"Singapore\",\"Sweden\",\"Maldives\",\"Italy\",\"Norway\",\"Iceland\",\"Malta\",\"Cyprus\",\"Luxembourg\",\"Spain\",\"Bahrain\",\"Israel\",\"Netherlands\",\"Australia\",\"Republic of Korea\",\"Qatar\",\"Austria\",\"Ireland\",\"Canada\",\"Denmark\",\"New Zealand\",\"Greece\",\"United Kingdom of Great Britain and Northern Ireland\",\"Germany\",\"Morocco\",\"Finland\",\"France\",\"Belgium\",\"Slovenia\",\"United Arab Emirates\",\"Portugal\",\"Kuwait\",\"Iran (Islamic Republic of)\",\"China\",\"Czechia\",\"Chile\",\"Croatia\",\"Saudi Arabia\",\"Tunisia\",\"Bosnia and Herzegovina\",\"Cuba\",\"Algeria\",\"Lebanon\",\"The former Yugoslav Republic of Macedonia\",\"Oman\",\"Albania\",\"Costa Rica\",\"Brunei Darussalam\",\"Montenegro\"],\"text\":[\"Barbados\",\"Serbia\",\"T\\u00fcrkiye\",\"Slovakia\",\"Samoa\",\"Jordan\",\"Poland\",\"Panama\",\"Argentina\",\"Uruguay\",\"United States of America\",\"Ecuador\",\"Armenia\",\"Azerbaijan\",\"Estonia\",\"Antigua and Barbuda\",\"Cabo Verde\",\"Malaysia\",\"Tajikistan\",\"Peru\",\"Viet Nam\",\"Hungary\",\"Mexico\",\"Vanuatu\",\"Bangladesh\",\"Uzbekistan\",\"Jamaica\",\"Sri Lanka\",\"Democratic People's Republic of Korea\",\"Tonga\",\"Romania\",\"Bulgaria\",\"Colombia\",\"Grenada\",\"Brazil\",\"Honduras\",\"Mauritius\",\"Paraguay\",\"Solomon Islands\",\"Nicaragua\",\"Saint Lucia\",\"Thailand\",\"Timor-Leste\",\"Libya\",\"Nepal\",\"Latvia\",\"Lithuania\",\"Venezuela (Bolivarian Republic of)\",\"Pakistan\",\"Bahamas\",\"Georgia\",\"Dominican Republic\",\"Belarus\",\"Guatemala\",\"Kyrgyzstan\",\"Seychelles\",\"Micronesia (Federated States of)\",\"Egypt\",\"Republic of Moldova\",\"Saint Vincent and the Grenadines\",\"Cambodia\",\"Trinidad and Tobago\",\"Iraq\",\"Indonesia\",\"El Salvador\",\"India\",\"Belize\",\"Ukraine\",\"Suriname\",\"Kazakhstan\",\"Bolivia (Plurinational State of)\",\"Senegal\",\"Fiji\",\"Sao Tome and Principe\",\"Turkmenistan\",\"Lao People's Democratic Republic\",\"Philippines\",\"Myanmar\",\"Kiribati\",\"Rwanda\",\"Mauritania\",\"Russian Federation\",\"Bhutan\",\"Mongolia\",\"Madagascar\",\"Kenya\",\"Ethiopia\",\"Gabon\",\"Yemen\",\"Sudan\",\"Papua New Guinea\",\"Comoros\",\"Liberia\",\"Angola\",\"Ghana\",\"Benin\",\"Haiti\",\"Djibouti\",\"Afghanistan\",\"Botswana\",\"Niger\",\"Eritrea\",\"Burkina Faso\",\"Malawi\",\"Democratic Republic of the Congo\",\"Congo\",\"United Republic of Tanzania\",\"Guinea\",\"Gambia\",\"Guyana\",\"Togo\",\"Guinea-Bissau\",\"Mali\",\"Zambia\",\"Uganda\",\"Burundi\",\"Namibia\",\"Syrian Arab Republic\",\"South Africa\",\"Equatorial Guinea\",\"Somalia\",\"South Sudan\",\"Zimbabwe\",\"Mozambique\",\"Cameroon\",\"Nigeria\",\"Chad\",\"Sierra Leone\",\"Eswatini\",\"C\\u00f4te d\\u2019Ivoire\",\"Central African Republic\",\"Lesotho\",\"Switzerland\",\"Japan\",\"Singapore\",\"Sweden\",\"Maldives\",\"Italy\",\"Norway\",\"Iceland\",\"Malta\",\"Cyprus\",\"Luxembourg\",\"Spain\",\"Bahrain\",\"Israel\",\"Netherlands\",\"Australia\",\"Republic of Korea\",\"Qatar\",\"Austria\",\"Ireland\",\"Canada\",\"Denmark\",\"New Zealand\",\"Greece\",\"United Kingdom of Great Britain and Northern Ireland\",\"Germany\",\"Morocco\",\"Finland\",\"France\",\"Belgium\",\"Slovenia\",\"United Arab Emirates\",\"Portugal\",\"Kuwait\",\"Iran (Islamic Republic of)\",\"China\",\"Czechia\",\"Chile\",\"Croatia\",\"Saudi Arabia\",\"Tunisia\",\"Bosnia and Herzegovina\",\"Cuba\",\"Algeria\",\"Lebanon\",\"The former Yugoslav Republic of Macedonia\",\"Oman\",\"Albania\",\"Costa Rica\",\"Brunei Darussalam\",\"Montenegro\"],\"z\":[100.4,102.5,104.0,104.1,110.4,110.5,110.6,111.0,111.4,113.9,114.1,114.2,116.4,117.6,118.6,119.9,121.8,122.9,123.3,124.1,124.8,125.8,126.6,129.4,130.2,130.7,131.4,131.4,132.2,133.0,134.8,135.3,137.1,140.2,142.8,145.1,145.4,145.5,145.6,145.9,147.2,147.4,149.8,150.3,150.6,153.8,154.5,156.7,159.1,159.2,159.9,160.1,160.6,161.7,162.3,163.1,163.8,164.6,166.8,168.7,170.5,171.8,173.5,175.6,176.8,178.0,179.3,180.1,180.5,181.5,182.2,185.2,186.2,190.6,191.0,192.8,193.9,195.0,197.0,198.3,202.4,202.7,207.0,210.7,215.5,219.3,219.5,220.7,221.3,223.9,224.3,225.0,230.3,238.0,241.3,242.4,243.5,244.5,245.2,249.2,250.2,252.1,254.6,254.7,256.1,260.5,260.7,262.1,262.2,263.7,265.3,268.9,269.6,286.3,287.9,290.2,295.9,301.1,301.3,304.8,316.1,321.4,334.0,336.4,341.4,352.5,359.7,388.8,393.3,397.8,411.9,483.5,49.2,50.83,51.36,52.43,52.53,53.53,54.66,55.01,55.03,55.41,55.5,55.79,56.81,57.98,58.63,60.73,60.81,61.76,61.89,62.39,62.83,65.04,66.06,66.42,66.68,68.69,69.06,70.18,70.98,71.56,72.04,73.95,75.56,79.22,80.13,80.36,81.13,87.43,87.51,89.13,91.0,92.03,92.46,95.03,95.62,95.83,96.25,96.41,96.74,97.7,99.06],\"zmax\":483.5,\"zmin\":69.51,\"type\":\"choropleth\",\"geo\":\"geo2\"}],                        {\"template\":{\"data\":{\"histogram2dcontour\":[{\"type\":\"histogram2dcontour\",\"colorbar\":{\"outlinewidth\":0,\"ticks\":\"\"},\"colorscale\":[[0.0,\"#0d0887\"],[0.1111111111111111,\"#46039f\"],[0.2222222222222222,\"#7201a8\"],[0.3333333333333333,\"#9c179e\"],[0.4444444444444444,\"#bd3786\"],[0.5555555555555556,\"#d8576b\"],[0.6666666666666666,\"#ed7953\"],[0.7777777777777778,\"#fb9f3a\"],[0.8888888888888888,\"#fdca26\"],[1.0,\"#f0f921\"]]}],\"choropleth\":[{\"type\":\"choropleth\",\"colorbar\":{\"outlinewidth\":0,\"ticks\":\"\"}}],\"histogram2d\":[{\"type\":\"histogram2d\",\"colorbar\":{\"outlinewidth\":0,\"ticks\":\"\"},\"colorscale\":[[0.0,\"#0d0887\"],[0.1111111111111111,\"#46039f\"],[0.2222222222222222,\"#7201a8\"],[0.3333333333333333,\"#9c179e\"],[0.4444444444444444,\"#bd3786\"],[0.5555555555555556,\"#d8576b\"],[0.6666666666666666,\"#ed7953\"],[0.7777777777777778,\"#fb9f3a\"],[0.8888888888888888,\"#fdca26\"],[1.0,\"#f0f921\"]]}],\"heatmap\":[{\"type\":\"heatmap\",\"colorbar\":{\"outlinewidth\":0,\"ticks\":\"\"},\"colorscale\":[[0.0,\"#0d0887\"],[0.1111111111111111,\"#46039f\"],[0.2222222222222222,\"#7201a8\"],[0.3333333333333333,\"#9c179e\"],[0.4444444444444444,\"#bd3786\"],[0.5555555555555556,\"#d8576b\"],[0.6666666666666666,\"#ed7953\"],[0.7777777777777778,\"#fb9f3a\"],[0.8888888888888888,\"#fdca26\"],[1.0,\"#f0f921\"]]}],\"heatmapgl\":[{\"type\":\"heatmapgl\",\"colorbar\":{\"outlinewidth\":0,\"ticks\":\"\"},\"colorscale\":[[0.0,\"#0d0887\"],[0.1111111111111111,\"#46039f\"],[0.2222222222222222,\"#7201a8\"],[0.3333333333333333,\"#9c179e\"],[0.4444444444444444,\"#bd3786\"],[0.5555555555555556,\"#d8576b\"],[0.6666666666666666,\"#ed7953\"],[0.7777777777777778,\"#fb9f3a\"],[0.8888888888888888,\"#fdca26\"],[1.0,\"#f0f921\"]]}],\"contourcarpet\":[{\"type\":\"contourcarpet\",\"colorbar\":{\"outlinewidth\":0,\"ticks\":\"\"}}],\"contour\":[{\"type\":\"contour\",\"colorbar\":{\"outlinewidth\":0,\"ticks\":\"\"},\"colorscale\":[[0.0,\"#0d0887\"],[0.1111111111111111,\"#46039f\"],[0.2222222222222222,\"#7201a8\"],[0.3333333333333333,\"#9c179e\"],[0.4444444444444444,\"#bd3786\"],[0.5555555555555556,\"#d8576b\"],[0.6666666666666666,\"#ed7953\"],[0.7777777777777778,\"#fb9f3a\"],[0.8888888888888888,\"#fdca26\"],[1.0,\"#f0f921\"]]}],\"surface\":[{\"type\":\"surface\",\"colorbar\":{\"outlinewidth\":0,\"ticks\":\"\"},\"colorscale\":[[0.0,\"#0d0887\"],[0.1111111111111111,\"#46039f\"],[0.2222222222222222,\"#7201a8\"],[0.3333333333333333,\"#9c179e\"],[0.4444444444444444,\"#bd3786\"],[0.5555555555555556,\"#d8576b\"],[0.6666666666666666,\"#ed7953\"],[0.7777777777777778,\"#fb9f3a\"],[0.8888888888888888,\"#fdca26\"],[1.0,\"#f0f921\"]]}],\"mesh3d\":[{\"type\":\"mesh3d\",\"colorbar\":{\"outlinewidth\":0,\"ticks\":\"\"}}],\"scatter\":[{\"fillpattern\":{\"fillmode\":\"overlay\",\"size\":10,\"solidity\":0.2},\"type\":\"scatter\"}],\"parcoords\":[{\"type\":\"parcoords\",\"line\":{\"colorbar\":{\"outlinewidth\":0,\"ticks\":\"\"}}}],\"scatterpolargl\":[{\"type\":\"scatterpolargl\",\"marker\":{\"colorbar\":{\"outlinewidth\":0,\"ticks\":\"\"}}}],\"bar\":[{\"error_x\":{\"color\":\"#2a3f5f\"},\"error_y\":{\"color\":\"#2a3f5f\"},\"marker\":{\"line\":{\"color\":\"#E5ECF6\",\"width\":0.5},\"pattern\":{\"fillmode\":\"overlay\",\"size\":10,\"solidity\":0.2}},\"type\":\"bar\"}],\"scattergeo\":[{\"type\":\"scattergeo\",\"marker\":{\"colorbar\":{\"outlinewidth\":0,\"ticks\":\"\"}}}],\"scatterpolar\":[{\"type\":\"scatterpolar\",\"marker\":{\"colorbar\":{\"outlinewidth\":0,\"ticks\":\"\"}}}],\"histogram\":[{\"marker\":{\"pattern\":{\"fillmode\":\"overlay\",\"size\":10,\"solidity\":0.2}},\"type\":\"histogram\"}],\"scattergl\":[{\"type\":\"scattergl\",\"marker\":{\"colorbar\":{\"outlinewidth\":0,\"ticks\":\"\"}}}],\"scatter3d\":[{\"type\":\"scatter3d\",\"line\":{\"colorbar\":{\"outlinewidth\":0,\"ticks\":\"\"}},\"marker\":{\"colorbar\":{\"outlinewidth\":0,\"ticks\":\"\"}}}],\"scattermapbox\":[{\"type\":\"scattermapbox\",\"marker\":{\"colorbar\":{\"outlinewidth\":0,\"ticks\":\"\"}}}],\"scatterternary\":[{\"type\":\"scatterternary\",\"marker\":{\"colorbar\":{\"outlinewidth\":0,\"ticks\":\"\"}}}],\"scattercarpet\":[{\"type\":\"scattercarpet\",\"marker\":{\"colorbar\":{\"outlinewidth\":0,\"ticks\":\"\"}}}],\"carpet\":[{\"aaxis\":{\"endlinecolor\":\"#2a3f5f\",\"gridcolor\":\"white\",\"linecolor\":\"white\",\"minorgridcolor\":\"white\",\"startlinecolor\":\"#2a3f5f\"},\"baxis\":{\"endlinecolor\":\"#2a3f5f\",\"gridcolor\":\"white\",\"linecolor\":\"white\",\"minorgridcolor\":\"white\",\"startlinecolor\":\"#2a3f5f\"},\"type\":\"carpet\"}],\"table\":[{\"cells\":{\"fill\":{\"color\":\"#EBF0F8\"},\"line\":{\"color\":\"white\"}},\"header\":{\"fill\":{\"color\":\"#C8D4E3\"},\"line\":{\"color\":\"white\"}},\"type\":\"table\"}],\"barpolar\":[{\"marker\":{\"line\":{\"color\":\"#E5ECF6\",\"width\":0.5},\"pattern\":{\"fillmode\":\"overlay\",\"size\":10,\"solidity\":0.2}},\"type\":\"barpolar\"}],\"pie\":[{\"automargin\":true,\"type\":\"pie\"}]},\"layout\":{\"autotypenumbers\":\"strict\",\"colorway\":[\"#636efa\",\"#EF553B\",\"#00cc96\",\"#ab63fa\",\"#FFA15A\",\"#19d3f3\",\"#FF6692\",\"#B6E880\",\"#FF97FF\",\"#FECB52\"],\"font\":{\"color\":\"#2a3f5f\"},\"hovermode\":\"closest\",\"hoverlabel\":{\"align\":\"left\"},\"paper_bgcolor\":\"white\",\"plot_bgcolor\":\"#E5ECF6\",\"polar\":{\"bgcolor\":\"#E5ECF6\",\"angularaxis\":{\"gridcolor\":\"white\",\"linecolor\":\"white\",\"ticks\":\"\"},\"radialaxis\":{\"gridcolor\":\"white\",\"linecolor\":\"white\",\"ticks\":\"\"}},\"ternary\":{\"bgcolor\":\"#E5ECF6\",\"aaxis\":{\"gridcolor\":\"white\",\"linecolor\":\"white\",\"ticks\":\"\"},\"baxis\":{\"gridcolor\":\"white\",\"linecolor\":\"white\",\"ticks\":\"\"},\"caxis\":{\"gridcolor\":\"white\",\"linecolor\":\"white\",\"ticks\":\"\"}},\"coloraxis\":{\"colorbar\":{\"outlinewidth\":0,\"ticks\":\"\"}},\"colorscale\":{\"sequential\":[[0.0,\"#0d0887\"],[0.1111111111111111,\"#46039f\"],[0.2222222222222222,\"#7201a8\"],[0.3333333333333333,\"#9c179e\"],[0.4444444444444444,\"#bd3786\"],[0.5555555555555556,\"#d8576b\"],[0.6666666666666666,\"#ed7953\"],[0.7777777777777778,\"#fb9f3a\"],[0.8888888888888888,\"#fdca26\"],[1.0,\"#f0f921\"]],\"sequentialminus\":[[0.0,\"#0d0887\"],[0.1111111111111111,\"#46039f\"],[0.2222222222222222,\"#7201a8\"],[0.3333333333333333,\"#9c179e\"],[0.4444444444444444,\"#bd3786\"],[0.5555555555555556,\"#d8576b\"],[0.6666666666666666,\"#ed7953\"],[0.7777777777777778,\"#fb9f3a\"],[0.8888888888888888,\"#fdca26\"],[1.0,\"#f0f921\"]],\"diverging\":[[0,\"#8e0152\"],[0.1,\"#c51b7d\"],[0.2,\"#de77ae\"],[0.3,\"#f1b6da\"],[0.4,\"#fde0ef\"],[0.5,\"#f7f7f7\"],[0.6,\"#e6f5d0\"],[0.7,\"#b8e186\"],[0.8,\"#7fbc41\"],[0.9,\"#4d9221\"],[1,\"#276419\"]]},\"xaxis\":{\"gridcolor\":\"white\",\"linecolor\":\"white\",\"ticks\":\"\",\"title\":{\"standoff\":15},\"zerolinecolor\":\"white\",\"automargin\":true,\"zerolinewidth\":2},\"yaxis\":{\"gridcolor\":\"white\",\"linecolor\":\"white\",\"ticks\":\"\",\"title\":{\"standoff\":15},\"zerolinecolor\":\"white\",\"automargin\":true,\"zerolinewidth\":2},\"scene\":{\"xaxis\":{\"backgroundcolor\":\"#E5ECF6\",\"gridcolor\":\"white\",\"linecolor\":\"white\",\"showbackground\":true,\"ticks\":\"\",\"zerolinecolor\":\"white\",\"gridwidth\":2},\"yaxis\":{\"backgroundcolor\":\"#E5ECF6\",\"gridcolor\":\"white\",\"linecolor\":\"white\",\"showbackground\":true,\"ticks\":\"\",\"zerolinecolor\":\"white\",\"gridwidth\":2},\"zaxis\":{\"backgroundcolor\":\"#E5ECF6\",\"gridcolor\":\"white\",\"linecolor\":\"white\",\"showbackground\":true,\"ticks\":\"\",\"zerolinecolor\":\"white\",\"gridwidth\":2}},\"shapedefaults\":{\"line\":{\"color\":\"#2a3f5f\"}},\"annotationdefaults\":{\"arrowcolor\":\"#2a3f5f\",\"arrowhead\":0,\"arrowwidth\":1},\"geo\":{\"bgcolor\":\"white\",\"landcolor\":\"#E5ECF6\",\"subunitcolor\":\"white\",\"showland\":true,\"showlakes\":true,\"lakecolor\":\"white\"},\"title\":{\"x\":0.05},\"mapbox\":{\"style\":\"light\"}}},\"geo\":{\"domain\":{\"x\":[0.0,0.45],\"y\":[0.0,1.0]},\"fitbounds\":\"locations\",\"visible\":false},\"geo2\":{\"domain\":{\"x\":[0.55,1.0],\"y\":[0.0,1.0]},\"fitbounds\":\"locations\",\"visible\":false},\"title\":{\"text\":\"Fig.2. Geographic Analysis on World Adult Morality 2000 vs 2016\",\"x\":0.5}},                        {\"responsive\": true}                    ).then(function(){\n",
       "                            \n",
       "var gd = document.getElementById('b3a5221b-f9af-4d7e-af77-1cf71ea70d03');\n",
       "var x = new MutationObserver(function (mutations, observer) {{\n",
       "        var display = window.getComputedStyle(gd).display;\n",
       "        if (!display || display === 'none') {{\n",
       "            console.log([gd, 'removed!']);\n",
       "            Plotly.purge(gd);\n",
       "            observer.disconnect();\n",
       "        }}\n",
       "}});\n",
       "\n",
       "// Listen for the removal of the full notebook cells\n",
       "var notebookContainer = gd.closest('#notebook-container');\n",
       "if (notebookContainer) {{\n",
       "    x.observe(notebookContainer, {childList: true});\n",
       "}}\n",
       "\n",
       "// Listen for the clearing of the current output cell\n",
       "var outputEl = gd.closest('.output');\n",
       "if (outputEl) {{\n",
       "    x.observe(outputEl, {childList: true});\n",
       "}}\n",
       "\n",
       "                        })                };                });            </script>        </div>"
      ]
     },
     "metadata": {},
     "output_type": "display_data"
    }
   ],
   "source": [
    "df_geo_2000 = df_adult[(df_adult['Period']==2000)&(df_adult['Gender']=='Both sexes')]\n",
    "df_geo_2016 = df_adult[(df_adult['Period']==2016)&(df_adult['Gender']=='Both sexes')]\n",
    "\n",
    "rows = 1\n",
    "cols = 2\n",
    "fig_geo = make_subplots(\n",
    "    rows=rows, cols=cols,\n",
    "    specs = [[{'type': 'choropleth'} for c in np.arange(cols)] for r in np.arange(rows)],\n",
    "                        )\n",
    "\n",
    "\n",
    "fig_geo.add_trace(go.Choropleth(\n",
    "    locations=df_geo_2000['Location'],     \n",
    "    locationmode='country names', \n",
    "    z=df_geo_2000['NumericValue'],             \n",
    "    zmin=df_geo_2000['NumericValue'].min(),\n",
    "    zmax=df_geo_2016['NumericValue'].max(),\n",
    "    colorscale='bluered',         \n",
    "    text=df_geo_2000['Location'],              \n",
    "    colorbar_title='Adult Morality',\n",
    "    \n",
    "    hoverinfo='location+z',\n",
    "    \n",
    "),row = 1,col = 1    )\n",
    "\n",
    "\n",
    "\n",
    "fig_geo.add_trace(go.Choropleth(\n",
    "    locations=df_geo_2016['Location'],    \n",
    "    locationmode='country names', \n",
    "    z=df_geo_2016['NumericValue'],            \n",
    "    zmin=df_geo_2000['NumericValue'].min(),\n",
    "    zmax=df_geo_2016['NumericValue'].max(),\n",
    "    colorscale='bluered',         \n",
    "    text=df_geo_2016['Location'],              \n",
    "    colorbar_title='Adult Morality',\n",
    "    hoverinfo='location+z',\n",
    "),row = 1,col = 2)\n",
    "\n",
    "\n",
    "\n",
    "fig_geo.update_geos(fitbounds=\"locations\",\n",
    "                visible=False,\n",
    "                )\n",
    "\n",
    "fig_geo.update_layout(\n",
    "    title='Fig.2. Geographic Analysis on World Adult Morality 2000 vs 2016',\n",
    "    title_x=0.5\n",
    "#     geo=dict(\n",
    "#         projection_type='natural earth',   # Choose the map projection\n",
    "#     )\n",
    ")\n",
    "\n",
    "fig_geo.show()"
   ]
  },
  {
   "cell_type": "code",
   "execution_count": 10,
   "id": "c532ab8f",
   "metadata": {
    "scrolled": false
   },
   "outputs": [
    {
     "data": {
      "application/vnd.plotly.v1+json": {
       "config": {
        "plotlyServerURL": "https://plot.ly"
       },
       "data": [
        {
         "colorbar": {
          "title": {
           "text": "Adult Morality"
          }
         },
         "colorscale": [
          [
           0,
           "rgb(0,0,255)"
          ],
          [
           1,
           "rgb(255,0,0)"
          ]
         ],
         "geo": "geo",
         "locationmode": "country names",
         "locations": [
          "Bahrain",
          "Chile",
          "Finland",
          "Brunei Darussalam",
          "Albania",
          "United Arab Emirates",
          "Portugal",
          "China",
          "Saudi Arabia",
          "Tunisia",
          "Republic of Korea",
          "Lebanon",
          "United States of America",
          "Panama",
          "Cuba",
          "Slovenia",
          "The former Yugoslav Republic of Macedonia",
          "Syrian Arab Republic",
          "Czechia",
          "Bosnia and Herzegovina",
          "Barbados",
          "Georgia",
          "Croatia",
          "Jordan",
          "Uruguay",
          "Argentina",
          "Mexico",
          "Oman",
          "Viet Nam",
          "Montenegro",
          "Serbia",
          "Algeria",
          "Maldives",
          "Armenia",
          "Türkiye",
          "Malaysia",
          "Slovakia",
          "Libya",
          "Iraq",
          "Poland",
          "Iran (Islamic Republic of)",
          "Peru",
          "Antigua and Barbuda",
          "Tonga",
          "Morocco",
          "Ecuador",
          "Azerbaijan",
          "Bulgaria",
          "Egypt",
          "Cabo Verde",
          "Tajikistan",
          "Sri Lanka",
          "Colombia",
          "Paraguay",
          "Mauritius",
          "Bangladesh",
          "Venezuela (Bolivarian Republic of)",
          "Jamaica",
          "Romania",
          "Honduras",
          "Samoa",
          "Grenada",
          "Uzbekistan",
          "Brazil",
          "Vanuatu",
          "Micronesia (Federated States of)",
          "Saint Lucia",
          "Indonesia",
          "Seychelles",
          "Pakistan",
          "Democratic People's Republic of Korea",
          "Hungary",
          "Saint Vincent and the Grenadines",
          "Nicaragua",
          "Belize",
          "Lithuania",
          "Trinidad and Tobago",
          "Bahamas",
          "Thailand",
          "Dominican Republic",
          "Philippines",
          "Turkmenistan",
          "Estonia",
          "Latvia",
          "El Salvador",
          "Guatemala",
          "Suriname",
          "Fiji",
          "Kiribati",
          "India",
          "Republic of Moldova",
          "Sao Tome and Principe",
          "Kyrgyzstan",
          "Mauritania",
          "Solomon Islands",
          "Nepal",
          "Bolivia (Plurinational State of)",
          "Myanmar",
          "Belarus",
          "Senegal",
          "Yemen",
          "Ukraine",
          "Comoros",
          "Mongolia",
          "Papua New Guinea",
          "Timor-Leste",
          "Lao People's Democratic Republic",
          "Cambodia",
          "Benin",
          "Guyana",
          "Madagascar",
          "Sudan",
          "Kazakhstan",
          "Guinea-Bissau",
          "Niger",
          "Gambia",
          "Haiti",
          "Bhutan",
          "Ghana",
          "Russian Federation",
          "Liberia",
          "Afghanistan",
          "Gabon",
          "Togo",
          "Djibouti",
          "Guinea",
          "Mali",
          "Democratic Republic of the Congo",
          "Burkina Faso",
          "Somalia",
          "Equatorial Guinea",
          "South Africa",
          "Burundi",
          "South Sudan",
          "Angola",
          "Ethiopia",
          "Nigeria",
          "Cameroon",
          "Chad",
          "Congo",
          "Namibia",
          "Mozambique",
          "Rwanda",
          "Kenya",
          "United Republic of Tanzania",
          "Côte d’Ivoire",
          "Lesotho",
          "Central African Republic",
          "Sierra Leone",
          "Malawi",
          "Uganda",
          "Eswatini",
          "Zambia",
          "Eritrea",
          "Botswana",
          "Zimbabwe",
          "Malta",
          "Sweden",
          "Japan",
          "Qatar",
          "Italy",
          "Iceland",
          "Australia",
          "Switzerland",
          "Singapore",
          "Cyprus",
          "Israel",
          "Canada",
          "Greece",
          "Netherlands",
          "Norway",
          "Spain",
          "New Zealand",
          "United Kingdom of Great Britain and Northern Ireland",
          "Luxembourg",
          "Ireland",
          "Kuwait",
          "Austria",
          "Germany",
          "France",
          "Belgium",
          "Denmark",
          "Costa Rica"
         ],
         "type": "choropleth",
         "z": [
          100.8,
          102.8,
          104.2,
          105.1,
          106.1,
          106.9,
          109.6,
          110.3,
          111.5,
          111.5,
          113.6,
          113.8,
          114.2,
          119.6,
          121.1,
          121.9,
          123.7,
          123.7,
          124.3,
          128.3,
          128.4,
          128.5,
          133,
          133.2,
          134.2,
          138.5,
          138.5,
          138.6,
          138.6,
          139.8,
          140.6,
          141.9,
          142.2,
          143.4,
          144.1,
          145.1,
          146.8,
          147.5,
          148.4,
          152.2,
          153.3,
          154.8,
          156.7,
          158.3,
          158.6,
          159.6,
          161,
          162.7,
          166.2,
          166.8,
          170.1,
          170.7,
          171.4,
          171.5,
          171.8,
          172.8,
          172.8,
          173.4,
          175,
          176.1,
          180.3,
          182.1,
          182.8,
          183.8,
          184.3,
          184.6,
          185.9,
          187.3,
          188.5,
          189.8,
          191.4,
          192.6,
          195.7,
          196.9,
          198.4,
          200,
          202,
          202.4,
          203.6,
          212.4,
          212.9,
          214.8,
          215.7,
          217.2,
          218,
          219.6,
          221.5,
          221.6,
          222,
          223.8,
          226.2,
          226.6,
          227.5,
          229,
          231.7,
          240.8,
          242.6,
          245.5,
          247.1,
          250.4,
          251.5,
          257.5,
          272.1,
          273.1,
          275.6,
          275.7,
          277.6,
          279.7,
          281.8,
          282.4,
          282.8,
          283.9,
          287.4,
          291.2,
          292.7,
          303.7,
          305.8,
          308.7,
          309.9,
          310.7,
          314.8,
          316,
          316.9,
          321.6,
          322.2,
          328.8,
          335,
          341.7,
          341.8,
          357.7,
          359.4,
          361.8,
          370,
          379.5,
          383.6,
          406.3,
          407.5,
          412.3,
          412.9,
          416.9,
          428,
          428.3,
          450.9,
          458.1,
          458.4,
          460.7,
          507,
          531.5,
          533.5,
          535.2,
          536.2,
          539.9,
          594.2,
          600.5,
          601.5,
          675.3,
          69.51,
          71.99,
          72.14,
          73.9,
          75.39,
          76.07,
          76.93,
          77.55,
          79.08,
          79.54,
          80.02,
          80.77,
          82.35,
          83.48,
          84.35,
          84.5,
          86.12,
          87.98,
          89.95,
          92.96,
          93.57,
          93.72,
          95.18,
          99.17,
          99.35,
          99.82,
          99.88
         ],
         "zmax": 769.3,
         "zmin": 33.43
        },
        {
         "colorbar": {
          "title": {
           "text": "Adult Morality"
          }
         },
         "colorscale": [
          [
           0,
           "rgb(0,0,255)"
          ],
          [
           1,
           "rgb(255,0,0)"
          ]
         ],
         "geo": "geo2",
         "locationmode": "country names",
         "locations": [
          "Albania",
          "Brunei Darussalam",
          "Costa Rica",
          "United Arab Emirates",
          "China",
          "Republic of Korea",
          "Chile",
          "Portugal",
          "Saudi Arabia",
          "Tunisia",
          "Lebanon",
          "United States of America",
          "Cuba",
          "Panama",
          "Czechia",
          "Slovenia",
          "Syrian Arab Republic",
          "Bosnia and Herzegovina",
          "Georgia",
          "Barbados",
          "Uruguay",
          "The former Yugoslav Republic of Macedonia",
          "Croatia",
          "Jordan",
          "Oman",
          "Serbia",
          "Maldives",
          "Mexico",
          "Montenegro",
          "Argentina",
          "Viet Nam",
          "Algeria",
          "Türkiye",
          "Iraq",
          "Armenia",
          "Malaysia",
          "Slovakia",
          "Libya",
          "Poland",
          "Azerbaijan",
          "Iran (Islamic Republic of)",
          "Morocco",
          "Peru",
          "Ecuador",
          "Antigua and Barbuda",
          "Tonga",
          "Sri Lanka",
          "Bulgaria",
          "Tajikistan",
          "Cabo Verde",
          "Bangladesh",
          "Paraguay",
          "Colombia",
          "Mauritius",
          "Egypt",
          "Honduras",
          "Jamaica",
          "Venezuela (Bolivarian Republic of)",
          "Samoa",
          "Democratic People's Republic of Korea",
          "Uzbekistan",
          "Grenada",
          "Romania",
          "Brazil",
          "Vanuatu",
          "Saint Lucia",
          "Micronesia (Federated States of)",
          "Hungary",
          "Seychelles",
          "Indonesia",
          "Pakistan",
          "Nicaragua",
          "Saint Vincent and the Grenadines",
          "Thailand",
          "Belize",
          "Bahamas",
          "Trinidad and Tobago",
          "Turkmenistan",
          "Lithuania",
          "Dominican Republic",
          "Guatemala",
          "Philippines",
          "Republic of Moldova",
          "Kiribati",
          "Kyrgyzstan",
          "Fiji",
          "India",
          "El Salvador",
          "Estonia",
          "Suriname",
          "Solomon Islands",
          "Sao Tome and Principe",
          "Mauritania",
          "Latvia",
          "Nepal",
          "Bolivia (Plurinational State of)",
          "Myanmar",
          "Senegal",
          "Yemen",
          "Ukraine",
          "Belarus",
          "Timor-Leste",
          "Mongolia",
          "Lao People's Democratic Republic",
          "Comoros",
          "Papua New Guinea",
          "Guyana",
          "Madagascar",
          "Cambodia",
          "Sudan",
          "Kazakhstan",
          "Benin",
          "Bhutan",
          "Niger",
          "Guinea-Bissau",
          "Gambia",
          "Haiti",
          "Afghanistan",
          "Ghana",
          "Russian Federation",
          "Liberia",
          "Djibouti",
          "Gabon",
          "Mali",
          "Togo",
          "Democratic Republic of the Congo",
          "Burkina Faso",
          "Guinea",
          "Eritrea",
          "Somalia",
          "Equatorial Guinea",
          "Burundi",
          "Angola",
          "South Sudan",
          "South Africa",
          "Ethiopia",
          "Chad",
          "Cameroon",
          "Nigeria",
          "Congo",
          "Mozambique",
          "Namibia",
          "Rwanda",
          "United Republic of Tanzania",
          "Kenya",
          "Côte d’Ivoire",
          "Sierra Leone",
          "Uganda",
          "Malawi",
          "Central African Republic",
          "Lesotho",
          "Eswatini",
          "Zambia",
          "Botswana",
          "Malta",
          "Zimbabwe",
          "Cyprus",
          "Japan",
          "Sweden",
          "Qatar",
          "Italy",
          "Iceland",
          "Australia",
          "Switzerland",
          "Singapore",
          "Canada",
          "Israel",
          "Greece",
          "Norway",
          "Netherlands",
          "New Zealand",
          "Spain",
          "Ireland",
          "United Kingdom of Great Britain and Northern Ireland",
          "Austria",
          "Luxembourg",
          "Germany",
          "Kuwait",
          "Belgium",
          "Bahrain",
          "Finland",
          "France",
          "Denmark"
         ],
         "type": "choropleth",
         "z": [
          100.4,
          100.7,
          101.2,
          103.9,
          105,
          105,
          105.7,
          109.1,
          109.3,
          109.7,
          111.7,
          115.8,
          119.5,
          120.1,
          121.5,
          123.5,
          123.8,
          124.7,
          124.7,
          127,
          127.1,
          128,
          128.6,
          131,
          133.9,
          134.2,
          135.4,
          135.5,
          136.7,
          137.6,
          137.6,
          138.8,
          140.5,
          141.2,
          143.2,
          144.4,
          144.6,
          146.4,
          147,
          149.5,
          150.1,
          152.2,
          152.6,
          154,
          154.5,
          156.6,
          158.5,
          159.3,
          161.6,
          163.8,
          167.8,
          169.3,
          170.1,
          171.5,
          172.8,
          173.8,
          174.6,
          174.6,
          175.8,
          176.6,
          176.6,
          178.2,
          178.7,
          180,
          180.3,
          180.6,
          183.2,
          185.1,
          186.8,
          187.5,
          188.4,
          194.8,
          195.3,
          200.5,
          203.4,
          204.3,
          204.3,
          209.6,
          213.9,
          214.1,
          214.3,
          215.1,
          218.6,
          219.2,
          219.4,
          220.9,
          221.8,
          222.1,
          223.7,
          223.8,
          224.5,
          225,
          227.8,
          228.7,
          234.4,
          238,
          242.8,
          250.6,
          251.1,
          253.8,
          254.8,
          269.2,
          270.6,
          271.2,
          271.9,
          272.6,
          272.9,
          275.6,
          277.2,
          282.4,
          282.5,
          282.7,
          286.8,
          291.7,
          293.3,
          301.1,
          303.5,
          307.2,
          310.3,
          311.4,
          323.8,
          324.6,
          325,
          327.4,
          327.9,
          337.9,
          338.8,
          341.1,
          347.9,
          354.2,
          358.3,
          365.5,
          372.4,
          380.3,
          387.3,
          391.7,
          409.4,
          410.6,
          411.5,
          420.4,
          432.8,
          454.3,
          455.7,
          457.9,
          465,
          468.7,
          520.1,
          522.6,
          542.6,
          544,
          546.1,
          580.3,
          594,
          627.8,
          68.96,
          687.6,
          69.98,
          70.2,
          72.09,
          72.85,
          73.22,
          73.4,
          73.55,
          74.69,
          76.72,
          79.15,
          79.15,
          80.92,
          81.01,
          81.76,
          82.78,
          82.88,
          87.79,
          87.91,
          89.52,
          90.22,
          91.75,
          92.4,
          98.11,
          98.42,
          99.07,
          99.48,
          99.5
         ],
         "zmax": 769.3,
         "zmin": 33.43
        },
        {
         "colorbar": {
          "title": {
           "text": "Adult Morality"
          }
         },
         "colorscale": [
          [
           0,
           "rgb(0,0,255)"
          ],
          [
           1,
           "rgb(255,0,0)"
          ]
         ],
         "geo": "geo3",
         "locationmode": "country names",
         "locations": [
          "Chile",
          "United Arab Emirates",
          "China",
          "Denmark",
          "Albania",
          "Portugal",
          "Saudi Arabia",
          "Tunisia",
          "Lebanon",
          "Bosnia and Herzegovina",
          "Cuba",
          "United States of America",
          "Slovenia",
          "Czechia",
          "Panama",
          "Syrian Arab Republic",
          "Croatia",
          "Barbados",
          "The former Yugoslav Republic of Macedonia",
          "Maldives",
          "Uruguay",
          "Jordan",
          "Oman",
          "Serbia",
          "Montenegro",
          "Algeria",
          "Mexico",
          "Armenia",
          "Viet Nam",
          "Argentina",
          "Türkiye",
          "Iraq",
          "Malaysia",
          "Poland",
          "Azerbaijan",
          "Slovakia",
          "Libya",
          "Morocco",
          "Iran (Islamic Republic of)",
          "Antigua and Barbuda",
          "Sri Lanka",
          "Peru",
          "Georgia",
          "Ecuador",
          "Tonga",
          "Bulgaria",
          "Tajikistan",
          "Cabo Verde",
          "Bangladesh",
          "Democratic People's Republic of Korea",
          "Paraguay",
          "Colombia",
          "Jamaica",
          "Honduras",
          "Mauritius",
          "Egypt",
          "Samoa",
          "Venezuela (Bolivarian Republic of)",
          "Grenada",
          "Vanuatu",
          "Saint Lucia",
          "Brazil",
          "Uzbekistan",
          "Romania",
          "Hungary",
          "Seychelles",
          "Pakistan",
          "Indonesia",
          "Nicaragua",
          "Trinidad and Tobago",
          "Saint Vincent and the Grenadines",
          "Thailand",
          "Belize",
          "Micronesia (Federated States of)",
          "Bahamas",
          "Guatemala",
          "Lithuania",
          "Estonia",
          "El Salvador",
          "Dominican Republic",
          "Republic of Moldova",
          "Philippines",
          "Turkmenistan",
          "Kyrgyzstan",
          "Kiribati",
          "Solomon Islands",
          "India",
          "Fiji",
          "Latvia",
          "Suriname",
          "Sao Tome and Principe",
          "Mauritania",
          "Bolivia (Plurinational State of)",
          "Myanmar",
          "Nepal",
          "Yemen",
          "Senegal",
          "Ukraine",
          "Timor-Leste",
          "Belarus",
          "Lao People's Democratic Republic",
          "Mongolia",
          "Papua New Guinea",
          "Madagascar",
          "Comoros",
          "Cambodia",
          "Sudan",
          "Kazakhstan",
          "Bhutan",
          "Guyana",
          "Benin",
          "Niger",
          "Afghanistan",
          "Guinea-Bissau",
          "Gambia",
          "Haiti",
          "Ghana",
          "Russian Federation",
          "Mali",
          "Djibouti",
          "Gabon",
          "Togo",
          "Burkina Faso",
          "Democratic Republic of the Congo",
          "Guinea",
          "Eritrea",
          "Liberia",
          "Somalia",
          "Angola",
          "Equatorial Guinea",
          "Burundi",
          "South Sudan",
          "Ethiopia",
          "Cameroon",
          "Chad",
          "South Africa",
          "Nigeria",
          "Congo",
          "Rwanda",
          "Mozambique",
          "United Republic of Tanzania",
          "Kenya",
          "Côte d’Ivoire",
          "Namibia",
          "Uganda",
          "Sierra Leone",
          "Central African Republic",
          "Malawi",
          "Lesotho",
          "Zambia",
          "Eswatini",
          "Botswana",
          "Iceland",
          "Malta",
          "Japan",
          "Zimbabwe",
          "Sweden",
          "Italy",
          "Cyprus",
          "Qatar",
          "Australia",
          "Switzerland",
          "Singapore",
          "Canada",
          "Greece",
          "Norway",
          "Israel",
          "Netherlands",
          "Spain",
          "New Zealand",
          "Ireland",
          "Luxembourg",
          "United Kingdom of Great Britain and Northern Ireland",
          "Austria",
          "Germany",
          "Kuwait",
          "Brunei Darussalam",
          "Belgium",
          "Finland",
          "France",
          "Republic of Korea",
          "Bahrain",
          "Costa Rica"
         ],
         "type": "choropleth",
         "z": [
          100.4,
          100.9,
          101,
          101.1,
          102.3,
          106.7,
          107.4,
          108.3,
          109.5,
          111.4,
          111.9,
          114.9,
          116.7,
          119,
          119.8,
          123.9,
          124,
          126.1,
          127,
          128.2,
          128.7,
          129,
          130.3,
          131.1,
          133.2,
          134.7,
          135.8,
          136.9,
          136.9,
          137.1,
          137.3,
          139.6,
          142.7,
          142.7,
          143.7,
          144,
          145.1,
          145.9,
          146.7,
          148.9,
          149.6,
          150.2,
          151.6,
          152.6,
          154.9,
          156.1,
          156.5,
          161.6,
          163.7,
          167.1,
          167.5,
          168.6,
          171.3,
          171.8,
          173.1,
          173.7,
          174.6,
          174.6,
          175.2,
          175.6,
          176,
          176.2,
          176.3,
          178.1,
          184.1,
          185.5,
          186.7,
          187.7,
          192.3,
          195,
          195.5,
          197.5,
          199.6,
          200.8,
          205.6,
          205.8,
          206.7,
          210.2,
          212.8,
          214.8,
          215.5,
          215.8,
          216,
          216.8,
          216.9,
          217.8,
          219,
          220.3,
          221,
          224.8,
          225.3,
          227.2,
          234,
          240.5,
          242.2,
          250.3,
          250.6,
          257.5,
          261.4,
          263.7,
          264.9,
          267.9,
          268.9,
          270.9,
          271.5,
          274.3,
          276.3,
          276.5,
          279,
          280.2,
          283.7,
          290.6,
          292.3,
          296.4,
          299,
          300.5,
          309.7,
          316.9,
          320.7,
          326.6,
          331.4,
          333.6,
          335,
          341.1,
          344.7,
          347.9,
          349.8,
          350.8,
          354.5,
          358.2,
          369,
          381.5,
          390.5,
          409,
          412.1,
          412.2,
          413.9,
          425.1,
          429,
          439.4,
          455.9,
          467.7,
          476.9,
          479.2,
          510.3,
          513,
          547.4,
          547.4,
          580.5,
          593.9,
          610.3,
          645,
          66.18,
          67.73,
          68.38,
          694.8,
          70.03,
          70.75,
          71.3,
          71.57,
          71.69,
          73.17,
          76.49,
          78.02,
          79.01,
          79.92,
          80.61,
          80.67,
          81.76,
          82.28,
          85.74,
          86.58,
          86.82,
          87.4,
          90.53,
          91.25,
          95.07,
          96.58,
          97,
          98.39,
          98.74,
          98.92,
          99.59
         ],
         "zmax": 769.3,
         "zmin": 33.43
        },
        {
         "colorbar": {
          "title": {
           "text": "Adult Morality"
          }
         },
         "colorscale": [
          [
           0,
           "rgb(0,0,255)"
          ],
          [
           1,
           "rgb(255,0,0)"
          ]
         ],
         "geo": "geo4",
         "locationmode": "country names",
         "locations": [
          "Chile",
          "Costa Rica",
          "Portugal",
          "Saudi Arabia",
          "Albania",
          "Tunisia",
          "Lebanon",
          "Cuba",
          "Bosnia and Herzegovina",
          "United States of America",
          "Maldives",
          "Slovenia",
          "Panama",
          "Czechia",
          "Croatia",
          "Barbados",
          "Syrian Arab Republic",
          "The former Yugoslav Republic of Macedonia",
          "Uruguay",
          "Jordan",
          "Oman",
          "Serbia",
          "Montenegro",
          "Algeria",
          "Argentina",
          "Türkiye",
          "Mexico",
          "Armenia",
          "Viet Nam",
          "Morocco",
          "Poland",
          "Malaysia",
          "Slovakia",
          "Libya",
          "Georgia",
          "Ecuador",
          "Sri Lanka",
          "Tajikistan",
          "Peru",
          "Azerbaijan",
          "Antigua and Barbuda",
          "Tonga",
          "Bulgaria",
          "Colombia",
          "Iran (Islamic Republic of)",
          "Cabo Verde",
          "Bangladesh",
          "Democratic People's Republic of Korea",
          "Paraguay",
          "Mauritius",
          "Samoa",
          "Saint Lucia",
          "Jamaica",
          "Honduras",
          "Vanuatu",
          "Brazil",
          "Uzbekistan",
          "Romania",
          "Egypt",
          "Grenada",
          "Venezuela (Bolivarian Republic of)",
          "Micronesia (Federated States of)",
          "Hungary",
          "Seychelles",
          "Pakistan",
          "Indonesia",
          "Nicaragua",
          "Saint Vincent and the Grenadines",
          "Thailand",
          "Estonia",
          "Belize",
          "Trinidad and Tobago",
          "Bahamas",
          "Lithuania",
          "Guatemala",
          "El Salvador",
          "Solomon Islands",
          "Latvia",
          "Philippines",
          "Iraq",
          "Dominican Republic",
          "Kiribati",
          "India",
          "Republic of Moldova",
          "Kyrgyzstan",
          "Turkmenistan",
          "Fiji",
          "Suriname",
          "Nepal",
          "Mauritania",
          "Sao Tome and Principe",
          "Bolivia (Plurinational State of)",
          "Myanmar",
          "Yemen",
          "Timor-Leste",
          "Senegal",
          "Belarus",
          "Ukraine",
          "Lao People's Democratic Republic",
          "Mongolia",
          "Papua New Guinea",
          "Madagascar",
          "Cambodia",
          "Comoros",
          "Bhutan",
          "Guyana",
          "Sudan",
          "Kazakhstan",
          "Benin",
          "Afghanistan",
          "Niger",
          "Haiti",
          "Gambia",
          "Guinea-Bissau",
          "Ghana",
          "Mali",
          "Djibouti",
          "Russian Federation",
          "Burkina Faso",
          "Democratic Republic of the Congo",
          "Gabon",
          "Togo",
          "Angola",
          "Guinea",
          "Somalia",
          "Eritrea",
          "Equatorial Guinea",
          "Burundi",
          "Liberia",
          "South Sudan",
          "Ethiopia",
          "Cameroon",
          "Chad",
          "Nigeria",
          "Rwanda",
          "Congo",
          "South Africa",
          "Mozambique",
          "United Republic of Tanzania",
          "Kenya",
          "Côte d’Ivoire",
          "Uganda",
          "Namibia",
          "Sierra Leone",
          "Central African Republic",
          "Malawi",
          "Zambia",
          "Lesotho",
          "Iceland",
          "Eswatini",
          "Botswana",
          "Malta",
          "Sweden",
          "Japan",
          "Cyprus",
          "Australia",
          "Zimbabwe",
          "Italy",
          "Qatar",
          "Switzerland",
          "Singapore",
          "Israel",
          "Norway",
          "Canada",
          "Greece",
          "Netherlands",
          "Ireland",
          "New Zealand",
          "Spain",
          "Luxembourg",
          "United Kingdom of Great Britain and Northern Ireland",
          "Austria",
          "Germany",
          "Kuwait",
          "Brunei Darussalam",
          "Bahrain",
          "Belgium",
          "Republic of Korea",
          "France",
          "Finland",
          "United Arab Emirates",
          "Denmark",
          "China"
         ],
         "type": "choropleth",
         "z": [
          100.4,
          100.9,
          104,
          106.1,
          106.8,
          106.9,
          107.3,
          111.6,
          112.5,
          113.8,
          114,
          119.1,
          120.1,
          120.8,
          121.3,
          123.3,
          123.6,
          124.5,
          125.4,
          127,
          127,
          130.6,
          132.2,
          133.2,
          134.4,
          134.5,
          135.9,
          136.7,
          136.7,
          139.2,
          140.3,
          141,
          143.2,
          143.4,
          143.8,
          146.3,
          146.8,
          147.1,
          147.5,
          150.9,
          151.2,
          153.3,
          153.6,
          155,
          158.7,
          160.3,
          160.9,
          165.5,
          166.2,
          168.4,
          169.1,
          169.3,
          169.7,
          169.9,
          171.5,
          171.7,
          173.1,
          173.7,
          174.7,
          174.8,
          179.7,
          180.5,
          183.9,
          184.9,
          185.1,
          188.2,
          189,
          192.2,
          194.4,
          197.1,
          199,
          199.4,
          203.2,
          207.2,
          209,
          210.8,
          211.3,
          212.1,
          212.5,
          213.3,
          215.1,
          215.3,
          216.4,
          216.6,
          217.1,
          217.5,
          219.9,
          222.1,
          225.2,
          226.2,
          227,
          230.3,
          238,
          249.2,
          250.4,
          250.5,
          254.4,
          258.2,
          258.8,
          265.1,
          265.1,
          268.4,
          269.7,
          270.7,
          271.1,
          277,
          277.8,
          283.4,
          284.5,
          286.5,
          289.5,
          296.8,
          297.4,
          299.9,
          309.2,
          315.8,
          324.9,
          325,
          330.3,
          333.5,
          335.5,
          337.9,
          343.2,
          345.5,
          346.6,
          347.3,
          359.4,
          370,
          377,
          383,
          386.2,
          408.2,
          411.7,
          415.1,
          416.9,
          417.7,
          436.6,
          446,
          452.8,
          466.3,
          477.7,
          494.1,
          500.1,
          506.1,
          546.8,
          550.1,
          592.8,
          607.9,
          62.99,
          632.8,
          641.4,
          66.29,
          68.35,
          68.41,
          69.19,
          69.39,
          696.9,
          70.19,
          70.23,
          71.42,
          73.32,
          75.61,
          76.71,
          77.36,
          79.51,
          79.77,
          80.11,
          81.43,
          81.8,
          84.85,
          85.67,
          86,
          89.13,
          90.18,
          90.71,
          92.13,
          93.56,
          94.86,
          96.82,
          96.9,
          97.74,
          98,
          98.62
         ],
         "zmax": 769.3,
         "zmin": 33.43
        },
        {
         "colorbar": {
          "title": {
           "text": "Adult Morality"
          }
         },
         "colorscale": [
          [
           0,
           "rgb(0,0,255)"
          ],
          [
           1,
           "rgb(255,0,0)"
          ]
         ],
         "geo": "geo5",
         "locationmode": "country names",
         "locations": [
          "Finland",
          "Albania",
          "Costa Rica",
          "Saudi Arabia",
          "Lebanon",
          "Tunisia",
          "Bosnia and Herzegovina",
          "Cuba",
          "United States of America",
          "Croatia",
          "Slovenia",
          "Czechia",
          "Barbados",
          "Panama",
          "Maldives",
          "The former Yugoslav Republic of Macedonia",
          "Oman",
          "Syrian Arab Republic",
          "Uruguay",
          "Algeria",
          "Jordan",
          "Argentina",
          "Serbia",
          "Morocco",
          "Montenegro",
          "Türkiye",
          "Mexico",
          "Armenia",
          "Viet Nam",
          "Slovakia",
          "Malaysia",
          "Libya",
          "Tajikistan",
          "Poland",
          "Iran (Islamic Republic of)",
          "Peru",
          "Ecuador",
          "Georgia",
          "Azerbaijan",
          "Tonga",
          "Colombia",
          "Antigua and Barbuda",
          "Bulgaria",
          "Bangladesh",
          "Cabo Verde",
          "Samoa",
          "Saint Lucia",
          "Mauritius",
          "Paraguay",
          "Democratic People's Republic of Korea",
          "Romania",
          "Honduras",
          "Jamaica",
          "Vanuatu",
          "Venezuela (Bolivarian Republic of)",
          "Brazil",
          "Egypt",
          "Uzbekistan",
          "Micronesia (Federated States of)",
          "Hungary",
          "Pakistan",
          "Nicaragua",
          "Seychelles",
          "Grenada",
          "Bahamas",
          "Saint Vincent and the Grenadines",
          "Estonia",
          "Thailand",
          "Belize",
          "Trinidad and Tobago",
          "Sri Lanka",
          "Iraq",
          "Solomon Islands",
          "Guatemala",
          "El Salvador",
          "Latvia",
          "Lithuania",
          "Indonesia",
          "Philippines",
          "Kiribati",
          "India",
          "Suriname",
          "Republic of Moldova",
          "Kyrgyzstan",
          "Dominican Republic",
          "Fiji",
          "Nepal",
          "Turkmenistan",
          "Mauritania",
          "Bolivia (Plurinational State of)",
          "Sao Tome and Principe",
          "Timor-Leste",
          "Myanmar",
          "Yemen",
          "Senegal",
          "Belarus",
          "Lao People's Democratic Republic",
          "Papua New Guinea",
          "Mongolia",
          "Cambodia",
          "Bhutan",
          "Madagascar",
          "Comoros",
          "Ukraine",
          "Guyana",
          "Sudan",
          "Afghanistan",
          "Benin",
          "Niger",
          "Kazakhstan",
          "Gambia",
          "Guinea-Bissau",
          "Liberia",
          "Ghana",
          "Mali",
          "Haiti",
          "Russian Federation",
          "Burkina Faso",
          "Djibouti",
          "Democratic Republic of the Congo",
          "Angola",
          "Gabon",
          "Guinea",
          "Togo",
          "Eritrea",
          "Somalia",
          "Equatorial Guinea",
          "Burundi",
          "Ethiopia",
          "South Sudan",
          "Rwanda",
          "Cameroon",
          "Congo",
          "Nigeria",
          "Chad",
          "United Republic of Tanzania",
          "Mozambique",
          "Kenya",
          "South Africa",
          "Côte d’Ivoire",
          "Uganda",
          "Sierra Leone",
          "Namibia",
          "Central African Republic",
          "Malawi",
          "Zambia",
          "Botswana",
          "Iceland",
          "Lesotho",
          "Malta",
          "Eswatini",
          "Italy",
          "Japan",
          "Australia",
          "Switzerland",
          "Qatar",
          "Sweden",
          "Zimbabwe",
          "Israel",
          "Singapore",
          "Cyprus",
          "Canada",
          "Norway",
          "Netherlands",
          "Spain",
          "New Zealand",
          "Ireland",
          "Luxembourg",
          "Greece",
          "United Kingdom of Great Britain and Northern Ireland",
          "Austria",
          "Germany",
          "Kuwait",
          "Brunei Darussalam",
          "Belgium",
          "Republic of Korea",
          "France",
          "Bahrain",
          "United Arab Emirates",
          "Denmark",
          "China",
          "Chile",
          "Portugal"
         ],
         "type": "choropleth",
         "z": [
          100.7,
          101.3,
          101.8,
          104.9,
          105,
          105.6,
          108.2,
          109.3,
          111.3,
          113.1,
          113.2,
          115,
          115.9,
          116.5,
          118.4,
          118.8,
          122.4,
          124.6,
          125,
          125.1,
          125.1,
          127.8,
          128.6,
          129.2,
          131.1,
          131.6,
          132.3,
          135,
          136.7,
          137.4,
          139.6,
          140.9,
          141.9,
          142.2,
          142.4,
          144.9,
          145,
          148.4,
          151.1,
          151.5,
          151.8,
          152.8,
          154.3,
          158,
          159.4,
          160.6,
          162.3,
          163.6,
          165,
          165.5,
          165.6,
          165.8,
          167.7,
          168,
          168.4,
          169.4,
          173.4,
          174.5,
          179,
          180.4,
          183.1,
          184.7,
          186.1,
          186.2,
          186.5,
          188.2,
          193.5,
          194.1,
          194.5,
          195.9,
          197.4,
          201.5,
          204.8,
          206.1,
          208.7,
          208.7,
          208.8,
          212.4,
          213.1,
          214,
          214.2,
          215.6,
          216.3,
          216.6,
          217.6,
          217.8,
          220.8,
          223.8,
          225.1,
          226,
          229,
          229.3,
          235.9,
          247.6,
          248,
          249.2,
          252.5,
          259.9,
          261.4,
          261.6,
          264.2,
          267.5,
          268.7,
          268.9,
          270.4,
          278.5,
          281.9,
          284.5,
          287.4,
          288.6,
          294.4,
          302.5,
          306.2,
          307.2,
          310,
          317.5,
          321.3,
          322.6,
          322.9,
          324.4,
          333.9,
          337.7,
          338.9,
          339,
          342,
          344.8,
          361.1,
          363.7,
          374.7,
          384.1,
          398.9,
          403.6,
          407.2,
          410.9,
          412.5,
          447.9,
          449.9,
          459,
          459.5,
          475.1,
          480.3,
          495.6,
          512.7,
          544.7,
          548.9,
          575.1,
          606.7,
          61.34,
          626.7,
          64.21,
          649.6,
          66.1,
          66.86,
          67.45,
          68,
          68.59,
          69.75,
          694.4,
          72.59,
          72.73,
          73.96,
          75.7,
          75.7,
          76.21,
          78.55,
          78.57,
          79.26,
          79.39,
          79.86,
          82.39,
          83.9,
          85.06,
          89.13,
          89.34,
          89.46,
          90.25,
          91.58,
          93.95,
          94.32,
          95.29,
          96.74,
          97.86,
          99.49
         ],
         "zmax": 769.3,
         "zmin": 33.43
        },
        {
         "colorbar": {
          "title": {
           "text": "Adult Morality"
          }
         },
         "colorscale": [
          [
           0,
           "rgb(0,0,255)"
          ],
          [
           1,
           "rgb(255,0,0)"
          ]
         ],
         "geo": "geo6",
         "locationmode": "country names",
         "locations": [
          "Lebanon",
          "Saudi Arabia",
          "Slovenia",
          "Tunisia",
          "Albania",
          "Cuba",
          "Bosnia and Herzegovina",
          "United States of America",
          "Czechia",
          "Barbados",
          "Panama",
          "Croatia",
          "Morocco",
          "The former Yugoslav Republic of Macedonia",
          "Oman",
          "Algeria",
          "Syrian Arab Republic",
          "Uruguay",
          "Argentina",
          "Jordan",
          "Serbia",
          "Türkiye",
          "Montenegro",
          "Mexico",
          "Viet Nam",
          "Libya",
          "Malaysia",
          "Sri Lanka",
          "Armenia",
          "Slovakia",
          "Iran (Islamic Republic of)",
          "Peru",
          "Poland",
          "Colombia",
          "Georgia",
          "Ecuador",
          "Tonga",
          "Bangladesh",
          "Tajikistan",
          "Antigua and Barbuda",
          "Bulgaria",
          "Samoa",
          "Cabo Verde",
          "Saint Lucia",
          "Azerbaijan",
          "Brazil",
          "Romania",
          "Paraguay",
          "Mauritius",
          "Vanuatu",
          "Jamaica",
          "Venezuela (Bolivarian Republic of)",
          "Honduras",
          "Democratic People's Republic of Korea",
          "Grenada",
          "Egypt",
          "Micronesia (Federated States of)",
          "Nicaragua",
          "Bahamas",
          "Hungary",
          "Saint Vincent and the Grenadines",
          "Thailand",
          "Uzbekistan",
          "Seychelles",
          "Estonia",
          "Indonesia",
          "Belize",
          "Trinidad and Tobago",
          "Solomon Islands",
          "Pakistan",
          "Timor-Leste",
          "El Salvador",
          "Suriname",
          "Iraq",
          "Nepal",
          "India",
          "Guatemala",
          "Dominican Republic",
          "Kiribati",
          "Fiji",
          "Philippines",
          "Latvia",
          "Bolivia (Plurinational State of)",
          "Kyrgyzstan",
          "Mauritania",
          "Sao Tome and Principe",
          "Lithuania",
          "Myanmar",
          "Turkmenistan",
          "Republic of Moldova",
          "Senegal",
          "Lao People's Democratic Republic",
          "Yemen",
          "Cambodia",
          "Bhutan",
          "Papua New Guinea",
          "Belarus",
          "Mongolia",
          "Sudan",
          "Madagascar",
          "Comoros",
          "Guyana",
          "Afghanistan",
          "Ukraine",
          "Benin",
          "Niger",
          "Haiti",
          "Gambia",
          "Kazakhstan",
          "Liberia",
          "Mali",
          "Ghana",
          "Guinea-Bissau",
          "Burkina Faso",
          "Djibouti",
          "Democratic Republic of the Congo",
          "Angola",
          "Russian Federation",
          "Gabon",
          "Guinea",
          "Eritrea",
          "Somalia",
          "Togo",
          "Burundi",
          "Ethiopia",
          "Equatorial Guinea",
          "Rwanda",
          "South Sudan",
          "Cameroon",
          "Congo",
          "Nigeria",
          "Chad",
          "Kenya",
          "United Republic of Tanzania",
          "Uganda",
          "Mozambique",
          "Côte d’Ivoire",
          "South Africa",
          "Sierra Leone",
          "Namibia",
          "Botswana",
          "Malawi",
          "Central African Republic",
          "Zambia",
          "Iceland",
          "Malta",
          "Lesotho",
          "Italy",
          "Switzerland",
          "Sweden",
          "Eswatini",
          "Qatar",
          "Japan",
          "Australia",
          "Zimbabwe",
          "Norway",
          "Netherlands",
          "Israel",
          "Singapore",
          "Cyprus",
          "Ireland",
          "Canada",
          "Spain",
          "New Zealand",
          "Greece",
          "Luxembourg",
          "United Kingdom of Great Britain and Northern Ireland",
          "Bahrain",
          "Austria",
          "Germany",
          "Republic of Korea",
          "Kuwait",
          "Belgium",
          "Denmark",
          "United Arab Emirates",
          "France",
          "Brunei Darussalam",
          "Maldives",
          "Chile",
          "China",
          "Costa Rica",
          "Portugal",
          "Finland"
         ],
         "type": "choropleth",
         "z": [
          103.3,
          103.8,
          104.2,
          104.5,
          105.7,
          109.7,
          111.6,
          112.3,
          113.1,
          113.9,
          116,
          116.3,
          116.4,
          118,
          118.4,
          119.3,
          123.3,
          124.7,
          124.9,
          126.7,
          128.1,
          129,
          129.6,
          133.6,
          136.9,
          138.1,
          138.1,
          138.6,
          139.7,
          140,
          141.4,
          143,
          143.6,
          144.3,
          144.5,
          148.8,
          149.5,
          154.5,
          155.1,
          156.1,
          156.4,
          157.1,
          157.3,
          158,
          160,
          162.2,
          162.3,
          163.5,
          163.8,
          163.8,
          163.9,
          164,
          164.4,
          165.8,
          171.4,
          172.2,
          177.5,
          179.1,
          180,
          182.4,
          182.4,
          182.6,
          183.2,
          185.2,
          187.3,
          189.1,
          190.4,
          194.9,
          198.6,
          199.6,
          205.9,
          206.4,
          206.9,
          210.1,
          210.4,
          210.8,
          211.2,
          212.5,
          212.9,
          214.5,
          216.9,
          219.5,
          222.4,
          222.8,
          223.9,
          227.3,
          227.7,
          233,
          233.8,
          240.4,
          244.2,
          245.8,
          245.8,
          249.4,
          253.6,
          254.2,
          255,
          257.7,
          261.2,
          265.2,
          265.8,
          266.6,
          277.2,
          280,
          283.7,
          284.8,
          289.7,
          290.4,
          296.6,
          301.8,
          302.4,
          302.8,
          304.7,
          313.5,
          314.1,
          315.3,
          322.7,
          326,
          326.2,
          328.6,
          334.7,
          338.6,
          341.3,
          357.1,
          358,
          360.5,
          366.1,
          384.6,
          388.9,
          391.7,
          402.3,
          412.4,
          437.7,
          440.9,
          448.1,
          452.5,
          459.3,
          473.6,
          482,
          496.7,
          535.3,
          535.4,
          539.4,
          556.3,
          61.37,
          62.73,
          637.1,
          65.05,
          65.69,
          65.87,
          651.7,
          67.09,
          67.52,
          68.13,
          681.1,
          71.89,
          71.98,
          72.49,
          74.23,
          75.01,
          75.41,
          75.69,
          76.22,
          77.39,
          78.98,
          81.14,
          81.21,
          83.48,
          83.7,
          84.32,
          86.24,
          87.94,
          88.15,
          89.49,
          91.04,
          91.55,
          91.67,
          92.79,
          94.64,
          95.05,
          95.5,
          97.15,
          99.97
         ],
         "zmax": 769.3,
         "zmin": 33.43
        },
        {
         "colorbar": {
          "title": {
           "text": "Adult Morality"
          }
         },
         "colorscale": [
          [
           0,
           "rgb(0,0,255)"
          ],
          [
           1,
           "rgb(255,0,0)"
          ]
         ],
         "geo": "geo7",
         "locationmode": "country names",
         "locations": [
          "Albania",
          "Cuba",
          "Saudi Arabia",
          "Tunisia",
          "Costa Rica",
          "Morocco",
          "Slovenia",
          "Czechia",
          "Bosnia and Herzegovina",
          "United States of America",
          "Barbados",
          "Croatia",
          "Algeria",
          "Oman",
          "Lebanon",
          "Uruguay",
          "Panama",
          "The former Yugoslav Republic of Macedonia",
          "Jordan",
          "Syrian Arab Republic",
          "Argentina",
          "Serbia",
          "Türkiye",
          "Montenegro",
          "Mexico",
          "Libya",
          "Malaysia",
          "Viet Nam",
          "Slovakia",
          "Iran (Islamic Republic of)",
          "Peru",
          "Ecuador",
          "Armenia",
          "Sri Lanka",
          "Georgia",
          "Poland",
          "Colombia",
          "Tonga",
          "Samoa",
          "Cabo Verde",
          "Tajikistan",
          "Bangladesh",
          "Azerbaijan",
          "Jamaica",
          "Saint Lucia",
          "Antigua and Barbuda",
          "Bulgaria",
          "Romania",
          "Brazil",
          "Vanuatu",
          "Paraguay",
          "Honduras",
          "Mauritius",
          "Democratic People's Republic of Korea",
          "Grenada",
          "Venezuela (Bolivarian Republic of)",
          "Nicaragua",
          "Thailand",
          "Egypt",
          "Uzbekistan",
          "Micronesia (Federated States of)",
          "Bahamas",
          "Hungary",
          "Saint Vincent and the Grenadines",
          "Pakistan",
          "Belize",
          "Seychelles",
          "Estonia",
          "Timor-Leste",
          "Trinidad and Tobago",
          "Indonesia",
          "Solomon Islands",
          "Nepal",
          "El Salvador",
          "Suriname",
          "Guatemala",
          "Dominican Republic",
          "India",
          "Fiji",
          "Kiribati",
          "Philippines",
          "Bolivia (Plurinational State of)",
          "Mauritania",
          "Sao Tome and Principe",
          "Myanmar",
          "Turkmenistan",
          "Latvia",
          "Kyrgyzstan",
          "Cambodia",
          "Lithuania",
          "Republic of Moldova",
          "Lao People's Democratic Republic",
          "Senegal",
          "Yemen",
          "Bhutan",
          "Belarus",
          "Papua New Guinea",
          "Iraq",
          "Mongolia",
          "Sudan",
          "Comoros",
          "Madagascar",
          "Guyana",
          "Ukraine",
          "Afghanistan",
          "Niger",
          "Haiti",
          "Benin",
          "Gambia",
          "Liberia",
          "Ghana",
          "Mali",
          "Russian Federation",
          "Kazakhstan",
          "Burkina Faso",
          "Democratic Republic of the Congo",
          "Guinea-Bissau",
          "Gabon",
          "Djibouti",
          "Angola",
          "Guinea",
          "Rwanda",
          "Eritrea",
          "Togo",
          "Ethiopia",
          "Somalia",
          "Burundi",
          "Equatorial Guinea",
          "Congo",
          "Cameroon",
          "South Sudan",
          "Nigeria",
          "Kenya",
          "Uganda",
          "Chad",
          "United Republic of Tanzania",
          "Côte d’Ivoire",
          "Mozambique",
          "Namibia",
          "Sierra Leone",
          "Botswana",
          "South Africa",
          "Malawi",
          "Central African Republic",
          "Zambia",
          "Iceland",
          "Lesotho",
          "Eswatini",
          "Malta",
          "Italy",
          "Switzerland",
          "Sweden",
          "Cyprus",
          "Australia",
          "Zimbabwe",
          "Qatar",
          "Japan",
          "Israel",
          "Norway",
          "Netherlands",
          "Singapore",
          "Spain",
          "Canada",
          "Ireland",
          "New Zealand",
          "Greece",
          "Luxembourg",
          "Austria",
          "United Kingdom of Great Britain and Northern Ireland",
          "Republic of Korea",
          "Germany",
          "Belgium",
          "Kuwait",
          "United Arab Emirates",
          "Maldives",
          "Bahrain",
          "France",
          "Denmark",
          "Chile",
          "China",
          "Brunei Darussalam",
          "Portugal",
          "Finland"
         ],
         "type": "choropleth",
         "z": [
          100.7,
          102.7,
          102.7,
          103.6,
          103.9,
          105.6,
          106.8,
          107.9,
          108.6,
          112.5,
          113,
          114,
          114.7,
          114.9,
          115.6,
          118.1,
          119.4,
          120.2,
          121.6,
          123.1,
          124.2,
          125.5,
          126.1,
          126.7,
          131.4,
          135.3,
          136.6,
          136.8,
          137.6,
          139.5,
          140.8,
          143.8,
          144.7,
          144.7,
          144.8,
          144.9,
          145.5,
          147.7,
          149.3,
          150.5,
          150.5,
          151.4,
          153.1,
          153.9,
          154.5,
          155.1,
          156.7,
          157.8,
          159.9,
          160.1,
          161,
          161.5,
          162.1,
          166,
          167.2,
          167.9,
          173.5,
          174,
          174.1,
          174.1,
          176.1,
          176.8,
          177.5,
          178.7,
          179.5,
          184.6,
          185.1,
          185.7,
          186,
          188.6,
          190.4,
          192.5,
          201.5,
          202.8,
          203,
          205.4,
          206.9,
          207.5,
          211.5,
          211.9,
          215,
          218.8,
          221.3,
          223,
          230.1,
          230.8,
          232.1,
          232.9,
          234.5,
          235,
          236.6,
          240,
          240.4,
          243.4,
          245.8,
          246.1,
          248.5,
          249.6,
          254,
          259.8,
          262.4,
          263.3,
          266.7,
          268.3,
          275.8,
          281.5,
          282.4,
          282.5,
          284,
          296.1,
          297.6,
          297.9,
          298.7,
          298.8,
          303.4,
          306.8,
          307.4,
          307.6,
          308,
          313.7,
          316.3,
          320.6,
          326,
          332.1,
          338.6,
          340.9,
          350.3,
          357.5,
          366.3,
          379.2,
          384.1,
          394.9,
          410.4,
          418.2,
          419,
          427.4,
          444.3,
          451.7,
          462.7,
          467,
          470.9,
          477.1,
          511.1,
          530.1,
          532.2,
          62.29,
          620.1,
          627.8,
          63.12,
          63.96,
          64.02,
          64.09,
          64.47,
          64.8,
          659.7,
          66.16,
          66.74,
          68.89,
          69.36,
          69.97,
          71.16,
          73.43,
          73.97,
          74.81,
          75.42,
          75.52,
          77.86,
          80.45,
          80.74,
          82.11,
          83.27,
          84.6,
          87.16,
          88.4,
          88.48,
          88.64,
          89.87,
          90.87,
          93.26,
          93.45,
          94.16,
          94.66,
          95.44
         ],
         "zmax": 769.3,
         "zmin": 33.43
        },
        {
         "colorbar": {
          "title": {
           "text": "Adult Morality"
          }
         },
         "colorscale": [
          [
           0,
           "rgb(0,0,255)"
          ],
          [
           1,
           "rgb(255,0,0)"
          ]
         ],
         "geo": "geo8",
         "locationmode": "country names",
         "locations": [
          "Albania",
          "Cuba",
          "Saudi Arabia",
          "Slovenia",
          "Tunisia",
          "Czechia",
          "United States of America",
          "Algeria",
          "Barbados",
          "Oman",
          "Bosnia and Herzegovina",
          "Croatia",
          "The former Yugoslav Republic of Macedonia",
          "Panama",
          "Jordan",
          "Montenegro",
          "Syrian Arab Republic",
          "Serbia",
          "Türkiye",
          "Uruguay",
          "Argentina",
          "Mexico",
          "Libya",
          "Malaysia",
          "Viet Nam",
          "Armenia",
          "Iran (Islamic Republic of)",
          "Peru",
          "Slovakia",
          "Georgia",
          "Azerbaijan",
          "Colombia",
          "Ecuador",
          "Samoa",
          "Sri Lanka",
          "Poland",
          "Tonga",
          "Cabo Verde",
          "Tajikistan",
          "Antigua and Barbuda",
          "Bangladesh",
          "Jamaica",
          "Bulgaria",
          "Saint Lucia",
          "Romania",
          "Vanuatu",
          "Brazil",
          "Paraguay",
          "Honduras",
          "Mauritius",
          "Grenada",
          "Uzbekistan",
          "Democratic People's Republic of Korea",
          "Thailand",
          "Nicaragua",
          "Venezuela (Bolivarian Republic of)",
          "Bahamas",
          "Egypt",
          "Saint Vincent and the Grenadines",
          "Timor-Leste",
          "Micronesia (Federated States of)",
          "Hungary",
          "Pakistan",
          "Belize",
          "Seychelles",
          "Estonia",
          "Trinidad and Tobago",
          "Indonesia",
          "Guatemala",
          "Solomon Islands",
          "Nepal",
          "Suriname",
          "El Salvador",
          "Dominican Republic",
          "India",
          "Philippines",
          "Fiji",
          "Kiribati",
          "Bolivia (Plurinational State of)",
          "Mauritania",
          "Sao Tome and Principe",
          "Cambodia",
          "Latvia",
          "Turkmenistan",
          "Myanmar",
          "Iraq",
          "Belarus",
          "Kyrgyzstan",
          "Republic of Moldova",
          "Senegal",
          "Lao People's Democratic Republic",
          "Bhutan",
          "Yemen",
          "Papua New Guinea",
          "Lithuania",
          "Mongolia",
          "Sudan",
          "Guyana",
          "Comoros",
          "Madagascar",
          "Haiti",
          "Afghanistan",
          "Ukraine",
          "Niger",
          "Russian Federation",
          "Benin",
          "Rwanda",
          "Gambia",
          "Liberia",
          "Ghana",
          "Mali",
          "Kazakhstan",
          "Burkina Faso",
          "Djibouti",
          "Democratic Republic of the Congo",
          "Angola",
          "Guinea",
          "Gabon",
          "Guinea-Bissau",
          "Ethiopia",
          "Eritrea",
          "Togo",
          "Somalia",
          "Burundi",
          "Congo",
          "Equatorial Guinea",
          "Kenya",
          "Cameroon",
          "South Sudan",
          "Nigeria",
          "Chad",
          "United Republic of Tanzania",
          "Namibia",
          "Uganda",
          "Botswana",
          "Côte d’Ivoire",
          "Mozambique",
          "Sierra Leone",
          "South Africa",
          "Malawi",
          "Zambia",
          "Central African Republic",
          "Eswatini",
          "Lesotho",
          "Iceland",
          "Switzerland",
          "Italy",
          "Sweden",
          "Zimbabwe",
          "Malta",
          "Australia",
          "Qatar",
          "Japan",
          "Norway",
          "Netherlands",
          "Israel",
          "Singapore",
          "Cyprus",
          "Ireland",
          "Spain",
          "Canada",
          "Luxembourg",
          "New Zealand",
          "Greece",
          "United Kingdom of Great Britain and Northern Ireland",
          "Austria",
          "Republic of Korea",
          "Bahrain",
          "Germany",
          "Maldives",
          "Belgium",
          "Kuwait",
          "United Arab Emirates",
          "France",
          "Denmark",
          "Costa Rica",
          "Portugal",
          "China",
          "Chile",
          "Brunei Darussalam",
          "Finland",
          "Morocco",
          "Lebanon"
         ],
         "type": "choropleth",
         "z": [
          101.3,
          101.6,
          102,
          102.3,
          102.9,
          106.1,
          109.9,
          111.3,
          112.5,
          113.4,
          113.8,
          115,
          118.3,
          118.6,
          120,
          122.9,
          123,
          123.3,
          123.7,
          124.2,
          126.3,
          129,
          133,
          135.3,
          136.1,
          136.8,
          137.6,
          139,
          139.3,
          140.2,
          140.6,
          140.6,
          141.1,
          144,
          144.7,
          144.9,
          146.1,
          146.2,
          146.3,
          149,
          150.3,
          150.7,
          152.7,
          153.2,
          155.3,
          156.4,
          157.6,
          159,
          159.8,
          160.4,
          164.5,
          165.4,
          166.4,
          169.7,
          170.1,
          170.1,
          170.8,
          171.8,
          172.6,
          173.1,
          174.8,
          175.6,
          178.4,
          181.2,
          185,
          186.5,
          187.8,
          189.6,
          190.5,
          190.9,
          193.8,
          200.1,
          200.4,
          201,
          204.4,
          207.8,
          208.6,
          210.9,
          215.5,
          218.7,
          219.6,
          220.6,
          223.7,
          226.3,
          227.1,
          228.1,
          230.3,
          230.3,
          232.3,
          233.8,
          233.9,
          238.9,
          241.3,
          243.3,
          245.6,
          250.5,
          253.4,
          256.5,
          258.7,
          261.4,
          271.7,
          272.6,
          278.3,
          278.7,
          278.8,
          280.9,
          281.8,
          282.5,
          285.6,
          291.1,
          291.9,
          292.8,
          294.3,
          297.7,
          299.1,
          302.8,
          304.5,
          305.3,
          307,
          315.8,
          316.8,
          331.1,
          342.3,
          345.2,
          351.5,
          355.9,
          371.7,
          375.9,
          382.1,
          387.6,
          400.2,
          400.7,
          409.4,
          416.1,
          422.2,
          436.8,
          444,
          453.2,
          474.6,
          476.9,
          499.9,
          515.6,
          586.5,
          589.6,
          60.08,
          62.17,
          62.5,
          63.02,
          630.5,
          64.94,
          65.11,
          65.54,
          65.65,
          66.57,
          67.13,
          67.2,
          67.95,
          69.84,
          72.15,
          72.38,
          73.51,
          74.51,
          75.58,
          78.17,
          78.73,
          79.77,
          80.18,
          80.33,
          82.03,
          82.97,
          85.75,
          86.16,
          86.19,
          87.86,
          90.79,
          91.22,
          91.52,
          92.04,
          92.92,
          95.8,
          95.82,
          97.35,
          99.32
         ],
         "zmax": 769.3,
         "zmin": 33.43
        },
        {
         "colorbar": {
          "title": {
           "text": "Adult Morality"
          }
         },
         "colorscale": [
          [
           0,
           "rgb(0,0,255)"
          ],
          [
           1,
           "rgb(255,0,0)"
          ]
         ],
         "geo": "geo9",
         "locationmode": "country names",
         "locations": [
          "Cuba",
          "Saudi Arabia",
          "Tunisia",
          "Albania",
          "Czechia",
          "Bosnia and Herzegovina",
          "Algeria",
          "United States of America",
          "The former Yugoslav Republic of Macedonia",
          "Oman",
          "Barbados",
          "Croatia",
          "Jordan",
          "Uruguay",
          "Montenegro",
          "Türkiye",
          "Panama",
          "Serbia",
          "Syrian Arab Republic",
          "Argentina",
          "Libya",
          "Mexico",
          "Iran (Islamic Republic of)",
          "Malaysia",
          "Viet Nam",
          "Slovakia",
          "Peru",
          "Samoa",
          "Ecuador",
          "Tajikistan",
          "Poland",
          "Colombia",
          "Azerbaijan",
          "Cabo Verde",
          "Armenia",
          "Tonga",
          "Antigua and Barbuda",
          "Bangladesh",
          "Jamaica",
          "Georgia",
          "Bulgaria",
          "Saint Lucia",
          "Vanuatu",
          "Paraguay",
          "Uzbekistan",
          "Brazil",
          "Honduras",
          "Romania",
          "Grenada",
          "Hungary",
          "Estonia",
          "Democratic People's Republic of Korea",
          "Mauritius",
          "Nicaragua",
          "Thailand",
          "Bahamas",
          "Timor-Leste",
          "Iraq",
          "Saint Vincent and the Grenadines",
          "Sri Lanka",
          "Venezuela (Bolivarian Republic of)",
          "Micronesia (Federated States of)",
          "Egypt",
          "Pakistan",
          "Solomon Islands",
          "Belize",
          "Seychelles",
          "Guatemala",
          "Nepal",
          "Indonesia",
          "Dominican Republic",
          "Trinidad and Tobago",
          "El Salvador",
          "Suriname",
          "Latvia",
          "India",
          "Fiji",
          "Philippines",
          "Kiribati",
          "Cambodia",
          "Bolivia (Plurinational State of)",
          "Mauritania",
          "Sao Tome and Principe",
          "Kyrgyzstan",
          "Turkmenistan",
          "Republic of Moldova",
          "Senegal",
          "Belarus",
          "Lao People's Democratic Republic",
          "Lithuania",
          "Bhutan",
          "Papua New Guinea",
          "Yemen",
          "Mongolia",
          "Guyana",
          "Sudan",
          "Comoros",
          "Madagascar",
          "Rwanda",
          "Kazakhstan",
          "Afghanistan",
          "Haiti",
          "Russian Federation",
          "Ukraine",
          "Benin",
          "Niger",
          "Liberia",
          "Gambia",
          "Ghana",
          "Mali",
          "Burkina Faso",
          "Djibouti",
          "Angola",
          "Ethiopia",
          "Democratic Republic of the Congo",
          "Guinea",
          "Gabon",
          "Guinea-Bissau",
          "Myanmar",
          "Eritrea",
          "Togo",
          "Congo",
          "Somalia",
          "Burundi",
          "Kenya",
          "Equatorial Guinea",
          "Namibia",
          "Cameroon",
          "United Republic of Tanzania",
          "South Sudan",
          "Nigeria",
          "Botswana",
          "Chad",
          "Uganda",
          "Côte d’Ivoire",
          "Mozambique",
          "Malawi",
          "Zambia",
          "Sierra Leone",
          "South Africa",
          "Central African Republic",
          "Lesotho",
          "Eswatini",
          "Iceland",
          "Switzerland",
          "Zimbabwe",
          "Italy",
          "Malta",
          "Sweden",
          "Israel",
          "Japan",
          "Australia",
          "Qatar",
          "Norway",
          "Netherlands",
          "Singapore",
          "Cyprus",
          "Luxembourg",
          "Spain",
          "Ireland",
          "Canada",
          "Bahrain",
          "New Zealand",
          "Greece",
          "Austria",
          "United Kingdom of Great Britain and Northern Ireland",
          "Republic of Korea",
          "Maldives",
          "Germany",
          "United Arab Emirates",
          "Kuwait",
          "Denmark",
          "Belgium",
          "France",
          "Portugal",
          "Chile",
          "Morocco",
          "China",
          "Finland",
          "Brunei Darussalam",
          "Slovenia",
          "Costa Rica",
          "Lebanon"
         ],
         "type": "choropleth",
         "z": [
          100,
          100.7,
          102.1,
          102.2,
          104.6,
          105.3,
          108.4,
          108.5,
          109.3,
          110.2,
          112.1,
          117.3,
          118.7,
          118.7,
          119.1,
          121.3,
          122,
          122.3,
          123.1,
          123.5,
          131.2,
          133,
          133.5,
          134,
          134.7,
          135.5,
          135.8,
          139.1,
          140.8,
          140.9,
          141.8,
          142,
          142.1,
          142.2,
          144.3,
          144.7,
          146.8,
          146.8,
          146.8,
          149.7,
          150.3,
          152.1,
          152.8,
          156.8,
          156.8,
          156.9,
          158.1,
          160.1,
          161.7,
          164.4,
          164.5,
          164.7,
          164.8,
          165.3,
          166.9,
          167.6,
          168.5,
          168.6,
          169.1,
          170.8,
          172.8,
          173.7,
          173.8,
          177.2,
          181,
          182.8,
          184.5,
          186.4,
          188,
          189.5,
          192.4,
          195.3,
          198.3,
          199.6,
          200.3,
          201.1,
          205.9,
          206.6,
          209.8,
          210.9,
          211.1,
          216.4,
          217.3,
          217.8,
          219,
          221.7,
          221.9,
          228.2,
          228.4,
          228.6,
          234.6,
          237.3,
          239,
          247.6,
          249.1,
          250.3,
          255,
          258.4,
          263,
          263.7,
          264.9,
          266,
          273.9,
          275.4,
          276.1,
          276.6,
          277.8,
          282.9,
          283.5,
          287.5,
          288.5,
          290.6,
          292.2,
          294.5,
          294.6,
          300.4,
          303.9,
          304.1,
          306.6,
          309.1,
          329.9,
          334.2,
          338.1,
          340.4,
          343.9,
          348,
          354.2,
          365.2,
          366.9,
          377.5,
          385.5,
          396,
          400.4,
          406.9,
          422.7,
          427.1,
          438.1,
          438.6,
          441.8,
          458.1,
          495.3,
          520.7,
          554.1,
          57.24,
          59.43,
          596.3,
          61.16,
          61.88,
          62.13,
          63.95,
          64.13,
          64.38,
          65.4,
          66.13,
          67.21,
          67.34,
          67.98,
          68.75,
          70.45,
          71.9,
          72.72,
          73.17,
          74.24,
          75.05,
          76,
          78.04,
          78.6,
          80.33,
          80.71,
          84.52,
          85.35,
          85.56,
          85.99,
          86.94,
          89.31,
          91.13,
          92.05,
          92.64,
          93.61,
          94.03,
          96.49,
          97.28,
          99.26
         ],
         "zmax": 769.3,
         "zmin": 33.43
        },
        {
         "colorbar": {
          "title": {
           "text": "Adult Morality"
          }
         },
         "colorscale": [
          [
           0,
           "rgb(0,0,255)"
          ],
          [
           1,
           "rgb(255,0,0)"
          ]
         ],
         "geo": "geo10",
         "locationmode": "country names",
         "locations": [
          "Tunisia",
          "Czechia",
          "Albania",
          "Bosnia and Herzegovina",
          "Algeria",
          "United States of America",
          "Oman",
          "The former Yugoslav Republic of Macedonia",
          "Croatia",
          "Barbados",
          "Montenegro",
          "Jordan",
          "Uruguay",
          "Türkiye",
          "Serbia",
          "Iran (Islamic Republic of)",
          "Panama",
          "Argentina",
          "Syrian Arab Republic",
          "Libya",
          "Slovakia",
          "Malaysia",
          "Azerbaijan",
          "Viet Nam",
          "Peru",
          "Mexico",
          "Tajikistan",
          "Poland",
          "Ecuador",
          "Antigua and Barbuda",
          "Cabo Verde",
          "Armenia",
          "Jamaica",
          "Bangladesh",
          "Colombia",
          "Tonga",
          "Bulgaria",
          "Uzbekistan",
          "Vanuatu",
          "Iraq",
          "Saint Lucia",
          "Estonia",
          "Paraguay",
          "Honduras",
          "Brazil",
          "Georgia",
          "Grenada",
          "Romania",
          "Hungary",
          "Democratic People's Republic of Korea",
          "Saint Vincent and the Grenadines",
          "Nicaragua",
          "Samoa",
          "Thailand",
          "Mauritius",
          "Timor-Leste",
          "Bahamas",
          "Venezuela (Bolivarian Republic of)",
          "Micronesia (Federated States of)",
          "Pakistan",
          "Solomon Islands",
          "Egypt",
          "Sri Lanka",
          "Nepal",
          "Seychelles",
          "Belize",
          "Latvia",
          "Trinidad and Tobago",
          "Dominican Republic",
          "Indonesia",
          "Guatemala",
          "Turkmenistan",
          "Suriname",
          "El Salvador",
          "Lithuania",
          "India",
          "Cambodia",
          "Fiji",
          "Kyrgyzstan",
          "Bolivia (Plurinational State of)",
          "Philippines",
          "Kiribati",
          "Sao Tome and Principe",
          "Mauritania",
          "Senegal",
          "Republic of Moldova",
          "Myanmar",
          "Lao People's Democratic Republic",
          "Belarus",
          "Bhutan",
          "Ukraine",
          "Papua New Guinea",
          "Yemen",
          "Kazakhstan",
          "Mongolia",
          "Sudan",
          "Comoros",
          "Guyana",
          "Madagascar",
          "Russian Federation",
          "Haiti",
          "Afghanistan",
          "Benin",
          "Rwanda",
          "Liberia",
          "Niger",
          "Ghana",
          "Ethiopia",
          "Djibouti",
          "Angola",
          "Burkina Faso",
          "Gambia",
          "Mali",
          "Democratic Republic of the Congo",
          "Guinea",
          "Guinea-Bissau",
          "Gabon",
          "Eritrea",
          "Congo",
          "Kenya",
          "Togo",
          "Burundi",
          "Namibia",
          "Somalia",
          "Equatorial Guinea",
          "Botswana",
          "United Republic of Tanzania",
          "Cameroon",
          "South Sudan",
          "Chad",
          "Nigeria",
          "Uganda",
          "Zambia",
          "Malawi",
          "Mozambique",
          "Côte d’Ivoire",
          "Sierra Leone",
          "South Africa",
          "Central African Republic",
          "Lesotho",
          "Eswatini",
          "Iceland",
          "Zimbabwe",
          "Switzerland",
          "Italy",
          "Malta",
          "Sweden",
          "Israel",
          "Singapore",
          "Japan",
          "Australia",
          "Netherlands",
          "Qatar",
          "Norway",
          "Luxembourg",
          "Spain",
          "Cyprus",
          "Bahrain",
          "Canada",
          "New Zealand",
          "Ireland",
          "United Kingdom of Great Britain and Northern Ireland",
          "Greece",
          "Maldives",
          "Austria",
          "Republic of Korea",
          "Germany",
          "United Arab Emirates",
          "Belgium",
          "Denmark",
          "Kuwait",
          "Morocco",
          "France",
          "Portugal",
          "China",
          "Finland",
          "Slovenia",
          "Brunei Darussalam",
          "Chile",
          "Costa Rica",
          "Lebanon",
          "Cuba",
          "Saudi Arabia"
         ],
         "type": "choropleth",
         "z": [
          100.9,
          101.1,
          102.8,
          103.9,
          106.9,
          107.8,
          108.4,
          108.9,
          109.4,
          110,
          115.4,
          117.5,
          118.2,
          118.4,
          119.5,
          121.8,
          122.2,
          123.1,
          123.3,
          129.8,
          130.1,
          132.7,
          133,
          133.2,
          134.7,
          135.6,
          135.8,
          137.2,
          137.3,
          138.2,
          139.4,
          142.1,
          143.4,
          145,
          146.6,
          146.9,
          147.3,
          149.1,
          149.2,
          149.6,
          151.8,
          153.6,
          154.2,
          156,
          156.2,
          156.4,
          157.9,
          160,
          160.1,
          160.3,
          162.2,
          162.3,
          163.8,
          164.1,
          165.4,
          165.4,
          166.3,
          170.1,
          172.6,
          176.9,
          177.4,
          177.8,
          179,
          182.7,
          183,
          183.3,
          184.5,
          184.7,
          185.4,
          188.7,
          190.8,
          196.4,
          196.6,
          196.9,
          197.5,
          197.7,
          202.9,
          203.3,
          203.7,
          206.8,
          206.8,
          208.6,
          211.7,
          214.3,
          215.1,
          217.2,
          218.9,
          223.3,
          225.2,
          231.9,
          235.2,
          235.4,
          236.1,
          240.5,
          241.3,
          247.8,
          250.5,
          251.7,
          253.7,
          255.5,
          256.8,
          259.8,
          261.2,
          265.9,
          268.7,
          274.2,
          275.6,
          277.5,
          279.2,
          281,
          282.1,
          282.7,
          285.3,
          291.1,
          294.1,
          298.6,
          299.6,
          300.5,
          310.4,
          313.7,
          321.3,
          330.1,
          331.9,
          335.3,
          344.6,
          354.5,
          356.8,
          358.5,
          367.6,
          380.2,
          380.4,
          383.1,
          395.7,
          399.2,
          413.5,
          423.5,
          428.9,
          434.9,
          470.1,
          493.3,
          524.1,
          54.53,
          554.2,
          59.46,
          60.07,
          60.87,
          61.12,
          61.48,
          62.14,
          62.7,
          64.77,
          65.17,
          65.32,
          66.67,
          66.87,
          66.88,
          68.16,
          69.15,
          71.1,
          72.79,
          73.99,
          75.79,
          75.97,
          76.1,
          76.97,
          77.8,
          79.57,
          82.98,
          84.17,
          84.4,
          84.89,
          86.81,
          87.08,
          87.85,
          89.28,
          90.45,
          90.56,
          92.84,
          94.32,
          95.91,
          96.47,
          98.78,
          99.32
         ],
         "zmax": 769.3,
         "zmin": 33.43
        },
        {
         "colorbar": {
          "title": {
           "text": "Adult Morality"
          }
         },
         "colorscale": [
          [
           0,
           "rgb(0,0,255)"
          ],
          [
           1,
           "rgb(255,0,0)"
          ]
         ],
         "geo": "geo11",
         "locationmode": "country names",
         "locations": [
          "Bosnia and Herzegovina",
          "Albania",
          "Algeria",
          "United States of America",
          "Croatia",
          "The former Yugoslav Republic of Macedonia",
          "Costa Rica",
          "Oman",
          "Iran (Islamic Republic of)",
          "Barbados",
          "Montenegro",
          "Serbia",
          "Türkiye",
          "Jordan",
          "Panama",
          "Uruguay",
          "Argentina",
          "Slovakia",
          "Syrian Arab Republic",
          "Libya",
          "Poland",
          "Sri Lanka",
          "Malaysia",
          "Azerbaijan",
          "Peru",
          "Viet Nam",
          "Samoa",
          "Ecuador",
          "Estonia",
          "Antigua and Barbuda",
          "Tajikistan",
          "Mexico",
          "Armenia",
          "Cabo Verde",
          "Jamaica",
          "Tonga",
          "Bangladesh",
          "Bulgaria",
          "Iraq",
          "Uzbekistan",
          "Colombia",
          "Vanuatu",
          "Paraguay",
          "Hungary",
          "Saint Lucia",
          "Grenada",
          "Democratic People's Republic of Korea",
          "Brazil",
          "Romania",
          "Honduras",
          "Georgia",
          "Bahamas",
          "Nicaragua",
          "Thailand",
          "Venezuela (Bolivarian Republic of)",
          "Mauritius",
          "Timor-Leste",
          "Saint Vincent and the Grenadines",
          "Solomon Islands",
          "Micronesia (Federated States of)",
          "Pakistan",
          "Egypt",
          "Nepal",
          "Latvia",
          "Trinidad and Tobago",
          "Dominican Republic",
          "Seychelles",
          "Belize",
          "Guatemala",
          "Indonesia",
          "Turkmenistan",
          "Lithuania",
          "El Salvador",
          "Suriname",
          "India",
          "Cambodia",
          "Fiji",
          "Bolivia (Plurinational State of)",
          "Philippines",
          "Sao Tome and Principe",
          "Kiribati",
          "Kyrgyzstan",
          "Senegal",
          "Mauritania",
          "Myanmar",
          "Ukraine",
          "Lao People's Democratic Republic",
          "Republic of Moldova",
          "Belarus",
          "Bhutan",
          "Mongolia",
          "Yemen",
          "Papua New Guinea",
          "Rwanda",
          "Kazakhstan",
          "Sudan",
          "Comoros",
          "Madagascar",
          "Russian Federation",
          "Afghanistan",
          "Benin",
          "Guyana",
          "Liberia",
          "Ethiopia",
          "Niger",
          "Ghana",
          "Angola",
          "Djibouti",
          "Burkina Faso",
          "Gambia",
          "Mali",
          "Democratic Republic of the Congo",
          "Kenya",
          "Guinea",
          "Gabon",
          "Eritrea",
          "Guinea-Bissau",
          "Congo",
          "Togo",
          "Burundi",
          "Namibia",
          "Botswana",
          "Equatorial Guinea",
          "Somalia",
          "United Republic of Tanzania",
          "South Sudan",
          "Cameroon",
          "Zambia",
          "Uganda",
          "Malawi",
          "Chad",
          "Nigeria",
          "Mozambique",
          "Sierra Leone",
          "Côte d’Ivoire",
          "South Africa",
          "Central African Republic",
          "Lesotho",
          "Zimbabwe",
          "Eswatini",
          "Iceland",
          "Switzerland",
          "Italy",
          "Sweden",
          "Malta",
          "Israel",
          "Singapore",
          "Japan",
          "Australia",
          "Netherlands",
          "Spain",
          "Cyprus",
          "Norway",
          "Ireland",
          "Qatar",
          "Bahrain",
          "Luxembourg",
          "Canada",
          "Haiti",
          "New Zealand",
          "Maldives",
          "Greece",
          "United Kingdom of Great Britain and Northern Ireland",
          "Austria",
          "Republic of Korea",
          "Germany",
          "Belgium",
          "United Arab Emirates",
          "Morocco",
          "Denmark",
          "Kuwait",
          "France",
          "Portugal",
          "Slovenia",
          "Finland",
          "China",
          "Brunei Darussalam",
          "Chile",
          "Lebanon",
          "Saudi Arabia",
          "Cuba",
          "Czechia",
          "Tunisia"
         ],
         "type": "choropleth",
         "z": [
          100.7,
          103.5,
          104.4,
          105.2,
          105.7,
          105.8,
          106.5,
          106.8,
          107.1,
          107.8,
          111.9,
          115.1,
          116.2,
          116.4,
          117,
          117.9,
          118.7,
          122.1,
          123.6,
          128,
          131.2,
          131.2,
          131.5,
          131.8,
          132.2,
          132.2,
          133.8,
          134.1,
          134.5,
          134.6,
          135.4,
          135.6,
          137.9,
          138.1,
          139.2,
          142.1,
          143.1,
          143.4,
          144.4,
          144.9,
          145.6,
          145.7,
          151.7,
          152.1,
          152.6,
          153.7,
          153.8,
          154.3,
          154.7,
          155.5,
          156.8,
          159,
          160.1,
          161.2,
          161.6,
          162,
          162.7,
          163.2,
          170.3,
          171.6,
          175.3,
          177.9,
          178,
          178.3,
          178.6,
          179.7,
          180.6,
          182.2,
          186.1,
          187,
          188.4,
          188.5,
          192,
          194.1,
          194.4,
          196.3,
          199.9,
          202.2,
          203.1,
          205.1,
          207.3,
          208.7,
          209.2,
          212.7,
          214.7,
          217.5,
          218.1,
          223.3,
          225.5,
          227.8,
          233.8,
          233.9,
          234.7,
          239.1,
          242.8,
          242.9,
          245.4,
          247.5,
          250.6,
          254.8,
          256.7,
          257.9,
          258,
          261.9,
          269,
          269.5,
          269.7,
          271.3,
          277.2,
          282.4,
          282.8,
          283.2,
          285.3,
          286.2,
          288.3,
          292.7,
          297.9,
          299.7,
          306.4,
          322.7,
          327.6,
          331.2,
          334.7,
          335.4,
          342.5,
          353.7,
          354.8,
          363.6,
          364.3,
          366.3,
          373.4,
          377.6,
          408.9,
          414.6,
          415.4,
          416.3,
          458,
          477.8,
          500.4,
          503,
          53.36,
          57.03,
          57.76,
          57.87,
          58.29,
          59.69,
          60.01,
          61.36,
          63.06,
          64.33,
          64.63,
          65.01,
          65.04,
          65.12,
          65.15,
          65.97,
          66.83,
          68.89,
          682.5,
          70.84,
          71.1,
          73.57,
          73.79,
          74.43,
          76.04,
          77.52,
          81.24,
          81.49,
          81.99,
          82.55,
          84.09,
          85.28,
          86.04,
          87.21,
          87.86,
          87.96,
          91.16,
          93.63,
          95.31,
          97.12,
          97.35,
          98.47,
          99.43
         ],
         "zmax": 769.3,
         "zmin": 33.43
        },
        {
         "colorbar": {
          "title": {
           "text": "Adult Morality"
          }
         },
         "colorscale": [
          [
           0,
           "rgb(0,0,255)"
          ],
          [
           1,
           "rgb(255,0,0)"
          ]
         ],
         "geo": "geo12",
         "locationmode": "country names",
         "locations": [
          "The former Yugoslav Republic of Macedonia",
          "Algeria",
          "Albania",
          "Croatia",
          "Oman",
          "United States of America",
          "Barbados",
          "Montenegro",
          "Lebanon",
          "Serbia",
          "Türkiye",
          "Jordan",
          "Panama",
          "Uruguay",
          "Argentina",
          "Slovakia",
          "Samoa",
          "Antigua and Barbuda",
          "Poland",
          "Azerbaijan",
          "Peru",
          "Malaysia",
          "Ecuador",
          "Sri Lanka",
          "Viet Nam",
          "Tajikistan",
          "Mexico",
          "Armenia",
          "Cabo Verde",
          "Estonia",
          "Jamaica",
          "Colombia",
          "Tonga",
          "Bulgaria",
          "Romania",
          "Bangladesh",
          "Syrian Arab Republic",
          "Vanuatu",
          "Iraq",
          "Uzbekistan",
          "Hungary",
          "Democratic People's Republic of Korea",
          "Paraguay",
          "Grenada",
          "Saint Lucia",
          "Honduras",
          "Brazil",
          "Georgia",
          "Mauritius",
          "Libya",
          "Nicaragua",
          "Bahamas",
          "Thailand",
          "Venezuela (Bolivarian Republic of)",
          "Timor-Leste",
          "Solomon Islands",
          "Latvia",
          "Saint Vincent and the Grenadines",
          "Micronesia (Federated States of)",
          "Pakistan",
          "Nepal",
          "Egypt",
          "Dominican Republic",
          "Seychelles",
          "Guatemala",
          "Trinidad and Tobago",
          "Belize",
          "Republic of Moldova",
          "Lithuania",
          "Indonesia",
          "El Salvador",
          "Turkmenistan",
          "Suriname",
          "India",
          "Cambodia",
          "Kyrgyzstan",
          "Fiji",
          "Bolivia (Plurinational State of)",
          "Philippines",
          "Sao Tome and Principe",
          "Senegal",
          "Kiribati",
          "Ukraine",
          "Mauritania",
          "Myanmar",
          "Lao People's Democratic Republic",
          "Bhutan",
          "Mongolia",
          "Belarus",
          "Rwanda",
          "Kazakhstan",
          "Yemen",
          "Papua New Guinea",
          "Russian Federation",
          "Comoros",
          "Madagascar",
          "Sudan",
          "Liberia",
          "Afghanistan",
          "Ethiopia",
          "Benin",
          "Haiti",
          "Angola",
          "Guyana",
          "Ghana",
          "Kenya",
          "Djibouti",
          "Niger",
          "Burkina Faso",
          "Gambia",
          "Democratic Republic of the Congo",
          "Mali",
          "Gabon",
          "Guinea",
          "Eritrea",
          "Togo",
          "Congo",
          "Guinea-Bissau",
          "Namibia",
          "Burundi",
          "Botswana",
          "Somalia",
          "United Republic of Tanzania",
          "Equatorial Guinea",
          "Zambia",
          "Malawi",
          "Uganda",
          "South Sudan",
          "Cameroon",
          "Chad",
          "Nigeria",
          "South Africa",
          "Sierra Leone",
          "Mozambique",
          "Côte d’Ivoire",
          "Zimbabwe",
          "Central African Republic",
          "Lesotho",
          "Eswatini",
          "Iceland",
          "Switzerland",
          "Italy",
          "Sweden",
          "Cyprus",
          "Singapore",
          "Malta",
          "Israel",
          "Australia",
          "Japan",
          "Spain",
          "Netherlands",
          "Qatar",
          "Luxembourg",
          "Maldives",
          "Bahrain",
          "Norway",
          "Canada",
          "Ireland",
          "United Kingdom of Great Britain and Northern Ireland",
          "New Zealand",
          "Austria",
          "Greece",
          "Republic of Korea",
          "Germany",
          "Denmark",
          "Morocco",
          "United Arab Emirates",
          "Belgium",
          "Slovenia",
          "France",
          "Kuwait",
          "Portugal",
          "Finland",
          "China",
          "Chile",
          "Brunei Darussalam",
          "Cuba",
          "Iran (Islamic Republic of)",
          "Saudi Arabia",
          "Czechia",
          "Tunisia",
          "Costa Rica",
          "Bosnia and Herzegovina"
         ],
         "type": "choropleth",
         "z": [
          101.7,
          102.9,
          103.2,
          103.4,
          105.2,
          105.7,
          105.8,
          110.7,
          111.1,
          112.9,
          114.5,
          115.3,
          116.6,
          117.4,
          117.9,
          119.7,
          127.4,
          128.2,
          128.5,
          129.2,
          130.2,
          130.4,
          130.5,
          131.2,
          131.3,
          132.6,
          132.9,
          135.2,
          135.5,
          136.5,
          138.6,
          140.1,
          140.8,
          140.9,
          141.2,
          141.3,
          141.9,
          142.4,
          144,
          144.4,
          146.7,
          147.1,
          149.7,
          149.8,
          152.6,
          152.9,
          153,
          153.3,
          156.1,
          156.2,
          157.5,
          158,
          158.2,
          160.2,
          160.6,
          165,
          167,
          167.1,
          170.5,
          171.3,
          173.3,
          174.6,
          174.7,
          177.5,
          179.8,
          180.1,
          182.4,
          183.2,
          183.8,
          184.8,
          188.9,
          189.5,
          190.9,
          191.1,
          191.4,
          195.8,
          196.9,
          198.3,
          201.9,
          202.2,
          204.2,
          206,
          208.8,
          210.9,
          211.5,
          213.9,
          225,
          227,
          227.1,
          227.5,
          231.6,
          233.8,
          234.5,
          236.6,
          240.5,
          240.8,
          241,
          247.3,
          248.2,
          249.2,
          254.2,
          256.1,
          260.1,
          262.7,
          263.1,
          265,
          265.5,
          267.1,
          272.4,
          275.3,
          278.3,
          281,
          281.8,
          282.5,
          284.7,
          290.5,
          291.2,
          296.1,
          310.2,
          314.7,
          319.1,
          327.9,
          328.1,
          335,
          341.7,
          343.7,
          347.7,
          348.5,
          354.5,
          370.3,
          376.3,
          396.8,
          403.4,
          405.6,
          408.8,
          440.1,
          449.9,
          467.2,
          468.9,
          50.96,
          54.46,
          57.58,
          57.77,
          58.28,
          58.7,
          58.85,
          59.24,
          61.96,
          62.19,
          63.17,
          63.89,
          65.26,
          65.5,
          65.54,
          65.57,
          66.36,
          66.75,
          67.12,
          71.07,
          71.37,
          71.6,
          73.31,
          73.51,
          75.34,
          77.61,
          77.95,
          80.29,
          80.81,
          81.91,
          83.24,
          83.5,
          83.85,
          84.18,
          86.4,
          90.39,
          91.13,
          91.7,
          94.96,
          95.4,
          96.19,
          97.9,
          99.52,
          99.61
         ],
         "zmax": 769.3,
         "zmin": 33.43
        },
        {
         "colorbar": {
          "title": {
           "text": "Adult Morality"
          }
         },
         "colorscale": [
          [
           0,
           "rgb(0,0,255)"
          ],
          [
           1,
           "rgb(255,0,0)"
          ]
         ],
         "geo": "geo13",
         "locationmode": "country names",
         "locations": [
          "Algeria",
          "The former Yugoslav Republic of Macedonia",
          "Croatia",
          "Albania",
          "Oman",
          "United States of America",
          "Montenegro",
          "Barbados",
          "Serbia",
          "Türkiye",
          "Jordan",
          "Slovakia",
          "Panama",
          "Argentina",
          "Uruguay",
          "Samoa",
          "Poland",
          "Libya",
          "Azerbaijan",
          "Ecuador",
          "Antigua and Barbuda",
          "Malaysia",
          "Peru",
          "Tajikistan",
          "Viet Nam",
          "Armenia",
          "Mexico",
          "Sri Lanka",
          "Cabo Verde",
          "Estonia",
          "Bulgaria",
          "Jamaica",
          "Vanuatu",
          "Tonga",
          "Bangladesh",
          "Colombia",
          "Romania",
          "Democratic People's Republic of Korea",
          "Hungary",
          "Uzbekistan",
          "Iraq",
          "Grenada",
          "Paraguay",
          "Brazil",
          "Honduras",
          "Mauritius",
          "Saint Lucia",
          "Nicaragua",
          "Thailand",
          "Georgia",
          "Timor-Leste",
          "Solomon Islands",
          "Latvia",
          "Bahamas",
          "Venezuela (Bolivarian Republic of)",
          "Nepal",
          "Micronesia (Federated States of)",
          "Pakistan",
          "Dominican Republic",
          "Guatemala",
          "Saint Vincent and the Grenadines",
          "Egypt",
          "Seychelles",
          "Trinidad and Tobago",
          "Lithuania",
          "Indonesia",
          "Belize",
          "Republic of Moldova",
          "Cambodia",
          "El Salvador",
          "India",
          "Suriname",
          "Turkmenistan",
          "Kyrgyzstan",
          "Belarus",
          "Bolivia (Plurinational State of)",
          "Fiji",
          "Sao Tome and Principe",
          "Senegal",
          "Philippines",
          "Kiribati",
          "Myanmar",
          "Mauritania",
          "Lao People's Democratic Republic",
          "Ukraine",
          "Rwanda",
          "Mongolia",
          "Bhutan",
          "Kazakhstan",
          "Russian Federation",
          "Papua New Guinea",
          "Yemen",
          "Madagascar",
          "Sudan",
          "Comoros",
          "Liberia",
          "Ethiopia",
          "Afghanistan",
          "Kenya",
          "Benin",
          "Angola",
          "Ghana",
          "Haiti",
          "Djibouti",
          "Niger",
          "Burkina Faso",
          "Gambia",
          "Gabon",
          "Guyana",
          "Democratic Republic of the Congo",
          "Eritrea",
          "Syrian Arab Republic",
          "Guinea",
          "Mali",
          "Congo",
          "Togo",
          "Guinea-Bissau",
          "Namibia",
          "Botswana",
          "Burundi",
          "Malawi",
          "United Republic of Tanzania",
          "Zambia",
          "Somalia",
          "Uganda",
          "Equatorial Guinea",
          "South Sudan",
          "Cameroon",
          "South Africa",
          "Chad",
          "Nigeria",
          "Sierra Leone",
          "Mozambique",
          "Zimbabwe",
          "Côte d’Ivoire",
          "Eswatini",
          "Central African Republic",
          "Lesotho",
          "Iceland",
          "Switzerland",
          "Cyprus",
          "Sweden",
          "Malta",
          "Italy",
          "Japan",
          "Singapore",
          "Israel",
          "Norway",
          "Australia",
          "Spain",
          "Maldives",
          "Luxembourg",
          "Netherlands",
          "Qatar",
          "Bahrain",
          "Ireland",
          "Canada",
          "New Zealand",
          "Austria",
          "United Kingdom of Great Britain and Northern Ireland",
          "Republic of Korea",
          "Greece",
          "Germany",
          "Denmark",
          "Morocco",
          "Belgium",
          "United Arab Emirates",
          "France",
          "Finland",
          "Portugal",
          "Slovenia",
          "Kuwait",
          "China",
          "Iran (Islamic Republic of)",
          "Chile",
          "Brunei Darussalam",
          "Czechia",
          "Saudi Arabia",
          "Lebanon",
          "Cuba",
          "Tunisia",
          "Bosnia and Herzegovina",
          "Costa Rica"
         ],
         "type": "choropleth",
         "z": [
          101.5,
          102.1,
          102.6,
          103.2,
          103.2,
          105.3,
          107.7,
          108.4,
          111,
          112.2,
          114.3,
          115.4,
          115.7,
          117.7,
          118.1,
          123.7,
          126,
          126.1,
          126.4,
          126.5,
          127.1,
          129.3,
          129.4,
          130,
          130.2,
          130.6,
          131,
          131.1,
          132.7,
          133.9,
          136.6,
          137.3,
          139.3,
          139.4,
          139.7,
          139.8,
          140.6,
          141.8,
          142.7,
          144.8,
          145.1,
          146.7,
          148.8,
          150.4,
          150.9,
          152,
          152.7,
          155,
          155.4,
          157.2,
          159,
          160.3,
          162,
          162.7,
          163.2,
          168.5,
          169.4,
          169.6,
          170.9,
          173,
          173.6,
          173.8,
          174.2,
          178.7,
          179.6,
          182.8,
          183.1,
          183.1,
          185.9,
          186.3,
          188.3,
          188.3,
          189.1,
          189.2,
          191.8,
          194.8,
          194.8,
          198.4,
          199.6,
          200.3,
          204.6,
          207.6,
          208.4,
          209.3,
          210.8,
          219.5,
          221.6,
          222,
          224.3,
          229.7,
          233.9,
          234.4,
          234.8,
          235.5,
          236.5,
          239.5,
          239.7,
          242.3,
          245,
          251.6,
          253.2,
          254.8,
          256.5,
          260.1,
          264.5,
          267.5,
          269,
          269.4,
          271.8,
          276.3,
          277.1,
          278,
          279.3,
          280.5,
          281.4,
          281.4,
          289.5,
          293.4,
          301.5,
          307.7,
          324.8,
          325.4,
          325.4,
          329.1,
          335.4,
          335.6,
          340.9,
          352.3,
          360.6,
          370.6,
          373.1,
          395.4,
          404.4,
          406.7,
          416.3,
          443,
          445.2,
          478.5,
          50.46,
          53.88,
          54.73,
          56.48,
          56.77,
          56.78,
          57.19,
          57.35,
          57.52,
          59.79,
          59.8,
          60.9,
          62.29,
          62.58,
          62.95,
          65.08,
          65.73,
          65.81,
          67.53,
          67.99,
          68.41,
          68.67,
          70.13,
          72.44,
          72.74,
          74.62,
          74.92,
          78.97,
          79.04,
          80.11,
          80.43,
          80.59,
          81.42,
          82.71,
          85.02,
          86.91,
          89.09,
          91.74,
          92.58,
          93.76,
          94.58,
          95.85,
          96.45,
          98.49,
          98.66
         ],
         "zmax": 769.3,
         "zmin": 33.43
        },
        {
         "colorbar": {
          "title": {
           "text": "Adult Morality"
          }
         },
         "colorscale": [
          [
           0,
           "rgb(0,0,255)"
          ],
          [
           1,
           "rgb(255,0,0)"
          ]
         ],
         "geo": "geo14",
         "locationmode": "country names",
         "locations": [
          "Albania",
          "Barbados",
          "Oman",
          "Montenegro",
          "United States of America",
          "Serbia",
          "Türkiye",
          "Slovakia",
          "Jordan",
          "Panama",
          "Argentina",
          "Uruguay",
          "Samoa",
          "Poland",
          "Armenia",
          "Ecuador",
          "Estonia",
          "Azerbaijan",
          "Libya",
          "Mexico",
          "Antigua and Barbuda",
          "Peru",
          "Tajikistan",
          "Malaysia",
          "Viet Nam",
          "Cabo Verde",
          "Sri Lanka",
          "Romania",
          "Jamaica",
          "Bulgaria",
          "Hungary",
          "Vanuatu",
          "Bangladesh",
          "Tonga",
          "Democratic People's Republic of Korea",
          "Colombia",
          "Uzbekistan",
          "Grenada",
          "Mauritius",
          "Paraguay",
          "Brazil",
          "Honduras",
          "Saint Lucia",
          "Nicaragua",
          "Thailand",
          "Solomon Islands",
          "Timor-Leste",
          "Georgia",
          "Venezuela (Bolivarian Republic of)",
          "Iraq",
          "Nepal",
          "Latvia",
          "Bahamas",
          "Egypt",
          "Pakistan",
          "Micronesia (Federated States of)",
          "Dominican Republic",
          "Republic of Moldova",
          "Seychelles",
          "Guatemala",
          "Saint Vincent and the Grenadines",
          "Trinidad and Tobago",
          "Lithuania",
          "Indonesia",
          "Cambodia",
          "Kyrgyzstan",
          "Belarus",
          "Belize",
          "El Salvador",
          "India",
          "Suriname",
          "Bolivia (Plurinational State of)",
          "Fiji",
          "Sao Tome and Principe",
          "Turkmenistan",
          "Senegal",
          "Philippines",
          "Kiribati",
          "Myanmar",
          "Lao People's Democratic Republic",
          "Ukraine",
          "Mauritania",
          "Kazakhstan",
          "Rwanda",
          "Mongolia",
          "Bhutan",
          "Russian Federation",
          "Yemen",
          "Madagascar",
          "Papua New Guinea",
          "Sudan",
          "Comoros",
          "Ethiopia",
          "Afghanistan",
          "Liberia",
          "Kenya",
          "Angola",
          "Benin",
          "Ghana",
          "Gabon",
          "Haiti",
          "Djibouti",
          "Niger",
          "Guyana",
          "Gambia",
          "Burkina Faso",
          "Eritrea",
          "Democratic Republic of the Congo",
          "Guinea",
          "Togo",
          "Congo",
          "Guinea-Bissau",
          "Mali",
          "Namibia",
          "Botswana",
          "United Republic of Tanzania",
          "Malawi",
          "Burundi",
          "Zambia",
          "Somalia",
          "Uganda",
          "Equatorial Guinea",
          "South Africa",
          "Syrian Arab Republic",
          "South Sudan",
          "Cameroon",
          "Nigeria",
          "Chad",
          "Zimbabwe",
          "Sierra Leone",
          "Mozambique",
          "Côte d’Ivoire",
          "Eswatini",
          "Central African Republic",
          "Lesotho",
          "Switzerland",
          "Iceland",
          "Italy",
          "Singapore",
          "Japan",
          "Sweden",
          "Malta",
          "Cyprus",
          "Israel",
          "Spain",
          "Maldives",
          "Australia",
          "Luxembourg",
          "Norway",
          "Netherlands",
          "Bahrain",
          "Ireland",
          "Qatar",
          "Canada",
          "New Zealand",
          "Austria",
          "Republic of Korea",
          "Greece",
          "United Kingdom of Great Britain and Northern Ireland",
          "Denmark",
          "Germany",
          "Morocco",
          "Belgium",
          "France",
          "Finland",
          "United Arab Emirates",
          "Slovenia",
          "Portugal",
          "Kuwait",
          "China",
          "Iran (Islamic Republic of)",
          "Czechia",
          "Chile",
          "Saudi Arabia",
          "Brunei Darussalam",
          "Tunisia",
          "Croatia",
          "Cuba",
          "Costa Rica",
          "Bosnia and Herzegovina",
          "Lebanon",
          "The former Yugoslav Republic of Macedonia",
          "Algeria"
         ],
         "type": "choropleth",
         "z": [
          100.3,
          101.4,
          101.4,
          105.2,
          105.4,
          107.1,
          109.2,
          110.9,
          113.5,
          113.7,
          116.5,
          117,
          117.9,
          120.9,
          121.1,
          121.6,
          121.6,
          123.7,
          126.3,
          126.8,
          127,
          128.1,
          128.1,
          129,
          129.2,
          129.4,
          131.1,
          134.2,
          134.6,
          134.8,
          135.6,
          136.6,
          138,
          138,
          138.6,
          139.3,
          141,
          144.6,
          145.2,
          147.9,
          148.2,
          149.1,
          149.1,
          152.6,
          154,
          156.9,
          157.6,
          157.7,
          159.2,
          161.6,
          164.1,
          164.3,
          166.2,
          167.2,
          167.5,
          168.2,
          168.3,
          170.4,
          171.2,
          172.3,
          174.4,
          176.9,
          178.8,
          181.2,
          182.7,
          183.1,
          183.3,
          183.7,
          184.3,
          186,
          186.1,
          191.6,
          191.9,
          194.8,
          195.9,
          196.3,
          198.9,
          203,
          203.2,
          205.1,
          207.1,
          207.5,
          210.7,
          212,
          218.3,
          218.7,
          221.2,
          224.9,
          229.6,
          230.9,
          231.9,
          232.9,
          234.5,
          235.5,
          236.3,
          241.2,
          249.3,
          249.6,
          250.1,
          251,
          252.6,
          254.5,
          261.3,
          263.3,
          266.1,
          266.2,
          270.8,
          271.6,
          275.3,
          275.8,
          278.4,
          281.1,
          284.4,
          286.6,
          291.5,
          298.1,
          298.4,
          302.1,
          310.8,
          313.1,
          316.2,
          327.1,
          334.7,
          338.4,
          343.4,
          352.3,
          366.7,
          369.5,
          383,
          392.8,
          402.1,
          418.5,
          420.8,
          466.7,
          487.3,
          53.06,
          53.07,
          55.55,
          55.79,
          55.86,
          56.02,
          56.69,
          58.15,
          58.56,
          58.86,
          59.26,
          59.59,
          59.67,
          60.57,
          60.89,
          62.78,
          63.54,
          64.57,
          66.2,
          66.4,
          66.55,
          68.02,
          68.27,
          68.87,
          71.94,
          72.63,
          73.01,
          76.55,
          77.29,
          77.56,
          77.72,
          78.03,
          78.49,
          82.09,
          83.87,
          84.21,
          89.36,
          89.93,
          92.48,
          94.05,
          95.36,
          95.54,
          95.67,
          97.19,
          97.44,
          97.75,
          98.45,
          99.71
         ],
         "zmax": 769.3,
         "zmin": 33.43
        },
        {
         "colorbar": {
          "title": {
           "text": "Adult Morality"
          }
         },
         "colorscale": [
          [
           0,
           "rgb(0,0,255)"
          ],
          [
           1,
           "rgb(255,0,0)"
          ]
         ],
         "geo": "geo15",
         "locationmode": "country names",
         "locations": [
          "Barbados",
          "Montenegro",
          "Serbia",
          "United States of America",
          "Türkiye",
          "Slovakia",
          "Panama",
          "Jordan",
          "Argentina",
          "Uruguay",
          "Poland",
          "Samoa",
          "Armenia",
          "Ecuador",
          "Azerbaijan",
          "Estonia",
          "Cabo Verde",
          "Tajikistan",
          "Antigua and Barbuda",
          "Peru",
          "Malaysia",
          "Viet Nam",
          "Mexico",
          "Sri Lanka",
          "Jamaica",
          "Hungary",
          "Bangladesh",
          "Vanuatu",
          "Democratic People's Republic of Korea",
          "Tonga",
          "Libya",
          "Colombia",
          "Uzbekistan",
          "Romania",
          "Bulgaria",
          "Grenada",
          "Brazil",
          "Saint Lucia",
          "Paraguay",
          "Honduras",
          "Mauritius",
          "Nicaragua",
          "Thailand",
          "Georgia",
          "Timor-Leste",
          "Solomon Islands",
          "Latvia",
          "Venezuela (Bolivarian Republic of)",
          "Nepal",
          "Egypt",
          "Dominican Republic",
          "Micronesia (Federated States of)",
          "Lithuania",
          "Pakistan",
          "Bahamas",
          "Seychelles",
          "Guatemala",
          "Saint Vincent and the Grenadines",
          "Trinidad and Tobago",
          "Kyrgyzstan",
          "Belarus",
          "Cambodia",
          "Indonesia",
          "Republic of Moldova",
          "El Salvador",
          "Belize",
          "India",
          "Suriname",
          "Bolivia (Plurinational State of)",
          "Fiji",
          "Iraq",
          "Sao Tome and Principe",
          "Senegal",
          "Philippines",
          "Kazakhstan",
          "Turkmenistan",
          "Myanmar",
          "Lao People's Democratic Republic",
          "Kiribati",
          "Mauritania",
          "Rwanda",
          "Ukraine",
          "Russian Federation",
          "Bhutan",
          "Mongolia",
          "Madagascar",
          "Yemen",
          "Papua New Guinea",
          "Sudan",
          "Comoros",
          "Ethiopia",
          "Afghanistan",
          "Gabon",
          "Kenya",
          "Angola",
          "Haiti",
          "Ghana",
          "Benin",
          "Djibouti",
          "Niger",
          "Guyana",
          "Burkina Faso",
          "Eritrea",
          "Democratic Republic of the Congo",
          "Gambia",
          "Togo",
          "Botswana",
          "Congo",
          "Malawi",
          "Mali",
          "United Republic of Tanzania",
          "Guinea-Bissau",
          "Namibia",
          "Guinea",
          "Zambia",
          "Burundi",
          "Uganda",
          "Equatorial Guinea",
          "Liberia",
          "Somalia",
          "South Africa",
          "South Sudan",
          "Cameroon",
          "Zimbabwe",
          "Nigeria",
          "Syrian Arab Republic",
          "Chad",
          "Mozambique",
          "Eswatini",
          "Côte d’Ivoire",
          "Central African Republic",
          "Sierra Leone",
          "Lesotho",
          "Switzerland",
          "Malta",
          "Italy",
          "Japan",
          "Luxembourg",
          "Singapore",
          "Iceland",
          "Sweden",
          "Maldives",
          "Norway",
          "Spain",
          "Israel",
          "Netherlands",
          "Australia",
          "Cyprus",
          "Bahrain",
          "Ireland",
          "Qatar",
          "Canada",
          "Austria",
          "Republic of Korea",
          "Greece",
          "New Zealand",
          "United Kingdom of Great Britain and Northern Ireland",
          "Denmark",
          "Slovenia",
          "Germany",
          "Morocco",
          "Belgium",
          "Finland",
          "France",
          "United Arab Emirates",
          "Portugal",
          "Kuwait",
          "Iran (Islamic Republic of)",
          "China",
          "Czechia",
          "Chile",
          "Saudi Arabia",
          "Croatia",
          "Tunisia",
          "Costa Rica",
          "Cuba",
          "Brunei Darussalam",
          "Bosnia and Herzegovina",
          "Algeria",
          "The former Yugoslav Republic of Macedonia",
          "Albania",
          "Lebanon",
          "Oman"
         ],
         "type": "choropleth",
         "z": [
          100.9,
          103,
          106.1,
          106.3,
          107.2,
          108.9,
          111.1,
          112.6,
          112.8,
          114.2,
          114.7,
          115.1,
          118.5,
          119.1,
          121.5,
          123.5,
          126.4,
          126.5,
          126.6,
          126.9,
          127.7,
          127.8,
          129.1,
          131.1,
          131.8,
          133.4,
          135.8,
          135.9,
          136,
          136.4,
          137.1,
          138.8,
          138.9,
          139.6,
          140.7,
          142.9,
          144.7,
          145.3,
          146.8,
          147.7,
          147.8,
          150.3,
          151.4,
          155.2,
          155.2,
          156.1,
          158.9,
          159.5,
          160.1,
          164.6,
          166.3,
          166.8,
          167.2,
          167.3,
          167.6,
          168.3,
          169.1,
          170.4,
          174.4,
          174.7,
          175,
          178.4,
          179.5,
          180.4,
          181.9,
          182.7,
          183.1,
          183.9,
          188.3,
          189.9,
          191.6,
          192.6,
          193,
          196.6,
          198.9,
          199.4,
          199.7,
          200.8,
          201.2,
          205.5,
          207,
          212.2,
          214,
          215,
          215.4,
          224.7,
          225.9,
          227.9,
          228.8,
          230,
          230.1,
          234.3,
          234.7,
          238.7,
          243.9,
          247.7,
          247.8,
          248.3,
          255.9,
          257.5,
          263.9,
          264,
          264.6,
          265.1,
          266.7,
          274.1,
          277,
          278.6,
          279.3,
          281.1,
          281.9,
          282.3,
          286,
          289.6,
          298.7,
          300,
          304,
          307.2,
          310.1,
          311.5,
          315.9,
          343.2,
          357.9,
          358.4,
          360.6,
          367.7,
          374.5,
          386.6,
          407.8,
          418,
          443.8,
          446.4,
          494.9,
          50.19,
          53.08,
          53.57,
          54.46,
          54.65,
          54.83,
          54.93,
          54.93,
          56.54,
          56.74,
          57.57,
          57.86,
          59.03,
          61.19,
          61.32,
          61.95,
          61.98,
          63.8,
          64.83,
          65.08,
          65.73,
          66.88,
          67.33,
          68.06,
          68.37,
          69.92,
          69.93,
          71.5,
          72.82,
          73.03,
          74.28,
          76.4,
          76.71,
          81.05,
          82.67,
          82.73,
          84.65,
          88.28,
          91.21,
          94.03,
          94.09,
          95.27,
          95.34,
          96.35,
          96.45,
          98.04,
          98.16,
          98.32,
          99.19,
          99.59
         ],
         "zmax": 769.3,
         "zmin": 33.43
        },
        {
         "colorbar": {
          "title": {
           "text": "Adult Morality"
          }
         },
         "colorscale": [
          [
           0,
           "rgb(0,0,255)"
          ],
          [
           1,
           "rgb(255,0,0)"
          ]
         ],
         "geo": "geo16",
         "locationmode": "country names",
         "locations": [
          "Barbados",
          "Montenegro",
          "Serbia",
          "Türkiye",
          "Slovakia",
          "United States of America",
          "Jordan",
          "Panama",
          "Samoa",
          "Argentina",
          "Uruguay",
          "Poland",
          "Estonia",
          "Ecuador",
          "Azerbaijan",
          "Armenia",
          "Antigua and Barbuda",
          "Cabo Verde",
          "Tajikistan",
          "Peru",
          "Malaysia",
          "Viet Nam",
          "Mexico",
          "Sri Lanka",
          "Vanuatu",
          "Hungary",
          "Jamaica",
          "Bangladesh",
          "Uzbekistan",
          "Democratic People's Republic of Korea",
          "Tonga",
          "Romania",
          "Bulgaria",
          "Colombia",
          "Grenada",
          "Brazil",
          "Paraguay",
          "Honduras",
          "Libya",
          "Mauritius",
          "Saint Lucia",
          "Nicaragua",
          "Solomon Islands",
          "Thailand",
          "Timor-Leste",
          "Latvia",
          "Georgia",
          "Venezuela (Bolivarian Republic of)",
          "Bahamas",
          "Belarus",
          "Dominican Republic",
          "Saint Vincent and the Grenadines",
          "Guatemala",
          "Lithuania",
          "Egypt",
          "Seychelles",
          "Pakistan",
          "Nepal",
          "Kyrgyzstan",
          "Micronesia (Federated States of)",
          "Trinidad and Tobago",
          "Cambodia",
          "Indonesia",
          "El Salvador",
          "Iraq",
          "India",
          "Belize",
          "Suriname",
          "Republic of Moldova",
          "Bolivia (Plurinational State of)",
          "Ukraine",
          "Fiji",
          "Senegal",
          "Sao Tome and Principe",
          "Kazakhstan",
          "Philippines",
          "Lao People's Democratic Republic",
          "Myanmar",
          "Turkmenistan",
          "Kiribati",
          "Rwanda",
          "Mauritania",
          "Russian Federation",
          "Bhutan",
          "Mongolia",
          "Madagascar",
          "Ethiopia",
          "Papua New Guinea",
          "Sudan",
          "Comoros",
          "Gabon",
          "Kenya",
          "Afghanistan",
          "Angola",
          "Yemen",
          "Liberia",
          "Haiti",
          "Ghana",
          "Benin",
          "Djibouti",
          "Niger",
          "Eritrea",
          "Burkina Faso",
          "Democratic Republic of the Congo",
          "Botswana",
          "Guyana",
          "Gambia",
          "Malawi",
          "United Republic of Tanzania",
          "Togo",
          "Congo",
          "Guinea",
          "Mali",
          "Guinea-Bissau",
          "Uganda",
          "Zambia",
          "Namibia",
          "Burundi",
          "Equatorial Guinea",
          "South Africa",
          "Somalia",
          "Syrian Arab Republic",
          "South Sudan",
          "Zimbabwe",
          "Cameroon",
          "Nigeria",
          "Mozambique",
          "Chad",
          "Eswatini",
          "Sierra Leone",
          "Côte d’Ivoire",
          "Central African Republic",
          "Switzerland",
          "Lesotho",
          "Luxembourg",
          "Japan",
          "Singapore",
          "Norway",
          "Sweden",
          "Maldives",
          "Iceland",
          "Italy",
          "Malta",
          "Cyprus",
          "Israel",
          "Spain",
          "Netherlands",
          "Bahrain",
          "Australia",
          "Republic of Korea",
          "Ireland",
          "Qatar",
          "Canada",
          "Austria",
          "Denmark",
          "New Zealand",
          "Greece",
          "United Kingdom of Great Britain and Northern Ireland",
          "Finland",
          "Morocco",
          "Germany",
          "Belgium",
          "France",
          "Slovenia",
          "United Arab Emirates",
          "Portugal",
          "Kuwait",
          "China",
          "Iran (Islamic Republic of)",
          "Czechia",
          "Chile",
          "Saudi Arabia",
          "Albania",
          "Tunisia",
          "Bosnia and Herzegovina",
          "Cuba",
          "Croatia",
          "Algeria",
          "The former Yugoslav Republic of Macedonia",
          "Costa Rica",
          "Oman",
          "Lebanon",
          "Brunei Darussalam"
         ],
         "type": "choropleth",
         "z": [
          100.9,
          101,
          106.1,
          106.5,
          106.6,
          110.4,
          111.5,
          111.9,
          112.6,
          112.7,
          114.2,
          114.8,
          115.8,
          117,
          119.5,
          121.3,
          121.9,
          123.5,
          124.9,
          125.5,
          125.6,
          126.4,
          128.4,
          131.1,
          131.6,
          132.3,
          132.6,
          133.1,
          133.5,
          133.8,
          134.8,
          135.9,
          136.2,
          138.1,
          141.3,
          144.5,
          145.8,
          146.5,
          146.9,
          147.8,
          147.8,
          147.9,
          148.8,
          149,
          152.6,
          154.3,
          156.4,
          158.5,
          160.6,
          163,
          163.1,
          164.4,
          164.7,
          165.4,
          165.6,
          165.6,
          166,
          166.2,
          167.4,
          168.2,
          172.9,
          174.3,
          177.6,
          179.5,
          180.3,
          180.5,
          181.6,
          182.4,
          183.6,
          185.2,
          187.7,
          188.1,
          188.9,
          191.6,
          192.5,
          195,
          196.7,
          197.3,
          198.2,
          199.2,
          203.2,
          204,
          207.8,
          211.1,
          212.9,
          220.1,
          224.7,
          225.5,
          226.6,
          227.3,
          228.2,
          231.7,
          233.2,
          239.8,
          240.1,
          240.6,
          244.6,
          244.9,
          246.3,
          247.6,
          257,
          258.1,
          259.6,
          260.2,
          263.3,
          263.9,
          264.8,
          266.4,
          269.7,
          271,
          275.1,
          277.1,
          277.5,
          278.2,
          293,
          294.6,
          295.8,
          296.1,
          300.9,
          304.6,
          307.3,
          315.8,
          327.8,
          345.5,
          355,
          355.4,
          358.7,
          367,
          398.4,
          403.7,
          410.1,
          418.2,
          49.61,
          498.3,
          51.89,
          52.57,
          53.56,
          53.66,
          53.96,
          54.04,
          54.38,
          54.86,
          55.18,
          56.64,
          57.66,
          57.71,
          58.32,
          58.52,
          62.17,
          62.53,
          62.77,
          62.81,
          63.82,
          64.34,
          66.27,
          66.68,
          67.59,
          68.76,
          69.52,
          70.15,
          71.19,
          71.87,
          73.08,
          74.18,
          75.04,
          76.52,
          80.47,
          81.52,
          81.68,
          82.95,
          88.14,
          90.5,
          92.24,
          92.85,
          93.72,
          94.34,
          95.58,
          96.49,
          96.99,
          97.17,
          97.97,
          98.44,
          98.86
         ],
         "zmax": 769.3,
         "zmin": 33.43
        },
        {
         "colorbar": {
          "title": {
           "text": "Adult Morality"
          }
         },
         "colorscale": [
          [
           0,
           "rgb(0,0,255)"
          ],
          [
           1,
           "rgb(255,0,0)"
          ]
         ],
         "geo": "geo17",
         "locationmode": "country names",
         "locations": [
          "Barbados",
          "Serbia",
          "Türkiye",
          "Slovakia",
          "Samoa",
          "Jordan",
          "Poland",
          "Panama",
          "Argentina",
          "Uruguay",
          "United States of America",
          "Ecuador",
          "Armenia",
          "Azerbaijan",
          "Estonia",
          "Antigua and Barbuda",
          "Cabo Verde",
          "Malaysia",
          "Tajikistan",
          "Peru",
          "Viet Nam",
          "Hungary",
          "Mexico",
          "Vanuatu",
          "Bangladesh",
          "Uzbekistan",
          "Jamaica",
          "Sri Lanka",
          "Democratic People's Republic of Korea",
          "Tonga",
          "Romania",
          "Bulgaria",
          "Colombia",
          "Grenada",
          "Brazil",
          "Honduras",
          "Mauritius",
          "Paraguay",
          "Solomon Islands",
          "Nicaragua",
          "Saint Lucia",
          "Thailand",
          "Timor-Leste",
          "Libya",
          "Nepal",
          "Latvia",
          "Lithuania",
          "Venezuela (Bolivarian Republic of)",
          "Pakistan",
          "Bahamas",
          "Georgia",
          "Dominican Republic",
          "Belarus",
          "Guatemala",
          "Kyrgyzstan",
          "Seychelles",
          "Micronesia (Federated States of)",
          "Egypt",
          "Republic of Moldova",
          "Saint Vincent and the Grenadines",
          "Cambodia",
          "Trinidad and Tobago",
          "Iraq",
          "Indonesia",
          "El Salvador",
          "India",
          "Belize",
          "Ukraine",
          "Suriname",
          "Kazakhstan",
          "Bolivia (Plurinational State of)",
          "Senegal",
          "Fiji",
          "Sao Tome and Principe",
          "Turkmenistan",
          "Lao People's Democratic Republic",
          "Philippines",
          "Myanmar",
          "Kiribati",
          "Rwanda",
          "Mauritania",
          "Russian Federation",
          "Bhutan",
          "Mongolia",
          "Madagascar",
          "Kenya",
          "Ethiopia",
          "Gabon",
          "Yemen",
          "Sudan",
          "Papua New Guinea",
          "Comoros",
          "Liberia",
          "Angola",
          "Ghana",
          "Benin",
          "Haiti",
          "Djibouti",
          "Afghanistan",
          "Botswana",
          "Niger",
          "Eritrea",
          "Burkina Faso",
          "Malawi",
          "Democratic Republic of the Congo",
          "Congo",
          "United Republic of Tanzania",
          "Guinea",
          "Gambia",
          "Guyana",
          "Togo",
          "Guinea-Bissau",
          "Mali",
          "Zambia",
          "Uganda",
          "Burundi",
          "Namibia",
          "Syrian Arab Republic",
          "South Africa",
          "Equatorial Guinea",
          "Somalia",
          "South Sudan",
          "Zimbabwe",
          "Mozambique",
          "Cameroon",
          "Nigeria",
          "Chad",
          "Sierra Leone",
          "Eswatini",
          "Côte d’Ivoire",
          "Central African Republic",
          "Lesotho",
          "Switzerland",
          "Japan",
          "Singapore",
          "Sweden",
          "Maldives",
          "Italy",
          "Norway",
          "Iceland",
          "Malta",
          "Cyprus",
          "Luxembourg",
          "Spain",
          "Bahrain",
          "Israel",
          "Netherlands",
          "Australia",
          "Republic of Korea",
          "Qatar",
          "Austria",
          "Ireland",
          "Canada",
          "Denmark",
          "New Zealand",
          "Greece",
          "United Kingdom of Great Britain and Northern Ireland",
          "Germany",
          "Morocco",
          "Finland",
          "France",
          "Belgium",
          "Slovenia",
          "United Arab Emirates",
          "Portugal",
          "Kuwait",
          "Iran (Islamic Republic of)",
          "China",
          "Czechia",
          "Chile",
          "Croatia",
          "Saudi Arabia",
          "Tunisia",
          "Bosnia and Herzegovina",
          "Cuba",
          "Algeria",
          "Lebanon",
          "The former Yugoslav Republic of Macedonia",
          "Oman",
          "Albania",
          "Costa Rica",
          "Brunei Darussalam",
          "Montenegro"
         ],
         "type": "choropleth",
         "z": [
          100.4,
          102.5,
          104,
          104.1,
          110.4,
          110.5,
          110.6,
          111,
          111.4,
          113.9,
          114.1,
          114.2,
          116.4,
          117.6,
          118.6,
          119.9,
          121.8,
          122.9,
          123.3,
          124.1,
          124.8,
          125.8,
          126.6,
          129.4,
          130.2,
          130.7,
          131.4,
          131.4,
          132.2,
          133,
          134.8,
          135.3,
          137.1,
          140.2,
          142.8,
          145.1,
          145.4,
          145.5,
          145.6,
          145.9,
          147.2,
          147.4,
          149.8,
          150.3,
          150.6,
          153.8,
          154.5,
          156.7,
          159.1,
          159.2,
          159.9,
          160.1,
          160.6,
          161.7,
          162.3,
          163.1,
          163.8,
          164.6,
          166.8,
          168.7,
          170.5,
          171.8,
          173.5,
          175.6,
          176.8,
          178,
          179.3,
          180.1,
          180.5,
          181.5,
          182.2,
          185.2,
          186.2,
          190.6,
          191,
          192.8,
          193.9,
          195,
          197,
          198.3,
          202.4,
          202.7,
          207,
          210.7,
          215.5,
          219.3,
          219.5,
          220.7,
          221.3,
          223.9,
          224.3,
          225,
          230.3,
          238,
          241.3,
          242.4,
          243.5,
          244.5,
          245.2,
          249.2,
          250.2,
          252.1,
          254.6,
          254.7,
          256.1,
          260.5,
          260.7,
          262.1,
          262.2,
          263.7,
          265.3,
          268.9,
          269.6,
          286.3,
          287.9,
          290.2,
          295.9,
          301.1,
          301.3,
          304.8,
          316.1,
          321.4,
          334,
          336.4,
          341.4,
          352.5,
          359.7,
          388.8,
          393.3,
          397.8,
          411.9,
          483.5,
          49.2,
          50.83,
          51.36,
          52.43,
          52.53,
          53.53,
          54.66,
          55.01,
          55.03,
          55.41,
          55.5,
          55.79,
          56.81,
          57.98,
          58.63,
          60.73,
          60.81,
          61.76,
          61.89,
          62.39,
          62.83,
          65.04,
          66.06,
          66.42,
          66.68,
          68.69,
          69.06,
          70.18,
          70.98,
          71.56,
          72.04,
          73.95,
          75.56,
          79.22,
          80.13,
          80.36,
          81.13,
          87.43,
          87.51,
          89.13,
          91,
          92.03,
          92.46,
          95.03,
          95.62,
          95.83,
          96.25,
          96.41,
          96.74,
          97.7,
          99.06
         ],
         "zmax": 769.3,
         "zmin": 33.43
        }
       ],
       "layout": {
        "annotations": [
         {
          "font": {
           "size": 16
          },
          "showarrow": false,
          "text": "2000",
          "x": 0.15,
          "xanchor": "center",
          "xref": "paper",
          "y": 1,
          "yanchor": "bottom",
          "yref": "paper"
         },
         {
          "font": {
           "size": 16
          },
          "showarrow": false,
          "text": "2001",
          "x": 0.49999999999999994,
          "xanchor": "center",
          "xref": "paper",
          "y": 1,
          "yanchor": "bottom",
          "yref": "paper"
         },
         {
          "font": {
           "size": 16
          },
          "showarrow": false,
          "text": "2002",
          "x": 0.85,
          "xanchor": "center",
          "xref": "paper",
          "y": 1,
          "yanchor": "bottom",
          "yref": "paper"
         },
         {
          "font": {
           "size": 16
          },
          "showarrow": false,
          "text": "2003",
          "x": 0.15,
          "xanchor": "center",
          "xref": "paper",
          "y": 0.8316666666666667,
          "yanchor": "bottom",
          "yref": "paper"
         },
         {
          "font": {
           "size": 16
          },
          "showarrow": false,
          "text": "2004",
          "x": 0.49999999999999994,
          "xanchor": "center",
          "xref": "paper",
          "y": 0.8316666666666667,
          "yanchor": "bottom",
          "yref": "paper"
         },
         {
          "font": {
           "size": 16
          },
          "showarrow": false,
          "text": "2005",
          "x": 0.85,
          "xanchor": "center",
          "xref": "paper",
          "y": 0.8316666666666667,
          "yanchor": "bottom",
          "yref": "paper"
         },
         {
          "font": {
           "size": 16
          },
          "showarrow": false,
          "text": "2006",
          "x": 0.15,
          "xanchor": "center",
          "xref": "paper",
          "y": 0.6633333333333333,
          "yanchor": "bottom",
          "yref": "paper"
         },
         {
          "font": {
           "size": 16
          },
          "showarrow": false,
          "text": "2007",
          "x": 0.49999999999999994,
          "xanchor": "center",
          "xref": "paper",
          "y": 0.6633333333333333,
          "yanchor": "bottom",
          "yref": "paper"
         },
         {
          "font": {
           "size": 16
          },
          "showarrow": false,
          "text": "2008",
          "x": 0.85,
          "xanchor": "center",
          "xref": "paper",
          "y": 0.6633333333333333,
          "yanchor": "bottom",
          "yref": "paper"
         },
         {
          "font": {
           "size": 16
          },
          "showarrow": false,
          "text": "2009",
          "x": 0.15,
          "xanchor": "center",
          "xref": "paper",
          "y": 0.495,
          "yanchor": "bottom",
          "yref": "paper"
         },
         {
          "font": {
           "size": 16
          },
          "showarrow": false,
          "text": "2010",
          "x": 0.49999999999999994,
          "xanchor": "center",
          "xref": "paper",
          "y": 0.495,
          "yanchor": "bottom",
          "yref": "paper"
         },
         {
          "font": {
           "size": 16
          },
          "showarrow": false,
          "text": "2011",
          "x": 0.85,
          "xanchor": "center",
          "xref": "paper",
          "y": 0.495,
          "yanchor": "bottom",
          "yref": "paper"
         },
         {
          "font": {
           "size": 16
          },
          "showarrow": false,
          "text": "2012",
          "x": 0.15,
          "xanchor": "center",
          "xref": "paper",
          "y": 0.32666666666666666,
          "yanchor": "bottom",
          "yref": "paper"
         },
         {
          "font": {
           "size": 16
          },
          "showarrow": false,
          "text": "2013",
          "x": 0.49999999999999994,
          "xanchor": "center",
          "xref": "paper",
          "y": 0.32666666666666666,
          "yanchor": "bottom",
          "yref": "paper"
         },
         {
          "font": {
           "size": 16
          },
          "showarrow": false,
          "text": "2014",
          "x": 0.85,
          "xanchor": "center",
          "xref": "paper",
          "y": 0.32666666666666666,
          "yanchor": "bottom",
          "yref": "paper"
         },
         {
          "font": {
           "size": 16
          },
          "showarrow": false,
          "text": "2015",
          "x": 0.15,
          "xanchor": "center",
          "xref": "paper",
          "y": 0.15833333333333333,
          "yanchor": "bottom",
          "yref": "paper"
         },
         {
          "font": {
           "size": 16
          },
          "showarrow": false,
          "text": "2016",
          "x": 0.49999999999999994,
          "xanchor": "center",
          "xref": "paper",
          "y": 0.15833333333333333,
          "yanchor": "bottom",
          "yref": "paper"
         }
        ],
        "autosize": false,
        "geo": {
         "domain": {
          "x": [
           0,
           0.3
          ],
          "y": [
           0.8416666666666667,
           1
          ]
         },
         "fitbounds": "locations",
         "visible": false
        },
        "geo10": {
         "domain": {
          "x": [
           0,
           0.3
          ],
          "y": [
           0.33666666666666667,
           0.495
          ]
         },
         "fitbounds": "locations",
         "visible": false
        },
        "geo11": {
         "domain": {
          "x": [
           0.35,
           0.6499999999999999
          ],
          "y": [
           0.33666666666666667,
           0.495
          ]
         },
         "fitbounds": "locations",
         "visible": false
        },
        "geo12": {
         "domain": {
          "x": [
           0.7,
           1
          ],
          "y": [
           0.33666666666666667,
           0.495
          ]
         },
         "fitbounds": "locations",
         "visible": false
        },
        "geo13": {
         "domain": {
          "x": [
           0,
           0.3
          ],
          "y": [
           0.16833333333333333,
           0.32666666666666666
          ]
         },
         "fitbounds": "locations",
         "visible": false
        },
        "geo14": {
         "domain": {
          "x": [
           0.35,
           0.6499999999999999
          ],
          "y": [
           0.16833333333333333,
           0.32666666666666666
          ]
         },
         "fitbounds": "locations",
         "visible": false
        },
        "geo15": {
         "domain": {
          "x": [
           0.7,
           1
          ],
          "y": [
           0.16833333333333333,
           0.32666666666666666
          ]
         },
         "fitbounds": "locations",
         "visible": false
        },
        "geo16": {
         "domain": {
          "x": [
           0,
           0.3
          ],
          "y": [
           0,
           0.15833333333333333
          ]
         },
         "fitbounds": "locations",
         "visible": false
        },
        "geo17": {
         "domain": {
          "x": [
           0.35,
           0.6499999999999999
          ],
          "y": [
           0,
           0.15833333333333333
          ]
         },
         "fitbounds": "locations",
         "visible": false
        },
        "geo18": {
         "domain": {
          "x": [
           0.7,
           1
          ],
          "y": [
           0,
           0.15833333333333333
          ]
         },
         "fitbounds": "locations",
         "visible": false
        },
        "geo2": {
         "domain": {
          "x": [
           0.35,
           0.6499999999999999
          ],
          "y": [
           0.8416666666666667,
           1
          ]
         },
         "fitbounds": "locations",
         "visible": false
        },
        "geo3": {
         "domain": {
          "x": [
           0.7,
           1
          ],
          "y": [
           0.8416666666666667,
           1
          ]
         },
         "fitbounds": "locations",
         "visible": false
        },
        "geo4": {
         "domain": {
          "x": [
           0,
           0.3
          ],
          "y": [
           0.6733333333333333,
           0.8316666666666667
          ]
         },
         "fitbounds": "locations",
         "visible": false
        },
        "geo5": {
         "domain": {
          "x": [
           0.35,
           0.6499999999999999
          ],
          "y": [
           0.6733333333333333,
           0.8316666666666667
          ]
         },
         "fitbounds": "locations",
         "visible": false
        },
        "geo6": {
         "domain": {
          "x": [
           0.7,
           1
          ],
          "y": [
           0.6733333333333333,
           0.8316666666666667
          ]
         },
         "fitbounds": "locations",
         "visible": false
        },
        "geo7": {
         "domain": {
          "x": [
           0,
           0.3
          ],
          "y": [
           0.505,
           0.6633333333333333
          ]
         },
         "fitbounds": "locations",
         "visible": false
        },
        "geo8": {
         "domain": {
          "x": [
           0.35,
           0.6499999999999999
          ],
          "y": [
           0.505,
           0.6633333333333333
          ]
         },
         "fitbounds": "locations",
         "visible": false
        },
        "geo9": {
         "domain": {
          "x": [
           0.7,
           1
          ],
          "y": [
           0.505,
           0.6633333333333333
          ]
         },
         "fitbounds": "locations",
         "visible": false
        },
        "height": 1000,
        "margin": {
         "b": 100,
         "l": 50,
         "pad": 4,
         "r": 50,
         "t": 100
        },
        "template": {
         "data": {
          "bar": [
           {
            "error_x": {
             "color": "#2a3f5f"
            },
            "error_y": {
             "color": "#2a3f5f"
            },
            "marker": {
             "line": {
              "color": "#E5ECF6",
              "width": 0.5
             },
             "pattern": {
              "fillmode": "overlay",
              "size": 10,
              "solidity": 0.2
             }
            },
            "type": "bar"
           }
          ],
          "barpolar": [
           {
            "marker": {
             "line": {
              "color": "#E5ECF6",
              "width": 0.5
             },
             "pattern": {
              "fillmode": "overlay",
              "size": 10,
              "solidity": 0.2
             }
            },
            "type": "barpolar"
           }
          ],
          "carpet": [
           {
            "aaxis": {
             "endlinecolor": "#2a3f5f",
             "gridcolor": "white",
             "linecolor": "white",
             "minorgridcolor": "white",
             "startlinecolor": "#2a3f5f"
            },
            "baxis": {
             "endlinecolor": "#2a3f5f",
             "gridcolor": "white",
             "linecolor": "white",
             "minorgridcolor": "white",
             "startlinecolor": "#2a3f5f"
            },
            "type": "carpet"
           }
          ],
          "choropleth": [
           {
            "colorbar": {
             "outlinewidth": 0,
             "ticks": ""
            },
            "type": "choropleth"
           }
          ],
          "contour": [
           {
            "colorbar": {
             "outlinewidth": 0,
             "ticks": ""
            },
            "colorscale": [
             [
              0,
              "#0d0887"
             ],
             [
              0.1111111111111111,
              "#46039f"
             ],
             [
              0.2222222222222222,
              "#7201a8"
             ],
             [
              0.3333333333333333,
              "#9c179e"
             ],
             [
              0.4444444444444444,
              "#bd3786"
             ],
             [
              0.5555555555555556,
              "#d8576b"
             ],
             [
              0.6666666666666666,
              "#ed7953"
             ],
             [
              0.7777777777777778,
              "#fb9f3a"
             ],
             [
              0.8888888888888888,
              "#fdca26"
             ],
             [
              1,
              "#f0f921"
             ]
            ],
            "type": "contour"
           }
          ],
          "contourcarpet": [
           {
            "colorbar": {
             "outlinewidth": 0,
             "ticks": ""
            },
            "type": "contourcarpet"
           }
          ],
          "heatmap": [
           {
            "colorbar": {
             "outlinewidth": 0,
             "ticks": ""
            },
            "colorscale": [
             [
              0,
              "#0d0887"
             ],
             [
              0.1111111111111111,
              "#46039f"
             ],
             [
              0.2222222222222222,
              "#7201a8"
             ],
             [
              0.3333333333333333,
              "#9c179e"
             ],
             [
              0.4444444444444444,
              "#bd3786"
             ],
             [
              0.5555555555555556,
              "#d8576b"
             ],
             [
              0.6666666666666666,
              "#ed7953"
             ],
             [
              0.7777777777777778,
              "#fb9f3a"
             ],
             [
              0.8888888888888888,
              "#fdca26"
             ],
             [
              1,
              "#f0f921"
             ]
            ],
            "type": "heatmap"
           }
          ],
          "heatmapgl": [
           {
            "colorbar": {
             "outlinewidth": 0,
             "ticks": ""
            },
            "colorscale": [
             [
              0,
              "#0d0887"
             ],
             [
              0.1111111111111111,
              "#46039f"
             ],
             [
              0.2222222222222222,
              "#7201a8"
             ],
             [
              0.3333333333333333,
              "#9c179e"
             ],
             [
              0.4444444444444444,
              "#bd3786"
             ],
             [
              0.5555555555555556,
              "#d8576b"
             ],
             [
              0.6666666666666666,
              "#ed7953"
             ],
             [
              0.7777777777777778,
              "#fb9f3a"
             ],
             [
              0.8888888888888888,
              "#fdca26"
             ],
             [
              1,
              "#f0f921"
             ]
            ],
            "type": "heatmapgl"
           }
          ],
          "histogram": [
           {
            "marker": {
             "pattern": {
              "fillmode": "overlay",
              "size": 10,
              "solidity": 0.2
             }
            },
            "type": "histogram"
           }
          ],
          "histogram2d": [
           {
            "colorbar": {
             "outlinewidth": 0,
             "ticks": ""
            },
            "colorscale": [
             [
              0,
              "#0d0887"
             ],
             [
              0.1111111111111111,
              "#46039f"
             ],
             [
              0.2222222222222222,
              "#7201a8"
             ],
             [
              0.3333333333333333,
              "#9c179e"
             ],
             [
              0.4444444444444444,
              "#bd3786"
             ],
             [
              0.5555555555555556,
              "#d8576b"
             ],
             [
              0.6666666666666666,
              "#ed7953"
             ],
             [
              0.7777777777777778,
              "#fb9f3a"
             ],
             [
              0.8888888888888888,
              "#fdca26"
             ],
             [
              1,
              "#f0f921"
             ]
            ],
            "type": "histogram2d"
           }
          ],
          "histogram2dcontour": [
           {
            "colorbar": {
             "outlinewidth": 0,
             "ticks": ""
            },
            "colorscale": [
             [
              0,
              "#0d0887"
             ],
             [
              0.1111111111111111,
              "#46039f"
             ],
             [
              0.2222222222222222,
              "#7201a8"
             ],
             [
              0.3333333333333333,
              "#9c179e"
             ],
             [
              0.4444444444444444,
              "#bd3786"
             ],
             [
              0.5555555555555556,
              "#d8576b"
             ],
             [
              0.6666666666666666,
              "#ed7953"
             ],
             [
              0.7777777777777778,
              "#fb9f3a"
             ],
             [
              0.8888888888888888,
              "#fdca26"
             ],
             [
              1,
              "#f0f921"
             ]
            ],
            "type": "histogram2dcontour"
           }
          ],
          "mesh3d": [
           {
            "colorbar": {
             "outlinewidth": 0,
             "ticks": ""
            },
            "type": "mesh3d"
           }
          ],
          "parcoords": [
           {
            "line": {
             "colorbar": {
              "outlinewidth": 0,
              "ticks": ""
             }
            },
            "type": "parcoords"
           }
          ],
          "pie": [
           {
            "automargin": true,
            "type": "pie"
           }
          ],
          "scatter": [
           {
            "fillpattern": {
             "fillmode": "overlay",
             "size": 10,
             "solidity": 0.2
            },
            "type": "scatter"
           }
          ],
          "scatter3d": [
           {
            "line": {
             "colorbar": {
              "outlinewidth": 0,
              "ticks": ""
             }
            },
            "marker": {
             "colorbar": {
              "outlinewidth": 0,
              "ticks": ""
             }
            },
            "type": "scatter3d"
           }
          ],
          "scattercarpet": [
           {
            "marker": {
             "colorbar": {
              "outlinewidth": 0,
              "ticks": ""
             }
            },
            "type": "scattercarpet"
           }
          ],
          "scattergeo": [
           {
            "marker": {
             "colorbar": {
              "outlinewidth": 0,
              "ticks": ""
             }
            },
            "type": "scattergeo"
           }
          ],
          "scattergl": [
           {
            "marker": {
             "colorbar": {
              "outlinewidth": 0,
              "ticks": ""
             }
            },
            "type": "scattergl"
           }
          ],
          "scattermapbox": [
           {
            "marker": {
             "colorbar": {
              "outlinewidth": 0,
              "ticks": ""
             }
            },
            "type": "scattermapbox"
           }
          ],
          "scatterpolar": [
           {
            "marker": {
             "colorbar": {
              "outlinewidth": 0,
              "ticks": ""
             }
            },
            "type": "scatterpolar"
           }
          ],
          "scatterpolargl": [
           {
            "marker": {
             "colorbar": {
              "outlinewidth": 0,
              "ticks": ""
             }
            },
            "type": "scatterpolargl"
           }
          ],
          "scatterternary": [
           {
            "marker": {
             "colorbar": {
              "outlinewidth": 0,
              "ticks": ""
             }
            },
            "type": "scatterternary"
           }
          ],
          "surface": [
           {
            "colorbar": {
             "outlinewidth": 0,
             "ticks": ""
            },
            "colorscale": [
             [
              0,
              "#0d0887"
             ],
             [
              0.1111111111111111,
              "#46039f"
             ],
             [
              0.2222222222222222,
              "#7201a8"
             ],
             [
              0.3333333333333333,
              "#9c179e"
             ],
             [
              0.4444444444444444,
              "#bd3786"
             ],
             [
              0.5555555555555556,
              "#d8576b"
             ],
             [
              0.6666666666666666,
              "#ed7953"
             ],
             [
              0.7777777777777778,
              "#fb9f3a"
             ],
             [
              0.8888888888888888,
              "#fdca26"
             ],
             [
              1,
              "#f0f921"
             ]
            ],
            "type": "surface"
           }
          ],
          "table": [
           {
            "cells": {
             "fill": {
              "color": "#EBF0F8"
             },
             "line": {
              "color": "white"
             }
            },
            "header": {
             "fill": {
              "color": "#C8D4E3"
             },
             "line": {
              "color": "white"
             }
            },
            "type": "table"
           }
          ]
         },
         "layout": {
          "annotationdefaults": {
           "arrowcolor": "#2a3f5f",
           "arrowhead": 0,
           "arrowwidth": 1
          },
          "autotypenumbers": "strict",
          "coloraxis": {
           "colorbar": {
            "outlinewidth": 0,
            "ticks": ""
           }
          },
          "colorscale": {
           "diverging": [
            [
             0,
             "#8e0152"
            ],
            [
             0.1,
             "#c51b7d"
            ],
            [
             0.2,
             "#de77ae"
            ],
            [
             0.3,
             "#f1b6da"
            ],
            [
             0.4,
             "#fde0ef"
            ],
            [
             0.5,
             "#f7f7f7"
            ],
            [
             0.6,
             "#e6f5d0"
            ],
            [
             0.7,
             "#b8e186"
            ],
            [
             0.8,
             "#7fbc41"
            ],
            [
             0.9,
             "#4d9221"
            ],
            [
             1,
             "#276419"
            ]
           ],
           "sequential": [
            [
             0,
             "#0d0887"
            ],
            [
             0.1111111111111111,
             "#46039f"
            ],
            [
             0.2222222222222222,
             "#7201a8"
            ],
            [
             0.3333333333333333,
             "#9c179e"
            ],
            [
             0.4444444444444444,
             "#bd3786"
            ],
            [
             0.5555555555555556,
             "#d8576b"
            ],
            [
             0.6666666666666666,
             "#ed7953"
            ],
            [
             0.7777777777777778,
             "#fb9f3a"
            ],
            [
             0.8888888888888888,
             "#fdca26"
            ],
            [
             1,
             "#f0f921"
            ]
           ],
           "sequentialminus": [
            [
             0,
             "#0d0887"
            ],
            [
             0.1111111111111111,
             "#46039f"
            ],
            [
             0.2222222222222222,
             "#7201a8"
            ],
            [
             0.3333333333333333,
             "#9c179e"
            ],
            [
             0.4444444444444444,
             "#bd3786"
            ],
            [
             0.5555555555555556,
             "#d8576b"
            ],
            [
             0.6666666666666666,
             "#ed7953"
            ],
            [
             0.7777777777777778,
             "#fb9f3a"
            ],
            [
             0.8888888888888888,
             "#fdca26"
            ],
            [
             1,
             "#f0f921"
            ]
           ]
          },
          "colorway": [
           "#636efa",
           "#EF553B",
           "#00cc96",
           "#ab63fa",
           "#FFA15A",
           "#19d3f3",
           "#FF6692",
           "#B6E880",
           "#FF97FF",
           "#FECB52"
          ],
          "font": {
           "color": "#2a3f5f"
          },
          "geo": {
           "bgcolor": "white",
           "lakecolor": "white",
           "landcolor": "#E5ECF6",
           "showlakes": true,
           "showland": true,
           "subunitcolor": "white"
          },
          "hoverlabel": {
           "align": "left"
          },
          "hovermode": "closest",
          "mapbox": {
           "style": "light"
          },
          "paper_bgcolor": "white",
          "plot_bgcolor": "#E5ECF6",
          "polar": {
           "angularaxis": {
            "gridcolor": "white",
            "linecolor": "white",
            "ticks": ""
           },
           "bgcolor": "#E5ECF6",
           "radialaxis": {
            "gridcolor": "white",
            "linecolor": "white",
            "ticks": ""
           }
          },
          "scene": {
           "xaxis": {
            "backgroundcolor": "#E5ECF6",
            "gridcolor": "white",
            "gridwidth": 2,
            "linecolor": "white",
            "showbackground": true,
            "ticks": "",
            "zerolinecolor": "white"
           },
           "yaxis": {
            "backgroundcolor": "#E5ECF6",
            "gridcolor": "white",
            "gridwidth": 2,
            "linecolor": "white",
            "showbackground": true,
            "ticks": "",
            "zerolinecolor": "white"
           },
           "zaxis": {
            "backgroundcolor": "#E5ECF6",
            "gridcolor": "white",
            "gridwidth": 2,
            "linecolor": "white",
            "showbackground": true,
            "ticks": "",
            "zerolinecolor": "white"
           }
          },
          "shapedefaults": {
           "line": {
            "color": "#2a3f5f"
           }
          },
          "ternary": {
           "aaxis": {
            "gridcolor": "white",
            "linecolor": "white",
            "ticks": ""
           },
           "baxis": {
            "gridcolor": "white",
            "linecolor": "white",
            "ticks": ""
           },
           "bgcolor": "#E5ECF6",
           "caxis": {
            "gridcolor": "white",
            "linecolor": "white",
            "ticks": ""
           }
          },
          "title": {
           "x": 0.05
          },
          "xaxis": {
           "automargin": true,
           "gridcolor": "white",
           "linecolor": "white",
           "ticks": "",
           "title": {
            "standoff": 15
           },
           "zerolinecolor": "white",
           "zerolinewidth": 2
          },
          "yaxis": {
           "automargin": true,
           "gridcolor": "white",
           "linecolor": "white",
           "ticks": "",
           "title": {
            "standoff": 15
           },
           "zerolinecolor": "white",
           "zerolinewidth": 2
          }
         }
        },
        "title": {
         "text": "Fig.3. Geographic Analysis on World Adult Morality from 2000 to 2016",
         "x": 0.5
        },
        "width": 1000
       }
      },
      "text/html": [
       "<div>                            <div id=\"549f8dda-9a5a-4371-a7ec-da416d1db578\" class=\"plotly-graph-div\" style=\"height:1000px; width:1000px;\"></div>            <script type=\"text/javascript\">                require([\"plotly\"], function(Plotly) {                    window.PLOTLYENV=window.PLOTLYENV || {};                                    if (document.getElementById(\"549f8dda-9a5a-4371-a7ec-da416d1db578\")) {                    Plotly.newPlot(                        \"549f8dda-9a5a-4371-a7ec-da416d1db578\",                        [{\"colorbar\":{\"title\":{\"text\":\"Adult Morality\"}},\"colorscale\":[[0.0,\"rgb(0,0,255)\"],[1.0,\"rgb(255,0,0)\"]],\"locationmode\":\"country names\",\"locations\":[\"Bahrain\",\"Chile\",\"Finland\",\"Brunei Darussalam\",\"Albania\",\"United Arab Emirates\",\"Portugal\",\"China\",\"Saudi Arabia\",\"Tunisia\",\"Republic of Korea\",\"Lebanon\",\"United States of America\",\"Panama\",\"Cuba\",\"Slovenia\",\"The former Yugoslav Republic of Macedonia\",\"Syrian Arab Republic\",\"Czechia\",\"Bosnia and Herzegovina\",\"Barbados\",\"Georgia\",\"Croatia\",\"Jordan\",\"Uruguay\",\"Argentina\",\"Mexico\",\"Oman\",\"Viet Nam\",\"Montenegro\",\"Serbia\",\"Algeria\",\"Maldives\",\"Armenia\",\"T\\u00fcrkiye\",\"Malaysia\",\"Slovakia\",\"Libya\",\"Iraq\",\"Poland\",\"Iran (Islamic Republic of)\",\"Peru\",\"Antigua and Barbuda\",\"Tonga\",\"Morocco\",\"Ecuador\",\"Azerbaijan\",\"Bulgaria\",\"Egypt\",\"Cabo Verde\",\"Tajikistan\",\"Sri Lanka\",\"Colombia\",\"Paraguay\",\"Mauritius\",\"Bangladesh\",\"Venezuela (Bolivarian Republic of)\",\"Jamaica\",\"Romania\",\"Honduras\",\"Samoa\",\"Grenada\",\"Uzbekistan\",\"Brazil\",\"Vanuatu\",\"Micronesia (Federated States of)\",\"Saint Lucia\",\"Indonesia\",\"Seychelles\",\"Pakistan\",\"Democratic People's Republic of Korea\",\"Hungary\",\"Saint Vincent and the Grenadines\",\"Nicaragua\",\"Belize\",\"Lithuania\",\"Trinidad and Tobago\",\"Bahamas\",\"Thailand\",\"Dominican Republic\",\"Philippines\",\"Turkmenistan\",\"Estonia\",\"Latvia\",\"El Salvador\",\"Guatemala\",\"Suriname\",\"Fiji\",\"Kiribati\",\"India\",\"Republic of Moldova\",\"Sao Tome and Principe\",\"Kyrgyzstan\",\"Mauritania\",\"Solomon Islands\",\"Nepal\",\"Bolivia (Plurinational State of)\",\"Myanmar\",\"Belarus\",\"Senegal\",\"Yemen\",\"Ukraine\",\"Comoros\",\"Mongolia\",\"Papua New Guinea\",\"Timor-Leste\",\"Lao People's Democratic Republic\",\"Cambodia\",\"Benin\",\"Guyana\",\"Madagascar\",\"Sudan\",\"Kazakhstan\",\"Guinea-Bissau\",\"Niger\",\"Gambia\",\"Haiti\",\"Bhutan\",\"Ghana\",\"Russian Federation\",\"Liberia\",\"Afghanistan\",\"Gabon\",\"Togo\",\"Djibouti\",\"Guinea\",\"Mali\",\"Democratic Republic of the Congo\",\"Burkina Faso\",\"Somalia\",\"Equatorial Guinea\",\"South Africa\",\"Burundi\",\"South Sudan\",\"Angola\",\"Ethiopia\",\"Nigeria\",\"Cameroon\",\"Chad\",\"Congo\",\"Namibia\",\"Mozambique\",\"Rwanda\",\"Kenya\",\"United Republic of Tanzania\",\"C\\u00f4te d\\u2019Ivoire\",\"Lesotho\",\"Central African Republic\",\"Sierra Leone\",\"Malawi\",\"Uganda\",\"Eswatini\",\"Zambia\",\"Eritrea\",\"Botswana\",\"Zimbabwe\",\"Malta\",\"Sweden\",\"Japan\",\"Qatar\",\"Italy\",\"Iceland\",\"Australia\",\"Switzerland\",\"Singapore\",\"Cyprus\",\"Israel\",\"Canada\",\"Greece\",\"Netherlands\",\"Norway\",\"Spain\",\"New Zealand\",\"United Kingdom of Great Britain and Northern Ireland\",\"Luxembourg\",\"Ireland\",\"Kuwait\",\"Austria\",\"Germany\",\"France\",\"Belgium\",\"Denmark\",\"Costa Rica\"],\"z\":[100.8,102.8,104.2,105.1,106.1,106.9,109.6,110.3,111.5,111.5,113.6,113.8,114.2,119.6,121.1,121.9,123.7,123.7,124.3,128.3,128.4,128.5,133.0,133.2,134.2,138.5,138.5,138.6,138.6,139.8,140.6,141.9,142.2,143.4,144.1,145.1,146.8,147.5,148.4,152.2,153.3,154.8,156.7,158.3,158.6,159.6,161.0,162.7,166.2,166.8,170.1,170.7,171.4,171.5,171.8,172.8,172.8,173.4,175.0,176.1,180.3,182.1,182.8,183.8,184.3,184.6,185.9,187.3,188.5,189.8,191.4,192.6,195.7,196.9,198.4,200.0,202.0,202.4,203.6,212.4,212.9,214.8,215.7,217.2,218.0,219.6,221.5,221.6,222.0,223.8,226.2,226.6,227.5,229.0,231.7,240.8,242.6,245.5,247.1,250.4,251.5,257.5,272.1,273.1,275.6,275.7,277.6,279.7,281.8,282.4,282.8,283.9,287.4,291.2,292.7,303.7,305.8,308.7,309.9,310.7,314.8,316.0,316.9,321.6,322.2,328.8,335.0,341.7,341.8,357.7,359.4,361.8,370.0,379.5,383.6,406.3,407.5,412.3,412.9,416.9,428.0,428.3,450.9,458.1,458.4,460.7,507.0,531.5,533.5,535.2,536.2,539.9,594.2,600.5,601.5,675.3,69.51,71.99,72.14,73.9,75.39,76.07,76.93,77.55,79.08,79.54,80.02,80.77,82.35,83.48,84.35,84.5,86.12,87.98,89.95,92.96,93.57,93.72,95.18,99.17,99.35,99.82,99.88],\"zmax\":769.3,\"zmin\":33.43,\"type\":\"choropleth\",\"geo\":\"geo\"},{\"colorbar\":{\"title\":{\"text\":\"Adult Morality\"}},\"colorscale\":[[0.0,\"rgb(0,0,255)\"],[1.0,\"rgb(255,0,0)\"]],\"locationmode\":\"country names\",\"locations\":[\"Albania\",\"Brunei Darussalam\",\"Costa Rica\",\"United Arab Emirates\",\"China\",\"Republic of Korea\",\"Chile\",\"Portugal\",\"Saudi Arabia\",\"Tunisia\",\"Lebanon\",\"United States of America\",\"Cuba\",\"Panama\",\"Czechia\",\"Slovenia\",\"Syrian Arab Republic\",\"Bosnia and Herzegovina\",\"Georgia\",\"Barbados\",\"Uruguay\",\"The former Yugoslav Republic of Macedonia\",\"Croatia\",\"Jordan\",\"Oman\",\"Serbia\",\"Maldives\",\"Mexico\",\"Montenegro\",\"Argentina\",\"Viet Nam\",\"Algeria\",\"T\\u00fcrkiye\",\"Iraq\",\"Armenia\",\"Malaysia\",\"Slovakia\",\"Libya\",\"Poland\",\"Azerbaijan\",\"Iran (Islamic Republic of)\",\"Morocco\",\"Peru\",\"Ecuador\",\"Antigua and Barbuda\",\"Tonga\",\"Sri Lanka\",\"Bulgaria\",\"Tajikistan\",\"Cabo Verde\",\"Bangladesh\",\"Paraguay\",\"Colombia\",\"Mauritius\",\"Egypt\",\"Honduras\",\"Jamaica\",\"Venezuela (Bolivarian Republic of)\",\"Samoa\",\"Democratic People's Republic of Korea\",\"Uzbekistan\",\"Grenada\",\"Romania\",\"Brazil\",\"Vanuatu\",\"Saint Lucia\",\"Micronesia (Federated States of)\",\"Hungary\",\"Seychelles\",\"Indonesia\",\"Pakistan\",\"Nicaragua\",\"Saint Vincent and the Grenadines\",\"Thailand\",\"Belize\",\"Bahamas\",\"Trinidad and Tobago\",\"Turkmenistan\",\"Lithuania\",\"Dominican Republic\",\"Guatemala\",\"Philippines\",\"Republic of Moldova\",\"Kiribati\",\"Kyrgyzstan\",\"Fiji\",\"India\",\"El Salvador\",\"Estonia\",\"Suriname\",\"Solomon Islands\",\"Sao Tome and Principe\",\"Mauritania\",\"Latvia\",\"Nepal\",\"Bolivia (Plurinational State of)\",\"Myanmar\",\"Senegal\",\"Yemen\",\"Ukraine\",\"Belarus\",\"Timor-Leste\",\"Mongolia\",\"Lao People's Democratic Republic\",\"Comoros\",\"Papua New Guinea\",\"Guyana\",\"Madagascar\",\"Cambodia\",\"Sudan\",\"Kazakhstan\",\"Benin\",\"Bhutan\",\"Niger\",\"Guinea-Bissau\",\"Gambia\",\"Haiti\",\"Afghanistan\",\"Ghana\",\"Russian Federation\",\"Liberia\",\"Djibouti\",\"Gabon\",\"Mali\",\"Togo\",\"Democratic Republic of the Congo\",\"Burkina Faso\",\"Guinea\",\"Eritrea\",\"Somalia\",\"Equatorial Guinea\",\"Burundi\",\"Angola\",\"South Sudan\",\"South Africa\",\"Ethiopia\",\"Chad\",\"Cameroon\",\"Nigeria\",\"Congo\",\"Mozambique\",\"Namibia\",\"Rwanda\",\"United Republic of Tanzania\",\"Kenya\",\"C\\u00f4te d\\u2019Ivoire\",\"Sierra Leone\",\"Uganda\",\"Malawi\",\"Central African Republic\",\"Lesotho\",\"Eswatini\",\"Zambia\",\"Botswana\",\"Malta\",\"Zimbabwe\",\"Cyprus\",\"Japan\",\"Sweden\",\"Qatar\",\"Italy\",\"Iceland\",\"Australia\",\"Switzerland\",\"Singapore\",\"Canada\",\"Israel\",\"Greece\",\"Norway\",\"Netherlands\",\"New Zealand\",\"Spain\",\"Ireland\",\"United Kingdom of Great Britain and Northern Ireland\",\"Austria\",\"Luxembourg\",\"Germany\",\"Kuwait\",\"Belgium\",\"Bahrain\",\"Finland\",\"France\",\"Denmark\"],\"z\":[100.4,100.7,101.2,103.9,105.0,105.0,105.7,109.1,109.3,109.7,111.7,115.8,119.5,120.1,121.5,123.5,123.8,124.7,124.7,127.0,127.1,128.0,128.6,131.0,133.9,134.2,135.4,135.5,136.7,137.6,137.6,138.8,140.5,141.2,143.2,144.4,144.6,146.4,147.0,149.5,150.1,152.2,152.6,154.0,154.5,156.6,158.5,159.3,161.6,163.8,167.8,169.3,170.1,171.5,172.8,173.8,174.6,174.6,175.8,176.6,176.6,178.2,178.7,180.0,180.3,180.6,183.2,185.1,186.8,187.5,188.4,194.8,195.3,200.5,203.4,204.3,204.3,209.6,213.9,214.1,214.3,215.1,218.6,219.2,219.4,220.9,221.8,222.1,223.7,223.8,224.5,225.0,227.8,228.7,234.4,238.0,242.8,250.6,251.1,253.8,254.8,269.2,270.6,271.2,271.9,272.6,272.9,275.6,277.2,282.4,282.5,282.7,286.8,291.7,293.3,301.1,303.5,307.2,310.3,311.4,323.8,324.6,325.0,327.4,327.9,337.9,338.8,341.1,347.9,354.2,358.3,365.5,372.4,380.3,387.3,391.7,409.4,410.6,411.5,420.4,432.8,454.3,455.7,457.9,465.0,468.7,520.1,522.6,542.6,544.0,546.1,580.3,594.0,627.8,68.96,687.6,69.98,70.2,72.09,72.85,73.22,73.4,73.55,74.69,76.72,79.15,79.15,80.92,81.01,81.76,82.78,82.88,87.79,87.91,89.52,90.22,91.75,92.4,98.11,98.42,99.07,99.48,99.5],\"zmax\":769.3,\"zmin\":33.43,\"type\":\"choropleth\",\"geo\":\"geo2\"},{\"colorbar\":{\"title\":{\"text\":\"Adult Morality\"}},\"colorscale\":[[0.0,\"rgb(0,0,255)\"],[1.0,\"rgb(255,0,0)\"]],\"locationmode\":\"country names\",\"locations\":[\"Chile\",\"United Arab Emirates\",\"China\",\"Denmark\",\"Albania\",\"Portugal\",\"Saudi Arabia\",\"Tunisia\",\"Lebanon\",\"Bosnia and Herzegovina\",\"Cuba\",\"United States of America\",\"Slovenia\",\"Czechia\",\"Panama\",\"Syrian Arab Republic\",\"Croatia\",\"Barbados\",\"The former Yugoslav Republic of Macedonia\",\"Maldives\",\"Uruguay\",\"Jordan\",\"Oman\",\"Serbia\",\"Montenegro\",\"Algeria\",\"Mexico\",\"Armenia\",\"Viet Nam\",\"Argentina\",\"T\\u00fcrkiye\",\"Iraq\",\"Malaysia\",\"Poland\",\"Azerbaijan\",\"Slovakia\",\"Libya\",\"Morocco\",\"Iran (Islamic Republic of)\",\"Antigua and Barbuda\",\"Sri Lanka\",\"Peru\",\"Georgia\",\"Ecuador\",\"Tonga\",\"Bulgaria\",\"Tajikistan\",\"Cabo Verde\",\"Bangladesh\",\"Democratic People's Republic of Korea\",\"Paraguay\",\"Colombia\",\"Jamaica\",\"Honduras\",\"Mauritius\",\"Egypt\",\"Samoa\",\"Venezuela (Bolivarian Republic of)\",\"Grenada\",\"Vanuatu\",\"Saint Lucia\",\"Brazil\",\"Uzbekistan\",\"Romania\",\"Hungary\",\"Seychelles\",\"Pakistan\",\"Indonesia\",\"Nicaragua\",\"Trinidad and Tobago\",\"Saint Vincent and the Grenadines\",\"Thailand\",\"Belize\",\"Micronesia (Federated States of)\",\"Bahamas\",\"Guatemala\",\"Lithuania\",\"Estonia\",\"El Salvador\",\"Dominican Republic\",\"Republic of Moldova\",\"Philippines\",\"Turkmenistan\",\"Kyrgyzstan\",\"Kiribati\",\"Solomon Islands\",\"India\",\"Fiji\",\"Latvia\",\"Suriname\",\"Sao Tome and Principe\",\"Mauritania\",\"Bolivia (Plurinational State of)\",\"Myanmar\",\"Nepal\",\"Yemen\",\"Senegal\",\"Ukraine\",\"Timor-Leste\",\"Belarus\",\"Lao People's Democratic Republic\",\"Mongolia\",\"Papua New Guinea\",\"Madagascar\",\"Comoros\",\"Cambodia\",\"Sudan\",\"Kazakhstan\",\"Bhutan\",\"Guyana\",\"Benin\",\"Niger\",\"Afghanistan\",\"Guinea-Bissau\",\"Gambia\",\"Haiti\",\"Ghana\",\"Russian Federation\",\"Mali\",\"Djibouti\",\"Gabon\",\"Togo\",\"Burkina Faso\",\"Democratic Republic of the Congo\",\"Guinea\",\"Eritrea\",\"Liberia\",\"Somalia\",\"Angola\",\"Equatorial Guinea\",\"Burundi\",\"South Sudan\",\"Ethiopia\",\"Cameroon\",\"Chad\",\"South Africa\",\"Nigeria\",\"Congo\",\"Rwanda\",\"Mozambique\",\"United Republic of Tanzania\",\"Kenya\",\"C\\u00f4te d\\u2019Ivoire\",\"Namibia\",\"Uganda\",\"Sierra Leone\",\"Central African Republic\",\"Malawi\",\"Lesotho\",\"Zambia\",\"Eswatini\",\"Botswana\",\"Iceland\",\"Malta\",\"Japan\",\"Zimbabwe\",\"Sweden\",\"Italy\",\"Cyprus\",\"Qatar\",\"Australia\",\"Switzerland\",\"Singapore\",\"Canada\",\"Greece\",\"Norway\",\"Israel\",\"Netherlands\",\"Spain\",\"New Zealand\",\"Ireland\",\"Luxembourg\",\"United Kingdom of Great Britain and Northern Ireland\",\"Austria\",\"Germany\",\"Kuwait\",\"Brunei Darussalam\",\"Belgium\",\"Finland\",\"France\",\"Republic of Korea\",\"Bahrain\",\"Costa Rica\"],\"z\":[100.4,100.9,101.0,101.1,102.3,106.7,107.4,108.3,109.5,111.4,111.9,114.9,116.7,119.0,119.8,123.9,124.0,126.1,127.0,128.2,128.7,129.0,130.3,131.1,133.2,134.7,135.8,136.9,136.9,137.1,137.3,139.6,142.7,142.7,143.7,144.0,145.1,145.9,146.7,148.9,149.6,150.2,151.6,152.6,154.9,156.1,156.5,161.6,163.7,167.1,167.5,168.6,171.3,171.8,173.1,173.7,174.6,174.6,175.2,175.6,176.0,176.2,176.3,178.1,184.1,185.5,186.7,187.7,192.3,195.0,195.5,197.5,199.6,200.8,205.6,205.8,206.7,210.2,212.8,214.8,215.5,215.8,216.0,216.8,216.9,217.8,219.0,220.3,221.0,224.8,225.3,227.2,234.0,240.5,242.2,250.3,250.6,257.5,261.4,263.7,264.9,267.9,268.9,270.9,271.5,274.3,276.3,276.5,279.0,280.2,283.7,290.6,292.3,296.4,299.0,300.5,309.7,316.9,320.7,326.6,331.4,333.6,335.0,341.1,344.7,347.9,349.8,350.8,354.5,358.2,369.0,381.5,390.5,409.0,412.1,412.2,413.9,425.1,429.0,439.4,455.9,467.7,476.9,479.2,510.3,513.0,547.4,547.4,580.5,593.9,610.3,645.0,66.18,67.73,68.38,694.8,70.03,70.75,71.3,71.57,71.69,73.17,76.49,78.02,79.01,79.92,80.61,80.67,81.76,82.28,85.74,86.58,86.82,87.4,90.53,91.25,95.07,96.58,97.0,98.39,98.74,98.92,99.59],\"zmax\":769.3,\"zmin\":33.43,\"type\":\"choropleth\",\"geo\":\"geo3\"},{\"colorbar\":{\"title\":{\"text\":\"Adult Morality\"}},\"colorscale\":[[0.0,\"rgb(0,0,255)\"],[1.0,\"rgb(255,0,0)\"]],\"locationmode\":\"country names\",\"locations\":[\"Chile\",\"Costa Rica\",\"Portugal\",\"Saudi Arabia\",\"Albania\",\"Tunisia\",\"Lebanon\",\"Cuba\",\"Bosnia and Herzegovina\",\"United States of America\",\"Maldives\",\"Slovenia\",\"Panama\",\"Czechia\",\"Croatia\",\"Barbados\",\"Syrian Arab Republic\",\"The former Yugoslav Republic of Macedonia\",\"Uruguay\",\"Jordan\",\"Oman\",\"Serbia\",\"Montenegro\",\"Algeria\",\"Argentina\",\"T\\u00fcrkiye\",\"Mexico\",\"Armenia\",\"Viet Nam\",\"Morocco\",\"Poland\",\"Malaysia\",\"Slovakia\",\"Libya\",\"Georgia\",\"Ecuador\",\"Sri Lanka\",\"Tajikistan\",\"Peru\",\"Azerbaijan\",\"Antigua and Barbuda\",\"Tonga\",\"Bulgaria\",\"Colombia\",\"Iran (Islamic Republic of)\",\"Cabo Verde\",\"Bangladesh\",\"Democratic People's Republic of Korea\",\"Paraguay\",\"Mauritius\",\"Samoa\",\"Saint Lucia\",\"Jamaica\",\"Honduras\",\"Vanuatu\",\"Brazil\",\"Uzbekistan\",\"Romania\",\"Egypt\",\"Grenada\",\"Venezuela (Bolivarian Republic of)\",\"Micronesia (Federated States of)\",\"Hungary\",\"Seychelles\",\"Pakistan\",\"Indonesia\",\"Nicaragua\",\"Saint Vincent and the Grenadines\",\"Thailand\",\"Estonia\",\"Belize\",\"Trinidad and Tobago\",\"Bahamas\",\"Lithuania\",\"Guatemala\",\"El Salvador\",\"Solomon Islands\",\"Latvia\",\"Philippines\",\"Iraq\",\"Dominican Republic\",\"Kiribati\",\"India\",\"Republic of Moldova\",\"Kyrgyzstan\",\"Turkmenistan\",\"Fiji\",\"Suriname\",\"Nepal\",\"Mauritania\",\"Sao Tome and Principe\",\"Bolivia (Plurinational State of)\",\"Myanmar\",\"Yemen\",\"Timor-Leste\",\"Senegal\",\"Belarus\",\"Ukraine\",\"Lao People's Democratic Republic\",\"Mongolia\",\"Papua New Guinea\",\"Madagascar\",\"Cambodia\",\"Comoros\",\"Bhutan\",\"Guyana\",\"Sudan\",\"Kazakhstan\",\"Benin\",\"Afghanistan\",\"Niger\",\"Haiti\",\"Gambia\",\"Guinea-Bissau\",\"Ghana\",\"Mali\",\"Djibouti\",\"Russian Federation\",\"Burkina Faso\",\"Democratic Republic of the Congo\",\"Gabon\",\"Togo\",\"Angola\",\"Guinea\",\"Somalia\",\"Eritrea\",\"Equatorial Guinea\",\"Burundi\",\"Liberia\",\"South Sudan\",\"Ethiopia\",\"Cameroon\",\"Chad\",\"Nigeria\",\"Rwanda\",\"Congo\",\"South Africa\",\"Mozambique\",\"United Republic of Tanzania\",\"Kenya\",\"C\\u00f4te d\\u2019Ivoire\",\"Uganda\",\"Namibia\",\"Sierra Leone\",\"Central African Republic\",\"Malawi\",\"Zambia\",\"Lesotho\",\"Iceland\",\"Eswatini\",\"Botswana\",\"Malta\",\"Sweden\",\"Japan\",\"Cyprus\",\"Australia\",\"Zimbabwe\",\"Italy\",\"Qatar\",\"Switzerland\",\"Singapore\",\"Israel\",\"Norway\",\"Canada\",\"Greece\",\"Netherlands\",\"Ireland\",\"New Zealand\",\"Spain\",\"Luxembourg\",\"United Kingdom of Great Britain and Northern Ireland\",\"Austria\",\"Germany\",\"Kuwait\",\"Brunei Darussalam\",\"Bahrain\",\"Belgium\",\"Republic of Korea\",\"France\",\"Finland\",\"United Arab Emirates\",\"Denmark\",\"China\"],\"z\":[100.4,100.9,104.0,106.1,106.8,106.9,107.3,111.6,112.5,113.8,114.0,119.1,120.1,120.8,121.3,123.3,123.6,124.5,125.4,127.0,127.0,130.6,132.2,133.2,134.4,134.5,135.9,136.7,136.7,139.2,140.3,141.0,143.2,143.4,143.8,146.3,146.8,147.1,147.5,150.9,151.2,153.3,153.6,155.0,158.7,160.3,160.9,165.5,166.2,168.4,169.1,169.3,169.7,169.9,171.5,171.7,173.1,173.7,174.7,174.8,179.7,180.5,183.9,184.9,185.1,188.2,189.0,192.2,194.4,197.1,199.0,199.4,203.2,207.2,209.0,210.8,211.3,212.1,212.5,213.3,215.1,215.3,216.4,216.6,217.1,217.5,219.9,222.1,225.2,226.2,227.0,230.3,238.0,249.2,250.4,250.5,254.4,258.2,258.8,265.1,265.1,268.4,269.7,270.7,271.1,277.0,277.8,283.4,284.5,286.5,289.5,296.8,297.4,299.9,309.2,315.8,324.9,325.0,330.3,333.5,335.5,337.9,343.2,345.5,346.6,347.3,359.4,370.0,377.0,383.0,386.2,408.2,411.7,415.1,416.9,417.7,436.6,446.0,452.8,466.3,477.7,494.1,500.1,506.1,546.8,550.1,592.8,607.9,62.99,632.8,641.4,66.29,68.35,68.41,69.19,69.39,696.9,70.19,70.23,71.42,73.32,75.61,76.71,77.36,79.51,79.77,80.11,81.43,81.8,84.85,85.67,86.0,89.13,90.18,90.71,92.13,93.56,94.86,96.82,96.9,97.74,98.0,98.62],\"zmax\":769.3,\"zmin\":33.43,\"type\":\"choropleth\",\"geo\":\"geo4\"},{\"colorbar\":{\"title\":{\"text\":\"Adult Morality\"}},\"colorscale\":[[0.0,\"rgb(0,0,255)\"],[1.0,\"rgb(255,0,0)\"]],\"locationmode\":\"country names\",\"locations\":[\"Finland\",\"Albania\",\"Costa Rica\",\"Saudi Arabia\",\"Lebanon\",\"Tunisia\",\"Bosnia and Herzegovina\",\"Cuba\",\"United States of America\",\"Croatia\",\"Slovenia\",\"Czechia\",\"Barbados\",\"Panama\",\"Maldives\",\"The former Yugoslav Republic of Macedonia\",\"Oman\",\"Syrian Arab Republic\",\"Uruguay\",\"Algeria\",\"Jordan\",\"Argentina\",\"Serbia\",\"Morocco\",\"Montenegro\",\"T\\u00fcrkiye\",\"Mexico\",\"Armenia\",\"Viet Nam\",\"Slovakia\",\"Malaysia\",\"Libya\",\"Tajikistan\",\"Poland\",\"Iran (Islamic Republic of)\",\"Peru\",\"Ecuador\",\"Georgia\",\"Azerbaijan\",\"Tonga\",\"Colombia\",\"Antigua and Barbuda\",\"Bulgaria\",\"Bangladesh\",\"Cabo Verde\",\"Samoa\",\"Saint Lucia\",\"Mauritius\",\"Paraguay\",\"Democratic People's Republic of Korea\",\"Romania\",\"Honduras\",\"Jamaica\",\"Vanuatu\",\"Venezuela (Bolivarian Republic of)\",\"Brazil\",\"Egypt\",\"Uzbekistan\",\"Micronesia (Federated States of)\",\"Hungary\",\"Pakistan\",\"Nicaragua\",\"Seychelles\",\"Grenada\",\"Bahamas\",\"Saint Vincent and the Grenadines\",\"Estonia\",\"Thailand\",\"Belize\",\"Trinidad and Tobago\",\"Sri Lanka\",\"Iraq\",\"Solomon Islands\",\"Guatemala\",\"El Salvador\",\"Latvia\",\"Lithuania\",\"Indonesia\",\"Philippines\",\"Kiribati\",\"India\",\"Suriname\",\"Republic of Moldova\",\"Kyrgyzstan\",\"Dominican Republic\",\"Fiji\",\"Nepal\",\"Turkmenistan\",\"Mauritania\",\"Bolivia (Plurinational State of)\",\"Sao Tome and Principe\",\"Timor-Leste\",\"Myanmar\",\"Yemen\",\"Senegal\",\"Belarus\",\"Lao People's Democratic Republic\",\"Papua New Guinea\",\"Mongolia\",\"Cambodia\",\"Bhutan\",\"Madagascar\",\"Comoros\",\"Ukraine\",\"Guyana\",\"Sudan\",\"Afghanistan\",\"Benin\",\"Niger\",\"Kazakhstan\",\"Gambia\",\"Guinea-Bissau\",\"Liberia\",\"Ghana\",\"Mali\",\"Haiti\",\"Russian Federation\",\"Burkina Faso\",\"Djibouti\",\"Democratic Republic of the Congo\",\"Angola\",\"Gabon\",\"Guinea\",\"Togo\",\"Eritrea\",\"Somalia\",\"Equatorial Guinea\",\"Burundi\",\"Ethiopia\",\"South Sudan\",\"Rwanda\",\"Cameroon\",\"Congo\",\"Nigeria\",\"Chad\",\"United Republic of Tanzania\",\"Mozambique\",\"Kenya\",\"South Africa\",\"C\\u00f4te d\\u2019Ivoire\",\"Uganda\",\"Sierra Leone\",\"Namibia\",\"Central African Republic\",\"Malawi\",\"Zambia\",\"Botswana\",\"Iceland\",\"Lesotho\",\"Malta\",\"Eswatini\",\"Italy\",\"Japan\",\"Australia\",\"Switzerland\",\"Qatar\",\"Sweden\",\"Zimbabwe\",\"Israel\",\"Singapore\",\"Cyprus\",\"Canada\",\"Norway\",\"Netherlands\",\"Spain\",\"New Zealand\",\"Ireland\",\"Luxembourg\",\"Greece\",\"United Kingdom of Great Britain and Northern Ireland\",\"Austria\",\"Germany\",\"Kuwait\",\"Brunei Darussalam\",\"Belgium\",\"Republic of Korea\",\"France\",\"Bahrain\",\"United Arab Emirates\",\"Denmark\",\"China\",\"Chile\",\"Portugal\"],\"z\":[100.7,101.3,101.8,104.9,105.0,105.6,108.2,109.3,111.3,113.1,113.2,115.0,115.9,116.5,118.4,118.8,122.4,124.6,125.0,125.1,125.1,127.8,128.6,129.2,131.1,131.6,132.3,135.0,136.7,137.4,139.6,140.9,141.9,142.2,142.4,144.9,145.0,148.4,151.1,151.5,151.8,152.8,154.3,158.0,159.4,160.6,162.3,163.6,165.0,165.5,165.6,165.8,167.7,168.0,168.4,169.4,173.4,174.5,179.0,180.4,183.1,184.7,186.1,186.2,186.5,188.2,193.5,194.1,194.5,195.9,197.4,201.5,204.8,206.1,208.7,208.7,208.8,212.4,213.1,214.0,214.2,215.6,216.3,216.6,217.6,217.8,220.8,223.8,225.1,226.0,229.0,229.3,235.9,247.6,248.0,249.2,252.5,259.9,261.4,261.6,264.2,267.5,268.7,268.9,270.4,278.5,281.9,284.5,287.4,288.6,294.4,302.5,306.2,307.2,310.0,317.5,321.3,322.6,322.9,324.4,333.9,337.7,338.9,339.0,342.0,344.8,361.1,363.7,374.7,384.1,398.9,403.6,407.2,410.9,412.5,447.9,449.9,459.0,459.5,475.1,480.3,495.6,512.7,544.7,548.9,575.1,606.7,61.34,626.7,64.21,649.6,66.1,66.86,67.45,68.0,68.59,69.75,694.4,72.59,72.73,73.96,75.7,75.7,76.21,78.55,78.57,79.26,79.39,79.86,82.39,83.9,85.06,89.13,89.34,89.46,90.25,91.58,93.95,94.32,95.29,96.74,97.86,99.49],\"zmax\":769.3,\"zmin\":33.43,\"type\":\"choropleth\",\"geo\":\"geo5\"},{\"colorbar\":{\"title\":{\"text\":\"Adult Morality\"}},\"colorscale\":[[0.0,\"rgb(0,0,255)\"],[1.0,\"rgb(255,0,0)\"]],\"locationmode\":\"country names\",\"locations\":[\"Lebanon\",\"Saudi Arabia\",\"Slovenia\",\"Tunisia\",\"Albania\",\"Cuba\",\"Bosnia and Herzegovina\",\"United States of America\",\"Czechia\",\"Barbados\",\"Panama\",\"Croatia\",\"Morocco\",\"The former Yugoslav Republic of Macedonia\",\"Oman\",\"Algeria\",\"Syrian Arab Republic\",\"Uruguay\",\"Argentina\",\"Jordan\",\"Serbia\",\"T\\u00fcrkiye\",\"Montenegro\",\"Mexico\",\"Viet Nam\",\"Libya\",\"Malaysia\",\"Sri Lanka\",\"Armenia\",\"Slovakia\",\"Iran (Islamic Republic of)\",\"Peru\",\"Poland\",\"Colombia\",\"Georgia\",\"Ecuador\",\"Tonga\",\"Bangladesh\",\"Tajikistan\",\"Antigua and Barbuda\",\"Bulgaria\",\"Samoa\",\"Cabo Verde\",\"Saint Lucia\",\"Azerbaijan\",\"Brazil\",\"Romania\",\"Paraguay\",\"Mauritius\",\"Vanuatu\",\"Jamaica\",\"Venezuela (Bolivarian Republic of)\",\"Honduras\",\"Democratic People's Republic of Korea\",\"Grenada\",\"Egypt\",\"Micronesia (Federated States of)\",\"Nicaragua\",\"Bahamas\",\"Hungary\",\"Saint Vincent and the Grenadines\",\"Thailand\",\"Uzbekistan\",\"Seychelles\",\"Estonia\",\"Indonesia\",\"Belize\",\"Trinidad and Tobago\",\"Solomon Islands\",\"Pakistan\",\"Timor-Leste\",\"El Salvador\",\"Suriname\",\"Iraq\",\"Nepal\",\"India\",\"Guatemala\",\"Dominican Republic\",\"Kiribati\",\"Fiji\",\"Philippines\",\"Latvia\",\"Bolivia (Plurinational State of)\",\"Kyrgyzstan\",\"Mauritania\",\"Sao Tome and Principe\",\"Lithuania\",\"Myanmar\",\"Turkmenistan\",\"Republic of Moldova\",\"Senegal\",\"Lao People's Democratic Republic\",\"Yemen\",\"Cambodia\",\"Bhutan\",\"Papua New Guinea\",\"Belarus\",\"Mongolia\",\"Sudan\",\"Madagascar\",\"Comoros\",\"Guyana\",\"Afghanistan\",\"Ukraine\",\"Benin\",\"Niger\",\"Haiti\",\"Gambia\",\"Kazakhstan\",\"Liberia\",\"Mali\",\"Ghana\",\"Guinea-Bissau\",\"Burkina Faso\",\"Djibouti\",\"Democratic Republic of the Congo\",\"Angola\",\"Russian Federation\",\"Gabon\",\"Guinea\",\"Eritrea\",\"Somalia\",\"Togo\",\"Burundi\",\"Ethiopia\",\"Equatorial Guinea\",\"Rwanda\",\"South Sudan\",\"Cameroon\",\"Congo\",\"Nigeria\",\"Chad\",\"Kenya\",\"United Republic of Tanzania\",\"Uganda\",\"Mozambique\",\"C\\u00f4te d\\u2019Ivoire\",\"South Africa\",\"Sierra Leone\",\"Namibia\",\"Botswana\",\"Malawi\",\"Central African Republic\",\"Zambia\",\"Iceland\",\"Malta\",\"Lesotho\",\"Italy\",\"Switzerland\",\"Sweden\",\"Eswatini\",\"Qatar\",\"Japan\",\"Australia\",\"Zimbabwe\",\"Norway\",\"Netherlands\",\"Israel\",\"Singapore\",\"Cyprus\",\"Ireland\",\"Canada\",\"Spain\",\"New Zealand\",\"Greece\",\"Luxembourg\",\"United Kingdom of Great Britain and Northern Ireland\",\"Bahrain\",\"Austria\",\"Germany\",\"Republic of Korea\",\"Kuwait\",\"Belgium\",\"Denmark\",\"United Arab Emirates\",\"France\",\"Brunei Darussalam\",\"Maldives\",\"Chile\",\"China\",\"Costa Rica\",\"Portugal\",\"Finland\"],\"z\":[103.3,103.8,104.2,104.5,105.7,109.7,111.6,112.3,113.1,113.9,116.0,116.3,116.4,118.0,118.4,119.3,123.3,124.7,124.9,126.7,128.1,129.0,129.6,133.6,136.9,138.1,138.1,138.6,139.7,140.0,141.4,143.0,143.6,144.3,144.5,148.8,149.5,154.5,155.1,156.1,156.4,157.1,157.3,158.0,160.0,162.2,162.3,163.5,163.8,163.8,163.9,164.0,164.4,165.8,171.4,172.2,177.5,179.1,180.0,182.4,182.4,182.6,183.2,185.2,187.3,189.1,190.4,194.9,198.6,199.6,205.9,206.4,206.9,210.1,210.4,210.8,211.2,212.5,212.9,214.5,216.9,219.5,222.4,222.8,223.9,227.3,227.7,233.0,233.8,240.4,244.2,245.8,245.8,249.4,253.6,254.2,255.0,257.7,261.2,265.2,265.8,266.6,277.2,280.0,283.7,284.8,289.7,290.4,296.6,301.8,302.4,302.8,304.7,313.5,314.1,315.3,322.7,326.0,326.2,328.6,334.7,338.6,341.3,357.1,358.0,360.5,366.1,384.6,388.9,391.7,402.3,412.4,437.7,440.9,448.1,452.5,459.3,473.6,482.0,496.7,535.3,535.4,539.4,556.3,61.37,62.73,637.1,65.05,65.69,65.87,651.7,67.09,67.52,68.13,681.1,71.89,71.98,72.49,74.23,75.01,75.41,75.69,76.22,77.39,78.98,81.14,81.21,83.48,83.7,84.32,86.24,87.94,88.15,89.49,91.04,91.55,91.67,92.79,94.64,95.05,95.5,97.15,99.97],\"zmax\":769.3,\"zmin\":33.43,\"type\":\"choropleth\",\"geo\":\"geo6\"},{\"colorbar\":{\"title\":{\"text\":\"Adult Morality\"}},\"colorscale\":[[0.0,\"rgb(0,0,255)\"],[1.0,\"rgb(255,0,0)\"]],\"locationmode\":\"country names\",\"locations\":[\"Albania\",\"Cuba\",\"Saudi Arabia\",\"Tunisia\",\"Costa Rica\",\"Morocco\",\"Slovenia\",\"Czechia\",\"Bosnia and Herzegovina\",\"United States of America\",\"Barbados\",\"Croatia\",\"Algeria\",\"Oman\",\"Lebanon\",\"Uruguay\",\"Panama\",\"The former Yugoslav Republic of Macedonia\",\"Jordan\",\"Syrian Arab Republic\",\"Argentina\",\"Serbia\",\"T\\u00fcrkiye\",\"Montenegro\",\"Mexico\",\"Libya\",\"Malaysia\",\"Viet Nam\",\"Slovakia\",\"Iran (Islamic Republic of)\",\"Peru\",\"Ecuador\",\"Armenia\",\"Sri Lanka\",\"Georgia\",\"Poland\",\"Colombia\",\"Tonga\",\"Samoa\",\"Cabo Verde\",\"Tajikistan\",\"Bangladesh\",\"Azerbaijan\",\"Jamaica\",\"Saint Lucia\",\"Antigua and Barbuda\",\"Bulgaria\",\"Romania\",\"Brazil\",\"Vanuatu\",\"Paraguay\",\"Honduras\",\"Mauritius\",\"Democratic People's Republic of Korea\",\"Grenada\",\"Venezuela (Bolivarian Republic of)\",\"Nicaragua\",\"Thailand\",\"Egypt\",\"Uzbekistan\",\"Micronesia (Federated States of)\",\"Bahamas\",\"Hungary\",\"Saint Vincent and the Grenadines\",\"Pakistan\",\"Belize\",\"Seychelles\",\"Estonia\",\"Timor-Leste\",\"Trinidad and Tobago\",\"Indonesia\",\"Solomon Islands\",\"Nepal\",\"El Salvador\",\"Suriname\",\"Guatemala\",\"Dominican Republic\",\"India\",\"Fiji\",\"Kiribati\",\"Philippines\",\"Bolivia (Plurinational State of)\",\"Mauritania\",\"Sao Tome and Principe\",\"Myanmar\",\"Turkmenistan\",\"Latvia\",\"Kyrgyzstan\",\"Cambodia\",\"Lithuania\",\"Republic of Moldova\",\"Lao People's Democratic Republic\",\"Senegal\",\"Yemen\",\"Bhutan\",\"Belarus\",\"Papua New Guinea\",\"Iraq\",\"Mongolia\",\"Sudan\",\"Comoros\",\"Madagascar\",\"Guyana\",\"Ukraine\",\"Afghanistan\",\"Niger\",\"Haiti\",\"Benin\",\"Gambia\",\"Liberia\",\"Ghana\",\"Mali\",\"Russian Federation\",\"Kazakhstan\",\"Burkina Faso\",\"Democratic Republic of the Congo\",\"Guinea-Bissau\",\"Gabon\",\"Djibouti\",\"Angola\",\"Guinea\",\"Rwanda\",\"Eritrea\",\"Togo\",\"Ethiopia\",\"Somalia\",\"Burundi\",\"Equatorial Guinea\",\"Congo\",\"Cameroon\",\"South Sudan\",\"Nigeria\",\"Kenya\",\"Uganda\",\"Chad\",\"United Republic of Tanzania\",\"C\\u00f4te d\\u2019Ivoire\",\"Mozambique\",\"Namibia\",\"Sierra Leone\",\"Botswana\",\"South Africa\",\"Malawi\",\"Central African Republic\",\"Zambia\",\"Iceland\",\"Lesotho\",\"Eswatini\",\"Malta\",\"Italy\",\"Switzerland\",\"Sweden\",\"Cyprus\",\"Australia\",\"Zimbabwe\",\"Qatar\",\"Japan\",\"Israel\",\"Norway\",\"Netherlands\",\"Singapore\",\"Spain\",\"Canada\",\"Ireland\",\"New Zealand\",\"Greece\",\"Luxembourg\",\"Austria\",\"United Kingdom of Great Britain and Northern Ireland\",\"Republic of Korea\",\"Germany\",\"Belgium\",\"Kuwait\",\"United Arab Emirates\",\"Maldives\",\"Bahrain\",\"France\",\"Denmark\",\"Chile\",\"China\",\"Brunei Darussalam\",\"Portugal\",\"Finland\"],\"z\":[100.7,102.7,102.7,103.6,103.9,105.6,106.8,107.9,108.6,112.5,113.0,114.0,114.7,114.9,115.6,118.1,119.4,120.2,121.6,123.1,124.2,125.5,126.1,126.7,131.4,135.3,136.6,136.8,137.6,139.5,140.8,143.8,144.7,144.7,144.8,144.9,145.5,147.7,149.3,150.5,150.5,151.4,153.1,153.9,154.5,155.1,156.7,157.8,159.9,160.1,161.0,161.5,162.1,166.0,167.2,167.9,173.5,174.0,174.1,174.1,176.1,176.8,177.5,178.7,179.5,184.6,185.1,185.7,186.0,188.6,190.4,192.5,201.5,202.8,203.0,205.4,206.9,207.5,211.5,211.9,215.0,218.8,221.3,223.0,230.1,230.8,232.1,232.9,234.5,235.0,236.6,240.0,240.4,243.4,245.8,246.1,248.5,249.6,254.0,259.8,262.4,263.3,266.7,268.3,275.8,281.5,282.4,282.5,284.0,296.1,297.6,297.9,298.7,298.8,303.4,306.8,307.4,307.6,308.0,313.7,316.3,320.6,326.0,332.1,338.6,340.9,350.3,357.5,366.3,379.2,384.1,394.9,410.4,418.2,419.0,427.4,444.3,451.7,462.7,467.0,470.9,477.1,511.1,530.1,532.2,62.29,620.1,627.8,63.12,63.96,64.02,64.09,64.47,64.8,659.7,66.16,66.74,68.89,69.36,69.97,71.16,73.43,73.97,74.81,75.42,75.52,77.86,80.45,80.74,82.11,83.27,84.6,87.16,88.4,88.48,88.64,89.87,90.87,93.26,93.45,94.16,94.66,95.44],\"zmax\":769.3,\"zmin\":33.43,\"type\":\"choropleth\",\"geo\":\"geo7\"},{\"colorbar\":{\"title\":{\"text\":\"Adult Morality\"}},\"colorscale\":[[0.0,\"rgb(0,0,255)\"],[1.0,\"rgb(255,0,0)\"]],\"locationmode\":\"country names\",\"locations\":[\"Albania\",\"Cuba\",\"Saudi Arabia\",\"Slovenia\",\"Tunisia\",\"Czechia\",\"United States of America\",\"Algeria\",\"Barbados\",\"Oman\",\"Bosnia and Herzegovina\",\"Croatia\",\"The former Yugoslav Republic of Macedonia\",\"Panama\",\"Jordan\",\"Montenegro\",\"Syrian Arab Republic\",\"Serbia\",\"T\\u00fcrkiye\",\"Uruguay\",\"Argentina\",\"Mexico\",\"Libya\",\"Malaysia\",\"Viet Nam\",\"Armenia\",\"Iran (Islamic Republic of)\",\"Peru\",\"Slovakia\",\"Georgia\",\"Azerbaijan\",\"Colombia\",\"Ecuador\",\"Samoa\",\"Sri Lanka\",\"Poland\",\"Tonga\",\"Cabo Verde\",\"Tajikistan\",\"Antigua and Barbuda\",\"Bangladesh\",\"Jamaica\",\"Bulgaria\",\"Saint Lucia\",\"Romania\",\"Vanuatu\",\"Brazil\",\"Paraguay\",\"Honduras\",\"Mauritius\",\"Grenada\",\"Uzbekistan\",\"Democratic People's Republic of Korea\",\"Thailand\",\"Nicaragua\",\"Venezuela (Bolivarian Republic of)\",\"Bahamas\",\"Egypt\",\"Saint Vincent and the Grenadines\",\"Timor-Leste\",\"Micronesia (Federated States of)\",\"Hungary\",\"Pakistan\",\"Belize\",\"Seychelles\",\"Estonia\",\"Trinidad and Tobago\",\"Indonesia\",\"Guatemala\",\"Solomon Islands\",\"Nepal\",\"Suriname\",\"El Salvador\",\"Dominican Republic\",\"India\",\"Philippines\",\"Fiji\",\"Kiribati\",\"Bolivia (Plurinational State of)\",\"Mauritania\",\"Sao Tome and Principe\",\"Cambodia\",\"Latvia\",\"Turkmenistan\",\"Myanmar\",\"Iraq\",\"Belarus\",\"Kyrgyzstan\",\"Republic of Moldova\",\"Senegal\",\"Lao People's Democratic Republic\",\"Bhutan\",\"Yemen\",\"Papua New Guinea\",\"Lithuania\",\"Mongolia\",\"Sudan\",\"Guyana\",\"Comoros\",\"Madagascar\",\"Haiti\",\"Afghanistan\",\"Ukraine\",\"Niger\",\"Russian Federation\",\"Benin\",\"Rwanda\",\"Gambia\",\"Liberia\",\"Ghana\",\"Mali\",\"Kazakhstan\",\"Burkina Faso\",\"Djibouti\",\"Democratic Republic of the Congo\",\"Angola\",\"Guinea\",\"Gabon\",\"Guinea-Bissau\",\"Ethiopia\",\"Eritrea\",\"Togo\",\"Somalia\",\"Burundi\",\"Congo\",\"Equatorial Guinea\",\"Kenya\",\"Cameroon\",\"South Sudan\",\"Nigeria\",\"Chad\",\"United Republic of Tanzania\",\"Namibia\",\"Uganda\",\"Botswana\",\"C\\u00f4te d\\u2019Ivoire\",\"Mozambique\",\"Sierra Leone\",\"South Africa\",\"Malawi\",\"Zambia\",\"Central African Republic\",\"Eswatini\",\"Lesotho\",\"Iceland\",\"Switzerland\",\"Italy\",\"Sweden\",\"Zimbabwe\",\"Malta\",\"Australia\",\"Qatar\",\"Japan\",\"Norway\",\"Netherlands\",\"Israel\",\"Singapore\",\"Cyprus\",\"Ireland\",\"Spain\",\"Canada\",\"Luxembourg\",\"New Zealand\",\"Greece\",\"United Kingdom of Great Britain and Northern Ireland\",\"Austria\",\"Republic of Korea\",\"Bahrain\",\"Germany\",\"Maldives\",\"Belgium\",\"Kuwait\",\"United Arab Emirates\",\"France\",\"Denmark\",\"Costa Rica\",\"Portugal\",\"China\",\"Chile\",\"Brunei Darussalam\",\"Finland\",\"Morocco\",\"Lebanon\"],\"z\":[101.3,101.6,102.0,102.3,102.9,106.1,109.9,111.3,112.5,113.4,113.8,115.0,118.3,118.6,120.0,122.9,123.0,123.3,123.7,124.2,126.3,129.0,133.0,135.3,136.1,136.8,137.6,139.0,139.3,140.2,140.6,140.6,141.1,144.0,144.7,144.9,146.1,146.2,146.3,149.0,150.3,150.7,152.7,153.2,155.3,156.4,157.6,159.0,159.8,160.4,164.5,165.4,166.4,169.7,170.1,170.1,170.8,171.8,172.6,173.1,174.8,175.6,178.4,181.2,185.0,186.5,187.8,189.6,190.5,190.9,193.8,200.1,200.4,201.0,204.4,207.8,208.6,210.9,215.5,218.7,219.6,220.6,223.7,226.3,227.1,228.1,230.3,230.3,232.3,233.8,233.9,238.9,241.3,243.3,245.6,250.5,253.4,256.5,258.7,261.4,271.7,272.6,278.3,278.7,278.8,280.9,281.8,282.5,285.6,291.1,291.9,292.8,294.3,297.7,299.1,302.8,304.5,305.3,307.0,315.8,316.8,331.1,342.3,345.2,351.5,355.9,371.7,375.9,382.1,387.6,400.2,400.7,409.4,416.1,422.2,436.8,444.0,453.2,474.6,476.9,499.9,515.6,586.5,589.6,60.08,62.17,62.5,63.02,630.5,64.94,65.11,65.54,65.65,66.57,67.13,67.2,67.95,69.84,72.15,72.38,73.51,74.51,75.58,78.17,78.73,79.77,80.18,80.33,82.03,82.97,85.75,86.16,86.19,87.86,90.79,91.22,91.52,92.04,92.92,95.8,95.82,97.35,99.32],\"zmax\":769.3,\"zmin\":33.43,\"type\":\"choropleth\",\"geo\":\"geo8\"},{\"colorbar\":{\"title\":{\"text\":\"Adult Morality\"}},\"colorscale\":[[0.0,\"rgb(0,0,255)\"],[1.0,\"rgb(255,0,0)\"]],\"locationmode\":\"country names\",\"locations\":[\"Cuba\",\"Saudi Arabia\",\"Tunisia\",\"Albania\",\"Czechia\",\"Bosnia and Herzegovina\",\"Algeria\",\"United States of America\",\"The former Yugoslav Republic of Macedonia\",\"Oman\",\"Barbados\",\"Croatia\",\"Jordan\",\"Uruguay\",\"Montenegro\",\"T\\u00fcrkiye\",\"Panama\",\"Serbia\",\"Syrian Arab Republic\",\"Argentina\",\"Libya\",\"Mexico\",\"Iran (Islamic Republic of)\",\"Malaysia\",\"Viet Nam\",\"Slovakia\",\"Peru\",\"Samoa\",\"Ecuador\",\"Tajikistan\",\"Poland\",\"Colombia\",\"Azerbaijan\",\"Cabo Verde\",\"Armenia\",\"Tonga\",\"Antigua and Barbuda\",\"Bangladesh\",\"Jamaica\",\"Georgia\",\"Bulgaria\",\"Saint Lucia\",\"Vanuatu\",\"Paraguay\",\"Uzbekistan\",\"Brazil\",\"Honduras\",\"Romania\",\"Grenada\",\"Hungary\",\"Estonia\",\"Democratic People's Republic of Korea\",\"Mauritius\",\"Nicaragua\",\"Thailand\",\"Bahamas\",\"Timor-Leste\",\"Iraq\",\"Saint Vincent and the Grenadines\",\"Sri Lanka\",\"Venezuela (Bolivarian Republic of)\",\"Micronesia (Federated States of)\",\"Egypt\",\"Pakistan\",\"Solomon Islands\",\"Belize\",\"Seychelles\",\"Guatemala\",\"Nepal\",\"Indonesia\",\"Dominican Republic\",\"Trinidad and Tobago\",\"El Salvador\",\"Suriname\",\"Latvia\",\"India\",\"Fiji\",\"Philippines\",\"Kiribati\",\"Cambodia\",\"Bolivia (Plurinational State of)\",\"Mauritania\",\"Sao Tome and Principe\",\"Kyrgyzstan\",\"Turkmenistan\",\"Republic of Moldova\",\"Senegal\",\"Belarus\",\"Lao People's Democratic Republic\",\"Lithuania\",\"Bhutan\",\"Papua New Guinea\",\"Yemen\",\"Mongolia\",\"Guyana\",\"Sudan\",\"Comoros\",\"Madagascar\",\"Rwanda\",\"Kazakhstan\",\"Afghanistan\",\"Haiti\",\"Russian Federation\",\"Ukraine\",\"Benin\",\"Niger\",\"Liberia\",\"Gambia\",\"Ghana\",\"Mali\",\"Burkina Faso\",\"Djibouti\",\"Angola\",\"Ethiopia\",\"Democratic Republic of the Congo\",\"Guinea\",\"Gabon\",\"Guinea-Bissau\",\"Myanmar\",\"Eritrea\",\"Togo\",\"Congo\",\"Somalia\",\"Burundi\",\"Kenya\",\"Equatorial Guinea\",\"Namibia\",\"Cameroon\",\"United Republic of Tanzania\",\"South Sudan\",\"Nigeria\",\"Botswana\",\"Chad\",\"Uganda\",\"C\\u00f4te d\\u2019Ivoire\",\"Mozambique\",\"Malawi\",\"Zambia\",\"Sierra Leone\",\"South Africa\",\"Central African Republic\",\"Lesotho\",\"Eswatini\",\"Iceland\",\"Switzerland\",\"Zimbabwe\",\"Italy\",\"Malta\",\"Sweden\",\"Israel\",\"Japan\",\"Australia\",\"Qatar\",\"Norway\",\"Netherlands\",\"Singapore\",\"Cyprus\",\"Luxembourg\",\"Spain\",\"Ireland\",\"Canada\",\"Bahrain\",\"New Zealand\",\"Greece\",\"Austria\",\"United Kingdom of Great Britain and Northern Ireland\",\"Republic of Korea\",\"Maldives\",\"Germany\",\"United Arab Emirates\",\"Kuwait\",\"Denmark\",\"Belgium\",\"France\",\"Portugal\",\"Chile\",\"Morocco\",\"China\",\"Finland\",\"Brunei Darussalam\",\"Slovenia\",\"Costa Rica\",\"Lebanon\"],\"z\":[100.0,100.7,102.1,102.2,104.6,105.3,108.4,108.5,109.3,110.2,112.1,117.3,118.7,118.7,119.1,121.3,122.0,122.3,123.1,123.5,131.2,133.0,133.5,134.0,134.7,135.5,135.8,139.1,140.8,140.9,141.8,142.0,142.1,142.2,144.3,144.7,146.8,146.8,146.8,149.7,150.3,152.1,152.8,156.8,156.8,156.9,158.1,160.1,161.7,164.4,164.5,164.7,164.8,165.3,166.9,167.6,168.5,168.6,169.1,170.8,172.8,173.7,173.8,177.2,181.0,182.8,184.5,186.4,188.0,189.5,192.4,195.3,198.3,199.6,200.3,201.1,205.9,206.6,209.8,210.9,211.1,216.4,217.3,217.8,219.0,221.7,221.9,228.2,228.4,228.6,234.6,237.3,239.0,247.6,249.1,250.3,255.0,258.4,263.0,263.7,264.9,266.0,273.9,275.4,276.1,276.6,277.8,282.9,283.5,287.5,288.5,290.6,292.2,294.5,294.6,300.4,303.9,304.1,306.6,309.1,329.9,334.2,338.1,340.4,343.9,348.0,354.2,365.2,366.9,377.5,385.5,396.0,400.4,406.9,422.7,427.1,438.1,438.6,441.8,458.1,495.3,520.7,554.1,57.24,59.43,596.3,61.16,61.88,62.13,63.95,64.13,64.38,65.4,66.13,67.21,67.34,67.98,68.75,70.45,71.9,72.72,73.17,74.24,75.05,76.0,78.04,78.6,80.33,80.71,84.52,85.35,85.56,85.99,86.94,89.31,91.13,92.05,92.64,93.61,94.03,96.49,97.28,99.26],\"zmax\":769.3,\"zmin\":33.43,\"type\":\"choropleth\",\"geo\":\"geo9\"},{\"colorbar\":{\"title\":{\"text\":\"Adult Morality\"}},\"colorscale\":[[0.0,\"rgb(0,0,255)\"],[1.0,\"rgb(255,0,0)\"]],\"locationmode\":\"country names\",\"locations\":[\"Tunisia\",\"Czechia\",\"Albania\",\"Bosnia and Herzegovina\",\"Algeria\",\"United States of America\",\"Oman\",\"The former Yugoslav Republic of Macedonia\",\"Croatia\",\"Barbados\",\"Montenegro\",\"Jordan\",\"Uruguay\",\"T\\u00fcrkiye\",\"Serbia\",\"Iran (Islamic Republic of)\",\"Panama\",\"Argentina\",\"Syrian Arab Republic\",\"Libya\",\"Slovakia\",\"Malaysia\",\"Azerbaijan\",\"Viet Nam\",\"Peru\",\"Mexico\",\"Tajikistan\",\"Poland\",\"Ecuador\",\"Antigua and Barbuda\",\"Cabo Verde\",\"Armenia\",\"Jamaica\",\"Bangladesh\",\"Colombia\",\"Tonga\",\"Bulgaria\",\"Uzbekistan\",\"Vanuatu\",\"Iraq\",\"Saint Lucia\",\"Estonia\",\"Paraguay\",\"Honduras\",\"Brazil\",\"Georgia\",\"Grenada\",\"Romania\",\"Hungary\",\"Democratic People's Republic of Korea\",\"Saint Vincent and the Grenadines\",\"Nicaragua\",\"Samoa\",\"Thailand\",\"Mauritius\",\"Timor-Leste\",\"Bahamas\",\"Venezuela (Bolivarian Republic of)\",\"Micronesia (Federated States of)\",\"Pakistan\",\"Solomon Islands\",\"Egypt\",\"Sri Lanka\",\"Nepal\",\"Seychelles\",\"Belize\",\"Latvia\",\"Trinidad and Tobago\",\"Dominican Republic\",\"Indonesia\",\"Guatemala\",\"Turkmenistan\",\"Suriname\",\"El Salvador\",\"Lithuania\",\"India\",\"Cambodia\",\"Fiji\",\"Kyrgyzstan\",\"Bolivia (Plurinational State of)\",\"Philippines\",\"Kiribati\",\"Sao Tome and Principe\",\"Mauritania\",\"Senegal\",\"Republic of Moldova\",\"Myanmar\",\"Lao People's Democratic Republic\",\"Belarus\",\"Bhutan\",\"Ukraine\",\"Papua New Guinea\",\"Yemen\",\"Kazakhstan\",\"Mongolia\",\"Sudan\",\"Comoros\",\"Guyana\",\"Madagascar\",\"Russian Federation\",\"Haiti\",\"Afghanistan\",\"Benin\",\"Rwanda\",\"Liberia\",\"Niger\",\"Ghana\",\"Ethiopia\",\"Djibouti\",\"Angola\",\"Burkina Faso\",\"Gambia\",\"Mali\",\"Democratic Republic of the Congo\",\"Guinea\",\"Guinea-Bissau\",\"Gabon\",\"Eritrea\",\"Congo\",\"Kenya\",\"Togo\",\"Burundi\",\"Namibia\",\"Somalia\",\"Equatorial Guinea\",\"Botswana\",\"United Republic of Tanzania\",\"Cameroon\",\"South Sudan\",\"Chad\",\"Nigeria\",\"Uganda\",\"Zambia\",\"Malawi\",\"Mozambique\",\"C\\u00f4te d\\u2019Ivoire\",\"Sierra Leone\",\"South Africa\",\"Central African Republic\",\"Lesotho\",\"Eswatini\",\"Iceland\",\"Zimbabwe\",\"Switzerland\",\"Italy\",\"Malta\",\"Sweden\",\"Israel\",\"Singapore\",\"Japan\",\"Australia\",\"Netherlands\",\"Qatar\",\"Norway\",\"Luxembourg\",\"Spain\",\"Cyprus\",\"Bahrain\",\"Canada\",\"New Zealand\",\"Ireland\",\"United Kingdom of Great Britain and Northern Ireland\",\"Greece\",\"Maldives\",\"Austria\",\"Republic of Korea\",\"Germany\",\"United Arab Emirates\",\"Belgium\",\"Denmark\",\"Kuwait\",\"Morocco\",\"France\",\"Portugal\",\"China\",\"Finland\",\"Slovenia\",\"Brunei Darussalam\",\"Chile\",\"Costa Rica\",\"Lebanon\",\"Cuba\",\"Saudi Arabia\"],\"z\":[100.9,101.1,102.8,103.9,106.9,107.8,108.4,108.9,109.4,110.0,115.4,117.5,118.2,118.4,119.5,121.8,122.2,123.1,123.3,129.8,130.1,132.7,133.0,133.2,134.7,135.6,135.8,137.2,137.3,138.2,139.4,142.1,143.4,145.0,146.6,146.9,147.3,149.1,149.2,149.6,151.8,153.6,154.2,156.0,156.2,156.4,157.9,160.0,160.1,160.3,162.2,162.3,163.8,164.1,165.4,165.4,166.3,170.1,172.6,176.9,177.4,177.8,179.0,182.7,183.0,183.3,184.5,184.7,185.4,188.7,190.8,196.4,196.6,196.9,197.5,197.7,202.9,203.3,203.7,206.8,206.8,208.6,211.7,214.3,215.1,217.2,218.9,223.3,225.2,231.9,235.2,235.4,236.1,240.5,241.3,247.8,250.5,251.7,253.7,255.5,256.8,259.8,261.2,265.9,268.7,274.2,275.6,277.5,279.2,281.0,282.1,282.7,285.3,291.1,294.1,298.6,299.6,300.5,310.4,313.7,321.3,330.1,331.9,335.3,344.6,354.5,356.8,358.5,367.6,380.2,380.4,383.1,395.7,399.2,413.5,423.5,428.9,434.9,470.1,493.3,524.1,54.53,554.2,59.46,60.07,60.87,61.12,61.48,62.14,62.7,64.77,65.17,65.32,66.67,66.87,66.88,68.16,69.15,71.1,72.79,73.99,75.79,75.97,76.1,76.97,77.8,79.57,82.98,84.17,84.4,84.89,86.81,87.08,87.85,89.28,90.45,90.56,92.84,94.32,95.91,96.47,98.78,99.32],\"zmax\":769.3,\"zmin\":33.43,\"type\":\"choropleth\",\"geo\":\"geo10\"},{\"colorbar\":{\"title\":{\"text\":\"Adult Morality\"}},\"colorscale\":[[0.0,\"rgb(0,0,255)\"],[1.0,\"rgb(255,0,0)\"]],\"locationmode\":\"country names\",\"locations\":[\"Bosnia and Herzegovina\",\"Albania\",\"Algeria\",\"United States of America\",\"Croatia\",\"The former Yugoslav Republic of Macedonia\",\"Costa Rica\",\"Oman\",\"Iran (Islamic Republic of)\",\"Barbados\",\"Montenegro\",\"Serbia\",\"T\\u00fcrkiye\",\"Jordan\",\"Panama\",\"Uruguay\",\"Argentina\",\"Slovakia\",\"Syrian Arab Republic\",\"Libya\",\"Poland\",\"Sri Lanka\",\"Malaysia\",\"Azerbaijan\",\"Peru\",\"Viet Nam\",\"Samoa\",\"Ecuador\",\"Estonia\",\"Antigua and Barbuda\",\"Tajikistan\",\"Mexico\",\"Armenia\",\"Cabo Verde\",\"Jamaica\",\"Tonga\",\"Bangladesh\",\"Bulgaria\",\"Iraq\",\"Uzbekistan\",\"Colombia\",\"Vanuatu\",\"Paraguay\",\"Hungary\",\"Saint Lucia\",\"Grenada\",\"Democratic People's Republic of Korea\",\"Brazil\",\"Romania\",\"Honduras\",\"Georgia\",\"Bahamas\",\"Nicaragua\",\"Thailand\",\"Venezuela (Bolivarian Republic of)\",\"Mauritius\",\"Timor-Leste\",\"Saint Vincent and the Grenadines\",\"Solomon Islands\",\"Micronesia (Federated States of)\",\"Pakistan\",\"Egypt\",\"Nepal\",\"Latvia\",\"Trinidad and Tobago\",\"Dominican Republic\",\"Seychelles\",\"Belize\",\"Guatemala\",\"Indonesia\",\"Turkmenistan\",\"Lithuania\",\"El Salvador\",\"Suriname\",\"India\",\"Cambodia\",\"Fiji\",\"Bolivia (Plurinational State of)\",\"Philippines\",\"Sao Tome and Principe\",\"Kiribati\",\"Kyrgyzstan\",\"Senegal\",\"Mauritania\",\"Myanmar\",\"Ukraine\",\"Lao People's Democratic Republic\",\"Republic of Moldova\",\"Belarus\",\"Bhutan\",\"Mongolia\",\"Yemen\",\"Papua New Guinea\",\"Rwanda\",\"Kazakhstan\",\"Sudan\",\"Comoros\",\"Madagascar\",\"Russian Federation\",\"Afghanistan\",\"Benin\",\"Guyana\",\"Liberia\",\"Ethiopia\",\"Niger\",\"Ghana\",\"Angola\",\"Djibouti\",\"Burkina Faso\",\"Gambia\",\"Mali\",\"Democratic Republic of the Congo\",\"Kenya\",\"Guinea\",\"Gabon\",\"Eritrea\",\"Guinea-Bissau\",\"Congo\",\"Togo\",\"Burundi\",\"Namibia\",\"Botswana\",\"Equatorial Guinea\",\"Somalia\",\"United Republic of Tanzania\",\"South Sudan\",\"Cameroon\",\"Zambia\",\"Uganda\",\"Malawi\",\"Chad\",\"Nigeria\",\"Mozambique\",\"Sierra Leone\",\"C\\u00f4te d\\u2019Ivoire\",\"South Africa\",\"Central African Republic\",\"Lesotho\",\"Zimbabwe\",\"Eswatini\",\"Iceland\",\"Switzerland\",\"Italy\",\"Sweden\",\"Malta\",\"Israel\",\"Singapore\",\"Japan\",\"Australia\",\"Netherlands\",\"Spain\",\"Cyprus\",\"Norway\",\"Ireland\",\"Qatar\",\"Bahrain\",\"Luxembourg\",\"Canada\",\"Haiti\",\"New Zealand\",\"Maldives\",\"Greece\",\"United Kingdom of Great Britain and Northern Ireland\",\"Austria\",\"Republic of Korea\",\"Germany\",\"Belgium\",\"United Arab Emirates\",\"Morocco\",\"Denmark\",\"Kuwait\",\"France\",\"Portugal\",\"Slovenia\",\"Finland\",\"China\",\"Brunei Darussalam\",\"Chile\",\"Lebanon\",\"Saudi Arabia\",\"Cuba\",\"Czechia\",\"Tunisia\"],\"z\":[100.7,103.5,104.4,105.2,105.7,105.8,106.5,106.8,107.1,107.8,111.9,115.1,116.2,116.4,117.0,117.9,118.7,122.1,123.6,128.0,131.2,131.2,131.5,131.8,132.2,132.2,133.8,134.1,134.5,134.6,135.4,135.6,137.9,138.1,139.2,142.1,143.1,143.4,144.4,144.9,145.6,145.7,151.7,152.1,152.6,153.7,153.8,154.3,154.7,155.5,156.8,159.0,160.1,161.2,161.6,162.0,162.7,163.2,170.3,171.6,175.3,177.9,178.0,178.3,178.6,179.7,180.6,182.2,186.1,187.0,188.4,188.5,192.0,194.1,194.4,196.3,199.9,202.2,203.1,205.1,207.3,208.7,209.2,212.7,214.7,217.5,218.1,223.3,225.5,227.8,233.8,233.9,234.7,239.1,242.8,242.9,245.4,247.5,250.6,254.8,256.7,257.9,258.0,261.9,269.0,269.5,269.7,271.3,277.2,282.4,282.8,283.2,285.3,286.2,288.3,292.7,297.9,299.7,306.4,322.7,327.6,331.2,334.7,335.4,342.5,353.7,354.8,363.6,364.3,366.3,373.4,377.6,408.9,414.6,415.4,416.3,458.0,477.8,500.4,503.0,53.36,57.03,57.76,57.87,58.29,59.69,60.01,61.36,63.06,64.33,64.63,65.01,65.04,65.12,65.15,65.97,66.83,68.89,682.5,70.84,71.1,73.57,73.79,74.43,76.04,77.52,81.24,81.49,81.99,82.55,84.09,85.28,86.04,87.21,87.86,87.96,91.16,93.63,95.31,97.12,97.35,98.47,99.43],\"zmax\":769.3,\"zmin\":33.43,\"type\":\"choropleth\",\"geo\":\"geo11\"},{\"colorbar\":{\"title\":{\"text\":\"Adult Morality\"}},\"colorscale\":[[0.0,\"rgb(0,0,255)\"],[1.0,\"rgb(255,0,0)\"]],\"locationmode\":\"country names\",\"locations\":[\"The former Yugoslav Republic of Macedonia\",\"Algeria\",\"Albania\",\"Croatia\",\"Oman\",\"United States of America\",\"Barbados\",\"Montenegro\",\"Lebanon\",\"Serbia\",\"T\\u00fcrkiye\",\"Jordan\",\"Panama\",\"Uruguay\",\"Argentina\",\"Slovakia\",\"Samoa\",\"Antigua and Barbuda\",\"Poland\",\"Azerbaijan\",\"Peru\",\"Malaysia\",\"Ecuador\",\"Sri Lanka\",\"Viet Nam\",\"Tajikistan\",\"Mexico\",\"Armenia\",\"Cabo Verde\",\"Estonia\",\"Jamaica\",\"Colombia\",\"Tonga\",\"Bulgaria\",\"Romania\",\"Bangladesh\",\"Syrian Arab Republic\",\"Vanuatu\",\"Iraq\",\"Uzbekistan\",\"Hungary\",\"Democratic People's Republic of Korea\",\"Paraguay\",\"Grenada\",\"Saint Lucia\",\"Honduras\",\"Brazil\",\"Georgia\",\"Mauritius\",\"Libya\",\"Nicaragua\",\"Bahamas\",\"Thailand\",\"Venezuela (Bolivarian Republic of)\",\"Timor-Leste\",\"Solomon Islands\",\"Latvia\",\"Saint Vincent and the Grenadines\",\"Micronesia (Federated States of)\",\"Pakistan\",\"Nepal\",\"Egypt\",\"Dominican Republic\",\"Seychelles\",\"Guatemala\",\"Trinidad and Tobago\",\"Belize\",\"Republic of Moldova\",\"Lithuania\",\"Indonesia\",\"El Salvador\",\"Turkmenistan\",\"Suriname\",\"India\",\"Cambodia\",\"Kyrgyzstan\",\"Fiji\",\"Bolivia (Plurinational State of)\",\"Philippines\",\"Sao Tome and Principe\",\"Senegal\",\"Kiribati\",\"Ukraine\",\"Mauritania\",\"Myanmar\",\"Lao People's Democratic Republic\",\"Bhutan\",\"Mongolia\",\"Belarus\",\"Rwanda\",\"Kazakhstan\",\"Yemen\",\"Papua New Guinea\",\"Russian Federation\",\"Comoros\",\"Madagascar\",\"Sudan\",\"Liberia\",\"Afghanistan\",\"Ethiopia\",\"Benin\",\"Haiti\",\"Angola\",\"Guyana\",\"Ghana\",\"Kenya\",\"Djibouti\",\"Niger\",\"Burkina Faso\",\"Gambia\",\"Democratic Republic of the Congo\",\"Mali\",\"Gabon\",\"Guinea\",\"Eritrea\",\"Togo\",\"Congo\",\"Guinea-Bissau\",\"Namibia\",\"Burundi\",\"Botswana\",\"Somalia\",\"United Republic of Tanzania\",\"Equatorial Guinea\",\"Zambia\",\"Malawi\",\"Uganda\",\"South Sudan\",\"Cameroon\",\"Chad\",\"Nigeria\",\"South Africa\",\"Sierra Leone\",\"Mozambique\",\"C\\u00f4te d\\u2019Ivoire\",\"Zimbabwe\",\"Central African Republic\",\"Lesotho\",\"Eswatini\",\"Iceland\",\"Switzerland\",\"Italy\",\"Sweden\",\"Cyprus\",\"Singapore\",\"Malta\",\"Israel\",\"Australia\",\"Japan\",\"Spain\",\"Netherlands\",\"Qatar\",\"Luxembourg\",\"Maldives\",\"Bahrain\",\"Norway\",\"Canada\",\"Ireland\",\"United Kingdom of Great Britain and Northern Ireland\",\"New Zealand\",\"Austria\",\"Greece\",\"Republic of Korea\",\"Germany\",\"Denmark\",\"Morocco\",\"United Arab Emirates\",\"Belgium\",\"Slovenia\",\"France\",\"Kuwait\",\"Portugal\",\"Finland\",\"China\",\"Chile\",\"Brunei Darussalam\",\"Cuba\",\"Iran (Islamic Republic of)\",\"Saudi Arabia\",\"Czechia\",\"Tunisia\",\"Costa Rica\",\"Bosnia and Herzegovina\"],\"z\":[101.7,102.9,103.2,103.4,105.2,105.7,105.8,110.7,111.1,112.9,114.5,115.3,116.6,117.4,117.9,119.7,127.4,128.2,128.5,129.2,130.2,130.4,130.5,131.2,131.3,132.6,132.9,135.2,135.5,136.5,138.6,140.1,140.8,140.9,141.2,141.3,141.9,142.4,144.0,144.4,146.7,147.1,149.7,149.8,152.6,152.9,153.0,153.3,156.1,156.2,157.5,158.0,158.2,160.2,160.6,165.0,167.0,167.1,170.5,171.3,173.3,174.6,174.7,177.5,179.8,180.1,182.4,183.2,183.8,184.8,188.9,189.5,190.9,191.1,191.4,195.8,196.9,198.3,201.9,202.2,204.2,206.0,208.8,210.9,211.5,213.9,225.0,227.0,227.1,227.5,231.6,233.8,234.5,236.6,240.5,240.8,241.0,247.3,248.2,249.2,254.2,256.1,260.1,262.7,263.1,265.0,265.5,267.1,272.4,275.3,278.3,281.0,281.8,282.5,284.7,290.5,291.2,296.1,310.2,314.7,319.1,327.9,328.1,335.0,341.7,343.7,347.7,348.5,354.5,370.3,376.3,396.8,403.4,405.6,408.8,440.1,449.9,467.2,468.9,50.96,54.46,57.58,57.77,58.28,58.7,58.85,59.24,61.96,62.19,63.17,63.89,65.26,65.5,65.54,65.57,66.36,66.75,67.12,71.07,71.37,71.6,73.31,73.51,75.34,77.61,77.95,80.29,80.81,81.91,83.24,83.5,83.85,84.18,86.4,90.39,91.13,91.7,94.96,95.4,96.19,97.9,99.52,99.61],\"zmax\":769.3,\"zmin\":33.43,\"type\":\"choropleth\",\"geo\":\"geo12\"},{\"colorbar\":{\"title\":{\"text\":\"Adult Morality\"}},\"colorscale\":[[0.0,\"rgb(0,0,255)\"],[1.0,\"rgb(255,0,0)\"]],\"locationmode\":\"country names\",\"locations\":[\"Algeria\",\"The former Yugoslav Republic of Macedonia\",\"Croatia\",\"Albania\",\"Oman\",\"United States of America\",\"Montenegro\",\"Barbados\",\"Serbia\",\"T\\u00fcrkiye\",\"Jordan\",\"Slovakia\",\"Panama\",\"Argentina\",\"Uruguay\",\"Samoa\",\"Poland\",\"Libya\",\"Azerbaijan\",\"Ecuador\",\"Antigua and Barbuda\",\"Malaysia\",\"Peru\",\"Tajikistan\",\"Viet Nam\",\"Armenia\",\"Mexico\",\"Sri Lanka\",\"Cabo Verde\",\"Estonia\",\"Bulgaria\",\"Jamaica\",\"Vanuatu\",\"Tonga\",\"Bangladesh\",\"Colombia\",\"Romania\",\"Democratic People's Republic of Korea\",\"Hungary\",\"Uzbekistan\",\"Iraq\",\"Grenada\",\"Paraguay\",\"Brazil\",\"Honduras\",\"Mauritius\",\"Saint Lucia\",\"Nicaragua\",\"Thailand\",\"Georgia\",\"Timor-Leste\",\"Solomon Islands\",\"Latvia\",\"Bahamas\",\"Venezuela (Bolivarian Republic of)\",\"Nepal\",\"Micronesia (Federated States of)\",\"Pakistan\",\"Dominican Republic\",\"Guatemala\",\"Saint Vincent and the Grenadines\",\"Egypt\",\"Seychelles\",\"Trinidad and Tobago\",\"Lithuania\",\"Indonesia\",\"Belize\",\"Republic of Moldova\",\"Cambodia\",\"El Salvador\",\"India\",\"Suriname\",\"Turkmenistan\",\"Kyrgyzstan\",\"Belarus\",\"Bolivia (Plurinational State of)\",\"Fiji\",\"Sao Tome and Principe\",\"Senegal\",\"Philippines\",\"Kiribati\",\"Myanmar\",\"Mauritania\",\"Lao People's Democratic Republic\",\"Ukraine\",\"Rwanda\",\"Mongolia\",\"Bhutan\",\"Kazakhstan\",\"Russian Federation\",\"Papua New Guinea\",\"Yemen\",\"Madagascar\",\"Sudan\",\"Comoros\",\"Liberia\",\"Ethiopia\",\"Afghanistan\",\"Kenya\",\"Benin\",\"Angola\",\"Ghana\",\"Haiti\",\"Djibouti\",\"Niger\",\"Burkina Faso\",\"Gambia\",\"Gabon\",\"Guyana\",\"Democratic Republic of the Congo\",\"Eritrea\",\"Syrian Arab Republic\",\"Guinea\",\"Mali\",\"Congo\",\"Togo\",\"Guinea-Bissau\",\"Namibia\",\"Botswana\",\"Burundi\",\"Malawi\",\"United Republic of Tanzania\",\"Zambia\",\"Somalia\",\"Uganda\",\"Equatorial Guinea\",\"South Sudan\",\"Cameroon\",\"South Africa\",\"Chad\",\"Nigeria\",\"Sierra Leone\",\"Mozambique\",\"Zimbabwe\",\"C\\u00f4te d\\u2019Ivoire\",\"Eswatini\",\"Central African Republic\",\"Lesotho\",\"Iceland\",\"Switzerland\",\"Cyprus\",\"Sweden\",\"Malta\",\"Italy\",\"Japan\",\"Singapore\",\"Israel\",\"Norway\",\"Australia\",\"Spain\",\"Maldives\",\"Luxembourg\",\"Netherlands\",\"Qatar\",\"Bahrain\",\"Ireland\",\"Canada\",\"New Zealand\",\"Austria\",\"United Kingdom of Great Britain and Northern Ireland\",\"Republic of Korea\",\"Greece\",\"Germany\",\"Denmark\",\"Morocco\",\"Belgium\",\"United Arab Emirates\",\"France\",\"Finland\",\"Portugal\",\"Slovenia\",\"Kuwait\",\"China\",\"Iran (Islamic Republic of)\",\"Chile\",\"Brunei Darussalam\",\"Czechia\",\"Saudi Arabia\",\"Lebanon\",\"Cuba\",\"Tunisia\",\"Bosnia and Herzegovina\",\"Costa Rica\"],\"z\":[101.5,102.1,102.6,103.2,103.2,105.3,107.7,108.4,111.0,112.2,114.3,115.4,115.7,117.7,118.1,123.7,126.0,126.1,126.4,126.5,127.1,129.3,129.4,130.0,130.2,130.6,131.0,131.1,132.7,133.9,136.6,137.3,139.3,139.4,139.7,139.8,140.6,141.8,142.7,144.8,145.1,146.7,148.8,150.4,150.9,152.0,152.7,155.0,155.4,157.2,159.0,160.3,162.0,162.7,163.2,168.5,169.4,169.6,170.9,173.0,173.6,173.8,174.2,178.7,179.6,182.8,183.1,183.1,185.9,186.3,188.3,188.3,189.1,189.2,191.8,194.8,194.8,198.4,199.6,200.3,204.6,207.6,208.4,209.3,210.8,219.5,221.6,222.0,224.3,229.7,233.9,234.4,234.8,235.5,236.5,239.5,239.7,242.3,245.0,251.6,253.2,254.8,256.5,260.1,264.5,267.5,269.0,269.4,271.8,276.3,277.1,278.0,279.3,280.5,281.4,281.4,289.5,293.4,301.5,307.7,324.8,325.4,325.4,329.1,335.4,335.6,340.9,352.3,360.6,370.6,373.1,395.4,404.4,406.7,416.3,443.0,445.2,478.5,50.46,53.88,54.73,56.48,56.77,56.78,57.19,57.35,57.52,59.79,59.8,60.9,62.29,62.58,62.95,65.08,65.73,65.81,67.53,67.99,68.41,68.67,70.13,72.44,72.74,74.62,74.92,78.97,79.04,80.11,80.43,80.59,81.42,82.71,85.02,86.91,89.09,91.74,92.58,93.76,94.58,95.85,96.45,98.49,98.66],\"zmax\":769.3,\"zmin\":33.43,\"type\":\"choropleth\",\"geo\":\"geo13\"},{\"colorbar\":{\"title\":{\"text\":\"Adult Morality\"}},\"colorscale\":[[0.0,\"rgb(0,0,255)\"],[1.0,\"rgb(255,0,0)\"]],\"locationmode\":\"country names\",\"locations\":[\"Albania\",\"Barbados\",\"Oman\",\"Montenegro\",\"United States of America\",\"Serbia\",\"T\\u00fcrkiye\",\"Slovakia\",\"Jordan\",\"Panama\",\"Argentina\",\"Uruguay\",\"Samoa\",\"Poland\",\"Armenia\",\"Ecuador\",\"Estonia\",\"Azerbaijan\",\"Libya\",\"Mexico\",\"Antigua and Barbuda\",\"Peru\",\"Tajikistan\",\"Malaysia\",\"Viet Nam\",\"Cabo Verde\",\"Sri Lanka\",\"Romania\",\"Jamaica\",\"Bulgaria\",\"Hungary\",\"Vanuatu\",\"Bangladesh\",\"Tonga\",\"Democratic People's Republic of Korea\",\"Colombia\",\"Uzbekistan\",\"Grenada\",\"Mauritius\",\"Paraguay\",\"Brazil\",\"Honduras\",\"Saint Lucia\",\"Nicaragua\",\"Thailand\",\"Solomon Islands\",\"Timor-Leste\",\"Georgia\",\"Venezuela (Bolivarian Republic of)\",\"Iraq\",\"Nepal\",\"Latvia\",\"Bahamas\",\"Egypt\",\"Pakistan\",\"Micronesia (Federated States of)\",\"Dominican Republic\",\"Republic of Moldova\",\"Seychelles\",\"Guatemala\",\"Saint Vincent and the Grenadines\",\"Trinidad and Tobago\",\"Lithuania\",\"Indonesia\",\"Cambodia\",\"Kyrgyzstan\",\"Belarus\",\"Belize\",\"El Salvador\",\"India\",\"Suriname\",\"Bolivia (Plurinational State of)\",\"Fiji\",\"Sao Tome and Principe\",\"Turkmenistan\",\"Senegal\",\"Philippines\",\"Kiribati\",\"Myanmar\",\"Lao People's Democratic Republic\",\"Ukraine\",\"Mauritania\",\"Kazakhstan\",\"Rwanda\",\"Mongolia\",\"Bhutan\",\"Russian Federation\",\"Yemen\",\"Madagascar\",\"Papua New Guinea\",\"Sudan\",\"Comoros\",\"Ethiopia\",\"Afghanistan\",\"Liberia\",\"Kenya\",\"Angola\",\"Benin\",\"Ghana\",\"Gabon\",\"Haiti\",\"Djibouti\",\"Niger\",\"Guyana\",\"Gambia\",\"Burkina Faso\",\"Eritrea\",\"Democratic Republic of the Congo\",\"Guinea\",\"Togo\",\"Congo\",\"Guinea-Bissau\",\"Mali\",\"Namibia\",\"Botswana\",\"United Republic of Tanzania\",\"Malawi\",\"Burundi\",\"Zambia\",\"Somalia\",\"Uganda\",\"Equatorial Guinea\",\"South Africa\",\"Syrian Arab Republic\",\"South Sudan\",\"Cameroon\",\"Nigeria\",\"Chad\",\"Zimbabwe\",\"Sierra Leone\",\"Mozambique\",\"C\\u00f4te d\\u2019Ivoire\",\"Eswatini\",\"Central African Republic\",\"Lesotho\",\"Switzerland\",\"Iceland\",\"Italy\",\"Singapore\",\"Japan\",\"Sweden\",\"Malta\",\"Cyprus\",\"Israel\",\"Spain\",\"Maldives\",\"Australia\",\"Luxembourg\",\"Norway\",\"Netherlands\",\"Bahrain\",\"Ireland\",\"Qatar\",\"Canada\",\"New Zealand\",\"Austria\",\"Republic of Korea\",\"Greece\",\"United Kingdom of Great Britain and Northern Ireland\",\"Denmark\",\"Germany\",\"Morocco\",\"Belgium\",\"France\",\"Finland\",\"United Arab Emirates\",\"Slovenia\",\"Portugal\",\"Kuwait\",\"China\",\"Iran (Islamic Republic of)\",\"Czechia\",\"Chile\",\"Saudi Arabia\",\"Brunei Darussalam\",\"Tunisia\",\"Croatia\",\"Cuba\",\"Costa Rica\",\"Bosnia and Herzegovina\",\"Lebanon\",\"The former Yugoslav Republic of Macedonia\",\"Algeria\"],\"z\":[100.3,101.4,101.4,105.2,105.4,107.1,109.2,110.9,113.5,113.7,116.5,117.0,117.9,120.9,121.1,121.6,121.6,123.7,126.3,126.8,127.0,128.1,128.1,129.0,129.2,129.4,131.1,134.2,134.6,134.8,135.6,136.6,138.0,138.0,138.6,139.3,141.0,144.6,145.2,147.9,148.2,149.1,149.1,152.6,154.0,156.9,157.6,157.7,159.2,161.6,164.1,164.3,166.2,167.2,167.5,168.2,168.3,170.4,171.2,172.3,174.4,176.9,178.8,181.2,182.7,183.1,183.3,183.7,184.3,186.0,186.1,191.6,191.9,194.8,195.9,196.3,198.9,203.0,203.2,205.1,207.1,207.5,210.7,212.0,218.3,218.7,221.2,224.9,229.6,230.9,231.9,232.9,234.5,235.5,236.3,241.2,249.3,249.6,250.1,251.0,252.6,254.5,261.3,263.3,266.1,266.2,270.8,271.6,275.3,275.8,278.4,281.1,284.4,286.6,291.5,298.1,298.4,302.1,310.8,313.1,316.2,327.1,334.7,338.4,343.4,352.3,366.7,369.5,383.0,392.8,402.1,418.5,420.8,466.7,487.3,53.06,53.07,55.55,55.79,55.86,56.02,56.69,58.15,58.56,58.86,59.26,59.59,59.67,60.57,60.89,62.78,63.54,64.57,66.2,66.4,66.55,68.02,68.27,68.87,71.94,72.63,73.01,76.55,77.29,77.56,77.72,78.03,78.49,82.09,83.87,84.21,89.36,89.93,92.48,94.05,95.36,95.54,95.67,97.19,97.44,97.75,98.45,99.71],\"zmax\":769.3,\"zmin\":33.43,\"type\":\"choropleth\",\"geo\":\"geo14\"},{\"colorbar\":{\"title\":{\"text\":\"Adult Morality\"}},\"colorscale\":[[0.0,\"rgb(0,0,255)\"],[1.0,\"rgb(255,0,0)\"]],\"locationmode\":\"country names\",\"locations\":[\"Barbados\",\"Montenegro\",\"Serbia\",\"United States of America\",\"T\\u00fcrkiye\",\"Slovakia\",\"Panama\",\"Jordan\",\"Argentina\",\"Uruguay\",\"Poland\",\"Samoa\",\"Armenia\",\"Ecuador\",\"Azerbaijan\",\"Estonia\",\"Cabo Verde\",\"Tajikistan\",\"Antigua and Barbuda\",\"Peru\",\"Malaysia\",\"Viet Nam\",\"Mexico\",\"Sri Lanka\",\"Jamaica\",\"Hungary\",\"Bangladesh\",\"Vanuatu\",\"Democratic People's Republic of Korea\",\"Tonga\",\"Libya\",\"Colombia\",\"Uzbekistan\",\"Romania\",\"Bulgaria\",\"Grenada\",\"Brazil\",\"Saint Lucia\",\"Paraguay\",\"Honduras\",\"Mauritius\",\"Nicaragua\",\"Thailand\",\"Georgia\",\"Timor-Leste\",\"Solomon Islands\",\"Latvia\",\"Venezuela (Bolivarian Republic of)\",\"Nepal\",\"Egypt\",\"Dominican Republic\",\"Micronesia (Federated States of)\",\"Lithuania\",\"Pakistan\",\"Bahamas\",\"Seychelles\",\"Guatemala\",\"Saint Vincent and the Grenadines\",\"Trinidad and Tobago\",\"Kyrgyzstan\",\"Belarus\",\"Cambodia\",\"Indonesia\",\"Republic of Moldova\",\"El Salvador\",\"Belize\",\"India\",\"Suriname\",\"Bolivia (Plurinational State of)\",\"Fiji\",\"Iraq\",\"Sao Tome and Principe\",\"Senegal\",\"Philippines\",\"Kazakhstan\",\"Turkmenistan\",\"Myanmar\",\"Lao People's Democratic Republic\",\"Kiribati\",\"Mauritania\",\"Rwanda\",\"Ukraine\",\"Russian Federation\",\"Bhutan\",\"Mongolia\",\"Madagascar\",\"Yemen\",\"Papua New Guinea\",\"Sudan\",\"Comoros\",\"Ethiopia\",\"Afghanistan\",\"Gabon\",\"Kenya\",\"Angola\",\"Haiti\",\"Ghana\",\"Benin\",\"Djibouti\",\"Niger\",\"Guyana\",\"Burkina Faso\",\"Eritrea\",\"Democratic Republic of the Congo\",\"Gambia\",\"Togo\",\"Botswana\",\"Congo\",\"Malawi\",\"Mali\",\"United Republic of Tanzania\",\"Guinea-Bissau\",\"Namibia\",\"Guinea\",\"Zambia\",\"Burundi\",\"Uganda\",\"Equatorial Guinea\",\"Liberia\",\"Somalia\",\"South Africa\",\"South Sudan\",\"Cameroon\",\"Zimbabwe\",\"Nigeria\",\"Syrian Arab Republic\",\"Chad\",\"Mozambique\",\"Eswatini\",\"C\\u00f4te d\\u2019Ivoire\",\"Central African Republic\",\"Sierra Leone\",\"Lesotho\",\"Switzerland\",\"Malta\",\"Italy\",\"Japan\",\"Luxembourg\",\"Singapore\",\"Iceland\",\"Sweden\",\"Maldives\",\"Norway\",\"Spain\",\"Israel\",\"Netherlands\",\"Australia\",\"Cyprus\",\"Bahrain\",\"Ireland\",\"Qatar\",\"Canada\",\"Austria\",\"Republic of Korea\",\"Greece\",\"New Zealand\",\"United Kingdom of Great Britain and Northern Ireland\",\"Denmark\",\"Slovenia\",\"Germany\",\"Morocco\",\"Belgium\",\"Finland\",\"France\",\"United Arab Emirates\",\"Portugal\",\"Kuwait\",\"Iran (Islamic Republic of)\",\"China\",\"Czechia\",\"Chile\",\"Saudi Arabia\",\"Croatia\",\"Tunisia\",\"Costa Rica\",\"Cuba\",\"Brunei Darussalam\",\"Bosnia and Herzegovina\",\"Algeria\",\"The former Yugoslav Republic of Macedonia\",\"Albania\",\"Lebanon\",\"Oman\"],\"z\":[100.9,103.0,106.1,106.3,107.2,108.9,111.1,112.6,112.8,114.2,114.7,115.1,118.5,119.1,121.5,123.5,126.4,126.5,126.6,126.9,127.7,127.8,129.1,131.1,131.8,133.4,135.8,135.9,136.0,136.4,137.1,138.8,138.9,139.6,140.7,142.9,144.7,145.3,146.8,147.7,147.8,150.3,151.4,155.2,155.2,156.1,158.9,159.5,160.1,164.6,166.3,166.8,167.2,167.3,167.6,168.3,169.1,170.4,174.4,174.7,175.0,178.4,179.5,180.4,181.9,182.7,183.1,183.9,188.3,189.9,191.6,192.6,193.0,196.6,198.9,199.4,199.7,200.8,201.2,205.5,207.0,212.2,214.0,215.0,215.4,224.7,225.9,227.9,228.8,230.0,230.1,234.3,234.7,238.7,243.9,247.7,247.8,248.3,255.9,257.5,263.9,264.0,264.6,265.1,266.7,274.1,277.0,278.6,279.3,281.1,281.9,282.3,286.0,289.6,298.7,300.0,304.0,307.2,310.1,311.5,315.9,343.2,357.9,358.4,360.6,367.7,374.5,386.6,407.8,418.0,443.8,446.4,494.9,50.19,53.08,53.57,54.46,54.65,54.83,54.93,54.93,56.54,56.74,57.57,57.86,59.03,61.19,61.32,61.95,61.98,63.8,64.83,65.08,65.73,66.88,67.33,68.06,68.37,69.92,69.93,71.5,72.82,73.03,74.28,76.4,76.71,81.05,82.67,82.73,84.65,88.28,91.21,94.03,94.09,95.27,95.34,96.35,96.45,98.04,98.16,98.32,99.19,99.59],\"zmax\":769.3,\"zmin\":33.43,\"type\":\"choropleth\",\"geo\":\"geo15\"},{\"colorbar\":{\"title\":{\"text\":\"Adult Morality\"}},\"colorscale\":[[0.0,\"rgb(0,0,255)\"],[1.0,\"rgb(255,0,0)\"]],\"locationmode\":\"country names\",\"locations\":[\"Barbados\",\"Montenegro\",\"Serbia\",\"T\\u00fcrkiye\",\"Slovakia\",\"United States of America\",\"Jordan\",\"Panama\",\"Samoa\",\"Argentina\",\"Uruguay\",\"Poland\",\"Estonia\",\"Ecuador\",\"Azerbaijan\",\"Armenia\",\"Antigua and Barbuda\",\"Cabo Verde\",\"Tajikistan\",\"Peru\",\"Malaysia\",\"Viet Nam\",\"Mexico\",\"Sri Lanka\",\"Vanuatu\",\"Hungary\",\"Jamaica\",\"Bangladesh\",\"Uzbekistan\",\"Democratic People's Republic of Korea\",\"Tonga\",\"Romania\",\"Bulgaria\",\"Colombia\",\"Grenada\",\"Brazil\",\"Paraguay\",\"Honduras\",\"Libya\",\"Mauritius\",\"Saint Lucia\",\"Nicaragua\",\"Solomon Islands\",\"Thailand\",\"Timor-Leste\",\"Latvia\",\"Georgia\",\"Venezuela (Bolivarian Republic of)\",\"Bahamas\",\"Belarus\",\"Dominican Republic\",\"Saint Vincent and the Grenadines\",\"Guatemala\",\"Lithuania\",\"Egypt\",\"Seychelles\",\"Pakistan\",\"Nepal\",\"Kyrgyzstan\",\"Micronesia (Federated States of)\",\"Trinidad and Tobago\",\"Cambodia\",\"Indonesia\",\"El Salvador\",\"Iraq\",\"India\",\"Belize\",\"Suriname\",\"Republic of Moldova\",\"Bolivia (Plurinational State of)\",\"Ukraine\",\"Fiji\",\"Senegal\",\"Sao Tome and Principe\",\"Kazakhstan\",\"Philippines\",\"Lao People's Democratic Republic\",\"Myanmar\",\"Turkmenistan\",\"Kiribati\",\"Rwanda\",\"Mauritania\",\"Russian Federation\",\"Bhutan\",\"Mongolia\",\"Madagascar\",\"Ethiopia\",\"Papua New Guinea\",\"Sudan\",\"Comoros\",\"Gabon\",\"Kenya\",\"Afghanistan\",\"Angola\",\"Yemen\",\"Liberia\",\"Haiti\",\"Ghana\",\"Benin\",\"Djibouti\",\"Niger\",\"Eritrea\",\"Burkina Faso\",\"Democratic Republic of the Congo\",\"Botswana\",\"Guyana\",\"Gambia\",\"Malawi\",\"United Republic of Tanzania\",\"Togo\",\"Congo\",\"Guinea\",\"Mali\",\"Guinea-Bissau\",\"Uganda\",\"Zambia\",\"Namibia\",\"Burundi\",\"Equatorial Guinea\",\"South Africa\",\"Somalia\",\"Syrian Arab Republic\",\"South Sudan\",\"Zimbabwe\",\"Cameroon\",\"Nigeria\",\"Mozambique\",\"Chad\",\"Eswatini\",\"Sierra Leone\",\"C\\u00f4te d\\u2019Ivoire\",\"Central African Republic\",\"Switzerland\",\"Lesotho\",\"Luxembourg\",\"Japan\",\"Singapore\",\"Norway\",\"Sweden\",\"Maldives\",\"Iceland\",\"Italy\",\"Malta\",\"Cyprus\",\"Israel\",\"Spain\",\"Netherlands\",\"Bahrain\",\"Australia\",\"Republic of Korea\",\"Ireland\",\"Qatar\",\"Canada\",\"Austria\",\"Denmark\",\"New Zealand\",\"Greece\",\"United Kingdom of Great Britain and Northern Ireland\",\"Finland\",\"Morocco\",\"Germany\",\"Belgium\",\"France\",\"Slovenia\",\"United Arab Emirates\",\"Portugal\",\"Kuwait\",\"China\",\"Iran (Islamic Republic of)\",\"Czechia\",\"Chile\",\"Saudi Arabia\",\"Albania\",\"Tunisia\",\"Bosnia and Herzegovina\",\"Cuba\",\"Croatia\",\"Algeria\",\"The former Yugoslav Republic of Macedonia\",\"Costa Rica\",\"Oman\",\"Lebanon\",\"Brunei Darussalam\"],\"z\":[100.9,101.0,106.1,106.5,106.6,110.4,111.5,111.9,112.6,112.7,114.2,114.8,115.8,117.0,119.5,121.3,121.9,123.5,124.9,125.5,125.6,126.4,128.4,131.1,131.6,132.3,132.6,133.1,133.5,133.8,134.8,135.9,136.2,138.1,141.3,144.5,145.8,146.5,146.9,147.8,147.8,147.9,148.8,149.0,152.6,154.3,156.4,158.5,160.6,163.0,163.1,164.4,164.7,165.4,165.6,165.6,166.0,166.2,167.4,168.2,172.9,174.3,177.6,179.5,180.3,180.5,181.6,182.4,183.6,185.2,187.7,188.1,188.9,191.6,192.5,195.0,196.7,197.3,198.2,199.2,203.2,204.0,207.8,211.1,212.9,220.1,224.7,225.5,226.6,227.3,228.2,231.7,233.2,239.8,240.1,240.6,244.6,244.9,246.3,247.6,257.0,258.1,259.6,260.2,263.3,263.9,264.8,266.4,269.7,271.0,275.1,277.1,277.5,278.2,293.0,294.6,295.8,296.1,300.9,304.6,307.3,315.8,327.8,345.5,355.0,355.4,358.7,367.0,398.4,403.7,410.1,418.2,49.61,498.3,51.89,52.57,53.56,53.66,53.96,54.04,54.38,54.86,55.18,56.64,57.66,57.71,58.32,58.52,62.17,62.53,62.77,62.81,63.82,64.34,66.27,66.68,67.59,68.76,69.52,70.15,71.19,71.87,73.08,74.18,75.04,76.52,80.47,81.52,81.68,82.95,88.14,90.5,92.24,92.85,93.72,94.34,95.58,96.49,96.99,97.17,97.97,98.44,98.86],\"zmax\":769.3,\"zmin\":33.43,\"type\":\"choropleth\",\"geo\":\"geo16\"},{\"colorbar\":{\"title\":{\"text\":\"Adult Morality\"}},\"colorscale\":[[0.0,\"rgb(0,0,255)\"],[1.0,\"rgb(255,0,0)\"]],\"locationmode\":\"country names\",\"locations\":[\"Barbados\",\"Serbia\",\"T\\u00fcrkiye\",\"Slovakia\",\"Samoa\",\"Jordan\",\"Poland\",\"Panama\",\"Argentina\",\"Uruguay\",\"United States of America\",\"Ecuador\",\"Armenia\",\"Azerbaijan\",\"Estonia\",\"Antigua and Barbuda\",\"Cabo Verde\",\"Malaysia\",\"Tajikistan\",\"Peru\",\"Viet Nam\",\"Hungary\",\"Mexico\",\"Vanuatu\",\"Bangladesh\",\"Uzbekistan\",\"Jamaica\",\"Sri Lanka\",\"Democratic People's Republic of Korea\",\"Tonga\",\"Romania\",\"Bulgaria\",\"Colombia\",\"Grenada\",\"Brazil\",\"Honduras\",\"Mauritius\",\"Paraguay\",\"Solomon Islands\",\"Nicaragua\",\"Saint Lucia\",\"Thailand\",\"Timor-Leste\",\"Libya\",\"Nepal\",\"Latvia\",\"Lithuania\",\"Venezuela (Bolivarian Republic of)\",\"Pakistan\",\"Bahamas\",\"Georgia\",\"Dominican Republic\",\"Belarus\",\"Guatemala\",\"Kyrgyzstan\",\"Seychelles\",\"Micronesia (Federated States of)\",\"Egypt\",\"Republic of Moldova\",\"Saint Vincent and the Grenadines\",\"Cambodia\",\"Trinidad and Tobago\",\"Iraq\",\"Indonesia\",\"El Salvador\",\"India\",\"Belize\",\"Ukraine\",\"Suriname\",\"Kazakhstan\",\"Bolivia (Plurinational State of)\",\"Senegal\",\"Fiji\",\"Sao Tome and Principe\",\"Turkmenistan\",\"Lao People's Democratic Republic\",\"Philippines\",\"Myanmar\",\"Kiribati\",\"Rwanda\",\"Mauritania\",\"Russian Federation\",\"Bhutan\",\"Mongolia\",\"Madagascar\",\"Kenya\",\"Ethiopia\",\"Gabon\",\"Yemen\",\"Sudan\",\"Papua New Guinea\",\"Comoros\",\"Liberia\",\"Angola\",\"Ghana\",\"Benin\",\"Haiti\",\"Djibouti\",\"Afghanistan\",\"Botswana\",\"Niger\",\"Eritrea\",\"Burkina Faso\",\"Malawi\",\"Democratic Republic of the Congo\",\"Congo\",\"United Republic of Tanzania\",\"Guinea\",\"Gambia\",\"Guyana\",\"Togo\",\"Guinea-Bissau\",\"Mali\",\"Zambia\",\"Uganda\",\"Burundi\",\"Namibia\",\"Syrian Arab Republic\",\"South Africa\",\"Equatorial Guinea\",\"Somalia\",\"South Sudan\",\"Zimbabwe\",\"Mozambique\",\"Cameroon\",\"Nigeria\",\"Chad\",\"Sierra Leone\",\"Eswatini\",\"C\\u00f4te d\\u2019Ivoire\",\"Central African Republic\",\"Lesotho\",\"Switzerland\",\"Japan\",\"Singapore\",\"Sweden\",\"Maldives\",\"Italy\",\"Norway\",\"Iceland\",\"Malta\",\"Cyprus\",\"Luxembourg\",\"Spain\",\"Bahrain\",\"Israel\",\"Netherlands\",\"Australia\",\"Republic of Korea\",\"Qatar\",\"Austria\",\"Ireland\",\"Canada\",\"Denmark\",\"New Zealand\",\"Greece\",\"United Kingdom of Great Britain and Northern Ireland\",\"Germany\",\"Morocco\",\"Finland\",\"France\",\"Belgium\",\"Slovenia\",\"United Arab Emirates\",\"Portugal\",\"Kuwait\",\"Iran (Islamic Republic of)\",\"China\",\"Czechia\",\"Chile\",\"Croatia\",\"Saudi Arabia\",\"Tunisia\",\"Bosnia and Herzegovina\",\"Cuba\",\"Algeria\",\"Lebanon\",\"The former Yugoslav Republic of Macedonia\",\"Oman\",\"Albania\",\"Costa Rica\",\"Brunei Darussalam\",\"Montenegro\"],\"z\":[100.4,102.5,104.0,104.1,110.4,110.5,110.6,111.0,111.4,113.9,114.1,114.2,116.4,117.6,118.6,119.9,121.8,122.9,123.3,124.1,124.8,125.8,126.6,129.4,130.2,130.7,131.4,131.4,132.2,133.0,134.8,135.3,137.1,140.2,142.8,145.1,145.4,145.5,145.6,145.9,147.2,147.4,149.8,150.3,150.6,153.8,154.5,156.7,159.1,159.2,159.9,160.1,160.6,161.7,162.3,163.1,163.8,164.6,166.8,168.7,170.5,171.8,173.5,175.6,176.8,178.0,179.3,180.1,180.5,181.5,182.2,185.2,186.2,190.6,191.0,192.8,193.9,195.0,197.0,198.3,202.4,202.7,207.0,210.7,215.5,219.3,219.5,220.7,221.3,223.9,224.3,225.0,230.3,238.0,241.3,242.4,243.5,244.5,245.2,249.2,250.2,252.1,254.6,254.7,256.1,260.5,260.7,262.1,262.2,263.7,265.3,268.9,269.6,286.3,287.9,290.2,295.9,301.1,301.3,304.8,316.1,321.4,334.0,336.4,341.4,352.5,359.7,388.8,393.3,397.8,411.9,483.5,49.2,50.83,51.36,52.43,52.53,53.53,54.66,55.01,55.03,55.41,55.5,55.79,56.81,57.98,58.63,60.73,60.81,61.76,61.89,62.39,62.83,65.04,66.06,66.42,66.68,68.69,69.06,70.18,70.98,71.56,72.04,73.95,75.56,79.22,80.13,80.36,81.13,87.43,87.51,89.13,91.0,92.03,92.46,95.03,95.62,95.83,96.25,96.41,96.74,97.7,99.06],\"zmax\":769.3,\"zmin\":33.43,\"type\":\"choropleth\",\"geo\":\"geo17\"}],                        {\"template\":{\"data\":{\"histogram2dcontour\":[{\"type\":\"histogram2dcontour\",\"colorbar\":{\"outlinewidth\":0,\"ticks\":\"\"},\"colorscale\":[[0.0,\"#0d0887\"],[0.1111111111111111,\"#46039f\"],[0.2222222222222222,\"#7201a8\"],[0.3333333333333333,\"#9c179e\"],[0.4444444444444444,\"#bd3786\"],[0.5555555555555556,\"#d8576b\"],[0.6666666666666666,\"#ed7953\"],[0.7777777777777778,\"#fb9f3a\"],[0.8888888888888888,\"#fdca26\"],[1.0,\"#f0f921\"]]}],\"choropleth\":[{\"type\":\"choropleth\",\"colorbar\":{\"outlinewidth\":0,\"ticks\":\"\"}}],\"histogram2d\":[{\"type\":\"histogram2d\",\"colorbar\":{\"outlinewidth\":0,\"ticks\":\"\"},\"colorscale\":[[0.0,\"#0d0887\"],[0.1111111111111111,\"#46039f\"],[0.2222222222222222,\"#7201a8\"],[0.3333333333333333,\"#9c179e\"],[0.4444444444444444,\"#bd3786\"],[0.5555555555555556,\"#d8576b\"],[0.6666666666666666,\"#ed7953\"],[0.7777777777777778,\"#fb9f3a\"],[0.8888888888888888,\"#fdca26\"],[1.0,\"#f0f921\"]]}],\"heatmap\":[{\"type\":\"heatmap\",\"colorbar\":{\"outlinewidth\":0,\"ticks\":\"\"},\"colorscale\":[[0.0,\"#0d0887\"],[0.1111111111111111,\"#46039f\"],[0.2222222222222222,\"#7201a8\"],[0.3333333333333333,\"#9c179e\"],[0.4444444444444444,\"#bd3786\"],[0.5555555555555556,\"#d8576b\"],[0.6666666666666666,\"#ed7953\"],[0.7777777777777778,\"#fb9f3a\"],[0.8888888888888888,\"#fdca26\"],[1.0,\"#f0f921\"]]}],\"heatmapgl\":[{\"type\":\"heatmapgl\",\"colorbar\":{\"outlinewidth\":0,\"ticks\":\"\"},\"colorscale\":[[0.0,\"#0d0887\"],[0.1111111111111111,\"#46039f\"],[0.2222222222222222,\"#7201a8\"],[0.3333333333333333,\"#9c179e\"],[0.4444444444444444,\"#bd3786\"],[0.5555555555555556,\"#d8576b\"],[0.6666666666666666,\"#ed7953\"],[0.7777777777777778,\"#fb9f3a\"],[0.8888888888888888,\"#fdca26\"],[1.0,\"#f0f921\"]]}],\"contourcarpet\":[{\"type\":\"contourcarpet\",\"colorbar\":{\"outlinewidth\":0,\"ticks\":\"\"}}],\"contour\":[{\"type\":\"contour\",\"colorbar\":{\"outlinewidth\":0,\"ticks\":\"\"},\"colorscale\":[[0.0,\"#0d0887\"],[0.1111111111111111,\"#46039f\"],[0.2222222222222222,\"#7201a8\"],[0.3333333333333333,\"#9c179e\"],[0.4444444444444444,\"#bd3786\"],[0.5555555555555556,\"#d8576b\"],[0.6666666666666666,\"#ed7953\"],[0.7777777777777778,\"#fb9f3a\"],[0.8888888888888888,\"#fdca26\"],[1.0,\"#f0f921\"]]}],\"surface\":[{\"type\":\"surface\",\"colorbar\":{\"outlinewidth\":0,\"ticks\":\"\"},\"colorscale\":[[0.0,\"#0d0887\"],[0.1111111111111111,\"#46039f\"],[0.2222222222222222,\"#7201a8\"],[0.3333333333333333,\"#9c179e\"],[0.4444444444444444,\"#bd3786\"],[0.5555555555555556,\"#d8576b\"],[0.6666666666666666,\"#ed7953\"],[0.7777777777777778,\"#fb9f3a\"],[0.8888888888888888,\"#fdca26\"],[1.0,\"#f0f921\"]]}],\"mesh3d\":[{\"type\":\"mesh3d\",\"colorbar\":{\"outlinewidth\":0,\"ticks\":\"\"}}],\"scatter\":[{\"fillpattern\":{\"fillmode\":\"overlay\",\"size\":10,\"solidity\":0.2},\"type\":\"scatter\"}],\"parcoords\":[{\"type\":\"parcoords\",\"line\":{\"colorbar\":{\"outlinewidth\":0,\"ticks\":\"\"}}}],\"scatterpolargl\":[{\"type\":\"scatterpolargl\",\"marker\":{\"colorbar\":{\"outlinewidth\":0,\"ticks\":\"\"}}}],\"bar\":[{\"error_x\":{\"color\":\"#2a3f5f\"},\"error_y\":{\"color\":\"#2a3f5f\"},\"marker\":{\"line\":{\"color\":\"#E5ECF6\",\"width\":0.5},\"pattern\":{\"fillmode\":\"overlay\",\"size\":10,\"solidity\":0.2}},\"type\":\"bar\"}],\"scattergeo\":[{\"type\":\"scattergeo\",\"marker\":{\"colorbar\":{\"outlinewidth\":0,\"ticks\":\"\"}}}],\"scatterpolar\":[{\"type\":\"scatterpolar\",\"marker\":{\"colorbar\":{\"outlinewidth\":0,\"ticks\":\"\"}}}],\"histogram\":[{\"marker\":{\"pattern\":{\"fillmode\":\"overlay\",\"size\":10,\"solidity\":0.2}},\"type\":\"histogram\"}],\"scattergl\":[{\"type\":\"scattergl\",\"marker\":{\"colorbar\":{\"outlinewidth\":0,\"ticks\":\"\"}}}],\"scatter3d\":[{\"type\":\"scatter3d\",\"line\":{\"colorbar\":{\"outlinewidth\":0,\"ticks\":\"\"}},\"marker\":{\"colorbar\":{\"outlinewidth\":0,\"ticks\":\"\"}}}],\"scattermapbox\":[{\"type\":\"scattermapbox\",\"marker\":{\"colorbar\":{\"outlinewidth\":0,\"ticks\":\"\"}}}],\"scatterternary\":[{\"type\":\"scatterternary\",\"marker\":{\"colorbar\":{\"outlinewidth\":0,\"ticks\":\"\"}}}],\"scattercarpet\":[{\"type\":\"scattercarpet\",\"marker\":{\"colorbar\":{\"outlinewidth\":0,\"ticks\":\"\"}}}],\"carpet\":[{\"aaxis\":{\"endlinecolor\":\"#2a3f5f\",\"gridcolor\":\"white\",\"linecolor\":\"white\",\"minorgridcolor\":\"white\",\"startlinecolor\":\"#2a3f5f\"},\"baxis\":{\"endlinecolor\":\"#2a3f5f\",\"gridcolor\":\"white\",\"linecolor\":\"white\",\"minorgridcolor\":\"white\",\"startlinecolor\":\"#2a3f5f\"},\"type\":\"carpet\"}],\"table\":[{\"cells\":{\"fill\":{\"color\":\"#EBF0F8\"},\"line\":{\"color\":\"white\"}},\"header\":{\"fill\":{\"color\":\"#C8D4E3\"},\"line\":{\"color\":\"white\"}},\"type\":\"table\"}],\"barpolar\":[{\"marker\":{\"line\":{\"color\":\"#E5ECF6\",\"width\":0.5},\"pattern\":{\"fillmode\":\"overlay\",\"size\":10,\"solidity\":0.2}},\"type\":\"barpolar\"}],\"pie\":[{\"automargin\":true,\"type\":\"pie\"}]},\"layout\":{\"autotypenumbers\":\"strict\",\"colorway\":[\"#636efa\",\"#EF553B\",\"#00cc96\",\"#ab63fa\",\"#FFA15A\",\"#19d3f3\",\"#FF6692\",\"#B6E880\",\"#FF97FF\",\"#FECB52\"],\"font\":{\"color\":\"#2a3f5f\"},\"hovermode\":\"closest\",\"hoverlabel\":{\"align\":\"left\"},\"paper_bgcolor\":\"white\",\"plot_bgcolor\":\"#E5ECF6\",\"polar\":{\"bgcolor\":\"#E5ECF6\",\"angularaxis\":{\"gridcolor\":\"white\",\"linecolor\":\"white\",\"ticks\":\"\"},\"radialaxis\":{\"gridcolor\":\"white\",\"linecolor\":\"white\",\"ticks\":\"\"}},\"ternary\":{\"bgcolor\":\"#E5ECF6\",\"aaxis\":{\"gridcolor\":\"white\",\"linecolor\":\"white\",\"ticks\":\"\"},\"baxis\":{\"gridcolor\":\"white\",\"linecolor\":\"white\",\"ticks\":\"\"},\"caxis\":{\"gridcolor\":\"white\",\"linecolor\":\"white\",\"ticks\":\"\"}},\"coloraxis\":{\"colorbar\":{\"outlinewidth\":0,\"ticks\":\"\"}},\"colorscale\":{\"sequential\":[[0.0,\"#0d0887\"],[0.1111111111111111,\"#46039f\"],[0.2222222222222222,\"#7201a8\"],[0.3333333333333333,\"#9c179e\"],[0.4444444444444444,\"#bd3786\"],[0.5555555555555556,\"#d8576b\"],[0.6666666666666666,\"#ed7953\"],[0.7777777777777778,\"#fb9f3a\"],[0.8888888888888888,\"#fdca26\"],[1.0,\"#f0f921\"]],\"sequentialminus\":[[0.0,\"#0d0887\"],[0.1111111111111111,\"#46039f\"],[0.2222222222222222,\"#7201a8\"],[0.3333333333333333,\"#9c179e\"],[0.4444444444444444,\"#bd3786\"],[0.5555555555555556,\"#d8576b\"],[0.6666666666666666,\"#ed7953\"],[0.7777777777777778,\"#fb9f3a\"],[0.8888888888888888,\"#fdca26\"],[1.0,\"#f0f921\"]],\"diverging\":[[0,\"#8e0152\"],[0.1,\"#c51b7d\"],[0.2,\"#de77ae\"],[0.3,\"#f1b6da\"],[0.4,\"#fde0ef\"],[0.5,\"#f7f7f7\"],[0.6,\"#e6f5d0\"],[0.7,\"#b8e186\"],[0.8,\"#7fbc41\"],[0.9,\"#4d9221\"],[1,\"#276419\"]]},\"xaxis\":{\"gridcolor\":\"white\",\"linecolor\":\"white\",\"ticks\":\"\",\"title\":{\"standoff\":15},\"zerolinecolor\":\"white\",\"automargin\":true,\"zerolinewidth\":2},\"yaxis\":{\"gridcolor\":\"white\",\"linecolor\":\"white\",\"ticks\":\"\",\"title\":{\"standoff\":15},\"zerolinecolor\":\"white\",\"automargin\":true,\"zerolinewidth\":2},\"scene\":{\"xaxis\":{\"backgroundcolor\":\"#E5ECF6\",\"gridcolor\":\"white\",\"linecolor\":\"white\",\"showbackground\":true,\"ticks\":\"\",\"zerolinecolor\":\"white\",\"gridwidth\":2},\"yaxis\":{\"backgroundcolor\":\"#E5ECF6\",\"gridcolor\":\"white\",\"linecolor\":\"white\",\"showbackground\":true,\"ticks\":\"\",\"zerolinecolor\":\"white\",\"gridwidth\":2},\"zaxis\":{\"backgroundcolor\":\"#E5ECF6\",\"gridcolor\":\"white\",\"linecolor\":\"white\",\"showbackground\":true,\"ticks\":\"\",\"zerolinecolor\":\"white\",\"gridwidth\":2}},\"shapedefaults\":{\"line\":{\"color\":\"#2a3f5f\"}},\"annotationdefaults\":{\"arrowcolor\":\"#2a3f5f\",\"arrowhead\":0,\"arrowwidth\":1},\"geo\":{\"bgcolor\":\"white\",\"landcolor\":\"#E5ECF6\",\"subunitcolor\":\"white\",\"showland\":true,\"showlakes\":true,\"lakecolor\":\"white\"},\"title\":{\"x\":0.05},\"mapbox\":{\"style\":\"light\"}}},\"geo\":{\"domain\":{\"x\":[0.0,0.3],\"y\":[0.8416666666666667,1.0]},\"fitbounds\":\"locations\",\"visible\":false},\"geo2\":{\"domain\":{\"x\":[0.35,0.6499999999999999],\"y\":[0.8416666666666667,1.0]},\"fitbounds\":\"locations\",\"visible\":false},\"geo3\":{\"domain\":{\"x\":[0.7,1.0],\"y\":[0.8416666666666667,1.0]},\"fitbounds\":\"locations\",\"visible\":false},\"geo4\":{\"domain\":{\"x\":[0.0,0.3],\"y\":[0.6733333333333333,0.8316666666666667]},\"fitbounds\":\"locations\",\"visible\":false},\"geo5\":{\"domain\":{\"x\":[0.35,0.6499999999999999],\"y\":[0.6733333333333333,0.8316666666666667]},\"fitbounds\":\"locations\",\"visible\":false},\"geo6\":{\"domain\":{\"x\":[0.7,1.0],\"y\":[0.6733333333333333,0.8316666666666667]},\"fitbounds\":\"locations\",\"visible\":false},\"geo7\":{\"domain\":{\"x\":[0.0,0.3],\"y\":[0.505,0.6633333333333333]},\"fitbounds\":\"locations\",\"visible\":false},\"geo8\":{\"domain\":{\"x\":[0.35,0.6499999999999999],\"y\":[0.505,0.6633333333333333]},\"fitbounds\":\"locations\",\"visible\":false},\"geo9\":{\"domain\":{\"x\":[0.7,1.0],\"y\":[0.505,0.6633333333333333]},\"fitbounds\":\"locations\",\"visible\":false},\"geo10\":{\"domain\":{\"x\":[0.0,0.3],\"y\":[0.33666666666666667,0.495]},\"fitbounds\":\"locations\",\"visible\":false},\"geo11\":{\"domain\":{\"x\":[0.35,0.6499999999999999],\"y\":[0.33666666666666667,0.495]},\"fitbounds\":\"locations\",\"visible\":false},\"geo12\":{\"domain\":{\"x\":[0.7,1.0],\"y\":[0.33666666666666667,0.495]},\"fitbounds\":\"locations\",\"visible\":false},\"geo13\":{\"domain\":{\"x\":[0.0,0.3],\"y\":[0.16833333333333333,0.32666666666666666]},\"fitbounds\":\"locations\",\"visible\":false},\"geo14\":{\"domain\":{\"x\":[0.35,0.6499999999999999],\"y\":[0.16833333333333333,0.32666666666666666]},\"fitbounds\":\"locations\",\"visible\":false},\"geo15\":{\"domain\":{\"x\":[0.7,1.0],\"y\":[0.16833333333333333,0.32666666666666666]},\"fitbounds\":\"locations\",\"visible\":false},\"geo16\":{\"domain\":{\"x\":[0.0,0.3],\"y\":[0.0,0.15833333333333333]},\"fitbounds\":\"locations\",\"visible\":false},\"geo17\":{\"domain\":{\"x\":[0.35,0.6499999999999999],\"y\":[0.0,0.15833333333333333]},\"fitbounds\":\"locations\",\"visible\":false},\"geo18\":{\"domain\":{\"x\":[0.7,1.0],\"y\":[0.0,0.15833333333333333]},\"fitbounds\":\"locations\",\"visible\":false},\"annotations\":[{\"font\":{\"size\":16},\"showarrow\":false,\"text\":\"2000\",\"x\":0.15,\"xanchor\":\"center\",\"xref\":\"paper\",\"y\":1.0,\"yanchor\":\"bottom\",\"yref\":\"paper\"},{\"font\":{\"size\":16},\"showarrow\":false,\"text\":\"2001\",\"x\":0.49999999999999994,\"xanchor\":\"center\",\"xref\":\"paper\",\"y\":1.0,\"yanchor\":\"bottom\",\"yref\":\"paper\"},{\"font\":{\"size\":16},\"showarrow\":false,\"text\":\"2002\",\"x\":0.85,\"xanchor\":\"center\",\"xref\":\"paper\",\"y\":1.0,\"yanchor\":\"bottom\",\"yref\":\"paper\"},{\"font\":{\"size\":16},\"showarrow\":false,\"text\":\"2003\",\"x\":0.15,\"xanchor\":\"center\",\"xref\":\"paper\",\"y\":0.8316666666666667,\"yanchor\":\"bottom\",\"yref\":\"paper\"},{\"font\":{\"size\":16},\"showarrow\":false,\"text\":\"2004\",\"x\":0.49999999999999994,\"xanchor\":\"center\",\"xref\":\"paper\",\"y\":0.8316666666666667,\"yanchor\":\"bottom\",\"yref\":\"paper\"},{\"font\":{\"size\":16},\"showarrow\":false,\"text\":\"2005\",\"x\":0.85,\"xanchor\":\"center\",\"xref\":\"paper\",\"y\":0.8316666666666667,\"yanchor\":\"bottom\",\"yref\":\"paper\"},{\"font\":{\"size\":16},\"showarrow\":false,\"text\":\"2006\",\"x\":0.15,\"xanchor\":\"center\",\"xref\":\"paper\",\"y\":0.6633333333333333,\"yanchor\":\"bottom\",\"yref\":\"paper\"},{\"font\":{\"size\":16},\"showarrow\":false,\"text\":\"2007\",\"x\":0.49999999999999994,\"xanchor\":\"center\",\"xref\":\"paper\",\"y\":0.6633333333333333,\"yanchor\":\"bottom\",\"yref\":\"paper\"},{\"font\":{\"size\":16},\"showarrow\":false,\"text\":\"2008\",\"x\":0.85,\"xanchor\":\"center\",\"xref\":\"paper\",\"y\":0.6633333333333333,\"yanchor\":\"bottom\",\"yref\":\"paper\"},{\"font\":{\"size\":16},\"showarrow\":false,\"text\":\"2009\",\"x\":0.15,\"xanchor\":\"center\",\"xref\":\"paper\",\"y\":0.495,\"yanchor\":\"bottom\",\"yref\":\"paper\"},{\"font\":{\"size\":16},\"showarrow\":false,\"text\":\"2010\",\"x\":0.49999999999999994,\"xanchor\":\"center\",\"xref\":\"paper\",\"y\":0.495,\"yanchor\":\"bottom\",\"yref\":\"paper\"},{\"font\":{\"size\":16},\"showarrow\":false,\"text\":\"2011\",\"x\":0.85,\"xanchor\":\"center\",\"xref\":\"paper\",\"y\":0.495,\"yanchor\":\"bottom\",\"yref\":\"paper\"},{\"font\":{\"size\":16},\"showarrow\":false,\"text\":\"2012\",\"x\":0.15,\"xanchor\":\"center\",\"xref\":\"paper\",\"y\":0.32666666666666666,\"yanchor\":\"bottom\",\"yref\":\"paper\"},{\"font\":{\"size\":16},\"showarrow\":false,\"text\":\"2013\",\"x\":0.49999999999999994,\"xanchor\":\"center\",\"xref\":\"paper\",\"y\":0.32666666666666666,\"yanchor\":\"bottom\",\"yref\":\"paper\"},{\"font\":{\"size\":16},\"showarrow\":false,\"text\":\"2014\",\"x\":0.85,\"xanchor\":\"center\",\"xref\":\"paper\",\"y\":0.32666666666666666,\"yanchor\":\"bottom\",\"yref\":\"paper\"},{\"font\":{\"size\":16},\"showarrow\":false,\"text\":\"2015\",\"x\":0.15,\"xanchor\":\"center\",\"xref\":\"paper\",\"y\":0.15833333333333333,\"yanchor\":\"bottom\",\"yref\":\"paper\"},{\"font\":{\"size\":16},\"showarrow\":false,\"text\":\"2016\",\"x\":0.49999999999999994,\"xanchor\":\"center\",\"xref\":\"paper\",\"y\":0.15833333333333333,\"yanchor\":\"bottom\",\"yref\":\"paper\"}],\"title\":{\"text\":\"Fig.3. Geographic Analysis on World Adult Morality from 2000 to 2016\",\"x\":0.5},\"margin\":{\"l\":50,\"r\":50,\"b\":100,\"t\":100,\"pad\":4},\"autosize\":false,\"width\":1000,\"height\":1000},                        {\"responsive\": true}                    ).then(function(){\n",
       "                            \n",
       "var gd = document.getElementById('549f8dda-9a5a-4371-a7ec-da416d1db578');\n",
       "var x = new MutationObserver(function (mutations, observer) {{\n",
       "        var display = window.getComputedStyle(gd).display;\n",
       "        if (!display || display === 'none') {{\n",
       "            console.log([gd, 'removed!']);\n",
       "            Plotly.purge(gd);\n",
       "            observer.disconnect();\n",
       "        }}\n",
       "}});\n",
       "\n",
       "// Listen for the removal of the full notebook cells\n",
       "var notebookContainer = gd.closest('#notebook-container');\n",
       "if (notebookContainer) {{\n",
       "    x.observe(notebookContainer, {childList: true});\n",
       "}}\n",
       "\n",
       "// Listen for the clearing of the current output cell\n",
       "var outputEl = gd.closest('.output');\n",
       "if (outputEl) {{\n",
       "    x.observe(outputEl, {childList: true});\n",
       "}}\n",
       "\n",
       "                        })                };                });            </script>        </div>"
      ]
     },
     "metadata": {},
     "output_type": "display_data"
    }
   ],
   "source": [
    "years = sorted(set(df_adult['Period'].value_counts().index))\n",
    "\n",
    "rows = 6\n",
    "cols = 3\n",
    "fig_geo_2 = make_subplots(\n",
    "    rows=rows, cols=cols,\n",
    "    specs = [[{'type': 'choropleth'} for c in np.arange(cols)] for r in np.arange(rows)],\\\n",
    "            horizontal_spacing = 0.05,\n",
    "            vertical_spacing = 0.01,\n",
    "             subplot_titles = years)\n",
    "    \n",
    "\n",
    "\n",
    "for i in range(len(years)):\n",
    "    result = df_adult[(df_adult['Gender']=='Both sexes')&(df_adult['Period']==years[i])]\n",
    "    fig_geo_2.add_trace(go.Choropleth(\n",
    "        locations=result.Location,\n",
    "        locationmode = 'country names', \n",
    "        z = result.NumericValue,\n",
    "        zmin = df_adult['NumericValue'].min(),\n",
    "        zmax = df_adult['NumericValue'].max(),\n",
    "        colorbar_title = \"Adult Morality\",\n",
    "        colorscale='bluered'\n",
    "    ), row = i//cols+1, col = i%cols+1)\n",
    "\n",
    "\n",
    "fig_geo_2.update_geos(fitbounds=\"locations\",\n",
    "                visible=False,\n",
    "                )\n",
    "\n",
    "fig_geo_2.update_layout(\n",
    "    title_text = 'Fig.3. Geographic Analysis on World Adult Morality from 2000 to 2016',\n",
    "    title_x=0.5,\n",
    "    autosize = False,\n",
    "    width=1000,\n",
    "    height=1000,\n",
    "    margin=dict(\n",
    "        l=50,\n",
    "        r=50,\n",
    "        b=100,\n",
    "        t=100,\n",
    "        pad=4\n",
    "    ),\n",
    "    )\n",
    "\n",
    "# for index, trace in enumerate(fig.data):\n",
    "#     fig.data[index].hovertemplate = 'State: %{location}<br>Shooting deaths: %{z:.2f}<extra></extra>'\n",
    "    \n",
    "fig_geo_2.show()"
   ]
  },
  {
   "cell_type": "markdown",
   "id": "d7ec8307",
   "metadata": {},
   "source": [
    "Start building the dashboard:"
   ]
  },
  {
   "cell_type": "code",
   "execution_count": 11,
   "id": "62c6092a",
   "metadata": {},
   "outputs": [],
   "source": [
    "from dash import Dash, html, dash_table, dcc\n",
    "\n",
    "# Initialize the app\n",
    "app = Dash(__name__)"
   ]
  },
  {
   "cell_type": "code",
   "execution_count": 12,
   "id": "f5e1a080",
   "metadata": {},
   "outputs": [],
   "source": [
    "# App layout\n",
    "\n",
    "app.layout = html.Div([\n",
    "    html.Div([\n",
    "        html.H1(\"Figure 1\"),\n",
    "        dcc.Graph(figure=fig_1)\n",
    "            ]),\n",
    "    html.Div([\n",
    "        html.H2(\"Figure 2\"),\n",
    "        dcc.Graph(figure=fig_geo)\n",
    "            ]),\n",
    "    html.Div([\n",
    "        html.H3(\"Figure 3\"),\n",
    "        dcc.Graph(figure=fig_geo_2)\n",
    "            ])\n",
    "])\n"
   ]
  },
  {
   "cell_type": "code",
   "execution_count": 13,
   "id": "6a00a25a",
   "metadata": {
    "scrolled": false
   },
   "outputs": [
    {
     "data": {
      "text/html": [
       "\n",
       "        <iframe\n",
       "            width=\"100%\"\n",
       "            height=\"650\"\n",
       "            src=\"http://127.0.0.1:9001/\"\n",
       "            frameborder=\"0\"\n",
       "            allowfullscreen\n",
       "            \n",
       "        ></iframe>\n",
       "        "
      ],
      "text/plain": [
       "<IPython.lib.display.IFrame at 0x129d49c40>"
      ]
     },
     "metadata": {},
     "output_type": "display_data"
    }
   ],
   "source": [
    "# Run the app\n",
    "if __name__ == '__main__':\n",
    "    app.run(port = 9001, debug=True)"
   ]
  },
  {
   "cell_type": "code",
   "execution_count": 14,
   "id": "99f84a3e",
   "metadata": {
    "scrolled": false
   },
   "outputs": [
    {
     "data": {
      "application/vnd.plotly.v1+json": {
       "config": {
        "plotlyServerURL": "https://plot.ly"
       },
       "data": [
        {
         "hovertemplate": "color=Africa<br>x=%{x}<br>y=%{y}<br>size=%{marker.size}<br>text=%{text}<extra></extra>",
         "legendgroup": "Africa",
         "marker": {
          "color": "#636efa",
          "size": [
           797838.84
          ],
          "sizemode": "area",
          "sizeref": 47.20939881656805,
          "symbol": "circle"
         },
         "mode": "markers+text",
         "name": "Africa",
         "orientation": "v",
         "showlegend": true,
         "text": [
          797838.84
         ],
         "type": "scatter",
         "x": [
          "Africa"
         ],
         "xaxis": "x",
         "y": [
          797838.84
         ],
         "yaxis": "y"
        },
        {
         "hovertemplate": "color=Americas<br>x=%{x}<br>y=%{y}<br>size=%{marker.size}<br>text=%{text}<extra></extra>",
         "legendgroup": "Americas",
         "marker": {
          "color": "#EF553B",
          "size": [
           265760.14
          ],
          "sizemode": "area",
          "sizeref": 47.20939881656805,
          "symbol": "circle"
         },
         "mode": "markers+text",
         "name": "Americas",
         "orientation": "v",
         "showlegend": true,
         "text": [
          265760.14
         ],
         "type": "scatter",
         "x": [
          "Americas"
         ],
         "xaxis": "x",
         "y": [
          265760.14
         ],
         "yaxis": "y"
        },
        {
         "hovertemplate": "color=Eastern Mediterranean<br>x=%{x}<br>y=%{y}<br>size=%{marker.size}<br>text=%{text}<extra></extra>",
         "legendgroup": "Eastern Mediterranean",
         "marker": {
          "color": "#00cc96",
          "size": [
           167420.65
          ],
          "sizemode": "area",
          "sizeref": 47.20939881656805,
          "symbol": "circle"
         },
         "mode": "markers+text",
         "name": "Eastern Mediterranean",
         "orientation": "v",
         "showlegend": true,
         "text": [
          167420.65
         ],
         "type": "scatter",
         "x": [
          "Eastern Mediterranean"
         ],
         "xaxis": "x",
         "y": [
          167420.65
         ],
         "yaxis": "y"
        },
        {
         "hovertemplate": "color=Europe<br>x=%{x}<br>y=%{y}<br>size=%{marker.size}<br>text=%{text}<extra></extra>",
         "legendgroup": "Europe",
         "marker": {
          "color": "#ab63fa",
          "size": [
           312747.58
          ],
          "sizemode": "area",
          "sizeref": 47.20939881656805,
          "symbol": "circle"
         },
         "mode": "markers+text",
         "name": "Europe",
         "orientation": "v",
         "showlegend": true,
         "text": [
          312747.58
         ],
         "type": "scatter",
         "x": [
          "Europe"
         ],
         "xaxis": "x",
         "y": [
          312747.58
         ],
         "yaxis": "y"
        },
        {
         "hovertemplate": "color=South-East Asia<br>x=%{x}<br>y=%{y}<br>size=%{marker.size}<br>text=%{text}<extra></extra>",
         "legendgroup": "South-East Asia",
         "marker": {
          "color": "#FFA15A",
          "size": [
           99765.8
          ],
          "sizemode": "area",
          "sizeref": 47.20939881656805,
          "symbol": "circle"
         },
         "mode": "markers+text",
         "name": "South-East Asia",
         "orientation": "v",
         "showlegend": true,
         "text": [
          99765.8
         ],
         "type": "scatter",
         "x": [
          "South-East Asia"
         ],
         "xaxis": "x",
         "y": [
          99765.8
         ],
         "yaxis": "y"
        },
        {
         "hovertemplate": "color=Western Pacific<br>x=%{x}<br>y=%{y}<br>size=%{marker.size}<br>text=%{text}<extra></extra>",
         "legendgroup": "Western Pacific",
         "marker": {
          "color": "#19d3f3",
          "size": [
           161392.56
          ],
          "sizemode": "area",
          "sizeref": 47.20939881656805,
          "symbol": "circle"
         },
         "mode": "markers+text",
         "name": "Western Pacific",
         "orientation": "v",
         "showlegend": true,
         "text": [
          161392.56
         ],
         "type": "scatter",
         "x": [
          "Western Pacific"
         ],
         "xaxis": "x",
         "y": [
          161392.56
         ],
         "yaxis": "y"
        }
       ],
       "layout": {
        "legend": {
         "itemsizing": "constant",
         "title": {
          "text": "color"
         },
         "tracegroupgap": 0
        },
        "margin": {
         "t": 60
        },
        "template": {
         "data": {
          "bar": [
           {
            "error_x": {
             "color": "#2a3f5f"
            },
            "error_y": {
             "color": "#2a3f5f"
            },
            "marker": {
             "line": {
              "color": "#E5ECF6",
              "width": 0.5
             },
             "pattern": {
              "fillmode": "overlay",
              "size": 10,
              "solidity": 0.2
             }
            },
            "type": "bar"
           }
          ],
          "barpolar": [
           {
            "marker": {
             "line": {
              "color": "#E5ECF6",
              "width": 0.5
             },
             "pattern": {
              "fillmode": "overlay",
              "size": 10,
              "solidity": 0.2
             }
            },
            "type": "barpolar"
           }
          ],
          "carpet": [
           {
            "aaxis": {
             "endlinecolor": "#2a3f5f",
             "gridcolor": "white",
             "linecolor": "white",
             "minorgridcolor": "white",
             "startlinecolor": "#2a3f5f"
            },
            "baxis": {
             "endlinecolor": "#2a3f5f",
             "gridcolor": "white",
             "linecolor": "white",
             "minorgridcolor": "white",
             "startlinecolor": "#2a3f5f"
            },
            "type": "carpet"
           }
          ],
          "choropleth": [
           {
            "colorbar": {
             "outlinewidth": 0,
             "ticks": ""
            },
            "type": "choropleth"
           }
          ],
          "contour": [
           {
            "colorbar": {
             "outlinewidth": 0,
             "ticks": ""
            },
            "colorscale": [
             [
              0,
              "#0d0887"
             ],
             [
              0.1111111111111111,
              "#46039f"
             ],
             [
              0.2222222222222222,
              "#7201a8"
             ],
             [
              0.3333333333333333,
              "#9c179e"
             ],
             [
              0.4444444444444444,
              "#bd3786"
             ],
             [
              0.5555555555555556,
              "#d8576b"
             ],
             [
              0.6666666666666666,
              "#ed7953"
             ],
             [
              0.7777777777777778,
              "#fb9f3a"
             ],
             [
              0.8888888888888888,
              "#fdca26"
             ],
             [
              1,
              "#f0f921"
             ]
            ],
            "type": "contour"
           }
          ],
          "contourcarpet": [
           {
            "colorbar": {
             "outlinewidth": 0,
             "ticks": ""
            },
            "type": "contourcarpet"
           }
          ],
          "heatmap": [
           {
            "colorbar": {
             "outlinewidth": 0,
             "ticks": ""
            },
            "colorscale": [
             [
              0,
              "#0d0887"
             ],
             [
              0.1111111111111111,
              "#46039f"
             ],
             [
              0.2222222222222222,
              "#7201a8"
             ],
             [
              0.3333333333333333,
              "#9c179e"
             ],
             [
              0.4444444444444444,
              "#bd3786"
             ],
             [
              0.5555555555555556,
              "#d8576b"
             ],
             [
              0.6666666666666666,
              "#ed7953"
             ],
             [
              0.7777777777777778,
              "#fb9f3a"
             ],
             [
              0.8888888888888888,
              "#fdca26"
             ],
             [
              1,
              "#f0f921"
             ]
            ],
            "type": "heatmap"
           }
          ],
          "heatmapgl": [
           {
            "colorbar": {
             "outlinewidth": 0,
             "ticks": ""
            },
            "colorscale": [
             [
              0,
              "#0d0887"
             ],
             [
              0.1111111111111111,
              "#46039f"
             ],
             [
              0.2222222222222222,
              "#7201a8"
             ],
             [
              0.3333333333333333,
              "#9c179e"
             ],
             [
              0.4444444444444444,
              "#bd3786"
             ],
             [
              0.5555555555555556,
              "#d8576b"
             ],
             [
              0.6666666666666666,
              "#ed7953"
             ],
             [
              0.7777777777777778,
              "#fb9f3a"
             ],
             [
              0.8888888888888888,
              "#fdca26"
             ],
             [
              1,
              "#f0f921"
             ]
            ],
            "type": "heatmapgl"
           }
          ],
          "histogram": [
           {
            "marker": {
             "pattern": {
              "fillmode": "overlay",
              "size": 10,
              "solidity": 0.2
             }
            },
            "type": "histogram"
           }
          ],
          "histogram2d": [
           {
            "colorbar": {
             "outlinewidth": 0,
             "ticks": ""
            },
            "colorscale": [
             [
              0,
              "#0d0887"
             ],
             [
              0.1111111111111111,
              "#46039f"
             ],
             [
              0.2222222222222222,
              "#7201a8"
             ],
             [
              0.3333333333333333,
              "#9c179e"
             ],
             [
              0.4444444444444444,
              "#bd3786"
             ],
             [
              0.5555555555555556,
              "#d8576b"
             ],
             [
              0.6666666666666666,
              "#ed7953"
             ],
             [
              0.7777777777777778,
              "#fb9f3a"
             ],
             [
              0.8888888888888888,
              "#fdca26"
             ],
             [
              1,
              "#f0f921"
             ]
            ],
            "type": "histogram2d"
           }
          ],
          "histogram2dcontour": [
           {
            "colorbar": {
             "outlinewidth": 0,
             "ticks": ""
            },
            "colorscale": [
             [
              0,
              "#0d0887"
             ],
             [
              0.1111111111111111,
              "#46039f"
             ],
             [
              0.2222222222222222,
              "#7201a8"
             ],
             [
              0.3333333333333333,
              "#9c179e"
             ],
             [
              0.4444444444444444,
              "#bd3786"
             ],
             [
              0.5555555555555556,
              "#d8576b"
             ],
             [
              0.6666666666666666,
              "#ed7953"
             ],
             [
              0.7777777777777778,
              "#fb9f3a"
             ],
             [
              0.8888888888888888,
              "#fdca26"
             ],
             [
              1,
              "#f0f921"
             ]
            ],
            "type": "histogram2dcontour"
           }
          ],
          "mesh3d": [
           {
            "colorbar": {
             "outlinewidth": 0,
             "ticks": ""
            },
            "type": "mesh3d"
           }
          ],
          "parcoords": [
           {
            "line": {
             "colorbar": {
              "outlinewidth": 0,
              "ticks": ""
             }
            },
            "type": "parcoords"
           }
          ],
          "pie": [
           {
            "automargin": true,
            "type": "pie"
           }
          ],
          "scatter": [
           {
            "fillpattern": {
             "fillmode": "overlay",
             "size": 10,
             "solidity": 0.2
            },
            "type": "scatter"
           }
          ],
          "scatter3d": [
           {
            "line": {
             "colorbar": {
              "outlinewidth": 0,
              "ticks": ""
             }
            },
            "marker": {
             "colorbar": {
              "outlinewidth": 0,
              "ticks": ""
             }
            },
            "type": "scatter3d"
           }
          ],
          "scattercarpet": [
           {
            "marker": {
             "colorbar": {
              "outlinewidth": 0,
              "ticks": ""
             }
            },
            "type": "scattercarpet"
           }
          ],
          "scattergeo": [
           {
            "marker": {
             "colorbar": {
              "outlinewidth": 0,
              "ticks": ""
             }
            },
            "type": "scattergeo"
           }
          ],
          "scattergl": [
           {
            "marker": {
             "colorbar": {
              "outlinewidth": 0,
              "ticks": ""
             }
            },
            "type": "scattergl"
           }
          ],
          "scattermapbox": [
           {
            "marker": {
             "colorbar": {
              "outlinewidth": 0,
              "ticks": ""
             }
            },
            "type": "scattermapbox"
           }
          ],
          "scatterpolar": [
           {
            "marker": {
             "colorbar": {
              "outlinewidth": 0,
              "ticks": ""
             }
            },
            "type": "scatterpolar"
           }
          ],
          "scatterpolargl": [
           {
            "marker": {
             "colorbar": {
              "outlinewidth": 0,
              "ticks": ""
             }
            },
            "type": "scatterpolargl"
           }
          ],
          "scatterternary": [
           {
            "marker": {
             "colorbar": {
              "outlinewidth": 0,
              "ticks": ""
             }
            },
            "type": "scatterternary"
           }
          ],
          "surface": [
           {
            "colorbar": {
             "outlinewidth": 0,
             "ticks": ""
            },
            "colorscale": [
             [
              0,
              "#0d0887"
             ],
             [
              0.1111111111111111,
              "#46039f"
             ],
             [
              0.2222222222222222,
              "#7201a8"
             ],
             [
              0.3333333333333333,
              "#9c179e"
             ],
             [
              0.4444444444444444,
              "#bd3786"
             ],
             [
              0.5555555555555556,
              "#d8576b"
             ],
             [
              0.6666666666666666,
              "#ed7953"
             ],
             [
              0.7777777777777778,
              "#fb9f3a"
             ],
             [
              0.8888888888888888,
              "#fdca26"
             ],
             [
              1,
              "#f0f921"
             ]
            ],
            "type": "surface"
           }
          ],
          "table": [
           {
            "cells": {
             "fill": {
              "color": "#EBF0F8"
             },
             "line": {
              "color": "white"
             }
            },
            "header": {
             "fill": {
              "color": "#C8D4E3"
             },
             "line": {
              "color": "white"
             }
            },
            "type": "table"
           }
          ]
         },
         "layout": {
          "annotationdefaults": {
           "arrowcolor": "#2a3f5f",
           "arrowhead": 0,
           "arrowwidth": 1
          },
          "autotypenumbers": "strict",
          "coloraxis": {
           "colorbar": {
            "outlinewidth": 0,
            "ticks": ""
           }
          },
          "colorscale": {
           "diverging": [
            [
             0,
             "#8e0152"
            ],
            [
             0.1,
             "#c51b7d"
            ],
            [
             0.2,
             "#de77ae"
            ],
            [
             0.3,
             "#f1b6da"
            ],
            [
             0.4,
             "#fde0ef"
            ],
            [
             0.5,
             "#f7f7f7"
            ],
            [
             0.6,
             "#e6f5d0"
            ],
            [
             0.7,
             "#b8e186"
            ],
            [
             0.8,
             "#7fbc41"
            ],
            [
             0.9,
             "#4d9221"
            ],
            [
             1,
             "#276419"
            ]
           ],
           "sequential": [
            [
             0,
             "#0d0887"
            ],
            [
             0.1111111111111111,
             "#46039f"
            ],
            [
             0.2222222222222222,
             "#7201a8"
            ],
            [
             0.3333333333333333,
             "#9c179e"
            ],
            [
             0.4444444444444444,
             "#bd3786"
            ],
            [
             0.5555555555555556,
             "#d8576b"
            ],
            [
             0.6666666666666666,
             "#ed7953"
            ],
            [
             0.7777777777777778,
             "#fb9f3a"
            ],
            [
             0.8888888888888888,
             "#fdca26"
            ],
            [
             1,
             "#f0f921"
            ]
           ],
           "sequentialminus": [
            [
             0,
             "#0d0887"
            ],
            [
             0.1111111111111111,
             "#46039f"
            ],
            [
             0.2222222222222222,
             "#7201a8"
            ],
            [
             0.3333333333333333,
             "#9c179e"
            ],
            [
             0.4444444444444444,
             "#bd3786"
            ],
            [
             0.5555555555555556,
             "#d8576b"
            ],
            [
             0.6666666666666666,
             "#ed7953"
            ],
            [
             0.7777777777777778,
             "#fb9f3a"
            ],
            [
             0.8888888888888888,
             "#fdca26"
            ],
            [
             1,
             "#f0f921"
            ]
           ]
          },
          "colorway": [
           "#636efa",
           "#EF553B",
           "#00cc96",
           "#ab63fa",
           "#FFA15A",
           "#19d3f3",
           "#FF6692",
           "#B6E880",
           "#FF97FF",
           "#FECB52"
          ],
          "font": {
           "color": "#2a3f5f"
          },
          "geo": {
           "bgcolor": "white",
           "lakecolor": "white",
           "landcolor": "#E5ECF6",
           "showlakes": true,
           "showland": true,
           "subunitcolor": "white"
          },
          "hoverlabel": {
           "align": "left"
          },
          "hovermode": "closest",
          "mapbox": {
           "style": "light"
          },
          "paper_bgcolor": "white",
          "plot_bgcolor": "#E5ECF6",
          "polar": {
           "angularaxis": {
            "gridcolor": "white",
            "linecolor": "white",
            "ticks": ""
           },
           "bgcolor": "#E5ECF6",
           "radialaxis": {
            "gridcolor": "white",
            "linecolor": "white",
            "ticks": ""
           }
          },
          "scene": {
           "xaxis": {
            "backgroundcolor": "#E5ECF6",
            "gridcolor": "white",
            "gridwidth": 2,
            "linecolor": "white",
            "showbackground": true,
            "ticks": "",
            "zerolinecolor": "white"
           },
           "yaxis": {
            "backgroundcolor": "#E5ECF6",
            "gridcolor": "white",
            "gridwidth": 2,
            "linecolor": "white",
            "showbackground": true,
            "ticks": "",
            "zerolinecolor": "white"
           },
           "zaxis": {
            "backgroundcolor": "#E5ECF6",
            "gridcolor": "white",
            "gridwidth": 2,
            "linecolor": "white",
            "showbackground": true,
            "ticks": "",
            "zerolinecolor": "white"
           }
          },
          "shapedefaults": {
           "line": {
            "color": "#2a3f5f"
           }
          },
          "ternary": {
           "aaxis": {
            "gridcolor": "white",
            "linecolor": "white",
            "ticks": ""
           },
           "baxis": {
            "gridcolor": "white",
            "linecolor": "white",
            "ticks": ""
           },
           "bgcolor": "#E5ECF6",
           "caxis": {
            "gridcolor": "white",
            "linecolor": "white",
            "ticks": ""
           }
          },
          "title": {
           "x": 0.05
          },
          "xaxis": {
           "automargin": true,
           "gridcolor": "white",
           "linecolor": "white",
           "ticks": "",
           "title": {
            "standoff": 15
           },
           "zerolinecolor": "white",
           "zerolinewidth": 2
          },
          "yaxis": {
           "automargin": true,
           "gridcolor": "white",
           "linecolor": "white",
           "ticks": "",
           "title": {
            "standoff": 15
           },
           "zerolinecolor": "white",
           "zerolinewidth": 2
          }
         }
        },
        "title": {
         "text": "Fig.2 Adult Morality Analysis by Continents(2000-2016)"
        },
        "xaxis": {
         "anchor": "y",
         "domain": [
          0,
          1
         ],
         "title": {
          "text": "Continents"
         }
        },
        "yaxis": {
         "anchor": "x",
         "domain": [
          0,
          1
         ],
         "title": {
          "text": "Adult Morality"
         }
        }
       }
      },
      "text/html": [
       "<div>                            <div id=\"1349de46-1595-49e4-89a8-b1cd14b9526a\" class=\"plotly-graph-div\" style=\"height:525px; width:100%;\"></div>            <script type=\"text/javascript\">                require([\"plotly\"], function(Plotly) {                    window.PLOTLYENV=window.PLOTLYENV || {};                                    if (document.getElementById(\"1349de46-1595-49e4-89a8-b1cd14b9526a\")) {                    Plotly.newPlot(                        \"1349de46-1595-49e4-89a8-b1cd14b9526a\",                        [{\"hovertemplate\":\"color=Africa\\u003cbr\\u003ex=%{x}\\u003cbr\\u003ey=%{y}\\u003cbr\\u003esize=%{marker.size}\\u003cbr\\u003etext=%{text}\\u003cextra\\u003e\\u003c\\u002fextra\\u003e\",\"legendgroup\":\"Africa\",\"marker\":{\"color\":\"#636efa\",\"size\":[797838.84],\"sizemode\":\"area\",\"sizeref\":47.20939881656805,\"symbol\":\"circle\"},\"mode\":\"markers+text\",\"name\":\"Africa\",\"orientation\":\"v\",\"showlegend\":true,\"text\":[797838.84],\"x\":[\"Africa\"],\"xaxis\":\"x\",\"y\":[797838.84],\"yaxis\":\"y\",\"type\":\"scatter\"},{\"hovertemplate\":\"color=Americas\\u003cbr\\u003ex=%{x}\\u003cbr\\u003ey=%{y}\\u003cbr\\u003esize=%{marker.size}\\u003cbr\\u003etext=%{text}\\u003cextra\\u003e\\u003c\\u002fextra\\u003e\",\"legendgroup\":\"Americas\",\"marker\":{\"color\":\"#EF553B\",\"size\":[265760.14],\"sizemode\":\"area\",\"sizeref\":47.20939881656805,\"symbol\":\"circle\"},\"mode\":\"markers+text\",\"name\":\"Americas\",\"orientation\":\"v\",\"showlegend\":true,\"text\":[265760.14],\"x\":[\"Americas\"],\"xaxis\":\"x\",\"y\":[265760.14],\"yaxis\":\"y\",\"type\":\"scatter\"},{\"hovertemplate\":\"color=Eastern Mediterranean\\u003cbr\\u003ex=%{x}\\u003cbr\\u003ey=%{y}\\u003cbr\\u003esize=%{marker.size}\\u003cbr\\u003etext=%{text}\\u003cextra\\u003e\\u003c\\u002fextra\\u003e\",\"legendgroup\":\"Eastern Mediterranean\",\"marker\":{\"color\":\"#00cc96\",\"size\":[167420.65],\"sizemode\":\"area\",\"sizeref\":47.20939881656805,\"symbol\":\"circle\"},\"mode\":\"markers+text\",\"name\":\"Eastern Mediterranean\",\"orientation\":\"v\",\"showlegend\":true,\"text\":[167420.65],\"x\":[\"Eastern Mediterranean\"],\"xaxis\":\"x\",\"y\":[167420.65],\"yaxis\":\"y\",\"type\":\"scatter\"},{\"hovertemplate\":\"color=Europe\\u003cbr\\u003ex=%{x}\\u003cbr\\u003ey=%{y}\\u003cbr\\u003esize=%{marker.size}\\u003cbr\\u003etext=%{text}\\u003cextra\\u003e\\u003c\\u002fextra\\u003e\",\"legendgroup\":\"Europe\",\"marker\":{\"color\":\"#ab63fa\",\"size\":[312747.58],\"sizemode\":\"area\",\"sizeref\":47.20939881656805,\"symbol\":\"circle\"},\"mode\":\"markers+text\",\"name\":\"Europe\",\"orientation\":\"v\",\"showlegend\":true,\"text\":[312747.58],\"x\":[\"Europe\"],\"xaxis\":\"x\",\"y\":[312747.58],\"yaxis\":\"y\",\"type\":\"scatter\"},{\"hovertemplate\":\"color=South-East Asia\\u003cbr\\u003ex=%{x}\\u003cbr\\u003ey=%{y}\\u003cbr\\u003esize=%{marker.size}\\u003cbr\\u003etext=%{text}\\u003cextra\\u003e\\u003c\\u002fextra\\u003e\",\"legendgroup\":\"South-East Asia\",\"marker\":{\"color\":\"#FFA15A\",\"size\":[99765.8],\"sizemode\":\"area\",\"sizeref\":47.20939881656805,\"symbol\":\"circle\"},\"mode\":\"markers+text\",\"name\":\"South-East Asia\",\"orientation\":\"v\",\"showlegend\":true,\"text\":[99765.8],\"x\":[\"South-East Asia\"],\"xaxis\":\"x\",\"y\":[99765.8],\"yaxis\":\"y\",\"type\":\"scatter\"},{\"hovertemplate\":\"color=Western Pacific\\u003cbr\\u003ex=%{x}\\u003cbr\\u003ey=%{y}\\u003cbr\\u003esize=%{marker.size}\\u003cbr\\u003etext=%{text}\\u003cextra\\u003e\\u003c\\u002fextra\\u003e\",\"legendgroup\":\"Western Pacific\",\"marker\":{\"color\":\"#19d3f3\",\"size\":[161392.56],\"sizemode\":\"area\",\"sizeref\":47.20939881656805,\"symbol\":\"circle\"},\"mode\":\"markers+text\",\"name\":\"Western Pacific\",\"orientation\":\"v\",\"showlegend\":true,\"text\":[161392.56],\"x\":[\"Western Pacific\"],\"xaxis\":\"x\",\"y\":[161392.56],\"yaxis\":\"y\",\"type\":\"scatter\"}],                        {\"template\":{\"data\":{\"histogram2dcontour\":[{\"type\":\"histogram2dcontour\",\"colorbar\":{\"outlinewidth\":0,\"ticks\":\"\"},\"colorscale\":[[0.0,\"#0d0887\"],[0.1111111111111111,\"#46039f\"],[0.2222222222222222,\"#7201a8\"],[0.3333333333333333,\"#9c179e\"],[0.4444444444444444,\"#bd3786\"],[0.5555555555555556,\"#d8576b\"],[0.6666666666666666,\"#ed7953\"],[0.7777777777777778,\"#fb9f3a\"],[0.8888888888888888,\"#fdca26\"],[1.0,\"#f0f921\"]]}],\"choropleth\":[{\"type\":\"choropleth\",\"colorbar\":{\"outlinewidth\":0,\"ticks\":\"\"}}],\"histogram2d\":[{\"type\":\"histogram2d\",\"colorbar\":{\"outlinewidth\":0,\"ticks\":\"\"},\"colorscale\":[[0.0,\"#0d0887\"],[0.1111111111111111,\"#46039f\"],[0.2222222222222222,\"#7201a8\"],[0.3333333333333333,\"#9c179e\"],[0.4444444444444444,\"#bd3786\"],[0.5555555555555556,\"#d8576b\"],[0.6666666666666666,\"#ed7953\"],[0.7777777777777778,\"#fb9f3a\"],[0.8888888888888888,\"#fdca26\"],[1.0,\"#f0f921\"]]}],\"heatmap\":[{\"type\":\"heatmap\",\"colorbar\":{\"outlinewidth\":0,\"ticks\":\"\"},\"colorscale\":[[0.0,\"#0d0887\"],[0.1111111111111111,\"#46039f\"],[0.2222222222222222,\"#7201a8\"],[0.3333333333333333,\"#9c179e\"],[0.4444444444444444,\"#bd3786\"],[0.5555555555555556,\"#d8576b\"],[0.6666666666666666,\"#ed7953\"],[0.7777777777777778,\"#fb9f3a\"],[0.8888888888888888,\"#fdca26\"],[1.0,\"#f0f921\"]]}],\"heatmapgl\":[{\"type\":\"heatmapgl\",\"colorbar\":{\"outlinewidth\":0,\"ticks\":\"\"},\"colorscale\":[[0.0,\"#0d0887\"],[0.1111111111111111,\"#46039f\"],[0.2222222222222222,\"#7201a8\"],[0.3333333333333333,\"#9c179e\"],[0.4444444444444444,\"#bd3786\"],[0.5555555555555556,\"#d8576b\"],[0.6666666666666666,\"#ed7953\"],[0.7777777777777778,\"#fb9f3a\"],[0.8888888888888888,\"#fdca26\"],[1.0,\"#f0f921\"]]}],\"contourcarpet\":[{\"type\":\"contourcarpet\",\"colorbar\":{\"outlinewidth\":0,\"ticks\":\"\"}}],\"contour\":[{\"type\":\"contour\",\"colorbar\":{\"outlinewidth\":0,\"ticks\":\"\"},\"colorscale\":[[0.0,\"#0d0887\"],[0.1111111111111111,\"#46039f\"],[0.2222222222222222,\"#7201a8\"],[0.3333333333333333,\"#9c179e\"],[0.4444444444444444,\"#bd3786\"],[0.5555555555555556,\"#d8576b\"],[0.6666666666666666,\"#ed7953\"],[0.7777777777777778,\"#fb9f3a\"],[0.8888888888888888,\"#fdca26\"],[1.0,\"#f0f921\"]]}],\"surface\":[{\"type\":\"surface\",\"colorbar\":{\"outlinewidth\":0,\"ticks\":\"\"},\"colorscale\":[[0.0,\"#0d0887\"],[0.1111111111111111,\"#46039f\"],[0.2222222222222222,\"#7201a8\"],[0.3333333333333333,\"#9c179e\"],[0.4444444444444444,\"#bd3786\"],[0.5555555555555556,\"#d8576b\"],[0.6666666666666666,\"#ed7953\"],[0.7777777777777778,\"#fb9f3a\"],[0.8888888888888888,\"#fdca26\"],[1.0,\"#f0f921\"]]}],\"mesh3d\":[{\"type\":\"mesh3d\",\"colorbar\":{\"outlinewidth\":0,\"ticks\":\"\"}}],\"scatter\":[{\"fillpattern\":{\"fillmode\":\"overlay\",\"size\":10,\"solidity\":0.2},\"type\":\"scatter\"}],\"parcoords\":[{\"type\":\"parcoords\",\"line\":{\"colorbar\":{\"outlinewidth\":0,\"ticks\":\"\"}}}],\"scatterpolargl\":[{\"type\":\"scatterpolargl\",\"marker\":{\"colorbar\":{\"outlinewidth\":0,\"ticks\":\"\"}}}],\"bar\":[{\"error_x\":{\"color\":\"#2a3f5f\"},\"error_y\":{\"color\":\"#2a3f5f\"},\"marker\":{\"line\":{\"color\":\"#E5ECF6\",\"width\":0.5},\"pattern\":{\"fillmode\":\"overlay\",\"size\":10,\"solidity\":0.2}},\"type\":\"bar\"}],\"scattergeo\":[{\"type\":\"scattergeo\",\"marker\":{\"colorbar\":{\"outlinewidth\":0,\"ticks\":\"\"}}}],\"scatterpolar\":[{\"type\":\"scatterpolar\",\"marker\":{\"colorbar\":{\"outlinewidth\":0,\"ticks\":\"\"}}}],\"histogram\":[{\"marker\":{\"pattern\":{\"fillmode\":\"overlay\",\"size\":10,\"solidity\":0.2}},\"type\":\"histogram\"}],\"scattergl\":[{\"type\":\"scattergl\",\"marker\":{\"colorbar\":{\"outlinewidth\":0,\"ticks\":\"\"}}}],\"scatter3d\":[{\"type\":\"scatter3d\",\"line\":{\"colorbar\":{\"outlinewidth\":0,\"ticks\":\"\"}},\"marker\":{\"colorbar\":{\"outlinewidth\":0,\"ticks\":\"\"}}}],\"scattermapbox\":[{\"type\":\"scattermapbox\",\"marker\":{\"colorbar\":{\"outlinewidth\":0,\"ticks\":\"\"}}}],\"scatterternary\":[{\"type\":\"scatterternary\",\"marker\":{\"colorbar\":{\"outlinewidth\":0,\"ticks\":\"\"}}}],\"scattercarpet\":[{\"type\":\"scattercarpet\",\"marker\":{\"colorbar\":{\"outlinewidth\":0,\"ticks\":\"\"}}}],\"carpet\":[{\"aaxis\":{\"endlinecolor\":\"#2a3f5f\",\"gridcolor\":\"white\",\"linecolor\":\"white\",\"minorgridcolor\":\"white\",\"startlinecolor\":\"#2a3f5f\"},\"baxis\":{\"endlinecolor\":\"#2a3f5f\",\"gridcolor\":\"white\",\"linecolor\":\"white\",\"minorgridcolor\":\"white\",\"startlinecolor\":\"#2a3f5f\"},\"type\":\"carpet\"}],\"table\":[{\"cells\":{\"fill\":{\"color\":\"#EBF0F8\"},\"line\":{\"color\":\"white\"}},\"header\":{\"fill\":{\"color\":\"#C8D4E3\"},\"line\":{\"color\":\"white\"}},\"type\":\"table\"}],\"barpolar\":[{\"marker\":{\"line\":{\"color\":\"#E5ECF6\",\"width\":0.5},\"pattern\":{\"fillmode\":\"overlay\",\"size\":10,\"solidity\":0.2}},\"type\":\"barpolar\"}],\"pie\":[{\"automargin\":true,\"type\":\"pie\"}]},\"layout\":{\"autotypenumbers\":\"strict\",\"colorway\":[\"#636efa\",\"#EF553B\",\"#00cc96\",\"#ab63fa\",\"#FFA15A\",\"#19d3f3\",\"#FF6692\",\"#B6E880\",\"#FF97FF\",\"#FECB52\"],\"font\":{\"color\":\"#2a3f5f\"},\"hovermode\":\"closest\",\"hoverlabel\":{\"align\":\"left\"},\"paper_bgcolor\":\"white\",\"plot_bgcolor\":\"#E5ECF6\",\"polar\":{\"bgcolor\":\"#E5ECF6\",\"angularaxis\":{\"gridcolor\":\"white\",\"linecolor\":\"white\",\"ticks\":\"\"},\"radialaxis\":{\"gridcolor\":\"white\",\"linecolor\":\"white\",\"ticks\":\"\"}},\"ternary\":{\"bgcolor\":\"#E5ECF6\",\"aaxis\":{\"gridcolor\":\"white\",\"linecolor\":\"white\",\"ticks\":\"\"},\"baxis\":{\"gridcolor\":\"white\",\"linecolor\":\"white\",\"ticks\":\"\"},\"caxis\":{\"gridcolor\":\"white\",\"linecolor\":\"white\",\"ticks\":\"\"}},\"coloraxis\":{\"colorbar\":{\"outlinewidth\":0,\"ticks\":\"\"}},\"colorscale\":{\"sequential\":[[0.0,\"#0d0887\"],[0.1111111111111111,\"#46039f\"],[0.2222222222222222,\"#7201a8\"],[0.3333333333333333,\"#9c179e\"],[0.4444444444444444,\"#bd3786\"],[0.5555555555555556,\"#d8576b\"],[0.6666666666666666,\"#ed7953\"],[0.7777777777777778,\"#fb9f3a\"],[0.8888888888888888,\"#fdca26\"],[1.0,\"#f0f921\"]],\"sequentialminus\":[[0.0,\"#0d0887\"],[0.1111111111111111,\"#46039f\"],[0.2222222222222222,\"#7201a8\"],[0.3333333333333333,\"#9c179e\"],[0.4444444444444444,\"#bd3786\"],[0.5555555555555556,\"#d8576b\"],[0.6666666666666666,\"#ed7953\"],[0.7777777777777778,\"#fb9f3a\"],[0.8888888888888888,\"#fdca26\"],[1.0,\"#f0f921\"]],\"diverging\":[[0,\"#8e0152\"],[0.1,\"#c51b7d\"],[0.2,\"#de77ae\"],[0.3,\"#f1b6da\"],[0.4,\"#fde0ef\"],[0.5,\"#f7f7f7\"],[0.6,\"#e6f5d0\"],[0.7,\"#b8e186\"],[0.8,\"#7fbc41\"],[0.9,\"#4d9221\"],[1,\"#276419\"]]},\"xaxis\":{\"gridcolor\":\"white\",\"linecolor\":\"white\",\"ticks\":\"\",\"title\":{\"standoff\":15},\"zerolinecolor\":\"white\",\"automargin\":true,\"zerolinewidth\":2},\"yaxis\":{\"gridcolor\":\"white\",\"linecolor\":\"white\",\"ticks\":\"\",\"title\":{\"standoff\":15},\"zerolinecolor\":\"white\",\"automargin\":true,\"zerolinewidth\":2},\"scene\":{\"xaxis\":{\"backgroundcolor\":\"#E5ECF6\",\"gridcolor\":\"white\",\"linecolor\":\"white\",\"showbackground\":true,\"ticks\":\"\",\"zerolinecolor\":\"white\",\"gridwidth\":2},\"yaxis\":{\"backgroundcolor\":\"#E5ECF6\",\"gridcolor\":\"white\",\"linecolor\":\"white\",\"showbackground\":true,\"ticks\":\"\",\"zerolinecolor\":\"white\",\"gridwidth\":2},\"zaxis\":{\"backgroundcolor\":\"#E5ECF6\",\"gridcolor\":\"white\",\"linecolor\":\"white\",\"showbackground\":true,\"ticks\":\"\",\"zerolinecolor\":\"white\",\"gridwidth\":2}},\"shapedefaults\":{\"line\":{\"color\":\"#2a3f5f\"}},\"annotationdefaults\":{\"arrowcolor\":\"#2a3f5f\",\"arrowhead\":0,\"arrowwidth\":1},\"geo\":{\"bgcolor\":\"white\",\"landcolor\":\"#E5ECF6\",\"subunitcolor\":\"white\",\"showland\":true,\"showlakes\":true,\"lakecolor\":\"white\"},\"title\":{\"x\":0.05},\"mapbox\":{\"style\":\"light\"}}},\"xaxis\":{\"anchor\":\"y\",\"domain\":[0.0,1.0],\"title\":{\"text\":\"Continents\"}},\"yaxis\":{\"anchor\":\"x\",\"domain\":[0.0,1.0],\"title\":{\"text\":\"Adult Morality\"}},\"legend\":{\"title\":{\"text\":\"color\"},\"tracegroupgap\":0,\"itemsizing\":\"constant\"},\"margin\":{\"t\":60},\"title\":{\"text\":\"Fig.2 Adult Morality Analysis by Continents(2000-2016)\"}},                        {\"responsive\": true}                    ).then(function(){\n",
       "                            \n",
       "var gd = document.getElementById('1349de46-1595-49e4-89a8-b1cd14b9526a');\n",
       "var x = new MutationObserver(function (mutations, observer) {{\n",
       "        var display = window.getComputedStyle(gd).display;\n",
       "        if (!display || display === 'none') {{\n",
       "            console.log([gd, 'removed!']);\n",
       "            Plotly.purge(gd);\n",
       "            observer.disconnect();\n",
       "        }}\n",
       "}});\n",
       "\n",
       "// Listen for the removal of the full notebook cells\n",
       "var notebookContainer = gd.closest('#notebook-container');\n",
       "if (notebookContainer) {{\n",
       "    x.observe(notebookContainer, {childList: true});\n",
       "}}\n",
       "\n",
       "// Listen for the clearing of the current output cell\n",
       "var outputEl = gd.closest('.output');\n",
       "if (outputEl) {{\n",
       "    x.observe(outputEl, {childList: true});\n",
       "}}\n",
       "\n",
       "                        })                };                });            </script>        </div>"
      ]
     },
     "metadata": {},
     "output_type": "display_data"
    }
   ],
   "source": [
    "# df_bub = df_adult.groupby('ParentLocation')['NumericValue'].sum()\n",
    "\n",
    "# fig_4 = px.scatter(x=df_bub.index, y=df_bub.values,\n",
    "#        size=df_bub.values, color=df_bub.index,\n",
    "#                   size_max=130,text = df_bub.values)\n",
    "\n",
    "# fig_4.update_layout(title = 'Fig.2 Adult Morality Analysis by Continents(2000-2016)',\n",
    "#                   yaxis_title = 'Adult Morality',\n",
    "#                  xaxis_title = 'Continents')\n",
    "\n",
    "# fig_4.show()"
   ]
  }
 ],
 "metadata": {
  "kernelspec": {
   "display_name": "Python 3 (ipykernel)",
   "language": "python",
   "name": "python3"
  },
  "language_info": {
   "codemirror_mode": {
    "name": "ipython",
    "version": 3
   },
   "file_extension": ".py",
   "mimetype": "text/x-python",
   "name": "python",
   "nbconvert_exporter": "python",
   "pygments_lexer": "ipython3",
   "version": "3.9.6"
  }
 },
 "nbformat": 4,
 "nbformat_minor": 5
}
