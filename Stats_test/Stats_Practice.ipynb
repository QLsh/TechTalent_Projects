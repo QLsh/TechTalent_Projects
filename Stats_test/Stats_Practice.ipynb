{
 "cells": [
  {
   "attachments": {},
   "cell_type": "markdown",
   "metadata": {},
   "source": [
    "## Problem: \n",
    "We want to investigate whether there is a significant difference in profits among different categories of products using a supertore dataset containing products information on sells and profits. This analysis can help us identify which category of products is more profitable and provide insights for decision-making related to product assortment, pricing, and marketing strategies."
   ]
  },
  {
   "cell_type": "code",
   "execution_count": 64,
   "metadata": {},
   "outputs": [],
   "source": [
    "#Import the pandas library\n",
    "import pandas as pd"
   ]
  },
  {
   "cell_type": "code",
   "execution_count": null,
   "metadata": {},
   "outputs": [],
   "source": [
    "df= pd.read_csv(\"superstore_dataset.csv\", encoding='latin-1')"
   ]
  },
  {
   "cell_type": "code",
   "execution_count": null,
   "metadata": {},
   "outputs": [
    {
     "data": {
      "text/html": [
       "<div>\n",
       "<style scoped>\n",
       "    .dataframe tbody tr th:only-of-type {\n",
       "        vertical-align: middle;\n",
       "    }\n",
       "\n",
       "    .dataframe tbody tr th {\n",
       "        vertical-align: top;\n",
       "    }\n",
       "\n",
       "    .dataframe thead th {\n",
       "        text-align: right;\n",
       "    }\n",
       "</style>\n",
       "<table border=\"1\" class=\"dataframe\">\n",
       "  <thead>\n",
       "    <tr style=\"text-align: right;\">\n",
       "      <th></th>\n",
       "      <th>Row ID</th>\n",
       "      <th>Order ID</th>\n",
       "      <th>Order Date</th>\n",
       "      <th>Ship Date</th>\n",
       "      <th>Ship Mode</th>\n",
       "      <th>Customer ID</th>\n",
       "      <th>Customer Name</th>\n",
       "      <th>Segment</th>\n",
       "      <th>Country</th>\n",
       "      <th>City</th>\n",
       "      <th>...</th>\n",
       "      <th>Postal Code</th>\n",
       "      <th>Region</th>\n",
       "      <th>Product ID</th>\n",
       "      <th>Category</th>\n",
       "      <th>Sub-Category</th>\n",
       "      <th>Product Name</th>\n",
       "      <th>Sales</th>\n",
       "      <th>Quantity</th>\n",
       "      <th>Discount</th>\n",
       "      <th>Profit</th>\n",
       "    </tr>\n",
       "  </thead>\n",
       "  <tbody>\n",
       "    <tr>\n",
       "      <th>0</th>\n",
       "      <td>166</td>\n",
       "      <td>CA-2014-139892</td>\n",
       "      <td>09/08/2014</td>\n",
       "      <td>12/09/2014</td>\n",
       "      <td>Standard Class</td>\n",
       "      <td>BM-11140</td>\n",
       "      <td>Becky Martin</td>\n",
       "      <td>Consumer</td>\n",
       "      <td>United States</td>\n",
       "      <td>San Antonio</td>\n",
       "      <td>...</td>\n",
       "      <td>78207</td>\n",
       "      <td>Central</td>\n",
       "      <td>TEC-MA-10000822</td>\n",
       "      <td>Technology</td>\n",
       "      <td>Machines</td>\n",
       "      <td>Lexmark MX611dhe Monochrome Laser Printer</td>\n",
       "      <td>8159.952</td>\n",
       "      <td>8</td>\n",
       "      <td>0.4</td>\n",
       "      <td>-1359.9920</td>\n",
       "    </tr>\n",
       "    <tr>\n",
       "      <th>1</th>\n",
       "      <td>7647</td>\n",
       "      <td>US-2014-115196</td>\n",
       "      <td>09/09/2014</td>\n",
       "      <td>9/13/2014</td>\n",
       "      <td>Standard Class</td>\n",
       "      <td>DL-12925</td>\n",
       "      <td>Daniel Lacy</td>\n",
       "      <td>Consumer</td>\n",
       "      <td>United States</td>\n",
       "      <td>Greenville</td>\n",
       "      <td>...</td>\n",
       "      <td>27834</td>\n",
       "      <td>South</td>\n",
       "      <td>TEC-MA-10002073</td>\n",
       "      <td>Technology</td>\n",
       "      <td>Machines</td>\n",
       "      <td>3D Systems Cube Printer, 2nd Generation, White</td>\n",
       "      <td>1299.990</td>\n",
       "      <td>2</td>\n",
       "      <td>0.5</td>\n",
       "      <td>-571.9956</td>\n",
       "    </tr>\n",
       "    <tr>\n",
       "      <th>2</th>\n",
       "      <td>1682</td>\n",
       "      <td>CA-2014-122882</td>\n",
       "      <td>09/07/2014</td>\n",
       "      <td>9/13/2014</td>\n",
       "      <td>Standard Class</td>\n",
       "      <td>SB-20290</td>\n",
       "      <td>Sean Braxton</td>\n",
       "      <td>Corporate</td>\n",
       "      <td>United States</td>\n",
       "      <td>Philadelphia</td>\n",
       "      <td>...</td>\n",
       "      <td>19134</td>\n",
       "      <td>East</td>\n",
       "      <td>TEC-MA-10004679</td>\n",
       "      <td>Technology</td>\n",
       "      <td>Machines</td>\n",
       "      <td>StarTech.com 10/100 VDSL2 Ethernet Extender Kit</td>\n",
       "      <td>399.540</td>\n",
       "      <td>4</td>\n",
       "      <td>0.7</td>\n",
       "      <td>-559.3560</td>\n",
       "    </tr>\n",
       "    <tr>\n",
       "      <th>3</th>\n",
       "      <td>9481</td>\n",
       "      <td>CA-2014-126193</td>\n",
       "      <td>09/07/2014</td>\n",
       "      <td>9/14/2014</td>\n",
       "      <td>Standard Class</td>\n",
       "      <td>SS-20410</td>\n",
       "      <td>Shahid Shariari</td>\n",
       "      <td>Consumer</td>\n",
       "      <td>United States</td>\n",
       "      <td>Oswego</td>\n",
       "      <td>...</td>\n",
       "      <td>60543</td>\n",
       "      <td>Central</td>\n",
       "      <td>OFF-BI-10004632</td>\n",
       "      <td>Office Supplies</td>\n",
       "      <td>Binders</td>\n",
       "      <td>Ibico Hi-Tech Manual Binding System</td>\n",
       "      <td>304.990</td>\n",
       "      <td>5</td>\n",
       "      <td>0.8</td>\n",
       "      <td>-533.7325</td>\n",
       "    </tr>\n",
       "    <tr>\n",
       "      <th>4</th>\n",
       "      <td>7349</td>\n",
       "      <td>CA-2014-130421</td>\n",
       "      <td>03/03/2014</td>\n",
       "      <td>07/03/2014</td>\n",
       "      <td>Standard Class</td>\n",
       "      <td>SC-20020</td>\n",
       "      <td>Sam Craven</td>\n",
       "      <td>Consumer</td>\n",
       "      <td>United States</td>\n",
       "      <td>Houston</td>\n",
       "      <td>...</td>\n",
       "      <td>77095</td>\n",
       "      <td>Central</td>\n",
       "      <td>OFF-AP-10002534</td>\n",
       "      <td>Office Supplies</td>\n",
       "      <td>Appliances</td>\n",
       "      <td>3.6 Cubic Foot Counter Height Office Refrigerator</td>\n",
       "      <td>176.772</td>\n",
       "      <td>3</td>\n",
       "      <td>0.8</td>\n",
       "      <td>-459.6072</td>\n",
       "    </tr>\n",
       "  </tbody>\n",
       "</table>\n",
       "<p>5 rows × 21 columns</p>\n",
       "</div>"
      ],
      "text/plain": [
       "   Row ID        Order ID  Order Date   Ship Date       Ship Mode Customer ID  \\\n",
       "0     166  CA-2014-139892  09/08/2014  12/09/2014  Standard Class    BM-11140   \n",
       "1    7647  US-2014-115196  09/09/2014   9/13/2014  Standard Class    DL-12925   \n",
       "2    1682  CA-2014-122882  09/07/2014   9/13/2014  Standard Class    SB-20290   \n",
       "3    9481  CA-2014-126193  09/07/2014   9/14/2014  Standard Class    SS-20410   \n",
       "4    7349  CA-2014-130421  03/03/2014  07/03/2014  Standard Class    SC-20020   \n",
       "\n",
       "     Customer Name    Segment        Country          City  ... Postal Code  \\\n",
       "0     Becky Martin   Consumer  United States   San Antonio  ...       78207   \n",
       "1      Daniel Lacy   Consumer  United States    Greenville  ...       27834   \n",
       "2     Sean Braxton  Corporate  United States  Philadelphia  ...       19134   \n",
       "3  Shahid Shariari   Consumer  United States        Oswego  ...       60543   \n",
       "4       Sam Craven   Consumer  United States       Houston  ...       77095   \n",
       "\n",
       "    Region       Product ID         Category Sub-Category  \\\n",
       "0  Central  TEC-MA-10000822       Technology     Machines   \n",
       "1    South  TEC-MA-10002073       Technology     Machines   \n",
       "2     East  TEC-MA-10004679       Technology     Machines   \n",
       "3  Central  OFF-BI-10004632  Office Supplies      Binders   \n",
       "4  Central  OFF-AP-10002534  Office Supplies   Appliances   \n",
       "\n",
       "                                        Product Name     Sales  Quantity  \\\n",
       "0          Lexmark MX611dhe Monochrome Laser Printer  8159.952         8   \n",
       "1     3D Systems Cube Printer, 2nd Generation, White  1299.990         2   \n",
       "2    StarTech.com 10/100 VDSL2 Ethernet Extender Kit   399.540         4   \n",
       "3                Ibico Hi-Tech Manual Binding System   304.990         5   \n",
       "4  3.6 Cubic Foot Counter Height Office Refrigerator   176.772         3   \n",
       "\n",
       "   Discount     Profit  \n",
       "0       0.4 -1359.9920  \n",
       "1       0.5  -571.9956  \n",
       "2       0.7  -559.3560  \n",
       "3       0.8  -533.7325  \n",
       "4       0.8  -459.6072  \n",
       "\n",
       "[5 rows x 21 columns]"
      ]
     },
     "execution_count": 66,
     "metadata": {},
     "output_type": "execute_result"
    }
   ],
   "source": [
    "df.head()"
   ]
  },
  {
   "attachments": {},
   "cell_type": "markdown",
   "metadata": {},
   "source": [
    "## Data cleaning:"
   ]
  },
  {
   "attachments": {},
   "cell_type": "markdown",
   "metadata": {},
   "source": [
    "Clean the data accordingly. We will be using the profit column that contains numerical data, check if the data contains missing values."
   ]
  },
  {
   "cell_type": "code",
   "execution_count": null,
   "metadata": {},
   "outputs": [
    {
     "name": "stdout",
     "output_type": "stream",
     "text": [
      "<class 'pandas.core.frame.DataFrame'>\n",
      "RangeIndex: 804 entries, 0 to 803\n",
      "Data columns (total 21 columns):\n",
      " #   Column         Non-Null Count  Dtype  \n",
      "---  ------         --------------  -----  \n",
      " 0   Row ID         804 non-null    int64  \n",
      " 1   Order ID       804 non-null    object \n",
      " 2   Order Date     804 non-null    object \n",
      " 3   Ship Date      804 non-null    object \n",
      " 4   Ship Mode      804 non-null    object \n",
      " 5   Customer ID    804 non-null    object \n",
      " 6   Customer Name  804 non-null    object \n",
      " 7   Segment        804 non-null    object \n",
      " 8   Country        804 non-null    object \n",
      " 9   City           804 non-null    object \n",
      " 10  State          804 non-null    object \n",
      " 11  Postal Code    804 non-null    int64  \n",
      " 12  Region         804 non-null    object \n",
      " 13  Product ID     804 non-null    object \n",
      " 14  Category       804 non-null    object \n",
      " 15  Sub-Category   804 non-null    object \n",
      " 16  Product Name   804 non-null    object \n",
      " 17  Sales          804 non-null    float64\n",
      " 18  Quantity       804 non-null    int64  \n",
      " 19  Discount       804 non-null    float64\n",
      " 20  Profit         804 non-null    float64\n",
      "dtypes: float64(3), int64(3), object(15)\n",
      "memory usage: 132.0+ KB\n"
     ]
    }
   ],
   "source": [
    "df.info()"
   ]
  },
  {
   "cell_type": "code",
   "execution_count": null,
   "metadata": {},
   "outputs": [
    {
     "data": {
      "text/plain": [
       "0"
      ]
     },
     "execution_count": 68,
     "metadata": {},
     "output_type": "execute_result"
    }
   ],
   "source": [
    "df[\"Profit\"].isnull().sum()"
   ]
  },
  {
   "attachments": {},
   "cell_type": "markdown",
   "metadata": {},
   "source": [
    "## Hypothesis testing:"
   ]
  },
  {
   "attachments": {},
   "cell_type": "markdown",
   "metadata": {},
   "source": [
    "Null Hypothesis (H0): There is no significant difference in the mean profits among the different categories of products.\n"
   ]
  },
  {
   "attachments": {},
   "cell_type": "markdown",
   "metadata": {},
   "source": [
    "Alternative Hypothesis (H1): There is a significant difference in the mean profits among the different categories of products."
   ]
  },
  {
   "attachments": {},
   "cell_type": "markdown",
   "metadata": {},
   "source": [
    "## Data distribution:"
   ]
  },
  {
   "attachments": {},
   "cell_type": "markdown",
   "metadata": {},
   "source": [
    "We are going to check the distribution of the the profit column to determine which statistical test to choose"
   ]
  },
  {
   "cell_type": "code",
   "execution_count": null,
   "metadata": {},
   "outputs": [
    {
     "data": {
      "image/png": "[encoded data removed]",
      "text/plain": [
       "<Figure size 432x288 with 1 Axes>"
      ]
     },
     "metadata": {
      "needs_background": "light"
     },
     "output_type": "display_data"
    }
   ],
   "source": [
    "#import data visualisation libraries\n",
    "import seaborn as sns\n",
    "import matplotlib.pyplot as plt\n",
    "# Plot a KDE plot\n",
    "sns.kdeplot(df['Profit'])\n",
    "plt.xlabel('Profit')\n",
    "plt.ylabel('Frequency')\n",
    "plt.title('Distribution of Profit')\n",
    "plt.show()\n"
   ]
  },
  {
   "attachments": {},
   "cell_type": "markdown",
   "metadata": {},
   "source": [
    "From the graph above it seems the profit data follows a normal distribution with a bell curve."
   ]
  },
  {
   "cell_type": "code",
   "execution_count": null,
   "metadata": {},
   "outputs": [
    {
     "data": {
      "text/plain": [
       "<AxesSubplot:>"
      ]
     },
     "execution_count": 70,
     "metadata": {},
     "output_type": "execute_result"
    },
    {
     "data": {
      "image/png": "[encoded data removed]",
      "text/plain": [
       "<Figure size 432x288 with 1 Axes>"
      ]
     },
     "metadata": {
      "needs_background": "light"
     },
     "output_type": "display_data"
    }
   ],
   "source": [
    "df.boxplot(column=['Profit'])"
   ]
  },
  {
   "cell_type": "code",
   "execution_count": null,
   "metadata": {},
   "outputs": [
    {
     "data": {
      "image/png": "[encoded data removed]",
      "text/plain": [
       "<Figure size 432x288 with 1 Axes>"
      ]
     },
     "metadata": {
      "needs_background": "light"
     },
     "output_type": "display_data"
    }
   ],
   "source": [
    "#Quantile-Quantile plot/ QQ plot\n",
    "\n",
    "import statsmodels.api as sm\n",
    "from statsmodels.graphics.gofplots import qqplot\n",
    "\n",
    "# Access the \"Profit\" column from the DataFrame\n",
    "data = df[\"Profit\"].values\n",
    "\n",
    "# Create QQ plot\n",
    "qqplot(data, line='s')\n",
    "\n",
    "# Set plot title and labels\n",
    "plt.title(\"QQ Plot - Profit\")\n",
    "plt.xlabel(\"Theoretical Quantiles\")\n",
    "plt.ylabel(\"Sample Quantiles\")\n",
    "\n",
    "# Display the plot\n",
    "plt.show()"
   ]
  },
  {
   "attachments": {},
   "cell_type": "markdown",
   "metadata": {},
   "source": [
    "## Statistical test:"
   ]
  },
  {
   "attachments": {},
   "cell_type": "markdown",
   "metadata": {},
   "source": [
    "We will examine if there is a significant difference in profits among different categories of products perfoming a ANOVA statitsical test (parametric test) which is used to compare means of at least 3 independant groups. "
   ]
  },
  {
   "attachments": {},
   "cell_type": "markdown",
   "metadata": {},
   "source": [
    "In this case, we will use the 'Category' column for the groups and the 'Profit' column as the dependent variable.\n",
    "We are going to create separate pandas Series for each category."
   ]
  },
  {
   "attachments": {},
   "cell_type": "markdown",
   "metadata": {},
   "source": [
    "we would need to create  separate Series for each category:"
   ]
  },
  {
   "cell_type": "code",
   "execution_count": null,
   "metadata": {},
   "outputs": [
    {
     "data": {
      "text/plain": [
       "3"
      ]
     },
     "execution_count": 74,
     "metadata": {},
     "output_type": "execute_result"
    }
   ],
   "source": [
    "df['Category'].nunique()"
   ]
  },
  {
   "cell_type": "code",
   "execution_count": null,
   "metadata": {},
   "outputs": [
    {
     "data": {
      "text/plain": [
       "array(['Technology', 'Office Supplies', 'Furniture'], dtype=object)"
      ]
     },
     "execution_count": 75,
     "metadata": {},
     "output_type": "execute_result"
    }
   ],
   "source": [
    "df[\"Category\"].unique()"
   ]
  },
  {
   "cell_type": "code",
   "execution_count": null,
   "metadata": {},
   "outputs": [],
   "source": [
    "#filtering the DataFrame to select only the rows where the \"Category\" column has the value Technology, Furniture, and Office supplies\n",
    "Technology= df[df['Category'] == 'Technology']['Profit']\n",
    "Furniture= df[df['Category'] == 'Furniture']['Profit']\n",
    "Office_Supplies= df[df['Category'] == 'Office Supplies']['Profit']\n"
   ]
  },
  {
   "cell_type": "code",
   "execution_count": null,
   "metadata": {},
   "outputs": [],
   "source": [
    "#We will be using the stats module from the scipy library\n",
    "from scipy import stats"
   ]
  },
  {
   "cell_type": "code",
   "execution_count": null,
   "metadata": {},
   "outputs": [
    {
     "name": "stdout",
     "output_type": "stream",
     "text": [
      "fstat: 2.284865392478543 p-value: 0.10245081385652113\n"
     ]
    }
   ],
   "source": [
    "f_stat, p_value = stats.f_oneway(Technology,Furniture,Office_Supplies)\n",
    "print(\"fstat:\",f_stat,\"p-value:\", p_value)\n"
   ]
  },
  {
   "attachments": {},
   "cell_type": "markdown",
   "metadata": {},
   "source": [
    " The F stat value compares the variability between the groups. A larger F-value suggests a greater likelihood that the group means are significantly different from each other. It implies stronger evidence against the null hypothesis of equal group means.  The p-value indicates the statistical significance of the F stat value and determines whether the observed differences between the group means are statistically significant or occurred by chance."
   ]
  },
  {
   "attachments": {},
   "cell_type": "markdown",
   "metadata": {},
   "source": [
    "Now we will compare our p-value calculated to the significance level alpha "
   ]
  },
  {
   "cell_type": "code",
   "execution_count": null,
   "metadata": {},
   "outputs": [
    {
     "name": "stdout",
     "output_type": "stream",
     "text": [
      "Te null hypothesis is rejected, there is a significant difference in profits among the categories.\n"
     ]
    }
   ],
   "source": [
    "alpha= 0.05\n",
    "if p_value<alpha:\n",
    "    print(\"Te null hypothesis is rejected, there is a significant difference in profits among the categories.\")\n",
    "else:\n",
    "    print(\"the null hypothesis is not rejected, there is no significant difference in profits among the categories\")"
   ]
  },
  {
   "attachments": {},
   "cell_type": "markdown",
   "metadata": {},
   "source": [
    "Optional non-parametric statistical test: "
   ]
  },
  {
   "cell_type": "code",
   "execution_count": null,
   "metadata": {},
   "outputs": [
    {
     "name": "stdout",
     "output_type": "stream",
     "text": [
      "Kruskal-Wallis Test Result:\n",
      "Statistic: 53.18056295321536\n",
      "p-value: 2.8313103885781562e-12\n"
     ]
    }
   ],
   "source": [
    "import pandas as pd\n",
    "from scipy.stats import kruskal\n",
    "\n",
    "# Perform the Kruskal-Wallis test\n",
    "result = kruskal(df[df['Category'] == 'Technology']['Profit'],\n",
    "                 df[df['Category'] == 'Furniture']['Profit'],\n",
    "                 df[df['Category'] == 'Office Supplies']['Profit'])\n",
    "\n",
    "# Print the test result\n",
    "print(\"Kruskal-Wallis Test Result:\")\n",
    "print(\"Statistic:\", result.statistic)\n",
    "print(\"p-value:\", result.pvalue)\n"
   ]
  }
 ],
 "metadata": {
  "kernelspec": {
   "display_name": "Python 3",
   "language": "python",
   "name": "python3"
  },
  "language_info": {
   "codemirror_mode": {
    "name": "ipython",
    "version": 3
   },
   "file_extension": ".py",
   "mimetype": "text/x-python",
   "name": "python",
   "nbconvert_exporter": "python",
   "pygments_lexer": "ipython3",
   "version": "3.9.10"
  },
  "orig_nbformat": 4
 },
 "nbformat": 4,
 "nbformat_minor": 2
}
